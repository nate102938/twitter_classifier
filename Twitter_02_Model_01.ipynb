{
 "cells": [
  {
   "cell_type": "code",
   "execution_count": 1,
   "id": "e93d8154",
   "metadata": {
    "ExecuteTime": {
     "end_time": "2023-02-06T17:04:59.165603Z",
     "start_time": "2023-02-06T17:04:55.132864Z"
    }
   },
   "outputs": [
    {
     "name": "stderr",
     "output_type": "stream",
     "text": [
      "[nltk_data] Downloading package wordnet to\n",
      "[nltk_data]     C:\\Users\\natek\\AppData\\Roaming\\nltk_data...\n",
      "[nltk_data]   Package wordnet is already up-to-date!\n",
      "[nltk_data] Downloading package tagsets to\n",
      "[nltk_data]     C:\\Users\\natek\\AppData\\Roaming\\nltk_data...\n",
      "[nltk_data]   Package tagsets is already up-to-date!\n",
      "[nltk_data] Downloading package averaged_perceptron_tagger to\n",
      "[nltk_data]     C:\\Users\\natek\\AppData\\Roaming\\nltk_data...\n",
      "[nltk_data]   Package averaged_perceptron_tagger is already up-to-\n",
      "[nltk_data]       date!\n"
     ]
    }
   ],
   "source": [
    "import string\n",
    "import pandas as pd\n",
    "from nltk.corpus import stopwords\n",
    "from nltk.corpus import wordnet\n",
    "from nltk.tokenize import regexp_tokenize, word_tokenize, RegexpTokenizer\n",
    "import nltk\n",
    "from nltk import pos_tag\n",
    "from sklearn.naive_bayes import MultinomialNB\n",
    "from sklearn.model_selection import train_test_split, GridSearchCV, cross_val_score\n",
    "from sklearn.pipeline import Pipeline\n",
    "import numpy as np\n",
    "import matplotlib.pyplot as plt\n",
    "import seaborn as sns\n",
    "from sklearn.model_selection import train_test_split\n",
    "from sklearn.feature_extraction.text import CountVectorizer, TfidfVectorizer\n",
    "from sklearn.ensemble import RandomForestClassifier\n",
    "\n",
    "nltk.download('wordnet')\n",
    "nltk.download('tagsets')\n",
    "nltk.download('averaged_perceptron_tagger')\n",
    "\n",
    "pd.options.display.max_rows = 100\n",
    "pd.options.display.max_colwidth = 90"
   ]
  },
  {
   "cell_type": "code",
   "execution_count": 2,
   "id": "2a0d82a7",
   "metadata": {
    "ExecuteTime": {
     "end_time": "2023-02-06T17:05:01.230236Z",
     "start_time": "2023-02-06T17:05:00.538820Z"
    },
    "scrolled": false
   },
   "outputs": [
    {
     "name": "stdout",
     "output_type": "stream",
     "text": [
      "<class 'pandas.core.frame.DataFrame'>\n",
      "RangeIndex: 115511 entries, 0 to 115510\n",
      "Data columns (total 6 columns):\n",
      " #   Column      Non-Null Count   Dtype \n",
      "---  ------      --------------   ----- \n",
      " 0   user_name   115511 non-null  object\n",
      " 1   class       115511 non-null  object\n",
      " 2   id          115511 non-null  object\n",
      " 3   text        115511 non-null  object\n",
      " 4   author_id   115511 non-null  object\n",
      " 5   created_at  115511 non-null  object\n",
      "dtypes: object(6)\n",
      "memory usage: 5.3+ MB\n"
     ]
    },
    {
     "data": {
      "text/plain": [
       "WSJbusiness        1606\n",
       "NatGeo              850\n",
       "markets             850\n",
       "ScienceMagazine     850\n",
       "ReutersBiz          850\n",
       "                   ... \n",
       "repvalhoyle          10\n",
       "JMoylanforGuam       10\n",
       "NBCNetwork            7\n",
       "RepJeffJackson        2\n",
       "DNC                   1\n",
       "Name: user_name, Length: 586, dtype: int64"
      ]
     },
     "execution_count": 2,
     "metadata": {},
     "output_type": "execute_result"
    }
   ],
   "source": [
    "df = pd.read_csv('tweet_list2.csv')\n",
    "for n in df.columns:\n",
    "    df[n] = df[n].astype(str)\n",
    "df.dtypes\n",
    "df.info()\n",
    "df['user_name'].value_counts()"
   ]
  },
  {
   "cell_type": "markdown",
   "id": "8e9b3386",
   "metadata": {},
   "source": [
    "Check for duplicates"
   ]
  },
  {
   "cell_type": "code",
   "execution_count": 3,
   "id": "0e566648",
   "metadata": {
    "ExecuteTime": {
     "end_time": "2023-02-06T17:05:01.509667Z",
     "start_time": "2023-02-06T17:05:01.271579Z"
    }
   },
   "outputs": [
    {
     "data": {
      "text/plain": [
       "0         False\n",
       "1         False\n",
       "2         False\n",
       "3         False\n",
       "4         False\n",
       "          ...  \n",
       "115506    False\n",
       "115507    False\n",
       "115508    False\n",
       "115509    False\n",
       "115510    False\n",
       "Length: 115511, dtype: bool"
      ]
     },
     "execution_count": 3,
     "metadata": {},
     "output_type": "execute_result"
    }
   ],
   "source": [
    "df.duplicated()"
   ]
  },
  {
   "cell_type": "markdown",
   "id": "cc53478c",
   "metadata": {},
   "source": [
    "Drop duplicates"
   ]
  },
  {
   "cell_type": "code",
   "execution_count": 4,
   "id": "4725b7bc",
   "metadata": {
    "ExecuteTime": {
     "end_time": "2023-02-06T17:05:01.819637Z",
     "start_time": "2023-02-06T17:05:01.534750Z"
    }
   },
   "outputs": [
    {
     "name": "stdout",
     "output_type": "stream",
     "text": [
      "<class 'pandas.core.frame.DataFrame'>\n",
      "Int64Index: 114634 entries, 0 to 115510\n",
      "Data columns (total 6 columns):\n",
      " #   Column      Non-Null Count   Dtype \n",
      "---  ------      --------------   ----- \n",
      " 0   user_name   114634 non-null  object\n",
      " 1   class       114634 non-null  object\n",
      " 2   id          114634 non-null  object\n",
      " 3   text        114634 non-null  object\n",
      " 4   author_id   114634 non-null  object\n",
      " 5   created_at  114634 non-null  object\n",
      "dtypes: object(6)\n",
      "memory usage: 6.1+ MB\n"
     ]
    }
   ],
   "source": [
    "df = df.drop_duplicates()\n",
    "df.info()"
   ]
  },
  {
   "cell_type": "markdown",
   "id": "5040948c",
   "metadata": {},
   "source": [
    "Check class balance"
   ]
  },
  {
   "cell_type": "code",
   "execution_count": 5,
   "id": "af36859f",
   "metadata": {
    "ExecuteTime": {
     "end_time": "2023-02-06T17:05:01.896744Z",
     "start_time": "2023-02-06T17:05:01.870557Z"
    },
    "scrolled": true
   },
   "outputs": [
    {
     "data": {
      "text/plain": [
       "Politics - Conservative    31032\n",
       "Politics - Liberal         26998\n",
       "TV / movies                12007\n",
       "Sports                     12000\n",
       "Music                      11600\n",
       "Business and finance        8452\n",
       "Science / Technology        7550\n",
       "Travel                      4995\n",
       "Name: class, dtype: int64"
      ]
     },
     "execution_count": 5,
     "metadata": {},
     "output_type": "execute_result"
    }
   ],
   "source": [
    "df['class'].value_counts()"
   ]
  },
  {
   "cell_type": "markdown",
   "id": "bca5a80b",
   "metadata": {},
   "source": [
    "Pre-processing"
   ]
  },
  {
   "cell_type": "markdown",
   "id": "eea80ffd",
   "metadata": {},
   "source": [
    "Data transformation functions"
   ]
  },
  {
   "cell_type": "code",
   "execution_count": 6,
   "id": "86ae019e",
   "metadata": {
    "ExecuteTime": {
     "end_time": "2023-02-06T17:05:05.199327Z",
     "start_time": "2023-02-06T17:05:05.184784Z"
    }
   },
   "outputs": [],
   "source": [
    "def strip_rt_user(text):\n",
    "    if text[0:2] == \"RT\":\n",
    "        colon = text.find(\":\")\n",
    "        return text[colon+1:].lower()\n",
    "    else:\n",
    "        return text.lower()\n",
    "\n",
    "def get_rt_user(text):\n",
    "    if text[0:2] == \"RT\":\n",
    "        colon = text.find(\":\")\n",
    "        user = text[:colon]\n",
    "        at = user.find(\"@\")\n",
    "        return (user[at+1:]).lower()\n",
    "    else:\n",
    "        return \"\"\n",
    "\n",
    "def addHashTags(text):\n",
    "    return \"#\" + text + \"#\"\n",
    "    \n",
    "def strip_links(text):\n",
    "    tokens = text.split()\n",
    "    \n",
    "def get_wordnet_pos(treebank_tag):\n",
    "    '''\n",
    "    Translate nltk POS to wordnet tags\n",
    "    '''\n",
    "    if treebank_tag.startswith('J'):\n",
    "        return wordnet.ADJ\n",
    "    elif treebank_tag.startswith('V'):\n",
    "        return wordnet.VERB\n",
    "    elif treebank_tag.startswith('N'):\n",
    "        return wordnet.NOUN\n",
    "    elif treebank_tag.startswith('R'):\n",
    "        return wordnet.ADV\n",
    "    else:\n",
    "        return wordnet.NOUN\n",
    "\n",
    "def remove_characters(text, char_to_remove):\n",
    "    str1 = ''.join(x for x in text if not x in char_to_remove)\n",
    "    return str1\n",
    "\n",
    "def remove_punctuation(text):\n",
    "    text = remove_characters(text, string.punctuation)\n",
    "    return text\n"
   ]
  },
  {
   "cell_type": "code",
   "execution_count": 7,
   "id": "83fbd7cd",
   "metadata": {
    "ExecuteTime": {
     "end_time": "2023-02-06T17:05:09.830747Z",
     "start_time": "2023-02-06T17:05:09.794591Z"
    }
   },
   "outputs": [
    {
     "data": {
      "text/html": [
       "<div>\n",
       "<style scoped>\n",
       "    .dataframe tbody tr th:only-of-type {\n",
       "        vertical-align: middle;\n",
       "    }\n",
       "\n",
       "    .dataframe tbody tr th {\n",
       "        vertical-align: top;\n",
       "    }\n",
       "\n",
       "    .dataframe thead th {\n",
       "        text-align: right;\n",
       "    }\n",
       "</style>\n",
       "<table border=\"1\" class=\"dataframe\">\n",
       "  <thead>\n",
       "    <tr style=\"text-align: right;\">\n",
       "      <th></th>\n",
       "      <th>user_name</th>\n",
       "      <th>class</th>\n",
       "      <th>id</th>\n",
       "      <th>text</th>\n",
       "      <th>author_id</th>\n",
       "      <th>created_at</th>\n",
       "    </tr>\n",
       "  </thead>\n",
       "  <tbody>\n",
       "    <tr>\n",
       "      <th>0</th>\n",
       "      <td>BennieGThompson</td>\n",
       "      <td>Politics - Liberal</td>\n",
       "      <td>1620584010991939584</td>\n",
       "      <td>Today marks the 83rd anniversary of the first ever #SocialSecurity check, and Republic...</td>\n",
       "      <td>82453460</td>\n",
       "      <td>2023-02-01 00:45:11+00:00</td>\n",
       "    </tr>\n",
       "    <tr>\n",
       "      <th>1</th>\n",
       "      <td>BennieGThompson</td>\n",
       "      <td>Politics - Liberal</td>\n",
       "      <td>1620116251749269511</td>\n",
       "      <td>RT @VP: President Biden and I are just getting started. https://t.co/gLmNbpKGAN</td>\n",
       "      <td>82453460</td>\n",
       "      <td>2023-01-30 17:46:29+00:00</td>\n",
       "    </tr>\n",
       "    <tr>\n",
       "      <th>2</th>\n",
       "      <td>BennieGThompson</td>\n",
       "      <td>Politics - Liberal</td>\n",
       "      <td>1620116182618759168</td>\n",
       "      <td>RT @RepJeffries: We will never negotiate away the health, safety or economic well-bein...</td>\n",
       "      <td>82453460</td>\n",
       "      <td>2023-01-30 17:46:12+00:00</td>\n",
       "    </tr>\n",
       "    <tr>\n",
       "      <th>3</th>\n",
       "      <td>BennieGThompson</td>\n",
       "      <td>Politics - Liberal</td>\n",
       "      <td>1620116109864357888</td>\n",
       "      <td>https://t.co/Ze7ePCUJJ2</td>\n",
       "      <td>82453460</td>\n",
       "      <td>2023-01-30 17:45:55+00:00</td>\n",
       "    </tr>\n",
       "    <tr>\n",
       "      <th>4</th>\n",
       "      <td>BennieGThompson</td>\n",
       "      <td>Politics - Liberal</td>\n",
       "      <td>1620061909113516036</td>\n",
       "      <td>https://t.co/ley5hNsz0y https://t.co/RFdTeGXGO1</td>\n",
       "      <td>82453460</td>\n",
       "      <td>2023-01-30 14:10:33+00:00</td>\n",
       "    </tr>\n",
       "    <tr>\n",
       "      <th>...</th>\n",
       "      <td>...</td>\n",
       "      <td>...</td>\n",
       "      <td>...</td>\n",
       "      <td>...</td>\n",
       "      <td>...</td>\n",
       "      <td>...</td>\n",
       "    </tr>\n",
       "    <tr>\n",
       "      <th>115506</th>\n",
       "      <td>RepLCD</td>\n",
       "      <td>Politics - Conservative</td>\n",
       "      <td>1611786100825006080</td>\n",
       "      <td>It was great to catch up with my friend @RepFeenstra last night -- we're ready to get ...</td>\n",
       "      <td>1583530102297600000</td>\n",
       "      <td>2023-01-07 18:05:26+00:00</td>\n",
       "    </tr>\n",
       "    <tr>\n",
       "      <th>115507</th>\n",
       "      <td>RepLCD</td>\n",
       "      <td>Politics - Conservative</td>\n",
       "      <td>1611615029660639233</td>\n",
       "      <td>Thank you #OR05 for placing your trust in me to represent you in the halls of Congress...</td>\n",
       "      <td>1583530102297600000</td>\n",
       "      <td>2023-01-07 06:45:40+00:00</td>\n",
       "    </tr>\n",
       "    <tr>\n",
       "      <th>115508</th>\n",
       "      <td>RepLCD</td>\n",
       "      <td>Politics - Conservative</td>\n",
       "      <td>1610791524807081986</td>\n",
       "      <td>A small minority is preventing the House from doing the work we were sent here to do. ...</td>\n",
       "      <td>1583530102297600000</td>\n",
       "      <td>2023-01-05 00:13:21+00:00</td>\n",
       "    </tr>\n",
       "    <tr>\n",
       "      <th>115509</th>\n",
       "      <td>RepLCD</td>\n",
       "      <td>Politics - Conservative</td>\n",
       "      <td>1610408428052295681</td>\n",
       "      <td>As I take on the responsibility of serving #OR05, I'm very grateful to have my family ...</td>\n",
       "      <td>1583530102297600000</td>\n",
       "      <td>2023-01-03 22:51:03+00:00</td>\n",
       "    </tr>\n",
       "    <tr>\n",
       "      <th>115510</th>\n",
       "      <td>RepLCD</td>\n",
       "      <td>Politics - Conservative</td>\n",
       "      <td>1610321103058046978</td>\n",
       "      <td>Soon, I'll be sworn in to serve my first term in the U.S. House of Representatives. It...</td>\n",
       "      <td>1583530102297600000</td>\n",
       "      <td>2023-01-03 17:04:03+00:00</td>\n",
       "    </tr>\n",
       "  </tbody>\n",
       "</table>\n",
       "<p>114634 rows × 6 columns</p>\n",
       "</div>"
      ],
      "text/plain": [
       "              user_name                    class                   id  \\\n",
       "0       BennieGThompson       Politics - Liberal  1620584010991939584   \n",
       "1       BennieGThompson       Politics - Liberal  1620116251749269511   \n",
       "2       BennieGThompson       Politics - Liberal  1620116182618759168   \n",
       "3       BennieGThompson       Politics - Liberal  1620116109864357888   \n",
       "4       BennieGThompson       Politics - Liberal  1620061909113516036   \n",
       "...                 ...                      ...                  ...   \n",
       "115506           RepLCD  Politics - Conservative  1611786100825006080   \n",
       "115507           RepLCD  Politics - Conservative  1611615029660639233   \n",
       "115508           RepLCD  Politics - Conservative  1610791524807081986   \n",
       "115509           RepLCD  Politics - Conservative  1610408428052295681   \n",
       "115510           RepLCD  Politics - Conservative  1610321103058046978   \n",
       "\n",
       "                                                                                             text  \\\n",
       "0       Today marks the 83rd anniversary of the first ever #SocialSecurity check, and Republic...   \n",
       "1                 RT @VP: President Biden and I are just getting started. https://t.co/gLmNbpKGAN   \n",
       "2       RT @RepJeffries: We will never negotiate away the health, safety or economic well-bein...   \n",
       "3                                                                         https://t.co/Ze7ePCUJJ2   \n",
       "4                                                 https://t.co/ley5hNsz0y https://t.co/RFdTeGXGO1   \n",
       "...                                                                                           ...   \n",
       "115506  It was great to catch up with my friend @RepFeenstra last night -- we're ready to get ...   \n",
       "115507  Thank you #OR05 for placing your trust in me to represent you in the halls of Congress...   \n",
       "115508  A small minority is preventing the House from doing the work we were sent here to do. ...   \n",
       "115509  As I take on the responsibility of serving #OR05, I'm very grateful to have my family ...   \n",
       "115510  Soon, I'll be sworn in to serve my first term in the U.S. House of Representatives. It...   \n",
       "\n",
       "                  author_id                 created_at  \n",
       "0                  82453460  2023-02-01 00:45:11+00:00  \n",
       "1                  82453460  2023-01-30 17:46:29+00:00  \n",
       "2                  82453460  2023-01-30 17:46:12+00:00  \n",
       "3                  82453460  2023-01-30 17:45:55+00:00  \n",
       "4                  82453460  2023-01-30 14:10:33+00:00  \n",
       "...                     ...                        ...  \n",
       "115506  1583530102297600000  2023-01-07 18:05:26+00:00  \n",
       "115507  1583530102297600000  2023-01-07 06:45:40+00:00  \n",
       "115508  1583530102297600000  2023-01-05 00:13:21+00:00  \n",
       "115509  1583530102297600000  2023-01-03 22:51:03+00:00  \n",
       "115510  1583530102297600000  2023-01-03 17:04:03+00:00  \n",
       "\n",
       "[114634 rows x 6 columns]"
      ]
     },
     "execution_count": 7,
     "metadata": {},
     "output_type": "execute_result"
    }
   ],
   "source": [
    "df"
   ]
  },
  {
   "cell_type": "code",
   "execution_count": 8,
   "id": "f99cd3c9",
   "metadata": {
    "ExecuteTime": {
     "end_time": "2023-02-06T17:06:19.945877Z",
     "start_time": "2023-02-06T17:05:56.895064Z"
    },
    "scrolled": false
   },
   "outputs": [
    {
     "data": {
      "text/html": [
       "<div>\n",
       "<style scoped>\n",
       "    .dataframe tbody tr th:only-of-type {\n",
       "        vertical-align: middle;\n",
       "    }\n",
       "\n",
       "    .dataframe tbody tr th {\n",
       "        vertical-align: top;\n",
       "    }\n",
       "\n",
       "    .dataframe thead th {\n",
       "        text-align: right;\n",
       "    }\n",
       "</style>\n",
       "<table border=\"1\" class=\"dataframe\">\n",
       "  <thead>\n",
       "    <tr style=\"text-align: right;\">\n",
       "      <th></th>\n",
       "      <th>user_name</th>\n",
       "      <th>class</th>\n",
       "      <th>id</th>\n",
       "      <th>text</th>\n",
       "      <th>author_id</th>\n",
       "      <th>created_at</th>\n",
       "      <th>text2</th>\n",
       "      <th>RT_user</th>\n",
       "      <th>RT_user#</th>\n",
       "      <th>word_count</th>\n",
       "      <th>text3</th>\n",
       "    </tr>\n",
       "  </thead>\n",
       "  <tbody>\n",
       "    <tr>\n",
       "      <th>0</th>\n",
       "      <td>BennieGThompson</td>\n",
       "      <td>Politics - Liberal</td>\n",
       "      <td>1620584010991939584</td>\n",
       "      <td>Today marks the 83rd anniversary of the first ever #SocialSecurity check, and Republic...</td>\n",
       "      <td>82453460</td>\n",
       "      <td>2023-02-01 00:45:11+00:00</td>\n",
       "      <td>today mark 83rd anniversari first ever socialsecur check republican celebr tri vital p...</td>\n",
       "      <td></td>\n",
       "      <td></td>\n",
       "      <td>156</td>\n",
       "      <td>[today, mark, 83rd, anniversari, first, ever, socialsecur, check, republican, celebr, ...</td>\n",
       "    </tr>\n",
       "    <tr>\n",
       "      <th>1</th>\n",
       "      <td>BennieGThompson</td>\n",
       "      <td>Politics - Liberal</td>\n",
       "      <td>1620116251749269511</td>\n",
       "      <td>RT @VP: President Biden and I are just getting started. https://t.co/gLmNbpKGAN</td>\n",
       "      <td>82453460</td>\n",
       "      <td>2023-01-30 17:46:29+00:00</td>\n",
       "      <td>presid biden get start #vp#</td>\n",
       "      <td>vp</td>\n",
       "      <td>#vp#</td>\n",
       "      <td>27</td>\n",
       "      <td>[presid, biden, get, start, #vp#]</td>\n",
       "    </tr>\n",
       "    <tr>\n",
       "      <th>2</th>\n",
       "      <td>BennieGThompson</td>\n",
       "      <td>Politics - Liberal</td>\n",
       "      <td>1620116182618759168</td>\n",
       "      <td>RT @RepJeffries: We will never negotiate away the health, safety or economic well-bein...</td>\n",
       "      <td>82453460</td>\n",
       "      <td>2023-01-30 17:46:12+00:00</td>\n",
       "      <td>never negoti away health safeti econom wellb american peopl #repjeffries#</td>\n",
       "      <td>repjeffries</td>\n",
       "      <td>#repjeffries#</td>\n",
       "      <td>73</td>\n",
       "      <td>[never, negoti, away, health, safeti, econom, wellb, american, peopl, #repjeffries#]</td>\n",
       "    </tr>\n",
       "    <tr>\n",
       "      <th>3</th>\n",
       "      <td>BennieGThompson</td>\n",
       "      <td>Politics - Liberal</td>\n",
       "      <td>1619330126361300993</td>\n",
       "      <td>The footage of Tyre Nichols killing is painful. I send my condolences to his family an...</td>\n",
       "      <td>82453460</td>\n",
       "      <td>2023-01-28 13:42:42+00:00</td>\n",
       "      <td>footag tyre nichol kill pain send condol famili friend justic must serv respons</td>\n",
       "      <td></td>\n",
       "      <td></td>\n",
       "      <td>80</td>\n",
       "      <td>[footag, tyre, nichol, kill, pain, send, condol, famili, friend, justic, must, serv, r...</td>\n",
       "    </tr>\n",
       "    <tr>\n",
       "      <th>4</th>\n",
       "      <td>BennieGThompson</td>\n",
       "      <td>Politics - Liberal</td>\n",
       "      <td>1619327606159179777</td>\n",
       "      <td>RT @CBCInstitute: Happy Birthday to our Chairman Congressman @BennieGThompson! In your...</td>\n",
       "      <td>82453460</td>\n",
       "      <td>2023-01-28 13:32:41+00:00</td>\n",
       "      <td>happi birthday chairman congressman benniegthompson 30th congress celebr incred #cbcin...</td>\n",
       "      <td>cbcinstitute</td>\n",
       "      <td>#cbcinstitute#</td>\n",
       "      <td>94</td>\n",
       "      <td>[happi, birthday, chairman, congressman, benniegthompson, 30th, congress, celebr, incr...</td>\n",
       "    </tr>\n",
       "    <tr>\n",
       "      <th>...</th>\n",
       "      <td>...</td>\n",
       "      <td>...</td>\n",
       "      <td>...</td>\n",
       "      <td>...</td>\n",
       "      <td>...</td>\n",
       "      <td>...</td>\n",
       "      <td>...</td>\n",
       "      <td>...</td>\n",
       "      <td>...</td>\n",
       "      <td>...</td>\n",
       "      <td>...</td>\n",
       "    </tr>\n",
       "    <tr>\n",
       "      <th>112412</th>\n",
       "      <td>RepLCD</td>\n",
       "      <td>Politics - Conservative</td>\n",
       "      <td>1611786100825006080</td>\n",
       "      <td>It was great to catch up with my friend @RepFeenstra last night -- we're ready to get ...</td>\n",
       "      <td>1583530102297600000</td>\n",
       "      <td>2023-01-07 18:05:26+00:00</td>\n",
       "      <td>great catch friend repfeenstra last night were readi work deliv promis made american p...</td>\n",
       "      <td></td>\n",
       "      <td></td>\n",
       "      <td>101</td>\n",
       "      <td>[great, catch, friend, repfeenstra, last, night, were, readi, work, deliv, promis, mad...</td>\n",
       "    </tr>\n",
       "    <tr>\n",
       "      <th>112413</th>\n",
       "      <td>RepLCD</td>\n",
       "      <td>Politics - Conservative</td>\n",
       "      <td>1611615029660639233</td>\n",
       "      <td>Thank you #OR05 for placing your trust in me to represent you in the halls of Congress...</td>\n",
       "      <td>1583530102297600000</td>\n",
       "      <td>2023-01-07 06:45:40+00:00</td>\n",
       "      <td>thank or05 place trust repres hall congress solemn promis oregonian carri constitut du...</td>\n",
       "      <td></td>\n",
       "      <td></td>\n",
       "      <td>128</td>\n",
       "      <td>[thank, or05, place, trust, repres, hall, congress, solemn, promis, oregonian, carri, ...</td>\n",
       "    </tr>\n",
       "    <tr>\n",
       "      <th>112414</th>\n",
       "      <td>RepLCD</td>\n",
       "      <td>Politics - Conservative</td>\n",
       "      <td>1610791524807081986</td>\n",
       "      <td>A small minority is preventing the House from doing the work we were sent here to do. ...</td>\n",
       "      <td>1583530102297600000</td>\n",
       "      <td>2023-01-05 00:13:21+00:00</td>\n",
       "      <td>small minor prevent hous work sent must economi back track work cost live control impr...</td>\n",
       "      <td></td>\n",
       "      <td></td>\n",
       "      <td>130</td>\n",
       "      <td>[small, minor, prevent, hous, work, sent, must, economi, back, track, work, cost, live...</td>\n",
       "    </tr>\n",
       "    <tr>\n",
       "      <th>112415</th>\n",
       "      <td>RepLCD</td>\n",
       "      <td>Politics - Conservative</td>\n",
       "      <td>1610408428052295681</td>\n",
       "      <td>As I take on the responsibility of serving #OR05, I'm very grateful to have my family ...</td>\n",
       "      <td>1583530102297600000</td>\n",
       "      <td>2023-01-03 22:51:03+00:00</td>\n",
       "      <td>take respons serv or05 grate famili side</td>\n",
       "      <td></td>\n",
       "      <td></td>\n",
       "      <td>41</td>\n",
       "      <td>[take, respons, serv, or05, grate, famili, side]</td>\n",
       "    </tr>\n",
       "    <tr>\n",
       "      <th>112416</th>\n",
       "      <td>RepLCD</td>\n",
       "      <td>Politics - Conservative</td>\n",
       "      <td>1610321103058046978</td>\n",
       "      <td>Soon, I'll be sworn in to serve my first term in the U.S. House of Representatives. It...</td>\n",
       "      <td>1583530102297600000</td>\n",
       "      <td>2023-01-03 17:04:03+00:00</td>\n",
       "      <td>soon sworn serv first term hous repres truli honor readi ground run offic belong good ...</td>\n",
       "      <td></td>\n",
       "      <td></td>\n",
       "      <td>113</td>\n",
       "      <td>[soon, sworn, serv, first, term, hous, repres, truli, honor, readi, ground, run, offic...</td>\n",
       "    </tr>\n",
       "  </tbody>\n",
       "</table>\n",
       "<p>112417 rows × 11 columns</p>\n",
       "</div>"
      ],
      "text/plain": [
       "              user_name                    class                   id  \\\n",
       "0       BennieGThompson       Politics - Liberal  1620584010991939584   \n",
       "1       BennieGThompson       Politics - Liberal  1620116251749269511   \n",
       "2       BennieGThompson       Politics - Liberal  1620116182618759168   \n",
       "3       BennieGThompson       Politics - Liberal  1619330126361300993   \n",
       "4       BennieGThompson       Politics - Liberal  1619327606159179777   \n",
       "...                 ...                      ...                  ...   \n",
       "112412           RepLCD  Politics - Conservative  1611786100825006080   \n",
       "112413           RepLCD  Politics - Conservative  1611615029660639233   \n",
       "112414           RepLCD  Politics - Conservative  1610791524807081986   \n",
       "112415           RepLCD  Politics - Conservative  1610408428052295681   \n",
       "112416           RepLCD  Politics - Conservative  1610321103058046978   \n",
       "\n",
       "                                                                                             text  \\\n",
       "0       Today marks the 83rd anniversary of the first ever #SocialSecurity check, and Republic...   \n",
       "1                 RT @VP: President Biden and I are just getting started. https://t.co/gLmNbpKGAN   \n",
       "2       RT @RepJeffries: We will never negotiate away the health, safety or economic well-bein...   \n",
       "3       The footage of Tyre Nichols killing is painful. I send my condolences to his family an...   \n",
       "4       RT @CBCInstitute: Happy Birthday to our Chairman Congressman @BennieGThompson! In your...   \n",
       "...                                                                                           ...   \n",
       "112412  It was great to catch up with my friend @RepFeenstra last night -- we're ready to get ...   \n",
       "112413  Thank you #OR05 for placing your trust in me to represent you in the halls of Congress...   \n",
       "112414  A small minority is preventing the House from doing the work we were sent here to do. ...   \n",
       "112415  As I take on the responsibility of serving #OR05, I'm very grateful to have my family ...   \n",
       "112416  Soon, I'll be sworn in to serve my first term in the U.S. House of Representatives. It...   \n",
       "\n",
       "                  author_id                 created_at  \\\n",
       "0                  82453460  2023-02-01 00:45:11+00:00   \n",
       "1                  82453460  2023-01-30 17:46:29+00:00   \n",
       "2                  82453460  2023-01-30 17:46:12+00:00   \n",
       "3                  82453460  2023-01-28 13:42:42+00:00   \n",
       "4                  82453460  2023-01-28 13:32:41+00:00   \n",
       "...                     ...                        ...   \n",
       "112412  1583530102297600000  2023-01-07 18:05:26+00:00   \n",
       "112413  1583530102297600000  2023-01-07 06:45:40+00:00   \n",
       "112414  1583530102297600000  2023-01-05 00:13:21+00:00   \n",
       "112415  1583530102297600000  2023-01-03 22:51:03+00:00   \n",
       "112416  1583530102297600000  2023-01-03 17:04:03+00:00   \n",
       "\n",
       "                                                                                            text2  \\\n",
       "0       today mark 83rd anniversari first ever socialsecur check republican celebr tri vital p...   \n",
       "1                                                                     presid biden get start #vp#   \n",
       "2                       never negoti away health safeti econom wellb american peopl #repjeffries#   \n",
       "3                footag tyre nichol kill pain send condol famili friend justic must serv respons    \n",
       "4       happi birthday chairman congressman benniegthompson 30th congress celebr incred #cbcin...   \n",
       "...                                                                                           ...   \n",
       "112412  great catch friend repfeenstra last night were readi work deliv promis made american p...   \n",
       "112413  thank or05 place trust repres hall congress solemn promis oregonian carri constitut du...   \n",
       "112414  small minor prevent hous work sent must economi back track work cost live control impr...   \n",
       "112415                                                  take respons serv or05 grate famili side    \n",
       "112416  soon sworn serv first term hous repres truli honor readi ground run offic belong good ...   \n",
       "\n",
       "             RT_user        RT_user#  word_count  \\\n",
       "0                                            156   \n",
       "1                 vp            #vp#          27   \n",
       "2        repjeffries   #repjeffries#          73   \n",
       "3                                             80   \n",
       "4       cbcinstitute  #cbcinstitute#          94   \n",
       "...              ...             ...         ...   \n",
       "112412                                       101   \n",
       "112413                                       128   \n",
       "112414                                       130   \n",
       "112415                                        41   \n",
       "112416                                       113   \n",
       "\n",
       "                                                                                            text3  \n",
       "0       [today, mark, 83rd, anniversari, first, ever, socialsecur, check, republican, celebr, ...  \n",
       "1                                                               [presid, biden, get, start, #vp#]  \n",
       "2            [never, negoti, away, health, safeti, econom, wellb, american, peopl, #repjeffries#]  \n",
       "3       [footag, tyre, nichol, kill, pain, send, condol, famili, friend, justic, must, serv, r...  \n",
       "4       [happi, birthday, chairman, congressman, benniegthompson, 30th, congress, celebr, incr...  \n",
       "...                                                                                           ...  \n",
       "112412  [great, catch, friend, repfeenstra, last, night, were, readi, work, deliv, promis, mad...  \n",
       "112413  [thank, or05, place, trust, repres, hall, congress, solemn, promis, oregonian, carri, ...  \n",
       "112414  [small, minor, prevent, hous, work, sent, must, economi, back, track, work, cost, live...  \n",
       "112415                                           [take, respons, serv, or05, grate, famili, side]  \n",
       "112416  [soon, sworn, serv, first, term, hous, repres, truli, honor, readi, ground, run, offic...  \n",
       "\n",
       "[112417 rows x 11 columns]"
      ]
     },
     "execution_count": 8,
     "metadata": {},
     "output_type": "execute_result"
    }
   ],
   "source": [
    "df2 = df.copy()\n",
    "from nltk.stem import PorterStemmer\n",
    "from nltk.tokenize import word_tokenize\n",
    "from nltk.stem.snowball import SnowballStemmer\n",
    "\n",
    "# Constants \n",
    "min_word_size = 4\n",
    "min_word_count = 3\n",
    "\n",
    "# Make special user names and retweet names, and pull it out from the text tweet\n",
    "df2['text2'] = df2['text'].apply(strip_rt_user)\n",
    "df2['RT_user'] = df2['text'].apply(get_rt_user)\n",
    "df2['RT_user#'] = df2['RT_user'].apply(lambda x: addHashTags(x) if x != \"\" else \"\")\n",
    "\n",
    "# Lower case the text tweets\n",
    "df2['text2'] = df2['text2'].str.lower()\n",
    "\n",
    "# Strip out the meaningless links\n",
    "df2['text2'] = df2['text2'].apply(lambda x: \" \".join([n for n in x.split() if n[0:4] != \"http\"]))\n",
    "\n",
    "# Strip any excess white space\n",
    "df2['text2'] = df2['text2'].apply(lambda x: x.strip())\n",
    "\n",
    "# Take out stop words\n",
    "sw = set(stopwords.words('english'))\n",
    "sw.update(['amp'])\n",
    "df2['text2'] = df2['text2'].apply(lambda x: \" \".join([n for n in x.split() if n not in sw]))\n",
    "\n",
    "# Remove punctuation\n",
    "df2['text2'] = df2['text2'].apply(lambda x: remove_punctuation(x))\n",
    "\n",
    "# min length of characters for word\n",
    "df2['text2'] = df2['text2'].apply(lambda x: \" \".join([n for n in x.split() if len(n) >= min_word_size]))\n",
    "\n",
    "# Make sure we don't have any random numbers\n",
    "df2['text2'] = df2['text2'].apply(lambda x: \" \".join([n for n in x.split() if n.isnumeric() == False]))\n",
    "\n",
    "# Stem the words\n",
    "sb = SnowballStemmer(language='english')\n",
    "df2['text2'] = df2['text2'].apply(lambda x: \" \".join([sb.stem(n) for n in x.split()]))\n",
    "\n",
    "# Put it all together in a new column\n",
    "df2['text2'] = df2['text2'] + \" \" + df2['RT_user#']\n",
    "\n",
    "# Limit data to tweets that have greater than specific number of words\n",
    "df2['word_count'] = df2['text2'].apply(lambda x: len(x))\n",
    "df2 = df2[ df2['word_count'] >= min_word_count ]\n",
    "\n",
    "# Make a new column, tokenize the words\n",
    "df2['text3'] = df2['text2'].str.split()\n",
    "\n",
    "# Make a new df\n",
    "df3 = df2.copy()\n",
    "df3['text3'] = df3['text3'].apply(lambda x: np.nan if len(x) == 0 else x)\n",
    "df3 = df3.dropna().reset_index(drop=True) \n",
    "df3\n",
    "\n",
    "\n",
    "\n"
   ]
  },
  {
   "cell_type": "code",
   "execution_count": 10,
   "id": "0d088c4f",
   "metadata": {
    "ExecuteTime": {
     "end_time": "2023-02-06T17:14:40.665312Z",
     "start_time": "2023-02-06T17:14:40.472074Z"
    },
    "scrolled": true
   },
   "outputs": [
    {
     "data": {
      "image/png": "[encoded data removed]",
      "text/plain": [
       "<Figure size 576x576 with 1 Axes>"
      ]
     },
     "metadata": {
      "needs_background": "light"
     },
     "output_type": "display_data"
    }
   ],
   "source": [
    "ax = df3['word_count'].plot.hist(figsize=(8,8), bins=20)"
   ]
  },
  {
   "cell_type": "markdown",
   "id": "8cd60b87",
   "metadata": {},
   "source": [
    "First try to predict Political affiliation.  Then move on to the others."
   ]
  },
  {
   "cell_type": "code",
   "execution_count": 11,
   "id": "ddf6e274",
   "metadata": {
    "ExecuteTime": {
     "end_time": "2023-02-06T17:14:43.442157Z",
     "start_time": "2023-02-06T17:14:43.406345Z"
    }
   },
   "outputs": [],
   "source": [
    "df3 = df3[(df3['class'] == 'Politics - Conservative') | (df3['class'] == 'Politics - Liberal')]\n",
    "# df3"
   ]
  },
  {
   "cell_type": "code",
   "execution_count": 12,
   "id": "f0c48246",
   "metadata": {
    "ExecuteTime": {
     "end_time": "2023-02-06T17:14:48.676857Z",
     "start_time": "2023-02-06T17:14:48.652834Z"
    }
   },
   "outputs": [
    {
     "name": "stderr",
     "output_type": "stream",
     "text": [
      "<ipython-input-12-adeaad1ad0a3>:3: SettingWithCopyWarning: \n",
      "A value is trying to be set on a copy of a slice from a DataFrame.\n",
      "Try using .loc[row_indexer,col_indexer] = value instead\n",
      "\n",
      "See the caveats in the documentation: https://pandas.pydata.org/pandas-docs/stable/user_guide/indexing.html#returning-a-view-versus-a-copy\n",
      "  df3['class_label'] = le.fit_transform(df3['class'])\n"
     ]
    }
   ],
   "source": [
    "from sklearn import preprocessing\n",
    "le = preprocessing.LabelEncoder()\n",
    "df3['class_label'] = le.fit_transform(df3['class'])"
   ]
  },
  {
   "cell_type": "code",
   "execution_count": 13,
   "id": "3f9973ab",
   "metadata": {
    "ExecuteTime": {
     "end_time": "2023-02-06T17:14:51.030659Z",
     "start_time": "2023-02-06T17:14:50.989734Z"
    },
    "scrolled": true
   },
   "outputs": [
    {
     "data": {
      "text/html": [
       "<div>\n",
       "<style scoped>\n",
       "    .dataframe tbody tr th:only-of-type {\n",
       "        vertical-align: middle;\n",
       "    }\n",
       "\n",
       "    .dataframe tbody tr th {\n",
       "        vertical-align: top;\n",
       "    }\n",
       "\n",
       "    .dataframe thead th {\n",
       "        text-align: right;\n",
       "    }\n",
       "</style>\n",
       "<table border=\"1\" class=\"dataframe\">\n",
       "  <thead>\n",
       "    <tr style=\"text-align: right;\">\n",
       "      <th></th>\n",
       "      <th></th>\n",
       "      <th>class</th>\n",
       "    </tr>\n",
       "    <tr>\n",
       "      <th>class</th>\n",
       "      <th>class_label</th>\n",
       "      <th></th>\n",
       "    </tr>\n",
       "  </thead>\n",
       "  <tbody>\n",
       "    <tr>\n",
       "      <th>Politics - Conservative</th>\n",
       "      <th>0</th>\n",
       "      <td>30453</td>\n",
       "    </tr>\n",
       "    <tr>\n",
       "      <th>Politics - Liberal</th>\n",
       "      <th>1</th>\n",
       "      <td>26824</td>\n",
       "    </tr>\n",
       "  </tbody>\n",
       "</table>\n",
       "</div>"
      ],
      "text/plain": [
       "                                     class\n",
       "class                   class_label       \n",
       "Politics - Conservative 0            30453\n",
       "Politics - Liberal      1            26824"
      ]
     },
     "execution_count": 13,
     "metadata": {},
     "output_type": "execute_result"
    }
   ],
   "source": [
    "labels = df3.groupby(['class', 'class_label'])['class',].count()\n",
    "labels"
   ]
  },
  {
   "cell_type": "code",
   "execution_count": 14,
   "id": "642a596a",
   "metadata": {
    "ExecuteTime": {
     "end_time": "2023-02-06T17:14:58.316641Z",
     "start_time": "2023-02-06T17:14:58.256857Z"
    }
   },
   "outputs": [],
   "source": [
    "X = df3['text3']\n",
    "y = df3['class_label']\n",
    "X_train, X_test, y_train, y_test = train_test_split(X, y, test_size=.65, stratify=y)"
   ]
  },
  {
   "cell_type": "code",
   "execution_count": 15,
   "id": "893e4f1f",
   "metadata": {
    "ExecuteTime": {
     "end_time": "2023-02-06T17:15:01.300752Z",
     "start_time": "2023-02-06T17:15:01.275934Z"
    }
   },
   "outputs": [
    {
     "data": {
      "text/plain": [
       "9554      [ernest, hemingway, third, child, identifi, gregori, obituari, wikipedia, call, gloria...\n",
       "12328     [rememb, kevin, mccarthi, lost, speaker, admit, public, sole, purpos, benghazi, select...\n",
       "17058                                      [person, tax, paid, briton, surg, remark, financi, year]\n",
       "15176     [guest, alert, kentucki, senat, randpaul, join, show, today, tune, listen, here, #clay...\n",
       "15773                                             [christma, american, everyth, tree, tree, itself]\n",
       "                                                    ...                                            \n",
       "5445      [long, past, time, action, kind, action, anoth, tragedya, quieter, less, tragic, onefo...\n",
       "104654    [comer, press, hunter, biden, dealer, communic, white, hous, request, interview, news,...\n",
       "111808    [thank, thousand, prolif, nebraskan, turn, bitter, cold, morn, togeth, inspir, neighbo...\n",
       "7306      [hous, republican, priorit, protect, rich, cheat, allow, less, tax, middleclass, ameri...\n",
       "101432    [congratul, friend, repmarkgreen, chairman, homelandgop, prodigi, honor, support, mark...\n",
       "Name: text3, Length: 20046, dtype: object"
      ]
     },
     "execution_count": 15,
     "metadata": {},
     "output_type": "execute_result"
    }
   ],
   "source": [
    "X_train"
   ]
  },
  {
   "cell_type": "code",
   "execution_count": 16,
   "id": "5d937396",
   "metadata": {
    "ExecuteTime": {
     "end_time": "2023-02-06T17:15:02.993965Z",
     "start_time": "2023-02-06T17:15:02.753485Z"
    }
   },
   "outputs": [],
   "source": [
    "# Import the relevant vectorizer class\n",
    "from sklearn.feature_extraction.text import TfidfVectorizer\n",
    "\n",
    "def dummy_fun(doc):\n",
    "    return doc\n",
    "\n",
    "# Instantiate a vectorizer with max_features=10\n",
    "# (we are using the default token pattern)\n",
    "tfidf = TfidfVectorizer(analyzer='word', tokenizer=dummy_fun, preprocessor=dummy_fun, token_pattern=None, max_features=8000)\n",
    "\n",
    "# Fit the vectorizer on X_train[\"text\"] and transform it\n",
    "X_train_vectorized = tfidf.fit_transform(X_train)\n",
    "\n",
    "# Visually inspect the vectorized data\n",
    "# pd.DataFrame.sparse.from_spmatrix(X_train_vectorized, columns=tfidf.get_feature_names())"
   ]
  },
  {
   "cell_type": "markdown",
   "id": "b0e85519",
   "metadata": {},
   "source": [
    "First try a Naive Bayes Classifier"
   ]
  },
  {
   "cell_type": "code",
   "execution_count": 17,
   "id": "219fb12a",
   "metadata": {
    "ExecuteTime": {
     "end_time": "2023-02-06T17:15:04.748354Z",
     "start_time": "2023-02-06T17:15:04.674132Z"
    },
    "scrolled": true
   },
   "outputs": [
    {
     "data": {
      "text/plain": [
       "0.7994117723899282"
      ]
     },
     "execution_count": 17,
     "metadata": {},
     "output_type": "execute_result"
    }
   ],
   "source": [
    "# Import relevant class and function\n",
    "from sklearn.naive_bayes import MultinomialNB\n",
    "from sklearn.model_selection import cross_val_score\n",
    "\n",
    "# Instantiate a MultinomialNB classifier\n",
    "baseline_model = MultinomialNB()\n",
    "\n",
    "# Evaluate the classifier on X_train_vectorized and y_train\n",
    "baseline_cv = cross_val_score(baseline_model, X_train_vectorized, y_train)\n",
    "baseline_cv.mean()"
   ]
  },
  {
   "cell_type": "code",
   "execution_count": 18,
   "id": "2661ffb6",
   "metadata": {
    "ExecuteTime": {
     "end_time": "2023-02-06T17:15:15.673669Z",
     "start_time": "2023-02-06T17:15:15.347405Z"
    },
    "scrolled": true
   },
   "outputs": [],
   "source": [
    "# Fit the vectorizer on X_train[\"text\"] and transform it\n",
    "X_test_vectorized = tfidf.transform(X_test)\n",
    "\n",
    "# Visually inspect the vectorized data\n",
    "# pd.DataFrame.sparse.from_spmatrix(X_test_vectorized, columns=tfidf.get_feature_names())"
   ]
  },
  {
   "cell_type": "code",
   "execution_count": 19,
   "id": "3bab5ccf",
   "metadata": {
    "ExecuteTime": {
     "end_time": "2023-02-06T17:15:16.800168Z",
     "start_time": "2023-02-06T17:15:16.698998Z"
    }
   },
   "outputs": [
    {
     "data": {
      "text/plain": [
       "0.7982056420118593"
      ]
     },
     "execution_count": 19,
     "metadata": {},
     "output_type": "execute_result"
    }
   ],
   "source": [
    "# Evaluate the classifier on X_train_vectorized and y_train\n",
    "baseline_cv = cross_val_score(baseline_model, X_test_vectorized, y_test)\n",
    "baseline_cv.mean()"
   ]
  },
  {
   "cell_type": "markdown",
   "id": "5560f29a",
   "metadata": {},
   "source": [
    "Random Forest Classifier"
   ]
  },
  {
   "cell_type": "code",
   "execution_count": 20,
   "id": "902aeed4",
   "metadata": {
    "ExecuteTime": {
     "end_time": "2023-02-06T17:16:08.851344Z",
     "start_time": "2023-02-06T17:15:33.239726Z"
    }
   },
   "outputs": [
    {
     "data": {
      "text/plain": [
       "array([0.7436409 , 0.7380893 , 0.73409828, 0.75130955, 0.72437017])"
      ]
     },
     "execution_count": 20,
     "metadata": {},
     "output_type": "execute_result"
    }
   ],
   "source": [
    "# Import relevant class and function\n",
    "from sklearn.ensemble import RandomForestClassifier\n",
    "from sklearn.model_selection import cross_val_score\n",
    "\n",
    "# Instantiate a MultinomialNB classifier\n",
    "baseline_model = RandomForestClassifier(max_depth=100)\n",
    "\n",
    "# Evaluate the classifier on X_train_vectorized and y_train\n",
    "baseline_cv = cross_val_score(baseline_model, X_train_vectorized, y_train)\n",
    "baseline_cv.mean()"
   ]
  },
  {
   "cell_type": "code",
   "execution_count": 21,
   "id": "511a8d02",
   "metadata": {
    "ExecuteTime": {
     "end_time": "2023-02-06T17:18:24.178400Z",
     "start_time": "2023-02-06T17:16:08.947728Z"
    }
   },
   "outputs": [
    {
     "data": {
      "text/plain": [
       "0.7553917574063809"
      ]
     },
     "execution_count": 21,
     "metadata": {},
     "output_type": "execute_result"
    }
   ],
   "source": [
    "# Fit the vectorizer on X_train[\"text\"] and transform it\n",
    "X_test_vectorized = tfidf.transform(X_test)\n",
    "\n",
    "# Evaluate the classifier on X_train_vectorized and y_train\n",
    "baseline_cv = cross_val_score(baseline_model, X_test_vectorized, y_test)\n",
    "baseline_cv.mean()"
   ]
  },
  {
   "cell_type": "markdown",
   "id": "75c08ea9",
   "metadata": {},
   "source": [
    "XGBoost Classifier"
   ]
  },
  {
   "cell_type": "code",
   "execution_count": null,
   "id": "9f8664bf",
   "metadata": {
    "ExecuteTime": {
     "start_time": "2023-02-02T09:49:17.554Z"
    }
   },
   "outputs": [],
   "source": [
    "import xgboost as xgb\n",
    "\n",
    "baseline_model = xgb.XGBClassifier(random_state=42)\n",
    "baseline_cv = cross_val_score(baseline_model, X_train_vectorized, y_train)\n",
    "baseline_cv"
   ]
  },
  {
   "cell_type": "code",
   "execution_count": null,
   "id": "b3a15836",
   "metadata": {
    "ExecuteTime": {
     "start_time": "2023-02-02T09:49:17.747Z"
    }
   },
   "outputs": [],
   "source": [
    "# Fit the vectorizer on X_train[\"text\"] and transform it\n",
    "X_test_vectorized = tfidf.transform(X_test)\n",
    "\n",
    "# Evaluate the classifier on X_train_vectorized and y_train\n",
    "baseline_cv = cross_val_score(baseline_model, X_test_vectorized, y_test)\n",
    "baseline_cv.mean()"
   ]
  },
  {
   "cell_type": "code",
   "execution_count": null,
   "id": "fb115cad",
   "metadata": {},
   "outputs": [],
   "source": []
  },
  {
   "cell_type": "code",
   "execution_count": null,
   "id": "d8b92ba8",
   "metadata": {},
   "outputs": [],
   "source": []
  },
  {
   "cell_type": "code",
   "execution_count": null,
   "id": "1929d15a",
   "metadata": {},
   "outputs": [],
   "source": []
  }
 ],
 "metadata": {
  "kernelspec": {
   "display_name": "Python (learn-env)",
   "language": "python",
   "name": "learn-env"
  },
  "language_info": {
   "codemirror_mode": {
    "name": "ipython",
    "version": 3
   },
   "file_extension": ".py",
   "mimetype": "text/x-python",
   "name": "python",
   "nbconvert_exporter": "python",
   "pygments_lexer": "ipython3",
   "version": "3.8.5"
  },
  "toc": {
   "base_numbering": 1,
   "nav_menu": {},
   "number_sections": true,
   "sideBar": true,
   "skip_h1_title": false,
   "title_cell": "Table of Contents",
   "title_sidebar": "Contents",
   "toc_cell": false,
   "toc_position": {},
   "toc_section_display": true,
   "toc_window_display": false
  },
  "varInspector": {
   "cols": {
    "lenName": 16,
    "lenType": 16,
    "lenVar": 40
   },
   "kernels_config": {
    "python": {
     "delete_cmd_postfix": "",
     "delete_cmd_prefix": "del ",
     "library": "var_list.py",
     "varRefreshCmd": "print(var_dic_list())"
    },
    "r": {
     "delete_cmd_postfix": ") ",
     "delete_cmd_prefix": "rm(",
     "library": "var_list.r",
     "varRefreshCmd": "cat(var_dic_list()) "
    }
   },
   "types_to_exclude": [
    "module",
    "function",
    "builtin_function_or_method",
    "instance",
    "_Feature"
   ],
   "window_display": false
  }
 },
 "nbformat": 4,
 "nbformat_minor": 5
}
