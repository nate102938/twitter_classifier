{
 "cells": [
  {
   "cell_type": "code",
   "execution_count": 2,
   "metadata": {
    "ExecuteTime": {
     "end_time": "2023-01-21T05:03:00.087489Z",
     "start_time": "2023-01-21T05:02:56.633017Z"
    }
   },
   "outputs": [
    {
     "name": "stdout",
     "output_type": "stream",
     "text": [
      "Collecting tweepy\n",
      "  Downloading tweepy-4.12.1-py3-none-any.whl (101 kB)\n",
      "Requirement already satisfied: requests<3,>=2.27.0 in c:\\users\\natek\\anaconda3\\envs\\learn-env\\lib\\site-packages (from tweepy) (2.28.1)\n",
      "Requirement already satisfied: requests-oauthlib<2,>=1.2.0 in c:\\users\\natek\\anaconda3\\envs\\learn-env\\lib\\site-packages (from tweepy) (1.3.0)\n",
      "Collecting oauthlib<4,>=3.2.0\n",
      "  Using cached oauthlib-3.2.2-py3-none-any.whl (151 kB)\n",
      "Requirement already satisfied: certifi>=2017.4.17 in c:\\users\\natek\\anaconda3\\envs\\learn-env\\lib\\site-packages (from requests<3,>=2.27.0->tweepy) (2022.9.24)\n",
      "Requirement already satisfied: charset-normalizer<3,>=2 in c:\\users\\natek\\anaconda3\\envs\\learn-env\\lib\\site-packages (from requests<3,>=2.27.0->tweepy) (2.1.1)\n",
      "Requirement already satisfied: urllib3<1.27,>=1.21.1 in c:\\users\\natek\\anaconda3\\envs\\learn-env\\lib\\site-packages (from requests<3,>=2.27.0->tweepy) (1.26.13)\n",
      "Requirement already satisfied: idna<4,>=2.5 in c:\\users\\natek\\anaconda3\\envs\\learn-env\\lib\\site-packages (from requests<3,>=2.27.0->tweepy) (2.10)\n",
      "Installing collected packages: oauthlib, tweepy\n",
      "  Attempting uninstall: oauthlib\n",
      "    Found existing installation: oauthlib 3.1.0\n",
      "    Uninstalling oauthlib-3.1.0:\n",
      "      Successfully uninstalled oauthlib-3.1.0\n",
      "Successfully installed oauthlib-3.2.2 tweepy-4.12.1\n"
     ]
    }
   ],
   "source": [
    "! pip install tweepy"
   ]
  },
  {
   "cell_type": "code",
   "execution_count": 45,
   "metadata": {
    "ExecuteTime": {
     "end_time": "2023-02-01T03:48:54.047828Z",
     "start_time": "2023-02-01T03:48:54.031070Z"
    }
   },
   "outputs": [],
   "source": [
    "def get_tweets(username, class_, number_of_tweets):\n",
    "\n",
    "#     consumer_key = \"bwQ3SfxlP1wWzx3LONLf8Odxk\"  # same as api key\n",
    "#     consumer_secret = \"l576alTWTz1FvjMu9jpobZXZUZ844KbvPSUs4kcAx6QEFtckK5\"  # same as api secret\n",
    "#     access_key = \"1614719889331167239-srB1E3ps5TPvhbWr9FHCltE0DBns6k\"\n",
    "#     access_secret = \"Z4EcT0lPxsmNMQgCtgaso04GV6BDuNV8n3SqxiPJOSrxn\"\n",
    "    bearer_key = 'AAAAAAAAAAAAAAAAAAAAAAP3lAEAAAAAWiRYIS1QJmco7YZB4oL%2BhLg1R3c%3DmvYmGNwcKhY145AcnvJzFaJlMZ2G7aeovV9VFB5qG9NiNkizEm'\n",
    "    client = tweepy.Client(bearer_token=bearer_key)\n",
    "    user_id = client.get_user(username=username).data.id\n",
    "\n",
    "    tweets = []\n",
    "    for tweet in tweepy.Paginator(client.get_users_tweets, user_id, tweet_fields=['created_at', 'author_id'],expansions=[''], max_results=100, exclude=['replies']).flatten(limit=number_of_tweets):\n",
    "        text = \"\".join(i for i in tweet.text if i in string.printable)\n",
    "        text = text.replace(\"\\n\", \" \")\n",
    "        tweets.append({\n",
    "            \"user_name\"  : str(username),\n",
    "            'class'      : str(class_),\n",
    "            \"id\"         : str(tweet.id),\n",
    "            \"text\"       : str(text),\n",
    "            \"author_id\"  : str(tweet.author_id),\n",
    "            \"created_at\" : str(tweet.created_at)\n",
    "        })\n",
    "    return tweets"
   ]
  },
  {
   "cell_type": "code",
   "execution_count": 113,
   "metadata": {
    "ExecuteTime": {
     "end_time": "2023-02-01T05:04:49.788397Z",
     "start_time": "2023-02-01T05:04:49.778459Z"
    }
   },
   "outputs": [],
   "source": [
    "tweet_list_file = 'tweet_list.csv'\n",
    "def append_to_tweet_file(tweets):\n",
    "    field_names = ['user_name','class','id','text','author_id', 'created_at']\n",
    "    if not os.path.exists(tweet_list_file):\n",
    "        with open(tweet_list_file, 'a') as csv_file:\n",
    "            writer = csv.writer(csv_file, quoting=csv.QUOTE_NONNUMERIC) \n",
    "            writer.writerow(field_names)\n",
    "            \n",
    "    with open(tweet_list_file, 'a') as csv_file:\n",
    "        writer = csv.writer(csv_file, quoting=csv.QUOTE_NONNUMERIC) \n",
    "        for t in tweets:\n",
    "            writer.writerow([t['user_name'], t['class'], t['id'], t['text'], t['author_id'], t['created_at']])"
   ]
  },
  {
   "cell_type": "code",
   "execution_count": 117,
   "metadata": {
    "ExecuteTime": {
     "end_time": "2023-02-01T05:05:33.469744Z",
     "start_time": "2023-02-01T05:05:33.442763Z"
    },
    "scrolled": true
   },
   "outputs": [
    {
     "data": {
      "text/html": [
       "<div>\n",
       "<style scoped>\n",
       "    .dataframe tbody tr th:only-of-type {\n",
       "        vertical-align: middle;\n",
       "    }\n",
       "\n",
       "    .dataframe tbody tr th {\n",
       "        vertical-align: top;\n",
       "    }\n",
       "\n",
       "    .dataframe thead th {\n",
       "        text-align: right;\n",
       "    }\n",
       "</style>\n",
       "<table border=\"1\" class=\"dataframe\">\n",
       "  <thead>\n",
       "    <tr style=\"text-align: right;\">\n",
       "      <th></th>\n",
       "      <th>user_name</th>\n",
       "      <th>class</th>\n",
       "      <th>id</th>\n",
       "      <th>text</th>\n",
       "      <th>author_id</th>\n",
       "      <th>created_at</th>\n",
       "    </tr>\n",
       "  </thead>\n",
       "  <tbody>\n",
       "    <tr>\n",
       "      <th>0</th>\n",
       "      <td>tedcruz</td>\n",
       "      <td>Politics - Conservative</td>\n",
       "      <td>1620645117114859520</td>\n",
       "      <td>RT @FAIRImmigration: Mayorkas should have been...</td>\n",
       "      <td>23022687</td>\n",
       "      <td>2023-02-01 04:48:00+00:00</td>\n",
       "    </tr>\n",
       "    <tr>\n",
       "      <th>1</th>\n",
       "      <td>tedcruz</td>\n",
       "      <td>Politics - Conservative</td>\n",
       "      <td>1620644262953246725</td>\n",
       "      <td>RT @NGAUS1878: Ted Cruz to reintroduce bill re...</td>\n",
       "      <td>23022687</td>\n",
       "      <td>2023-02-01 04:44:37+00:00</td>\n",
       "    </tr>\n",
       "    <tr>\n",
       "      <th>2</th>\n",
       "      <td>tedcruz</td>\n",
       "      <td>Politics - Conservative</td>\n",
       "      <td>1620643304089219072</td>\n",
       "      <td>https://t.co/p51K8GKySA</td>\n",
       "      <td>23022687</td>\n",
       "      <td>2023-02-01 04:40:48+00:00</td>\n",
       "    </tr>\n",
       "    <tr>\n",
       "      <th>3</th>\n",
       "      <td>tedcruz</td>\n",
       "      <td>Politics - Conservative</td>\n",
       "      <td>1620645117114859520</td>\n",
       "      <td>RT @FAIRImmigration: Mayorkas should have been...</td>\n",
       "      <td>23022687</td>\n",
       "      <td>2023-02-01 04:48:00+00:00</td>\n",
       "    </tr>\n",
       "    <tr>\n",
       "      <th>4</th>\n",
       "      <td>tedcruz</td>\n",
       "      <td>Politics - Conservative</td>\n",
       "      <td>1620644262953246725</td>\n",
       "      <td>RT @NGAUS1878: Ted Cruz to reintroduce bill re...</td>\n",
       "      <td>23022687</td>\n",
       "      <td>2023-02-01 04:44:37+00:00</td>\n",
       "    </tr>\n",
       "    <tr>\n",
       "      <th>5</th>\n",
       "      <td>tedcruz</td>\n",
       "      <td>Politics - Conservative</td>\n",
       "      <td>1620643304089219072</td>\n",
       "      <td>https://t.co/p51K8GKySA</td>\n",
       "      <td>23022687</td>\n",
       "      <td>2023-02-01 04:40:48+00:00</td>\n",
       "    </tr>\n",
       "  </tbody>\n",
       "</table>\n",
       "</div>"
      ],
      "text/plain": [
       "  user_name                    class                   id  \\\n",
       "0   tedcruz  Politics - Conservative  1620645117114859520   \n",
       "1   tedcruz  Politics - Conservative  1620644262953246725   \n",
       "2   tedcruz  Politics - Conservative  1620643304089219072   \n",
       "3   tedcruz  Politics - Conservative  1620645117114859520   \n",
       "4   tedcruz  Politics - Conservative  1620644262953246725   \n",
       "5   tedcruz  Politics - Conservative  1620643304089219072   \n",
       "\n",
       "                                                text  author_id  \\\n",
       "0  RT @FAIRImmigration: Mayorkas should have been...   23022687   \n",
       "1  RT @NGAUS1878: Ted Cruz to reintroduce bill re...   23022687   \n",
       "2                            https://t.co/p51K8GKySA   23022687   \n",
       "3  RT @FAIRImmigration: Mayorkas should have been...   23022687   \n",
       "4  RT @NGAUS1878: Ted Cruz to reintroduce bill re...   23022687   \n",
       "5                            https://t.co/p51K8GKySA   23022687   \n",
       "\n",
       "                  created_at  \n",
       "0  2023-02-01 04:48:00+00:00  \n",
       "1  2023-02-01 04:44:37+00:00  \n",
       "2  2023-02-01 04:40:48+00:00  \n",
       "3  2023-02-01 04:48:00+00:00  \n",
       "4  2023-02-01 04:44:37+00:00  \n",
       "5  2023-02-01 04:40:48+00:00  "
      ]
     },
     "execution_count": 117,
     "metadata": {},
     "output_type": "execute_result"
    }
   ],
   "source": [
    "tweet_list_df = pd.read_csv(tweet_list_file)\n",
    "tweet_list_df"
   ]
  },
  {
   "cell_type": "markdown",
   "metadata": {},
   "source": [
    "Imports"
   ]
  },
  {
   "cell_type": "code",
   "execution_count": 194,
   "metadata": {
    "ExecuteTime": {
     "end_time": "2023-02-01T05:49:40.010057Z",
     "start_time": "2023-02-01T05:49:39.992980Z"
    }
   },
   "outputs": [],
   "source": [
    "from os.path import exists\n",
    "import tweepy\n",
    "import csv\n",
    "import pandas as pd\n",
    "import string\n",
    "from time import sleep"
   ]
  },
  {
   "cell_type": "markdown",
   "metadata": {},
   "source": [
    "Get original list of accounts from CSV file and load it into a dataframe"
   ]
  },
  {
   "cell_type": "code",
   "execution_count": 132,
   "metadata": {
    "ExecuteTime": {
     "end_time": "2023-02-01T05:18:58.732950Z",
     "start_time": "2023-02-01T05:18:58.726927Z"
    },
    "scrolled": true
   },
   "outputs": [],
   "source": [
    "account_list_file = \"accounts.csv\"\n",
    "\n",
    "def get_account_list_from_file():\n",
    "    # Get list of accounts from CSV file\n",
    "    df_accounts = pd.read_csv(account_list_file)\n",
    "\n",
    "    # Create a dataframe from the file contents\n",
    "    df_accounts.columns = [n.strip() for n in df_accounts.columns]\n",
    "    df_accounts['Count_Plan'] = df_accounts['Count_Plan'].astype(int)\n",
    "    df_accounts['Count_Actual'] = df_accounts['Count_Actual'].astype(int)\n",
    "    df_accounts['Done'] = df_accounts['Done'].astype(bool)\n",
    "    \n",
    "    # Return the dataframe\n",
    "    return df_accounts\n",
    "\n",
    "def save_account_list_to_file():\n",
    "    account_list.to_csv(account_list_file, index=False)"
   ]
  },
  {
   "cell_type": "code",
   "execution_count": 77,
   "metadata": {
    "ExecuteTime": {
     "end_time": "2023-02-01T04:10:34.594634Z",
     "start_time": "2023-02-01T04:10:34.584275Z"
    }
   },
   "outputs": [],
   "source": [
    "# Rare to use this\n",
    "# save_account_list_to_file(account_list, account_list_file)"
   ]
  },
  {
   "cell_type": "code",
   "execution_count": 202,
   "metadata": {
    "ExecuteTime": {
     "end_time": "2023-02-01T06:03:21.728914Z",
     "start_time": "2023-02-01T06:03:21.707969Z"
    }
   },
   "outputs": [
    {
     "data": {
      "text/html": [
       "<div>\n",
       "<style scoped>\n",
       "    .dataframe tbody tr th:only-of-type {\n",
       "        vertical-align: middle;\n",
       "    }\n",
       "\n",
       "    .dataframe tbody tr th {\n",
       "        vertical-align: top;\n",
       "    }\n",
       "\n",
       "    .dataframe thead th {\n",
       "        text-align: right;\n",
       "    }\n",
       "</style>\n",
       "<table border=\"1\" class=\"dataframe\">\n",
       "  <thead>\n",
       "    <tr style=\"text-align: right;\">\n",
       "      <th></th>\n",
       "      <th>Twitter handle</th>\n",
       "      <th>Class</th>\n",
       "      <th>Count_Plan</th>\n",
       "      <th>Count_Actual</th>\n",
       "      <th>Done</th>\n",
       "    </tr>\n",
       "  </thead>\n",
       "  <tbody>\n",
       "    <tr>\n",
       "      <th>0</th>\n",
       "      <td>BennieGThompson</td>\n",
       "      <td>Politics - Liberal</td>\n",
       "      <td>75</td>\n",
       "      <td>75</td>\n",
       "      <td>True</td>\n",
       "    </tr>\n",
       "    <tr>\n",
       "      <th>1</th>\n",
       "      <td>BettyMcCollum04</td>\n",
       "      <td>Politics - Liberal</td>\n",
       "      <td>75</td>\n",
       "      <td>75</td>\n",
       "      <td>True</td>\n",
       "    </tr>\n",
       "    <tr>\n",
       "      <th>2</th>\n",
       "      <td>BillPascrell</td>\n",
       "      <td>Politics - Liberal</td>\n",
       "      <td>75</td>\n",
       "      <td>75</td>\n",
       "      <td>True</td>\n",
       "    </tr>\n",
       "    <tr>\n",
       "      <th>3</th>\n",
       "      <td>BobbyScott</td>\n",
       "      <td>Politics - Liberal</td>\n",
       "      <td>75</td>\n",
       "      <td>75</td>\n",
       "      <td>True</td>\n",
       "    </tr>\n",
       "    <tr>\n",
       "      <th>4</th>\n",
       "      <td>BradSherman</td>\n",
       "      <td>Politics - Liberal</td>\n",
       "      <td>75</td>\n",
       "      <td>75</td>\n",
       "      <td>True</td>\n",
       "    </tr>\n",
       "    <tr>\n",
       "      <th>...</th>\n",
       "      <td>...</td>\n",
       "      <td>...</td>\n",
       "      <td>...</td>\n",
       "      <td>...</td>\n",
       "      <td>...</td>\n",
       "    </tr>\n",
       "    <tr>\n",
       "      <th>596</th>\n",
       "      <td>NatGeoTravel</td>\n",
       "      <td>Travel</td>\n",
       "      <td>1500</td>\n",
       "      <td>0</td>\n",
       "      <td>False</td>\n",
       "    </tr>\n",
       "    <tr>\n",
       "      <th>597</th>\n",
       "      <td>nytimestravel</td>\n",
       "      <td>Travel</td>\n",
       "      <td>1500</td>\n",
       "      <td>0</td>\n",
       "      <td>False</td>\n",
       "    </tr>\n",
       "    <tr>\n",
       "      <th>598</th>\n",
       "      <td>lonelyplanet</td>\n",
       "      <td>Travel</td>\n",
       "      <td>1500</td>\n",
       "      <td>0</td>\n",
       "      <td>False</td>\n",
       "    </tr>\n",
       "    <tr>\n",
       "      <th>599</th>\n",
       "      <td>BBC_Travel</td>\n",
       "      <td>Travel</td>\n",
       "      <td>1500</td>\n",
       "      <td>0</td>\n",
       "      <td>False</td>\n",
       "    </tr>\n",
       "    <tr>\n",
       "      <th>600</th>\n",
       "      <td>travelandleisure</td>\n",
       "      <td>Travel</td>\n",
       "      <td>1500</td>\n",
       "      <td>0</td>\n",
       "      <td>False</td>\n",
       "    </tr>\n",
       "  </tbody>\n",
       "</table>\n",
       "<p>601 rows × 5 columns</p>\n",
       "</div>"
      ],
      "text/plain": [
       "       Twitter handle               Class  Count_Plan  Count_Actual   Done\n",
       "0     BennieGThompson  Politics - Liberal          75            75   True\n",
       "1     BettyMcCollum04  Politics - Liberal          75            75   True\n",
       "2        BillPascrell  Politics - Liberal          75            75   True\n",
       "3          BobbyScott  Politics - Liberal          75            75   True\n",
       "4         BradSherman  Politics - Liberal          75            75   True\n",
       "..                ...                 ...         ...           ...    ...\n",
       "596      NatGeoTravel              Travel        1500             0  False\n",
       "597     nytimestravel              Travel        1500             0  False\n",
       "598      lonelyplanet              Travel        1500             0  False\n",
       "599        BBC_Travel              Travel        1500             0  False\n",
       "600  travelandleisure              Travel        1500             0  False\n",
       "\n",
       "[601 rows x 5 columns]"
      ]
     },
     "execution_count": 202,
     "metadata": {},
     "output_type": "execute_result"
    }
   ],
   "source": [
    "account_list = get_account_list_from_file()\n",
    "account_list"
   ]
  },
  {
   "cell_type": "code",
   "execution_count": 268,
   "metadata": {
    "ExecuteTime": {
     "end_time": "2023-02-01T07:53:15.170716Z",
     "start_time": "2023-02-01T07:53:15.156029Z"
    }
   },
   "outputs": [],
   "source": [
    "def reset_account_list_done():\n",
    "    account_list['Done'] = False\n",
    "    account_list['Count_Actual'] = 0\n",
    "    save_account_list_to_file()\n",
    "#reset_account_list_done()   # This should rarely be used and not accidentally (hence the comment)"
   ]
  },
  {
   "cell_type": "code",
   "execution_count": 229,
   "metadata": {
    "ExecuteTime": {
     "end_time": "2023-02-01T07:18:00.976270Z",
     "start_time": "2023-02-01T07:18:00.962452Z"
    }
   },
   "outputs": [],
   "source": [
    "def get_next_handle():\n",
    "    # Find first handle with a False in 'Done' \n",
    "    next_account = 0\n",
    "    total_accounts = len(account_list)\n",
    "    count = 0\n",
    "    \n",
    "    for n in range(0, total_accounts):\n",
    "        if account_list.loc[n, 'Done'] == False:\n",
    "            next_account = n\n",
    "            break\n",
    "\n",
    "    if account_list.loc[next_account, 'Done'] == False:\n",
    "        handle_to_get = account_list.loc[next_account,'Twitter handle']\n",
    "        class_assignment = account_list.loc[next_account,'Class']\n",
    "        number_to_get = account_list.loc[next_account,'Count_Plan']\n",
    "        print(f\"Requesting {next_account+1}/{total_accounts-1}: {handle_to_get}, {class_assignment}, {number_to_get} tweets.  \", end=\"\")\n",
    "\n",
    "        tweetlist = get_tweets(handle_to_get, class_assignment, number_to_get)\n",
    "        count = len(tweetlist)\n",
    "        if count > 0:\n",
    "            print(f\"  Received: {count} tweets.\")\n",
    "            append_to_tweet_file(tweetlist)\n",
    "            account_list.loc[next_account, \"Done\"] = True\n",
    "            account_list.loc[next_account, \"Count_Actual\"] = count\n",
    "            save_account_list_to_file()\n",
    "\n",
    "    return count  "
   ]
  },
  {
   "cell_type": "code",
   "execution_count": 264,
   "metadata": {
    "ExecuteTime": {
     "end_time": "2023-02-01T07:48:10.972441Z",
     "start_time": "2023-02-01T07:48:10.923568Z"
    }
   },
   "outputs": [
    {
     "data": {
      "text/plain": [
       "0"
      ]
     },
     "execution_count": 264,
     "metadata": {},
     "output_type": "execute_result"
    }
   ],
   "source": [
    "# Get account list from file\n",
    "account_list = get_account_list_from_file()\n",
    "\n",
    "get_next_handle()"
   ]
  },
  {
   "cell_type": "code",
   "execution_count": 262,
   "metadata": {
    "ExecuteTime": {
     "end_time": "2023-02-01T07:48:04.897894Z",
     "start_time": "2023-02-01T07:47:35.018396Z"
    },
    "scrolled": true
   },
   "outputs": [
    {
     "name": "stdout",
     "output_type": "stream",
     "text": [
      "Requesting 564/586: RepLCD, Politics - Conservative, 75 tweets.    Received: 53 tweets.\n"
     ]
    },
    {
     "ename": "KeyboardInterrupt",
     "evalue": "",
     "output_type": "error",
     "traceback": [
      "\u001b[1;31m---------------------------------------------------------------------------\u001b[0m",
      "\u001b[1;31mKeyboardInterrupt\u001b[0m                         Traceback (most recent call last)",
      "\u001b[1;32m<ipython-input-262-8115515f24dd>\u001b[0m in \u001b[0;36m<module>\u001b[1;34m\u001b[0m\n\u001b[0;32m      3\u001b[0m     \u001b[1;32mif\u001b[0m \u001b[0mcount\u001b[0m \u001b[1;33m==\u001b[0m \u001b[1;36m0\u001b[0m\u001b[1;33m:\u001b[0m\u001b[1;33m\u001b[0m\u001b[1;33m\u001b[0m\u001b[0m\n\u001b[0;32m      4\u001b[0m         \u001b[1;32mbreak\u001b[0m\u001b[1;33m\u001b[0m\u001b[1;33m\u001b[0m\u001b[0m\n\u001b[1;32m----> 5\u001b[1;33m     \u001b[0msleep\u001b[0m\u001b[1;33m(\u001b[0m\u001b[1;36m1\u001b[0m\u001b[1;33m)\u001b[0m\u001b[1;33m\u001b[0m\u001b[1;33m\u001b[0m\u001b[0m\n\u001b[0m",
      "\u001b[1;31mKeyboardInterrupt\u001b[0m: "
     ]
    }
   ],
   "source": [
    "for n in range(50):\n",
    "    get_next_handle()\n",
    "    if count == 0:\n",
    "        break\n",
    "    sleep(1)"
   ]
  },
  {
   "cell_type": "code",
   "execution_count": 265,
   "metadata": {
    "ExecuteTime": {
     "end_time": "2023-02-01T07:51:07.285172Z",
     "start_time": "2023-02-01T07:51:07.260096Z"
    }
   },
   "outputs": [
    {
     "data": {
      "text/html": [
       "<div>\n",
       "<style scoped>\n",
       "    .dataframe tbody tr th:only-of-type {\n",
       "        vertical-align: middle;\n",
       "    }\n",
       "\n",
       "    .dataframe tbody tr th {\n",
       "        vertical-align: top;\n",
       "    }\n",
       "\n",
       "    .dataframe thead th {\n",
       "        text-align: right;\n",
       "    }\n",
       "</style>\n",
       "<table border=\"1\" class=\"dataframe\">\n",
       "  <thead>\n",
       "    <tr style=\"text-align: right;\">\n",
       "      <th></th>\n",
       "      <th>Twitter handle</th>\n",
       "      <th>Class</th>\n",
       "      <th>Count_Plan</th>\n",
       "      <th>Count_Actual</th>\n",
       "      <th>Done</th>\n",
       "    </tr>\n",
       "  </thead>\n",
       "  <tbody>\n",
       "    <tr>\n",
       "      <th>0</th>\n",
       "      <td>TeamPelosi</td>\n",
       "      <td>Politics - Liberal</td>\n",
       "      <td>500</td>\n",
       "      <td>500</td>\n",
       "      <td>True</td>\n",
       "    </tr>\n",
       "    <tr>\n",
       "      <th>1</th>\n",
       "      <td>AOC</td>\n",
       "      <td>Politics - Liberal</td>\n",
       "      <td>500</td>\n",
       "      <td>500</td>\n",
       "      <td>True</td>\n",
       "    </tr>\n",
       "    <tr>\n",
       "      <th>2</th>\n",
       "      <td>staceyabrams</td>\n",
       "      <td>Politics - Liberal</td>\n",
       "      <td>500</td>\n",
       "      <td>500</td>\n",
       "      <td>True</td>\n",
       "    </tr>\n",
       "    <tr>\n",
       "      <th>3</th>\n",
       "      <td>ewarren</td>\n",
       "      <td>Politics - Liberal</td>\n",
       "      <td>500</td>\n",
       "      <td>500</td>\n",
       "      <td>True</td>\n",
       "    </tr>\n",
       "    <tr>\n",
       "      <th>4</th>\n",
       "      <td>SenWarren</td>\n",
       "      <td>Politics - Liberal</td>\n",
       "      <td>500</td>\n",
       "      <td>500</td>\n",
       "      <td>True</td>\n",
       "    </tr>\n",
       "    <tr>\n",
       "      <th>...</th>\n",
       "      <td>...</td>\n",
       "      <td>...</td>\n",
       "      <td>...</td>\n",
       "      <td>...</td>\n",
       "      <td>...</td>\n",
       "    </tr>\n",
       "    <tr>\n",
       "      <th>582</th>\n",
       "      <td>JacksonLeeTX18</td>\n",
       "      <td>Politics - Liberal</td>\n",
       "      <td>75</td>\n",
       "      <td>75</td>\n",
       "      <td>True</td>\n",
       "    </tr>\n",
       "    <tr>\n",
       "      <th>583</th>\n",
       "      <td>JoaquinCastrotx</td>\n",
       "      <td>Politics - Liberal</td>\n",
       "      <td>75</td>\n",
       "      <td>75</td>\n",
       "      <td>True</td>\n",
       "    </tr>\n",
       "    <tr>\n",
       "      <th>584</th>\n",
       "      <td>Kilili_Sablan</td>\n",
       "      <td>Politics - Liberal</td>\n",
       "      <td>75</td>\n",
       "      <td>75</td>\n",
       "      <td>True</td>\n",
       "    </tr>\n",
       "    <tr>\n",
       "      <th>585</th>\n",
       "      <td>NormaJTorres</td>\n",
       "      <td>Politics - Liberal</td>\n",
       "      <td>75</td>\n",
       "      <td>75</td>\n",
       "      <td>True</td>\n",
       "    </tr>\n",
       "    <tr>\n",
       "      <th>586</th>\n",
       "      <td>NydiaVelazquez</td>\n",
       "      <td>Politics - Liberal</td>\n",
       "      <td>75</td>\n",
       "      <td>75</td>\n",
       "      <td>True</td>\n",
       "    </tr>\n",
       "  </tbody>\n",
       "</table>\n",
       "<p>587 rows × 5 columns</p>\n",
       "</div>"
      ],
      "text/plain": [
       "      Twitter handle               Class  Count_Plan  Count_Actual  Done\n",
       "0         TeamPelosi  Politics - Liberal         500           500  True\n",
       "1                AOC  Politics - Liberal         500           500  True\n",
       "2       staceyabrams  Politics - Liberal         500           500  True\n",
       "3            ewarren  Politics - Liberal         500           500  True\n",
       "4          SenWarren  Politics - Liberal         500           500  True\n",
       "..               ...                 ...         ...           ...   ...\n",
       "582   JacksonLeeTX18  Politics - Liberal          75            75  True\n",
       "583  JoaquinCastrotx  Politics - Liberal          75            75  True\n",
       "584    Kilili_Sablan  Politics - Liberal          75            75  True\n",
       "585     NormaJTorres  Politics - Liberal          75            75  True\n",
       "586   NydiaVelazquez  Politics - Liberal          75            75  True\n",
       "\n",
       "[587 rows x 5 columns]"
      ]
     },
     "execution_count": 265,
     "metadata": {},
     "output_type": "execute_result"
    }
   ],
   "source": [
    "account_list"
   ]
  },
  {
   "cell_type": "markdown",
   "metadata": {},
   "source": []
  }
 ],
 "metadata": {
  "hide_input": false,
  "kernelspec": {
   "display_name": "Python 3",
   "language": "python",
   "name": "python3"
  },
  "language_info": {
   "codemirror_mode": {
    "name": "ipython",
    "version": 3
   },
   "file_extension": ".py",
   "mimetype": "text/x-python",
   "name": "python",
   "nbconvert_exporter": "python",
   "pygments_lexer": "ipython3",
   "version": "3.8.5"
  },
  "toc": {
   "base_numbering": 1,
   "nav_menu": {},
   "number_sections": true,
   "sideBar": true,
   "skip_h1_title": false,
   "title_cell": "Table of Contents",
   "title_sidebar": "Contents",
   "toc_cell": false,
   "toc_position": {},
   "toc_section_display": true,
   "toc_window_display": false
  },
  "varInspector": {
   "cols": {
    "lenName": 16,
    "lenType": 16,
    "lenVar": 40
   },
   "kernels_config": {
    "python": {
     "delete_cmd_postfix": "",
     "delete_cmd_prefix": "del ",
     "library": "var_list.py",
     "varRefreshCmd": "print(var_dic_list())"
    },
    "r": {
     "delete_cmd_postfix": ") ",
     "delete_cmd_prefix": "rm(",
     "library": "var_list.r",
     "varRefreshCmd": "cat(var_dic_list()) "
    }
   },
   "types_to_exclude": [
    "module",
    "function",
    "builtin_function_or_method",
    "instance",
    "_Feature"
   ],
   "window_display": false
  }
 },
 "nbformat": 4,
 "nbformat_minor": 4
}
