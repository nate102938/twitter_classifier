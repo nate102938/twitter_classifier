{
 "cells": [
  {
   "cell_type": "code",
   "execution_count": 1,
   "id": "e93d8154",
   "metadata": {
    "ExecuteTime": {
     "end_time": "2023-02-02T10:20:22.661798Z",
     "start_time": "2023-02-02T10:20:19.435240Z"
    }
   },
   "outputs": [
    {
     "name": "stderr",
     "output_type": "stream",
     "text": [
      "[nltk_data] Downloading package wordnet to\n",
      "[nltk_data]     C:\\Users\\natek\\AppData\\Roaming\\nltk_data...\n",
      "[nltk_data]   Package wordnet is already up-to-date!\n",
      "[nltk_data] Downloading package tagsets to\n",
      "[nltk_data]     C:\\Users\\natek\\AppData\\Roaming\\nltk_data...\n",
      "[nltk_data]   Package tagsets is already up-to-date!\n",
      "[nltk_data] Downloading package averaged_perceptron_tagger to\n",
      "[nltk_data]     C:\\Users\\natek\\AppData\\Roaming\\nltk_data...\n",
      "[nltk_data]   Package averaged_perceptron_tagger is already up-to-\n",
      "[nltk_data]       date!\n"
     ]
    }
   ],
   "source": [
    "import string\n",
    "import pandas as pd\n",
    "from nltk.corpus import stopwords\n",
    "from nltk.corpus import wordnet\n",
    "from nltk.tokenize import regexp_tokenize, word_tokenize, RegexpTokenizer\n",
    "import nltk\n",
    "from nltk import pos_tag\n",
    "from sklearn.naive_bayes import MultinomialNB\n",
    "from sklearn.model_selection import train_test_split, GridSearchCV, cross_val_score\n",
    "from sklearn.pipeline import Pipeline\n",
    "import numpy as np\n",
    "import matplotlib.pyplot as plt\n",
    "import seaborn as sns\n",
    "from sklearn.model_selection import train_test_split\n",
    "from sklearn.feature_extraction.text import CountVectorizer, TfidfVectorizer\n",
    "from sklearn.ensemble import RandomForestClassifier\n",
    "\n",
    "nltk.download('wordnet')\n",
    "nltk.download('tagsets')\n",
    "nltk.download('averaged_perceptron_tagger')\n",
    "\n",
    "pd.options.display.max_rows = 100\n",
    "pd.options.display.max_colwidth = 90"
   ]
  },
  {
   "cell_type": "code",
   "execution_count": 2,
   "id": "2a0d82a7",
   "metadata": {
    "ExecuteTime": {
     "end_time": "2023-02-02T10:20:24.514936Z",
     "start_time": "2023-02-02T10:20:23.926880Z"
    },
    "scrolled": false
   },
   "outputs": [
    {
     "name": "stdout",
     "output_type": "stream",
     "text": [
      "<class 'pandas.core.frame.DataFrame'>\n",
      "RangeIndex: 115511 entries, 0 to 115510\n",
      "Data columns (total 6 columns):\n",
      " #   Column      Non-Null Count   Dtype \n",
      "---  ------      --------------   ----- \n",
      " 0   user_name   115511 non-null  object\n",
      " 1   class       115511 non-null  object\n",
      " 2   id          115511 non-null  object\n",
      " 3   text        115511 non-null  object\n",
      " 4   author_id   115511 non-null  object\n",
      " 5   created_at  115511 non-null  object\n",
      "dtypes: object(6)\n",
      "memory usage: 5.3+ MB\n"
     ]
    },
    {
     "data": {
      "text/plain": [
       "WSJbusiness       1606\n",
       "Google             850\n",
       "9to5mac            850\n",
       "NASA               850\n",
       "markets            850\n",
       "                  ... \n",
       "JMoylanforGuam      10\n",
       "repvalhoyle         10\n",
       "NBCNetwork           7\n",
       "RepJeffJackson       2\n",
       "DNC                  1\n",
       "Name: user_name, Length: 586, dtype: int64"
      ]
     },
     "execution_count": 2,
     "metadata": {},
     "output_type": "execute_result"
    }
   ],
   "source": [
    "df = pd.read_csv('tweet_list2.csv')\n",
    "for n in df.columns:\n",
    "    df[n] = df[n].astype(str)\n",
    "df.dtypes\n",
    "df.info()\n",
    "df['user_name'].value_counts()"
   ]
  },
  {
   "cell_type": "markdown",
   "id": "8e9b3386",
   "metadata": {},
   "source": [
    "Check for duplicates"
   ]
  },
  {
   "cell_type": "code",
   "execution_count": 3,
   "id": "0e566648",
   "metadata": {
    "ExecuteTime": {
     "end_time": "2023-02-02T10:20:24.779377Z",
     "start_time": "2023-02-02T10:20:24.557805Z"
    }
   },
   "outputs": [
    {
     "data": {
      "text/plain": [
       "0         False\n",
       "1         False\n",
       "2         False\n",
       "3         False\n",
       "4         False\n",
       "          ...  \n",
       "115506    False\n",
       "115507    False\n",
       "115508    False\n",
       "115509    False\n",
       "115510    False\n",
       "Length: 115511, dtype: bool"
      ]
     },
     "execution_count": 3,
     "metadata": {},
     "output_type": "execute_result"
    }
   ],
   "source": [
    "df.duplicated()"
   ]
  },
  {
   "cell_type": "markdown",
   "id": "cc53478c",
   "metadata": {},
   "source": [
    "Drop duplicates"
   ]
  },
  {
   "cell_type": "code",
   "execution_count": 4,
   "id": "4725b7bc",
   "metadata": {
    "ExecuteTime": {
     "end_time": "2023-02-02T10:20:25.039212Z",
     "start_time": "2023-02-02T10:20:24.800284Z"
    }
   },
   "outputs": [
    {
     "name": "stdout",
     "output_type": "stream",
     "text": [
      "<class 'pandas.core.frame.DataFrame'>\n",
      "Int64Index: 114634 entries, 0 to 115510\n",
      "Data columns (total 6 columns):\n",
      " #   Column      Non-Null Count   Dtype \n",
      "---  ------      --------------   ----- \n",
      " 0   user_name   114634 non-null  object\n",
      " 1   class       114634 non-null  object\n",
      " 2   id          114634 non-null  object\n",
      " 3   text        114634 non-null  object\n",
      " 4   author_id   114634 non-null  object\n",
      " 5   created_at  114634 non-null  object\n",
      "dtypes: object(6)\n",
      "memory usage: 6.1+ MB\n"
     ]
    }
   ],
   "source": [
    "df = df.drop_duplicates()\n",
    "df.info()"
   ]
  },
  {
   "cell_type": "markdown",
   "id": "5040948c",
   "metadata": {},
   "source": [
    "Check class balance"
   ]
  },
  {
   "cell_type": "code",
   "execution_count": 5,
   "id": "af36859f",
   "metadata": {
    "ExecuteTime": {
     "end_time": "2023-02-02T10:20:25.102676Z",
     "start_time": "2023-02-02T10:20:25.077245Z"
    },
    "scrolled": true
   },
   "outputs": [
    {
     "data": {
      "text/plain": [
       "Politics - Conservative    31032\n",
       "Politics - Liberal         26998\n",
       "TV / movies                12007\n",
       "Sports                     12000\n",
       "Music                      11600\n",
       "Business and finance        8452\n",
       "Science / Technology        7550\n",
       "Travel                      4995\n",
       "Name: class, dtype: int64"
      ]
     },
     "execution_count": 5,
     "metadata": {},
     "output_type": "execute_result"
    }
   ],
   "source": [
    "df['class'].value_counts()"
   ]
  },
  {
   "cell_type": "markdown",
   "id": "bca5a80b",
   "metadata": {},
   "source": [
    "Pre-processing"
   ]
  },
  {
   "cell_type": "markdown",
   "id": "eea80ffd",
   "metadata": {},
   "source": [
    "Data transformation functions"
   ]
  },
  {
   "cell_type": "code",
   "execution_count": 6,
   "id": "86ae019e",
   "metadata": {
    "ExecuteTime": {
     "end_time": "2023-02-02T10:20:25.149314Z",
     "start_time": "2023-02-02T10:20:25.137321Z"
    }
   },
   "outputs": [],
   "source": [
    "def strip_rt_user(text):\n",
    "    if text[0:2] == \"RT\":\n",
    "        colon = text.find(\":\")\n",
    "        return text[colon+1:].lower()\n",
    "    else:\n",
    "        return text.lower()\n",
    "\n",
    "def get_rt_user(text):\n",
    "    if text[0:2] == \"RT\":\n",
    "        colon = text.find(\":\")\n",
    "        user = text[:colon]\n",
    "        at = user.find(\"@\")\n",
    "        return (user[at+1:]).lower()\n",
    "    else:\n",
    "        return \"\"\n",
    "\n",
    "def addHashTags(text):\n",
    "    return \"#\" + text + \"#\"\n",
    "    \n",
    "def strip_links(text):\n",
    "    tokens = text.split()\n",
    "    \n",
    "def get_wordnet_pos(treebank_tag):\n",
    "    '''\n",
    "    Translate nltk POS to wordnet tags\n",
    "    '''\n",
    "    if treebank_tag.startswith('J'):\n",
    "        return wordnet.ADJ\n",
    "    elif treebank_tag.startswith('V'):\n",
    "        return wordnet.VERB\n",
    "    elif treebank_tag.startswith('N'):\n",
    "        return wordnet.NOUN\n",
    "    elif treebank_tag.startswith('R'):\n",
    "        return wordnet.ADV\n",
    "    else:\n",
    "        return wordnet.NOUN\n",
    "\n",
    "def remove_characters(text, char_to_remove):\n",
    "    str1 = ''.join(x for x in text if not x in char_to_remove)\n",
    "    return str1\n",
    "\n",
    "def remove_punctuation(text):\n",
    "    text = remove_characters(text, string.punctuation)\n",
    "    return text\n"
   ]
  },
  {
   "cell_type": "code",
   "execution_count": 7,
   "id": "83fbd7cd",
   "metadata": {
    "ExecuteTime": {
     "end_time": "2023-02-02T10:20:25.191317Z",
     "start_time": "2023-02-02T10:20:25.166197Z"
    }
   },
   "outputs": [
    {
     "data": {
      "text/html": [
       "<div>\n",
       "<style scoped>\n",
       "    .dataframe tbody tr th:only-of-type {\n",
       "        vertical-align: middle;\n",
       "    }\n",
       "\n",
       "    .dataframe tbody tr th {\n",
       "        vertical-align: top;\n",
       "    }\n",
       "\n",
       "    .dataframe thead th {\n",
       "        text-align: right;\n",
       "    }\n",
       "</style>\n",
       "<table border=\"1\" class=\"dataframe\">\n",
       "  <thead>\n",
       "    <tr style=\"text-align: right;\">\n",
       "      <th></th>\n",
       "      <th>user_name</th>\n",
       "      <th>class</th>\n",
       "      <th>id</th>\n",
       "      <th>text</th>\n",
       "      <th>author_id</th>\n",
       "      <th>created_at</th>\n",
       "    </tr>\n",
       "  </thead>\n",
       "  <tbody>\n",
       "    <tr>\n",
       "      <th>0</th>\n",
       "      <td>BennieGThompson</td>\n",
       "      <td>Politics - Liberal</td>\n",
       "      <td>1620584010991939584</td>\n",
       "      <td>Today marks the 83rd anniversary of the first ever #SocialSecurity check, and Republic...</td>\n",
       "      <td>82453460</td>\n",
       "      <td>2023-02-01 00:45:11+00:00</td>\n",
       "    </tr>\n",
       "    <tr>\n",
       "      <th>1</th>\n",
       "      <td>BennieGThompson</td>\n",
       "      <td>Politics - Liberal</td>\n",
       "      <td>1620116251749269511</td>\n",
       "      <td>RT @VP: President Biden and I are just getting started. https://t.co/gLmNbpKGAN</td>\n",
       "      <td>82453460</td>\n",
       "      <td>2023-01-30 17:46:29+00:00</td>\n",
       "    </tr>\n",
       "    <tr>\n",
       "      <th>2</th>\n",
       "      <td>BennieGThompson</td>\n",
       "      <td>Politics - Liberal</td>\n",
       "      <td>1620116182618759168</td>\n",
       "      <td>RT @RepJeffries: We will never negotiate away the health, safety or economic well-bein...</td>\n",
       "      <td>82453460</td>\n",
       "      <td>2023-01-30 17:46:12+00:00</td>\n",
       "    </tr>\n",
       "    <tr>\n",
       "      <th>3</th>\n",
       "      <td>BennieGThompson</td>\n",
       "      <td>Politics - Liberal</td>\n",
       "      <td>1620116109864357888</td>\n",
       "      <td>https://t.co/Ze7ePCUJJ2</td>\n",
       "      <td>82453460</td>\n",
       "      <td>2023-01-30 17:45:55+00:00</td>\n",
       "    </tr>\n",
       "    <tr>\n",
       "      <th>4</th>\n",
       "      <td>BennieGThompson</td>\n",
       "      <td>Politics - Liberal</td>\n",
       "      <td>1620061909113516036</td>\n",
       "      <td>https://t.co/ley5hNsz0y https://t.co/RFdTeGXGO1</td>\n",
       "      <td>82453460</td>\n",
       "      <td>2023-01-30 14:10:33+00:00</td>\n",
       "    </tr>\n",
       "    <tr>\n",
       "      <th>...</th>\n",
       "      <td>...</td>\n",
       "      <td>...</td>\n",
       "      <td>...</td>\n",
       "      <td>...</td>\n",
       "      <td>...</td>\n",
       "      <td>...</td>\n",
       "    </tr>\n",
       "    <tr>\n",
       "      <th>115506</th>\n",
       "      <td>RepLCD</td>\n",
       "      <td>Politics - Conservative</td>\n",
       "      <td>1611786100825006080</td>\n",
       "      <td>It was great to catch up with my friend @RepFeenstra last night -- we're ready to get ...</td>\n",
       "      <td>1583530102297600000</td>\n",
       "      <td>2023-01-07 18:05:26+00:00</td>\n",
       "    </tr>\n",
       "    <tr>\n",
       "      <th>115507</th>\n",
       "      <td>RepLCD</td>\n",
       "      <td>Politics - Conservative</td>\n",
       "      <td>1611615029660639233</td>\n",
       "      <td>Thank you #OR05 for placing your trust in me to represent you in the halls of Congress...</td>\n",
       "      <td>1583530102297600000</td>\n",
       "      <td>2023-01-07 06:45:40+00:00</td>\n",
       "    </tr>\n",
       "    <tr>\n",
       "      <th>115508</th>\n",
       "      <td>RepLCD</td>\n",
       "      <td>Politics - Conservative</td>\n",
       "      <td>1610791524807081986</td>\n",
       "      <td>A small minority is preventing the House from doing the work we were sent here to do. ...</td>\n",
       "      <td>1583530102297600000</td>\n",
       "      <td>2023-01-05 00:13:21+00:00</td>\n",
       "    </tr>\n",
       "    <tr>\n",
       "      <th>115509</th>\n",
       "      <td>RepLCD</td>\n",
       "      <td>Politics - Conservative</td>\n",
       "      <td>1610408428052295681</td>\n",
       "      <td>As I take on the responsibility of serving #OR05, I'm very grateful to have my family ...</td>\n",
       "      <td>1583530102297600000</td>\n",
       "      <td>2023-01-03 22:51:03+00:00</td>\n",
       "    </tr>\n",
       "    <tr>\n",
       "      <th>115510</th>\n",
       "      <td>RepLCD</td>\n",
       "      <td>Politics - Conservative</td>\n",
       "      <td>1610321103058046978</td>\n",
       "      <td>Soon, I'll be sworn in to serve my first term in the U.S. House of Representatives. It...</td>\n",
       "      <td>1583530102297600000</td>\n",
       "      <td>2023-01-03 17:04:03+00:00</td>\n",
       "    </tr>\n",
       "  </tbody>\n",
       "</table>\n",
       "<p>114634 rows × 6 columns</p>\n",
       "</div>"
      ],
      "text/plain": [
       "              user_name                    class                   id  \\\n",
       "0       BennieGThompson       Politics - Liberal  1620584010991939584   \n",
       "1       BennieGThompson       Politics - Liberal  1620116251749269511   \n",
       "2       BennieGThompson       Politics - Liberal  1620116182618759168   \n",
       "3       BennieGThompson       Politics - Liberal  1620116109864357888   \n",
       "4       BennieGThompson       Politics - Liberal  1620061909113516036   \n",
       "...                 ...                      ...                  ...   \n",
       "115506           RepLCD  Politics - Conservative  1611786100825006080   \n",
       "115507           RepLCD  Politics - Conservative  1611615029660639233   \n",
       "115508           RepLCD  Politics - Conservative  1610791524807081986   \n",
       "115509           RepLCD  Politics - Conservative  1610408428052295681   \n",
       "115510           RepLCD  Politics - Conservative  1610321103058046978   \n",
       "\n",
       "                                                                                             text  \\\n",
       "0       Today marks the 83rd anniversary of the first ever #SocialSecurity check, and Republic...   \n",
       "1                 RT @VP: President Biden and I are just getting started. https://t.co/gLmNbpKGAN   \n",
       "2       RT @RepJeffries: We will never negotiate away the health, safety or economic well-bein...   \n",
       "3                                                                         https://t.co/Ze7ePCUJJ2   \n",
       "4                                                 https://t.co/ley5hNsz0y https://t.co/RFdTeGXGO1   \n",
       "...                                                                                           ...   \n",
       "115506  It was great to catch up with my friend @RepFeenstra last night -- we're ready to get ...   \n",
       "115507  Thank you #OR05 for placing your trust in me to represent you in the halls of Congress...   \n",
       "115508  A small minority is preventing the House from doing the work we were sent here to do. ...   \n",
       "115509  As I take on the responsibility of serving #OR05, I'm very grateful to have my family ...   \n",
       "115510  Soon, I'll be sworn in to serve my first term in the U.S. House of Representatives. It...   \n",
       "\n",
       "                  author_id                 created_at  \n",
       "0                  82453460  2023-02-01 00:45:11+00:00  \n",
       "1                  82453460  2023-01-30 17:46:29+00:00  \n",
       "2                  82453460  2023-01-30 17:46:12+00:00  \n",
       "3                  82453460  2023-01-30 17:45:55+00:00  \n",
       "4                  82453460  2023-01-30 14:10:33+00:00  \n",
       "...                     ...                        ...  \n",
       "115506  1583530102297600000  2023-01-07 18:05:26+00:00  \n",
       "115507  1583530102297600000  2023-01-07 06:45:40+00:00  \n",
       "115508  1583530102297600000  2023-01-05 00:13:21+00:00  \n",
       "115509  1583530102297600000  2023-01-03 22:51:03+00:00  \n",
       "115510  1583530102297600000  2023-01-03 17:04:03+00:00  \n",
       "\n",
       "[114634 rows x 6 columns]"
      ]
     },
     "execution_count": 7,
     "metadata": {},
     "output_type": "execute_result"
    }
   ],
   "source": [
    "df"
   ]
  },
  {
   "cell_type": "code",
   "execution_count": 19,
   "id": "f99cd3c9",
   "metadata": {
    "ExecuteTime": {
     "end_time": "2023-02-02T10:21:57.688022Z",
     "start_time": "2023-02-02T10:21:37.910096Z"
    },
    "scrolled": false
   },
   "outputs": [
    {
     "data": {
      "text/html": [
       "<div>\n",
       "<style scoped>\n",
       "    .dataframe tbody tr th:only-of-type {\n",
       "        vertical-align: middle;\n",
       "    }\n",
       "\n",
       "    .dataframe tbody tr th {\n",
       "        vertical-align: top;\n",
       "    }\n",
       "\n",
       "    .dataframe thead th {\n",
       "        text-align: right;\n",
       "    }\n",
       "</style>\n",
       "<table border=\"1\" class=\"dataframe\">\n",
       "  <thead>\n",
       "    <tr style=\"text-align: right;\">\n",
       "      <th></th>\n",
       "      <th>user_name</th>\n",
       "      <th>class</th>\n",
       "      <th>id</th>\n",
       "      <th>text</th>\n",
       "      <th>author_id</th>\n",
       "      <th>created_at</th>\n",
       "      <th>text2</th>\n",
       "      <th>RT_user</th>\n",
       "      <th>RT_user#</th>\n",
       "      <th>word_count</th>\n",
       "      <th>text3</th>\n",
       "    </tr>\n",
       "  </thead>\n",
       "  <tbody>\n",
       "    <tr>\n",
       "      <th>0</th>\n",
       "      <td>BennieGThompson</td>\n",
       "      <td>Politics - Liberal</td>\n",
       "      <td>1620584010991939584</td>\n",
       "      <td>Today marks the 83rd anniversary of the first ever #SocialSecurity check, and Republic...</td>\n",
       "      <td>82453460</td>\n",
       "      <td>2023-02-01 00:45:11+00:00</td>\n",
       "      <td>today mark 83rd anniversari first ever socialsecur check republican celebr tri vital p...</td>\n",
       "      <td></td>\n",
       "      <td></td>\n",
       "      <td>156</td>\n",
       "      <td>[today, mark, 83rd, anniversari, first, ever, socialsecur, check, republican, celebr, ...</td>\n",
       "    </tr>\n",
       "    <tr>\n",
       "      <th>1</th>\n",
       "      <td>BennieGThompson</td>\n",
       "      <td>Politics - Liberal</td>\n",
       "      <td>1620116251749269511</td>\n",
       "      <td>RT @VP: President Biden and I are just getting started. https://t.co/gLmNbpKGAN</td>\n",
       "      <td>82453460</td>\n",
       "      <td>2023-01-30 17:46:29+00:00</td>\n",
       "      <td>presid biden get start #vp#</td>\n",
       "      <td>vp</td>\n",
       "      <td>#vp#</td>\n",
       "      <td>27</td>\n",
       "      <td>[presid, biden, get, start, #vp#]</td>\n",
       "    </tr>\n",
       "    <tr>\n",
       "      <th>2</th>\n",
       "      <td>BennieGThompson</td>\n",
       "      <td>Politics - Liberal</td>\n",
       "      <td>1620116182618759168</td>\n",
       "      <td>RT @RepJeffries: We will never negotiate away the health, safety or economic well-bein...</td>\n",
       "      <td>82453460</td>\n",
       "      <td>2023-01-30 17:46:12+00:00</td>\n",
       "      <td>never negoti away health safeti econom wellb american peopl #repjeffries#</td>\n",
       "      <td>repjeffries</td>\n",
       "      <td>#repjeffries#</td>\n",
       "      <td>73</td>\n",
       "      <td>[never, negoti, away, health, safeti, econom, wellb, american, peopl, #repjeffries#]</td>\n",
       "    </tr>\n",
       "    <tr>\n",
       "      <th>3</th>\n",
       "      <td>BennieGThompson</td>\n",
       "      <td>Politics - Liberal</td>\n",
       "      <td>1619330126361300993</td>\n",
       "      <td>The footage of Tyre Nichols killing is painful. I send my condolences to his family an...</td>\n",
       "      <td>82453460</td>\n",
       "      <td>2023-01-28 13:42:42+00:00</td>\n",
       "      <td>footag tyre nichol kill pain send condol famili friend justic must serv respons</td>\n",
       "      <td></td>\n",
       "      <td></td>\n",
       "      <td>80</td>\n",
       "      <td>[footag, tyre, nichol, kill, pain, send, condol, famili, friend, justic, must, serv, r...</td>\n",
       "    </tr>\n",
       "    <tr>\n",
       "      <th>4</th>\n",
       "      <td>BennieGThompson</td>\n",
       "      <td>Politics - Liberal</td>\n",
       "      <td>1619327606159179777</td>\n",
       "      <td>RT @CBCInstitute: Happy Birthday to our Chairman Congressman @BennieGThompson! In your...</td>\n",
       "      <td>82453460</td>\n",
       "      <td>2023-01-28 13:32:41+00:00</td>\n",
       "      <td>happi birthday chairman congressman benniegthompson 30th congress celebr incred #cbcin...</td>\n",
       "      <td>cbcinstitute</td>\n",
       "      <td>#cbcinstitute#</td>\n",
       "      <td>94</td>\n",
       "      <td>[happi, birthday, chairman, congressman, benniegthompson, 30th, congress, celebr, incr...</td>\n",
       "    </tr>\n",
       "    <tr>\n",
       "      <th>...</th>\n",
       "      <td>...</td>\n",
       "      <td>...</td>\n",
       "      <td>...</td>\n",
       "      <td>...</td>\n",
       "      <td>...</td>\n",
       "      <td>...</td>\n",
       "      <td>...</td>\n",
       "      <td>...</td>\n",
       "      <td>...</td>\n",
       "      <td>...</td>\n",
       "      <td>...</td>\n",
       "    </tr>\n",
       "    <tr>\n",
       "      <th>112412</th>\n",
       "      <td>RepLCD</td>\n",
       "      <td>Politics - Conservative</td>\n",
       "      <td>1611786100825006080</td>\n",
       "      <td>It was great to catch up with my friend @RepFeenstra last night -- we're ready to get ...</td>\n",
       "      <td>1583530102297600000</td>\n",
       "      <td>2023-01-07 18:05:26+00:00</td>\n",
       "      <td>great catch friend repfeenstra last night were readi work deliv promis made american p...</td>\n",
       "      <td></td>\n",
       "      <td></td>\n",
       "      <td>101</td>\n",
       "      <td>[great, catch, friend, repfeenstra, last, night, were, readi, work, deliv, promis, mad...</td>\n",
       "    </tr>\n",
       "    <tr>\n",
       "      <th>112413</th>\n",
       "      <td>RepLCD</td>\n",
       "      <td>Politics - Conservative</td>\n",
       "      <td>1611615029660639233</td>\n",
       "      <td>Thank you #OR05 for placing your trust in me to represent you in the halls of Congress...</td>\n",
       "      <td>1583530102297600000</td>\n",
       "      <td>2023-01-07 06:45:40+00:00</td>\n",
       "      <td>thank or05 place trust repres hall congress solemn promis oregonian carri constitut du...</td>\n",
       "      <td></td>\n",
       "      <td></td>\n",
       "      <td>128</td>\n",
       "      <td>[thank, or05, place, trust, repres, hall, congress, solemn, promis, oregonian, carri, ...</td>\n",
       "    </tr>\n",
       "    <tr>\n",
       "      <th>112414</th>\n",
       "      <td>RepLCD</td>\n",
       "      <td>Politics - Conservative</td>\n",
       "      <td>1610791524807081986</td>\n",
       "      <td>A small minority is preventing the House from doing the work we were sent here to do. ...</td>\n",
       "      <td>1583530102297600000</td>\n",
       "      <td>2023-01-05 00:13:21+00:00</td>\n",
       "      <td>small minor prevent hous work sent must economi back track work cost live control impr...</td>\n",
       "      <td></td>\n",
       "      <td></td>\n",
       "      <td>130</td>\n",
       "      <td>[small, minor, prevent, hous, work, sent, must, economi, back, track, work, cost, live...</td>\n",
       "    </tr>\n",
       "    <tr>\n",
       "      <th>112415</th>\n",
       "      <td>RepLCD</td>\n",
       "      <td>Politics - Conservative</td>\n",
       "      <td>1610408428052295681</td>\n",
       "      <td>As I take on the responsibility of serving #OR05, I'm very grateful to have my family ...</td>\n",
       "      <td>1583530102297600000</td>\n",
       "      <td>2023-01-03 22:51:03+00:00</td>\n",
       "      <td>take respons serv or05 grate famili side</td>\n",
       "      <td></td>\n",
       "      <td></td>\n",
       "      <td>41</td>\n",
       "      <td>[take, respons, serv, or05, grate, famili, side]</td>\n",
       "    </tr>\n",
       "    <tr>\n",
       "      <th>112416</th>\n",
       "      <td>RepLCD</td>\n",
       "      <td>Politics - Conservative</td>\n",
       "      <td>1610321103058046978</td>\n",
       "      <td>Soon, I'll be sworn in to serve my first term in the U.S. House of Representatives. It...</td>\n",
       "      <td>1583530102297600000</td>\n",
       "      <td>2023-01-03 17:04:03+00:00</td>\n",
       "      <td>soon sworn serv first term hous repres truli honor readi ground run offic belong good ...</td>\n",
       "      <td></td>\n",
       "      <td></td>\n",
       "      <td>113</td>\n",
       "      <td>[soon, sworn, serv, first, term, hous, repres, truli, honor, readi, ground, run, offic...</td>\n",
       "    </tr>\n",
       "  </tbody>\n",
       "</table>\n",
       "<p>112417 rows × 11 columns</p>\n",
       "</div>"
      ],
      "text/plain": [
       "              user_name                    class                   id  \\\n",
       "0       BennieGThompson       Politics - Liberal  1620584010991939584   \n",
       "1       BennieGThompson       Politics - Liberal  1620116251749269511   \n",
       "2       BennieGThompson       Politics - Liberal  1620116182618759168   \n",
       "3       BennieGThompson       Politics - Liberal  1619330126361300993   \n",
       "4       BennieGThompson       Politics - Liberal  1619327606159179777   \n",
       "...                 ...                      ...                  ...   \n",
       "112412           RepLCD  Politics - Conservative  1611786100825006080   \n",
       "112413           RepLCD  Politics - Conservative  1611615029660639233   \n",
       "112414           RepLCD  Politics - Conservative  1610791524807081986   \n",
       "112415           RepLCD  Politics - Conservative  1610408428052295681   \n",
       "112416           RepLCD  Politics - Conservative  1610321103058046978   \n",
       "\n",
       "                                                                                             text  \\\n",
       "0       Today marks the 83rd anniversary of the first ever #SocialSecurity check, and Republic...   \n",
       "1                 RT @VP: President Biden and I are just getting started. https://t.co/gLmNbpKGAN   \n",
       "2       RT @RepJeffries: We will never negotiate away the health, safety or economic well-bein...   \n",
       "3       The footage of Tyre Nichols killing is painful. I send my condolences to his family an...   \n",
       "4       RT @CBCInstitute: Happy Birthday to our Chairman Congressman @BennieGThompson! In your...   \n",
       "...                                                                                           ...   \n",
       "112412  It was great to catch up with my friend @RepFeenstra last night -- we're ready to get ...   \n",
       "112413  Thank you #OR05 for placing your trust in me to represent you in the halls of Congress...   \n",
       "112414  A small minority is preventing the House from doing the work we were sent here to do. ...   \n",
       "112415  As I take on the responsibility of serving #OR05, I'm very grateful to have my family ...   \n",
       "112416  Soon, I'll be sworn in to serve my first term in the U.S. House of Representatives. It...   \n",
       "\n",
       "                  author_id                 created_at  \\\n",
       "0                  82453460  2023-02-01 00:45:11+00:00   \n",
       "1                  82453460  2023-01-30 17:46:29+00:00   \n",
       "2                  82453460  2023-01-30 17:46:12+00:00   \n",
       "3                  82453460  2023-01-28 13:42:42+00:00   \n",
       "4                  82453460  2023-01-28 13:32:41+00:00   \n",
       "...                     ...                        ...   \n",
       "112412  1583530102297600000  2023-01-07 18:05:26+00:00   \n",
       "112413  1583530102297600000  2023-01-07 06:45:40+00:00   \n",
       "112414  1583530102297600000  2023-01-05 00:13:21+00:00   \n",
       "112415  1583530102297600000  2023-01-03 22:51:03+00:00   \n",
       "112416  1583530102297600000  2023-01-03 17:04:03+00:00   \n",
       "\n",
       "                                                                                            text2  \\\n",
       "0       today mark 83rd anniversari first ever socialsecur check republican celebr tri vital p...   \n",
       "1                                                                     presid biden get start #vp#   \n",
       "2                       never negoti away health safeti econom wellb american peopl #repjeffries#   \n",
       "3                footag tyre nichol kill pain send condol famili friend justic must serv respons    \n",
       "4       happi birthday chairman congressman benniegthompson 30th congress celebr incred #cbcin...   \n",
       "...                                                                                           ...   \n",
       "112412  great catch friend repfeenstra last night were readi work deliv promis made american p...   \n",
       "112413  thank or05 place trust repres hall congress solemn promis oregonian carri constitut du...   \n",
       "112414  small minor prevent hous work sent must economi back track work cost live control impr...   \n",
       "112415                                                  take respons serv or05 grate famili side    \n",
       "112416  soon sworn serv first term hous repres truli honor readi ground run offic belong good ...   \n",
       "\n",
       "             RT_user        RT_user#  word_count  \\\n",
       "0                                            156   \n",
       "1                 vp            #vp#          27   \n",
       "2        repjeffries   #repjeffries#          73   \n",
       "3                                             80   \n",
       "4       cbcinstitute  #cbcinstitute#          94   \n",
       "...              ...             ...         ...   \n",
       "112412                                       101   \n",
       "112413                                       128   \n",
       "112414                                       130   \n",
       "112415                                        41   \n",
       "112416                                       113   \n",
       "\n",
       "                                                                                            text3  \n",
       "0       [today, mark, 83rd, anniversari, first, ever, socialsecur, check, republican, celebr, ...  \n",
       "1                                                               [presid, biden, get, start, #vp#]  \n",
       "2            [never, negoti, away, health, safeti, econom, wellb, american, peopl, #repjeffries#]  \n",
       "3       [footag, tyre, nichol, kill, pain, send, condol, famili, friend, justic, must, serv, r...  \n",
       "4       [happi, birthday, chairman, congressman, benniegthompson, 30th, congress, celebr, incr...  \n",
       "...                                                                                           ...  \n",
       "112412  [great, catch, friend, repfeenstra, last, night, were, readi, work, deliv, promis, mad...  \n",
       "112413  [thank, or05, place, trust, repres, hall, congress, solemn, promis, oregonian, carri, ...  \n",
       "112414  [small, minor, prevent, hous, work, sent, must, economi, back, track, work, cost, live...  \n",
       "112415                                           [take, respons, serv, or05, grate, famili, side]  \n",
       "112416  [soon, sworn, serv, first, term, hous, repres, truli, honor, readi, ground, run, offic...  \n",
       "\n",
       "[112417 rows x 11 columns]"
      ]
     },
     "execution_count": 19,
     "metadata": {},
     "output_type": "execute_result"
    }
   ],
   "source": [
    "df2 = df.copy()\n",
    "from nltk.stem import PorterStemmer\n",
    "from nltk.tokenize import word_tokenize\n",
    "from nltk.stem.snowball import SnowballStemmer\n",
    "\n",
    "# Constants \n",
    "min_word_size = 4\n",
    "min_word_count = 3\n",
    "\n",
    "# Make special user names and retweet names, and pull it out from the text tweet\n",
    "df2['text2'] = df2['text'].apply(strip_rt_user)\n",
    "df2['RT_user'] = df2['text'].apply(get_rt_user)\n",
    "df2['RT_user#'] = df2['RT_user'].apply(lambda x: addHashTags(x) if x != \"\" else \"\")\n",
    "\n",
    "# Lower case the text tweets\n",
    "df2['text2'] = df2['text2'].str.lower()\n",
    "\n",
    "# Strip out the meaningless links\n",
    "df2['text2'] = df2['text2'].apply(lambda x: \" \".join([n for n in x.split() if n[0:4] != \"http\"]))\n",
    "\n",
    "# Strip any excess white space\n",
    "df2['text2'] = df2['text2'].apply(lambda x: x.strip())\n",
    "\n",
    "# Take out stop words\n",
    "sw = set(stopwords.words('english'))\n",
    "sw.update(['amp'])\n",
    "df2['text2'] = df2['text2'].apply(lambda x: \" \".join([n for n in x.split() if n not in sw]))\n",
    "\n",
    "# Remove punctuation\n",
    "df2['text2'] = df2['text2'].apply(lambda x: remove_punctuation(x))\n",
    "\n",
    "# min length of characters for word\n",
    "df2['text2'] = df2['text2'].apply(lambda x: \" \".join([n for n in x.split() if len(n) >= min_word_size]))\n",
    "\n",
    "# Make sure we don't have any random numbers\n",
    "df2['text2'] = df2['text2'].apply(lambda x: \" \".join([n for n in x.split() if n.isnumeric() == False]))\n",
    "\n",
    "# Stem the words\n",
    "sb = SnowballStemmer(language='english')\n",
    "df2['text2'] = df2['text2'].apply(lambda x: \" \".join([sb.stem(n) for n in x.split()]))\n",
    "\n",
    "# Put it all together in a new column\n",
    "df2['text2'] = df2['text2'] + \" \" + df2['RT_user#']\n",
    "\n",
    "# Limit data to tweets that have greater than specific number of words\n",
    "df2['word_count'] = df2['text2'].apply(lambda x: len(x))\n",
    "df2 = df2[ df2['word_count'] >= min_word_count ]\n",
    "\n",
    "# Make a new column, tokenize the words\n",
    "df2['text3'] = df2['text2'].str.split()\n",
    "\n",
    "# Make a new df\n",
    "df3 = df2.copy()\n",
    "df3['text3'] = df3['text3'].apply(lambda x: np.nan if len(x) == 0 else x)\n",
    "df3 = df3.dropna().reset_index(drop=True) \n",
    "df3\n",
    "\n",
    "\n",
    "\n"
   ]
  },
  {
   "cell_type": "code",
   "execution_count": 20,
   "id": "0d088c4f",
   "metadata": {
    "ExecuteTime": {
     "end_time": "2023-02-02T10:21:57.935361Z",
     "start_time": "2023-02-02T10:21:57.766328Z"
    }
   },
   "outputs": [
    {
     "data": {
      "image/png": "[encoded data removed]",
      "text/plain": [
       "<Figure size 576x576 with 1 Axes>"
      ]
     },
     "metadata": {
      "needs_background": "light"
     },
     "output_type": "display_data"
    }
   ],
   "source": [
    "ax = df3['word_count'].plot.hist(figsize=(8,8), bins=20)"
   ]
  },
  {
   "cell_type": "markdown",
   "id": "8cd60b87",
   "metadata": {},
   "source": [
    "First try to predict Political affiliation.  Then move on to the others."
   ]
  },
  {
   "cell_type": "code",
   "execution_count": 21,
   "id": "ddf6e274",
   "metadata": {
    "ExecuteTime": {
     "end_time": "2023-02-02T10:21:58.044828Z",
     "start_time": "2023-02-02T10:21:58.015855Z"
    }
   },
   "outputs": [],
   "source": [
    "df3 = df3[(df3['class'] == 'Politics - Conservative') | (df3['class'] == 'Politics - Liberal')]\n",
    "# df3"
   ]
  },
  {
   "cell_type": "code",
   "execution_count": 22,
   "id": "f0c48246",
   "metadata": {
    "ExecuteTime": {
     "end_time": "2023-02-02T10:21:58.121819Z",
     "start_time": "2023-02-02T10:21:58.107892Z"
    }
   },
   "outputs": [
    {
     "name": "stderr",
     "output_type": "stream",
     "text": [
      "<ipython-input-22-adeaad1ad0a3>:3: SettingWithCopyWarning: \n",
      "A value is trying to be set on a copy of a slice from a DataFrame.\n",
      "Try using .loc[row_indexer,col_indexer] = value instead\n",
      "\n",
      "See the caveats in the documentation: https://pandas.pydata.org/pandas-docs/stable/user_guide/indexing.html#returning-a-view-versus-a-copy\n",
      "  df3['class_label'] = le.fit_transform(df3['class'])\n"
     ]
    }
   ],
   "source": [
    "from sklearn import preprocessing\n",
    "le = preprocessing.LabelEncoder()\n",
    "df3['class_label'] = le.fit_transform(df3['class'])"
   ]
  },
  {
   "cell_type": "code",
   "execution_count": 23,
   "id": "3f9973ab",
   "metadata": {
    "ExecuteTime": {
     "end_time": "2023-02-02T10:21:58.229483Z",
     "start_time": "2023-02-02T10:21:58.200886Z"
    },
    "scrolled": true
   },
   "outputs": [
    {
     "data": {
      "text/html": [
       "<div>\n",
       "<style scoped>\n",
       "    .dataframe tbody tr th:only-of-type {\n",
       "        vertical-align: middle;\n",
       "    }\n",
       "\n",
       "    .dataframe tbody tr th {\n",
       "        vertical-align: top;\n",
       "    }\n",
       "\n",
       "    .dataframe thead th {\n",
       "        text-align: right;\n",
       "    }\n",
       "</style>\n",
       "<table border=\"1\" class=\"dataframe\">\n",
       "  <thead>\n",
       "    <tr style=\"text-align: right;\">\n",
       "      <th></th>\n",
       "      <th></th>\n",
       "      <th>class</th>\n",
       "    </tr>\n",
       "    <tr>\n",
       "      <th>class</th>\n",
       "      <th>class_label</th>\n",
       "      <th></th>\n",
       "    </tr>\n",
       "  </thead>\n",
       "  <tbody>\n",
       "    <tr>\n",
       "      <th>Politics - Conservative</th>\n",
       "      <th>0</th>\n",
       "      <td>30453</td>\n",
       "    </tr>\n",
       "    <tr>\n",
       "      <th>Politics - Liberal</th>\n",
       "      <th>1</th>\n",
       "      <td>26824</td>\n",
       "    </tr>\n",
       "  </tbody>\n",
       "</table>\n",
       "</div>"
      ],
      "text/plain": [
       "                                     class\n",
       "class                   class_label       \n",
       "Politics - Conservative 0            30453\n",
       "Politics - Liberal      1            26824"
      ]
     },
     "execution_count": 23,
     "metadata": {},
     "output_type": "execute_result"
    }
   ],
   "source": [
    "labels = df3.groupby(['class', 'class_label'])['class',].count()\n",
    "labels"
   ]
  },
  {
   "cell_type": "code",
   "execution_count": 24,
   "id": "642a596a",
   "metadata": {
    "ExecuteTime": {
     "end_time": "2023-02-02T10:21:58.329595Z",
     "start_time": "2023-02-02T10:21:58.293864Z"
    }
   },
   "outputs": [],
   "source": [
    "X = df3['text3']\n",
    "y = df3['class_label']\n",
    "X_train, X_test, y_train, y_test = train_test_split(X, y, test_size=.65, stratify=y)"
   ]
  },
  {
   "cell_type": "code",
   "execution_count": 25,
   "id": "893e4f1f",
   "metadata": {
    "ExecuteTime": {
     "end_time": "2023-02-02T10:21:58.405981Z",
     "start_time": "2023-02-02T10:21:58.394998Z"
    }
   },
   "outputs": [
    {
     "data": {
      "text/plain": [
       "26512     [launch, small, busi, emerg, bridg, loan, program, million, avail, provid, shortterm, ...\n",
       "93754     [decis, made, show, want, seat, tabl, vote, right, respons, today, elect, plan, vote, ...\n",
       "5735      [jmbooyah, guardian, report, googl, data, collect, polici, could, endang, seek, abort,...\n",
       "93312              [housedemocrat, unit, togeth, alway, right, thing, american, peopl, #housedpcc#]\n",
       "100900                [excit, anoth, georgia, republican, housecommerc, welcom, team, reprickallen]\n",
       "                                                    ...                                            \n",
       "17554                           [poll, voter, believ, biden, classifi, doc, situat, major, scandal]\n",
       "23655                                                               [went, nuclear, #dineshdsouza#]\n",
       "21018     [parent, sasdschool, found, pornograph, book, gender, queer, school, librari, book, co...\n",
       "11275     [biden, econom, growth, stronger, expect, job, wage, past, month, inflat, gone, everi,...\n",
       "97363     [joebiden, enforc, feder, immigr, law, will, congressman, congbillposey, champion, #ag...\n",
       "Name: text3, Length: 20046, dtype: object"
      ]
     },
     "execution_count": 25,
     "metadata": {},
     "output_type": "execute_result"
    }
   ],
   "source": [
    "X_train"
   ]
  },
  {
   "cell_type": "code",
   "execution_count": 26,
   "id": "5d937396",
   "metadata": {
    "ExecuteTime": {
     "end_time": "2023-02-02T10:21:58.686939Z",
     "start_time": "2023-02-02T10:21:58.479970Z"
    }
   },
   "outputs": [],
   "source": [
    "# Import the relevant vectorizer class\n",
    "from sklearn.feature_extraction.text import TfidfVectorizer\n",
    "\n",
    "def dummy_fun(doc):\n",
    "    return doc\n",
    "\n",
    "# Instantiate a vectorizer with max_features=10\n",
    "# (we are using the default token pattern)\n",
    "tfidf = TfidfVectorizer(analyzer='word', tokenizer=dummy_fun, preprocessor=dummy_fun, token_pattern=None, max_features=8000)\n",
    "\n",
    "# Fit the vectorizer on X_train[\"text\"] and transform it\n",
    "X_train_vectorized = tfidf.fit_transform(X_train)\n",
    "\n",
    "# Visually inspect the vectorized data\n",
    "# pd.DataFrame.sparse.from_spmatrix(X_train_vectorized, columns=tfidf.get_feature_names())"
   ]
  },
  {
   "cell_type": "markdown",
   "id": "b0e85519",
   "metadata": {},
   "source": [
    "First try a Naive Bayes Classifier"
   ]
  },
  {
   "cell_type": "code",
   "execution_count": 27,
   "id": "219fb12a",
   "metadata": {
    "ExecuteTime": {
     "end_time": "2023-02-02T10:21:58.796147Z",
     "start_time": "2023-02-02T10:21:58.752817Z"
    },
    "scrolled": true
   },
   "outputs": [
    {
     "data": {
      "text/plain": [
       "0.7901818912434554"
      ]
     },
     "execution_count": 27,
     "metadata": {},
     "output_type": "execute_result"
    }
   ],
   "source": [
    "# Import relevant class and function\n",
    "from sklearn.naive_bayes import MultinomialNB\n",
    "from sklearn.model_selection import cross_val_score\n",
    "\n",
    "# Instantiate a MultinomialNB classifier\n",
    "baseline_model = MultinomialNB()\n",
    "\n",
    "# Evaluate the classifier on X_train_vectorized and y_train\n",
    "baseline_cv = cross_val_score(baseline_model, X_train_vectorized, y_train)\n",
    "baseline_cv.mean()"
   ]
  },
  {
   "cell_type": "code",
   "execution_count": 28,
   "id": "2661ffb6",
   "metadata": {
    "ExecuteTime": {
     "end_time": "2023-02-02T10:21:59.179419Z",
     "start_time": "2023-02-02T10:21:58.874633Z"
    },
    "scrolled": true
   },
   "outputs": [],
   "source": [
    "# Fit the vectorizer on X_train[\"text\"] and transform it\n",
    "X_test_vectorized = tfidf.transform(X_test)\n",
    "\n",
    "# Visually inspect the vectorized data\n",
    "# pd.DataFrame.sparse.from_spmatrix(X_test_vectorized, columns=tfidf.get_feature_names())"
   ]
  },
  {
   "cell_type": "code",
   "execution_count": 29,
   "id": "3bab5ccf",
   "metadata": {
    "ExecuteTime": {
     "end_time": "2023-02-02T10:21:59.319011Z",
     "start_time": "2023-02-02T10:21:59.244244Z"
    }
   },
   "outputs": [
    {
     "data": {
      "text/plain": [
       "0.7976951494022707"
      ]
     },
     "execution_count": 29,
     "metadata": {},
     "output_type": "execute_result"
    }
   ],
   "source": [
    "# Evaluate the classifier on X_train_vectorized and y_train\n",
    "baseline_cv = cross_val_score(baseline_model, X_test_vectorized, y_test)\n",
    "baseline_cv.mean()"
   ]
  },
  {
   "cell_type": "markdown",
   "id": "5560f29a",
   "metadata": {},
   "source": [
    "Random Forest Classifier"
   ]
  },
  {
   "cell_type": "code",
   "execution_count": 124,
   "id": "902aeed4",
   "metadata": {
    "ExecuteTime": {
     "end_time": "2023-02-02T10:10:02.079979Z",
     "start_time": "2023-02-02T10:09:35.010265Z"
    }
   },
   "outputs": [
    {
     "ename": "KeyboardInterrupt",
     "evalue": "",
     "output_type": "error",
     "traceback": [
      "\u001b[1;31m---------------------------------------------------------------------------\u001b[0m",
      "\u001b[1;31mKeyboardInterrupt\u001b[0m                         Traceback (most recent call last)",
      "\u001b[1;32m<ipython-input-124-7f0d2d41b5ac>\u001b[0m in \u001b[0;36m<module>\u001b[1;34m\u001b[0m\n\u001b[0;32m      7\u001b[0m \u001b[1;33m\u001b[0m\u001b[0m\n\u001b[0;32m      8\u001b[0m \u001b[1;31m# Evaluate the classifier on X_train_vectorized and y_train\u001b[0m\u001b[1;33m\u001b[0m\u001b[1;33m\u001b[0m\u001b[1;33m\u001b[0m\u001b[0m\n\u001b[1;32m----> 9\u001b[1;33m \u001b[0mbaseline_cv\u001b[0m \u001b[1;33m=\u001b[0m \u001b[0mcross_val_score\u001b[0m\u001b[1;33m(\u001b[0m\u001b[0mbaseline_model\u001b[0m\u001b[1;33m,\u001b[0m \u001b[0mX_train_vectorized\u001b[0m\u001b[1;33m,\u001b[0m \u001b[0my_train\u001b[0m\u001b[1;33m)\u001b[0m\u001b[1;33m\u001b[0m\u001b[1;33m\u001b[0m\u001b[0m\n\u001b[0m\u001b[0;32m     10\u001b[0m \u001b[0mbaseline_cv\u001b[0m\u001b[1;33m\u001b[0m\u001b[1;33m\u001b[0m\u001b[0m\n",
      "\u001b[1;32m~\\anaconda3\\envs\\learn-env\\lib\\site-packages\\sklearn\\utils\\validation.py\u001b[0m in \u001b[0;36minner_f\u001b[1;34m(*args, **kwargs)\u001b[0m\n\u001b[0;32m     70\u001b[0m                           FutureWarning)\n\u001b[0;32m     71\u001b[0m         \u001b[0mkwargs\u001b[0m\u001b[1;33m.\u001b[0m\u001b[0mupdate\u001b[0m\u001b[1;33m(\u001b[0m\u001b[1;33m{\u001b[0m\u001b[0mk\u001b[0m\u001b[1;33m:\u001b[0m \u001b[0marg\u001b[0m \u001b[1;32mfor\u001b[0m \u001b[0mk\u001b[0m\u001b[1;33m,\u001b[0m \u001b[0marg\u001b[0m \u001b[1;32min\u001b[0m \u001b[0mzip\u001b[0m\u001b[1;33m(\u001b[0m\u001b[0msig\u001b[0m\u001b[1;33m.\u001b[0m\u001b[0mparameters\u001b[0m\u001b[1;33m,\u001b[0m \u001b[0margs\u001b[0m\u001b[1;33m)\u001b[0m\u001b[1;33m}\u001b[0m\u001b[1;33m)\u001b[0m\u001b[1;33m\u001b[0m\u001b[1;33m\u001b[0m\u001b[0m\n\u001b[1;32m---> 72\u001b[1;33m         \u001b[1;32mreturn\u001b[0m \u001b[0mf\u001b[0m\u001b[1;33m(\u001b[0m\u001b[1;33m**\u001b[0m\u001b[0mkwargs\u001b[0m\u001b[1;33m)\u001b[0m\u001b[1;33m\u001b[0m\u001b[1;33m\u001b[0m\u001b[0m\n\u001b[0m\u001b[0;32m     73\u001b[0m     \u001b[1;32mreturn\u001b[0m \u001b[0minner_f\u001b[0m\u001b[1;33m\u001b[0m\u001b[1;33m\u001b[0m\u001b[0m\n\u001b[0;32m     74\u001b[0m \u001b[1;33m\u001b[0m\u001b[0m\n",
      "\u001b[1;32m~\\anaconda3\\envs\\learn-env\\lib\\site-packages\\sklearn\\model_selection\\_validation.py\u001b[0m in \u001b[0;36mcross_val_score\u001b[1;34m(estimator, X, y, groups, scoring, cv, n_jobs, verbose, fit_params, pre_dispatch, error_score)\u001b[0m\n\u001b[0;32m    399\u001b[0m     \u001b[0mscorer\u001b[0m \u001b[1;33m=\u001b[0m \u001b[0mcheck_scoring\u001b[0m\u001b[1;33m(\u001b[0m\u001b[0mestimator\u001b[0m\u001b[1;33m,\u001b[0m \u001b[0mscoring\u001b[0m\u001b[1;33m=\u001b[0m\u001b[0mscoring\u001b[0m\u001b[1;33m)\u001b[0m\u001b[1;33m\u001b[0m\u001b[1;33m\u001b[0m\u001b[0m\n\u001b[0;32m    400\u001b[0m \u001b[1;33m\u001b[0m\u001b[0m\n\u001b[1;32m--> 401\u001b[1;33m     cv_results = cross_validate(estimator=estimator, X=X, y=y, groups=groups,\n\u001b[0m\u001b[0;32m    402\u001b[0m                                 \u001b[0mscoring\u001b[0m\u001b[1;33m=\u001b[0m\u001b[1;33m{\u001b[0m\u001b[1;34m'score'\u001b[0m\u001b[1;33m:\u001b[0m \u001b[0mscorer\u001b[0m\u001b[1;33m}\u001b[0m\u001b[1;33m,\u001b[0m \u001b[0mcv\u001b[0m\u001b[1;33m=\u001b[0m\u001b[0mcv\u001b[0m\u001b[1;33m,\u001b[0m\u001b[1;33m\u001b[0m\u001b[1;33m\u001b[0m\u001b[0m\n\u001b[0;32m    403\u001b[0m                                 \u001b[0mn_jobs\u001b[0m\u001b[1;33m=\u001b[0m\u001b[0mn_jobs\u001b[0m\u001b[1;33m,\u001b[0m \u001b[0mverbose\u001b[0m\u001b[1;33m=\u001b[0m\u001b[0mverbose\u001b[0m\u001b[1;33m,\u001b[0m\u001b[1;33m\u001b[0m\u001b[1;33m\u001b[0m\u001b[0m\n",
      "\u001b[1;32m~\\anaconda3\\envs\\learn-env\\lib\\site-packages\\sklearn\\utils\\validation.py\u001b[0m in \u001b[0;36minner_f\u001b[1;34m(*args, **kwargs)\u001b[0m\n\u001b[0;32m     70\u001b[0m                           FutureWarning)\n\u001b[0;32m     71\u001b[0m         \u001b[0mkwargs\u001b[0m\u001b[1;33m.\u001b[0m\u001b[0mupdate\u001b[0m\u001b[1;33m(\u001b[0m\u001b[1;33m{\u001b[0m\u001b[0mk\u001b[0m\u001b[1;33m:\u001b[0m \u001b[0marg\u001b[0m \u001b[1;32mfor\u001b[0m \u001b[0mk\u001b[0m\u001b[1;33m,\u001b[0m \u001b[0marg\u001b[0m \u001b[1;32min\u001b[0m \u001b[0mzip\u001b[0m\u001b[1;33m(\u001b[0m\u001b[0msig\u001b[0m\u001b[1;33m.\u001b[0m\u001b[0mparameters\u001b[0m\u001b[1;33m,\u001b[0m \u001b[0margs\u001b[0m\u001b[1;33m)\u001b[0m\u001b[1;33m}\u001b[0m\u001b[1;33m)\u001b[0m\u001b[1;33m\u001b[0m\u001b[1;33m\u001b[0m\u001b[0m\n\u001b[1;32m---> 72\u001b[1;33m         \u001b[1;32mreturn\u001b[0m \u001b[0mf\u001b[0m\u001b[1;33m(\u001b[0m\u001b[1;33m**\u001b[0m\u001b[0mkwargs\u001b[0m\u001b[1;33m)\u001b[0m\u001b[1;33m\u001b[0m\u001b[1;33m\u001b[0m\u001b[0m\n\u001b[0m\u001b[0;32m     73\u001b[0m     \u001b[1;32mreturn\u001b[0m \u001b[0minner_f\u001b[0m\u001b[1;33m\u001b[0m\u001b[1;33m\u001b[0m\u001b[0m\n\u001b[0;32m     74\u001b[0m \u001b[1;33m\u001b[0m\u001b[0m\n",
      "\u001b[1;32m~\\anaconda3\\envs\\learn-env\\lib\\site-packages\\sklearn\\model_selection\\_validation.py\u001b[0m in \u001b[0;36mcross_validate\u001b[1;34m(estimator, X, y, groups, scoring, cv, n_jobs, verbose, fit_params, pre_dispatch, return_train_score, return_estimator, error_score)\u001b[0m\n\u001b[0;32m    240\u001b[0m     parallel = Parallel(n_jobs=n_jobs, verbose=verbose,\n\u001b[0;32m    241\u001b[0m                         pre_dispatch=pre_dispatch)\n\u001b[1;32m--> 242\u001b[1;33m     scores = parallel(\n\u001b[0m\u001b[0;32m    243\u001b[0m         delayed(_fit_and_score)(\n\u001b[0;32m    244\u001b[0m             \u001b[0mclone\u001b[0m\u001b[1;33m(\u001b[0m\u001b[0mestimator\u001b[0m\u001b[1;33m)\u001b[0m\u001b[1;33m,\u001b[0m \u001b[0mX\u001b[0m\u001b[1;33m,\u001b[0m \u001b[0my\u001b[0m\u001b[1;33m,\u001b[0m \u001b[0mscorers\u001b[0m\u001b[1;33m,\u001b[0m \u001b[0mtrain\u001b[0m\u001b[1;33m,\u001b[0m \u001b[0mtest\u001b[0m\u001b[1;33m,\u001b[0m \u001b[0mverbose\u001b[0m\u001b[1;33m,\u001b[0m \u001b[1;32mNone\u001b[0m\u001b[1;33m,\u001b[0m\u001b[1;33m\u001b[0m\u001b[1;33m\u001b[0m\u001b[0m\n",
      "\u001b[1;32m~\\anaconda3\\envs\\learn-env\\lib\\site-packages\\joblib\\parallel.py\u001b[0m in \u001b[0;36m__call__\u001b[1;34m(self, iterable)\u001b[0m\n\u001b[0;32m   1049\u001b[0m                 \u001b[0mself\u001b[0m\u001b[1;33m.\u001b[0m\u001b[0m_iterating\u001b[0m \u001b[1;33m=\u001b[0m \u001b[0mself\u001b[0m\u001b[1;33m.\u001b[0m\u001b[0m_original_iterator\u001b[0m \u001b[1;32mis\u001b[0m \u001b[1;32mnot\u001b[0m \u001b[1;32mNone\u001b[0m\u001b[1;33m\u001b[0m\u001b[1;33m\u001b[0m\u001b[0m\n\u001b[0;32m   1050\u001b[0m \u001b[1;33m\u001b[0m\u001b[0m\n\u001b[1;32m-> 1051\u001b[1;33m             \u001b[1;32mwhile\u001b[0m \u001b[0mself\u001b[0m\u001b[1;33m.\u001b[0m\u001b[0mdispatch_one_batch\u001b[0m\u001b[1;33m(\u001b[0m\u001b[0miterator\u001b[0m\u001b[1;33m)\u001b[0m\u001b[1;33m:\u001b[0m\u001b[1;33m\u001b[0m\u001b[1;33m\u001b[0m\u001b[0m\n\u001b[0m\u001b[0;32m   1052\u001b[0m                 \u001b[1;32mpass\u001b[0m\u001b[1;33m\u001b[0m\u001b[1;33m\u001b[0m\u001b[0m\n\u001b[0;32m   1053\u001b[0m \u001b[1;33m\u001b[0m\u001b[0m\n",
      "\u001b[1;32m~\\anaconda3\\envs\\learn-env\\lib\\site-packages\\joblib\\parallel.py\u001b[0m in \u001b[0;36mdispatch_one_batch\u001b[1;34m(self, iterator)\u001b[0m\n\u001b[0;32m    864\u001b[0m                 \u001b[1;32mreturn\u001b[0m \u001b[1;32mFalse\u001b[0m\u001b[1;33m\u001b[0m\u001b[1;33m\u001b[0m\u001b[0m\n\u001b[0;32m    865\u001b[0m             \u001b[1;32melse\u001b[0m\u001b[1;33m:\u001b[0m\u001b[1;33m\u001b[0m\u001b[1;33m\u001b[0m\u001b[0m\n\u001b[1;32m--> 866\u001b[1;33m                 \u001b[0mself\u001b[0m\u001b[1;33m.\u001b[0m\u001b[0m_dispatch\u001b[0m\u001b[1;33m(\u001b[0m\u001b[0mtasks\u001b[0m\u001b[1;33m)\u001b[0m\u001b[1;33m\u001b[0m\u001b[1;33m\u001b[0m\u001b[0m\n\u001b[0m\u001b[0;32m    867\u001b[0m                 \u001b[1;32mreturn\u001b[0m \u001b[1;32mTrue\u001b[0m\u001b[1;33m\u001b[0m\u001b[1;33m\u001b[0m\u001b[0m\n\u001b[0;32m    868\u001b[0m \u001b[1;33m\u001b[0m\u001b[0m\n",
      "\u001b[1;32m~\\anaconda3\\envs\\learn-env\\lib\\site-packages\\joblib\\parallel.py\u001b[0m in \u001b[0;36m_dispatch\u001b[1;34m(self, batch)\u001b[0m\n\u001b[0;32m    782\u001b[0m         \u001b[1;32mwith\u001b[0m \u001b[0mself\u001b[0m\u001b[1;33m.\u001b[0m\u001b[0m_lock\u001b[0m\u001b[1;33m:\u001b[0m\u001b[1;33m\u001b[0m\u001b[1;33m\u001b[0m\u001b[0m\n\u001b[0;32m    783\u001b[0m             \u001b[0mjob_idx\u001b[0m \u001b[1;33m=\u001b[0m \u001b[0mlen\u001b[0m\u001b[1;33m(\u001b[0m\u001b[0mself\u001b[0m\u001b[1;33m.\u001b[0m\u001b[0m_jobs\u001b[0m\u001b[1;33m)\u001b[0m\u001b[1;33m\u001b[0m\u001b[1;33m\u001b[0m\u001b[0m\n\u001b[1;32m--> 784\u001b[1;33m             \u001b[0mjob\u001b[0m \u001b[1;33m=\u001b[0m \u001b[0mself\u001b[0m\u001b[1;33m.\u001b[0m\u001b[0m_backend\u001b[0m\u001b[1;33m.\u001b[0m\u001b[0mapply_async\u001b[0m\u001b[1;33m(\u001b[0m\u001b[0mbatch\u001b[0m\u001b[1;33m,\u001b[0m \u001b[0mcallback\u001b[0m\u001b[1;33m=\u001b[0m\u001b[0mcb\u001b[0m\u001b[1;33m)\u001b[0m\u001b[1;33m\u001b[0m\u001b[1;33m\u001b[0m\u001b[0m\n\u001b[0m\u001b[0;32m    785\u001b[0m             \u001b[1;31m# A job can complete so quickly than its callback is\u001b[0m\u001b[1;33m\u001b[0m\u001b[1;33m\u001b[0m\u001b[1;33m\u001b[0m\u001b[0m\n\u001b[0;32m    786\u001b[0m             \u001b[1;31m# called before we get here, causing self._jobs to\u001b[0m\u001b[1;33m\u001b[0m\u001b[1;33m\u001b[0m\u001b[1;33m\u001b[0m\u001b[0m\n",
      "\u001b[1;32m~\\anaconda3\\envs\\learn-env\\lib\\site-packages\\joblib\\_parallel_backends.py\u001b[0m in \u001b[0;36mapply_async\u001b[1;34m(self, func, callback)\u001b[0m\n\u001b[0;32m    206\u001b[0m     \u001b[1;32mdef\u001b[0m \u001b[0mapply_async\u001b[0m\u001b[1;33m(\u001b[0m\u001b[0mself\u001b[0m\u001b[1;33m,\u001b[0m \u001b[0mfunc\u001b[0m\u001b[1;33m,\u001b[0m \u001b[0mcallback\u001b[0m\u001b[1;33m=\u001b[0m\u001b[1;32mNone\u001b[0m\u001b[1;33m)\u001b[0m\u001b[1;33m:\u001b[0m\u001b[1;33m\u001b[0m\u001b[1;33m\u001b[0m\u001b[0m\n\u001b[0;32m    207\u001b[0m         \u001b[1;34m\"\"\"Schedule a func to be run\"\"\"\u001b[0m\u001b[1;33m\u001b[0m\u001b[1;33m\u001b[0m\u001b[0m\n\u001b[1;32m--> 208\u001b[1;33m         \u001b[0mresult\u001b[0m \u001b[1;33m=\u001b[0m \u001b[0mImmediateResult\u001b[0m\u001b[1;33m(\u001b[0m\u001b[0mfunc\u001b[0m\u001b[1;33m)\u001b[0m\u001b[1;33m\u001b[0m\u001b[1;33m\u001b[0m\u001b[0m\n\u001b[0m\u001b[0;32m    209\u001b[0m         \u001b[1;32mif\u001b[0m \u001b[0mcallback\u001b[0m\u001b[1;33m:\u001b[0m\u001b[1;33m\u001b[0m\u001b[1;33m\u001b[0m\u001b[0m\n\u001b[0;32m    210\u001b[0m             \u001b[0mcallback\u001b[0m\u001b[1;33m(\u001b[0m\u001b[0mresult\u001b[0m\u001b[1;33m)\u001b[0m\u001b[1;33m\u001b[0m\u001b[1;33m\u001b[0m\u001b[0m\n",
      "\u001b[1;32m~\\anaconda3\\envs\\learn-env\\lib\\site-packages\\joblib\\_parallel_backends.py\u001b[0m in \u001b[0;36m__init__\u001b[1;34m(self, batch)\u001b[0m\n\u001b[0;32m    570\u001b[0m         \u001b[1;31m# Don't delay the application, to avoid keeping the input\u001b[0m\u001b[1;33m\u001b[0m\u001b[1;33m\u001b[0m\u001b[1;33m\u001b[0m\u001b[0m\n\u001b[0;32m    571\u001b[0m         \u001b[1;31m# arguments in memory\u001b[0m\u001b[1;33m\u001b[0m\u001b[1;33m\u001b[0m\u001b[1;33m\u001b[0m\u001b[0m\n\u001b[1;32m--> 572\u001b[1;33m         \u001b[0mself\u001b[0m\u001b[1;33m.\u001b[0m\u001b[0mresults\u001b[0m \u001b[1;33m=\u001b[0m \u001b[0mbatch\u001b[0m\u001b[1;33m(\u001b[0m\u001b[1;33m)\u001b[0m\u001b[1;33m\u001b[0m\u001b[1;33m\u001b[0m\u001b[0m\n\u001b[0m\u001b[0;32m    573\u001b[0m \u001b[1;33m\u001b[0m\u001b[0m\n\u001b[0;32m    574\u001b[0m     \u001b[1;32mdef\u001b[0m \u001b[0mget\u001b[0m\u001b[1;33m(\u001b[0m\u001b[0mself\u001b[0m\u001b[1;33m)\u001b[0m\u001b[1;33m:\u001b[0m\u001b[1;33m\u001b[0m\u001b[1;33m\u001b[0m\u001b[0m\n",
      "\u001b[1;32m~\\anaconda3\\envs\\learn-env\\lib\\site-packages\\joblib\\parallel.py\u001b[0m in \u001b[0;36m__call__\u001b[1;34m(self)\u001b[0m\n\u001b[0;32m    260\u001b[0m         \u001b[1;31m# change the default number of processes to -1\u001b[0m\u001b[1;33m\u001b[0m\u001b[1;33m\u001b[0m\u001b[1;33m\u001b[0m\u001b[0m\n\u001b[0;32m    261\u001b[0m         \u001b[1;32mwith\u001b[0m \u001b[0mparallel_backend\u001b[0m\u001b[1;33m(\u001b[0m\u001b[0mself\u001b[0m\u001b[1;33m.\u001b[0m\u001b[0m_backend\u001b[0m\u001b[1;33m,\u001b[0m \u001b[0mn_jobs\u001b[0m\u001b[1;33m=\u001b[0m\u001b[0mself\u001b[0m\u001b[1;33m.\u001b[0m\u001b[0m_n_jobs\u001b[0m\u001b[1;33m)\u001b[0m\u001b[1;33m:\u001b[0m\u001b[1;33m\u001b[0m\u001b[1;33m\u001b[0m\u001b[0m\n\u001b[1;32m--> 262\u001b[1;33m             return [func(*args, **kwargs)\n\u001b[0m\u001b[0;32m    263\u001b[0m                     for func, args, kwargs in self.items]\n\u001b[0;32m    264\u001b[0m \u001b[1;33m\u001b[0m\u001b[0m\n",
      "\u001b[1;32m~\\anaconda3\\envs\\learn-env\\lib\\site-packages\\joblib\\parallel.py\u001b[0m in \u001b[0;36m<listcomp>\u001b[1;34m(.0)\u001b[0m\n\u001b[0;32m    260\u001b[0m         \u001b[1;31m# change the default number of processes to -1\u001b[0m\u001b[1;33m\u001b[0m\u001b[1;33m\u001b[0m\u001b[1;33m\u001b[0m\u001b[0m\n\u001b[0;32m    261\u001b[0m         \u001b[1;32mwith\u001b[0m \u001b[0mparallel_backend\u001b[0m\u001b[1;33m(\u001b[0m\u001b[0mself\u001b[0m\u001b[1;33m.\u001b[0m\u001b[0m_backend\u001b[0m\u001b[1;33m,\u001b[0m \u001b[0mn_jobs\u001b[0m\u001b[1;33m=\u001b[0m\u001b[0mself\u001b[0m\u001b[1;33m.\u001b[0m\u001b[0m_n_jobs\u001b[0m\u001b[1;33m)\u001b[0m\u001b[1;33m:\u001b[0m\u001b[1;33m\u001b[0m\u001b[1;33m\u001b[0m\u001b[0m\n\u001b[1;32m--> 262\u001b[1;33m             return [func(*args, **kwargs)\n\u001b[0m\u001b[0;32m    263\u001b[0m                     for func, args, kwargs in self.items]\n\u001b[0;32m    264\u001b[0m \u001b[1;33m\u001b[0m\u001b[0m\n",
      "\u001b[1;32m~\\anaconda3\\envs\\learn-env\\lib\\site-packages\\sklearn\\model_selection\\_validation.py\u001b[0m in \u001b[0;36m_fit_and_score\u001b[1;34m(estimator, X, y, scorer, train, test, verbose, parameters, fit_params, return_train_score, return_parameters, return_n_test_samples, return_times, return_estimator, error_score)\u001b[0m\n\u001b[0;32m    529\u001b[0m             \u001b[0mestimator\u001b[0m\u001b[1;33m.\u001b[0m\u001b[0mfit\u001b[0m\u001b[1;33m(\u001b[0m\u001b[0mX_train\u001b[0m\u001b[1;33m,\u001b[0m \u001b[1;33m**\u001b[0m\u001b[0mfit_params\u001b[0m\u001b[1;33m)\u001b[0m\u001b[1;33m\u001b[0m\u001b[1;33m\u001b[0m\u001b[0m\n\u001b[0;32m    530\u001b[0m         \u001b[1;32melse\u001b[0m\u001b[1;33m:\u001b[0m\u001b[1;33m\u001b[0m\u001b[1;33m\u001b[0m\u001b[0m\n\u001b[1;32m--> 531\u001b[1;33m             \u001b[0mestimator\u001b[0m\u001b[1;33m.\u001b[0m\u001b[0mfit\u001b[0m\u001b[1;33m(\u001b[0m\u001b[0mX_train\u001b[0m\u001b[1;33m,\u001b[0m \u001b[0my_train\u001b[0m\u001b[1;33m,\u001b[0m \u001b[1;33m**\u001b[0m\u001b[0mfit_params\u001b[0m\u001b[1;33m)\u001b[0m\u001b[1;33m\u001b[0m\u001b[1;33m\u001b[0m\u001b[0m\n\u001b[0m\u001b[0;32m    532\u001b[0m \u001b[1;33m\u001b[0m\u001b[0m\n\u001b[0;32m    533\u001b[0m     \u001b[1;32mexcept\u001b[0m \u001b[0mException\u001b[0m \u001b[1;32mas\u001b[0m \u001b[0me\u001b[0m\u001b[1;33m:\u001b[0m\u001b[1;33m\u001b[0m\u001b[1;33m\u001b[0m\u001b[0m\n",
      "\u001b[1;32m~\\anaconda3\\envs\\learn-env\\lib\\site-packages\\sklearn\\ensemble\\_forest.py\u001b[0m in \u001b[0;36mfit\u001b[1;34m(self, X, y, sample_weight)\u001b[0m\n\u001b[0;32m    384\u001b[0m             \u001b[1;31m# parallel_backend contexts set at a higher level,\u001b[0m\u001b[1;33m\u001b[0m\u001b[1;33m\u001b[0m\u001b[1;33m\u001b[0m\u001b[0m\n\u001b[0;32m    385\u001b[0m             \u001b[1;31m# since correctness does not rely on using threads.\u001b[0m\u001b[1;33m\u001b[0m\u001b[1;33m\u001b[0m\u001b[1;33m\u001b[0m\u001b[0m\n\u001b[1;32m--> 386\u001b[1;33m             trees = Parallel(n_jobs=self.n_jobs, verbose=self.verbose,\n\u001b[0m\u001b[0;32m    387\u001b[0m                              \u001b[1;33m**\u001b[0m\u001b[0m_joblib_parallel_args\u001b[0m\u001b[1;33m(\u001b[0m\u001b[0mprefer\u001b[0m\u001b[1;33m=\u001b[0m\u001b[1;34m'threads'\u001b[0m\u001b[1;33m)\u001b[0m\u001b[1;33m)\u001b[0m\u001b[1;33m(\u001b[0m\u001b[1;33m\u001b[0m\u001b[1;33m\u001b[0m\u001b[0m\n\u001b[0;32m    388\u001b[0m                 delayed(_parallel_build_trees)(\n",
      "\u001b[1;32m~\\anaconda3\\envs\\learn-env\\lib\\site-packages\\joblib\\parallel.py\u001b[0m in \u001b[0;36m__call__\u001b[1;34m(self, iterable)\u001b[0m\n\u001b[0;32m   1049\u001b[0m                 \u001b[0mself\u001b[0m\u001b[1;33m.\u001b[0m\u001b[0m_iterating\u001b[0m \u001b[1;33m=\u001b[0m \u001b[0mself\u001b[0m\u001b[1;33m.\u001b[0m\u001b[0m_original_iterator\u001b[0m \u001b[1;32mis\u001b[0m \u001b[1;32mnot\u001b[0m \u001b[1;32mNone\u001b[0m\u001b[1;33m\u001b[0m\u001b[1;33m\u001b[0m\u001b[0m\n\u001b[0;32m   1050\u001b[0m \u001b[1;33m\u001b[0m\u001b[0m\n\u001b[1;32m-> 1051\u001b[1;33m             \u001b[1;32mwhile\u001b[0m \u001b[0mself\u001b[0m\u001b[1;33m.\u001b[0m\u001b[0mdispatch_one_batch\u001b[0m\u001b[1;33m(\u001b[0m\u001b[0miterator\u001b[0m\u001b[1;33m)\u001b[0m\u001b[1;33m:\u001b[0m\u001b[1;33m\u001b[0m\u001b[1;33m\u001b[0m\u001b[0m\n\u001b[0m\u001b[0;32m   1052\u001b[0m                 \u001b[1;32mpass\u001b[0m\u001b[1;33m\u001b[0m\u001b[1;33m\u001b[0m\u001b[0m\n\u001b[0;32m   1053\u001b[0m \u001b[1;33m\u001b[0m\u001b[0m\n",
      "\u001b[1;32m~\\anaconda3\\envs\\learn-env\\lib\\site-packages\\joblib\\parallel.py\u001b[0m in \u001b[0;36mdispatch_one_batch\u001b[1;34m(self, iterator)\u001b[0m\n\u001b[0;32m    864\u001b[0m                 \u001b[1;32mreturn\u001b[0m \u001b[1;32mFalse\u001b[0m\u001b[1;33m\u001b[0m\u001b[1;33m\u001b[0m\u001b[0m\n\u001b[0;32m    865\u001b[0m             \u001b[1;32melse\u001b[0m\u001b[1;33m:\u001b[0m\u001b[1;33m\u001b[0m\u001b[1;33m\u001b[0m\u001b[0m\n\u001b[1;32m--> 866\u001b[1;33m                 \u001b[0mself\u001b[0m\u001b[1;33m.\u001b[0m\u001b[0m_dispatch\u001b[0m\u001b[1;33m(\u001b[0m\u001b[0mtasks\u001b[0m\u001b[1;33m)\u001b[0m\u001b[1;33m\u001b[0m\u001b[1;33m\u001b[0m\u001b[0m\n\u001b[0m\u001b[0;32m    867\u001b[0m                 \u001b[1;32mreturn\u001b[0m \u001b[1;32mTrue\u001b[0m\u001b[1;33m\u001b[0m\u001b[1;33m\u001b[0m\u001b[0m\n\u001b[0;32m    868\u001b[0m \u001b[1;33m\u001b[0m\u001b[0m\n",
      "\u001b[1;32m~\\anaconda3\\envs\\learn-env\\lib\\site-packages\\joblib\\parallel.py\u001b[0m in \u001b[0;36m_dispatch\u001b[1;34m(self, batch)\u001b[0m\n\u001b[0;32m    782\u001b[0m         \u001b[1;32mwith\u001b[0m \u001b[0mself\u001b[0m\u001b[1;33m.\u001b[0m\u001b[0m_lock\u001b[0m\u001b[1;33m:\u001b[0m\u001b[1;33m\u001b[0m\u001b[1;33m\u001b[0m\u001b[0m\n\u001b[0;32m    783\u001b[0m             \u001b[0mjob_idx\u001b[0m \u001b[1;33m=\u001b[0m \u001b[0mlen\u001b[0m\u001b[1;33m(\u001b[0m\u001b[0mself\u001b[0m\u001b[1;33m.\u001b[0m\u001b[0m_jobs\u001b[0m\u001b[1;33m)\u001b[0m\u001b[1;33m\u001b[0m\u001b[1;33m\u001b[0m\u001b[0m\n\u001b[1;32m--> 784\u001b[1;33m             \u001b[0mjob\u001b[0m \u001b[1;33m=\u001b[0m \u001b[0mself\u001b[0m\u001b[1;33m.\u001b[0m\u001b[0m_backend\u001b[0m\u001b[1;33m.\u001b[0m\u001b[0mapply_async\u001b[0m\u001b[1;33m(\u001b[0m\u001b[0mbatch\u001b[0m\u001b[1;33m,\u001b[0m \u001b[0mcallback\u001b[0m\u001b[1;33m=\u001b[0m\u001b[0mcb\u001b[0m\u001b[1;33m)\u001b[0m\u001b[1;33m\u001b[0m\u001b[1;33m\u001b[0m\u001b[0m\n\u001b[0m\u001b[0;32m    785\u001b[0m             \u001b[1;31m# A job can complete so quickly than its callback is\u001b[0m\u001b[1;33m\u001b[0m\u001b[1;33m\u001b[0m\u001b[1;33m\u001b[0m\u001b[0m\n\u001b[0;32m    786\u001b[0m             \u001b[1;31m# called before we get here, causing self._jobs to\u001b[0m\u001b[1;33m\u001b[0m\u001b[1;33m\u001b[0m\u001b[1;33m\u001b[0m\u001b[0m\n",
      "\u001b[1;32m~\\anaconda3\\envs\\learn-env\\lib\\site-packages\\joblib\\_parallel_backends.py\u001b[0m in \u001b[0;36mapply_async\u001b[1;34m(self, func, callback)\u001b[0m\n\u001b[0;32m    206\u001b[0m     \u001b[1;32mdef\u001b[0m \u001b[0mapply_async\u001b[0m\u001b[1;33m(\u001b[0m\u001b[0mself\u001b[0m\u001b[1;33m,\u001b[0m \u001b[0mfunc\u001b[0m\u001b[1;33m,\u001b[0m \u001b[0mcallback\u001b[0m\u001b[1;33m=\u001b[0m\u001b[1;32mNone\u001b[0m\u001b[1;33m)\u001b[0m\u001b[1;33m:\u001b[0m\u001b[1;33m\u001b[0m\u001b[1;33m\u001b[0m\u001b[0m\n\u001b[0;32m    207\u001b[0m         \u001b[1;34m\"\"\"Schedule a func to be run\"\"\"\u001b[0m\u001b[1;33m\u001b[0m\u001b[1;33m\u001b[0m\u001b[0m\n\u001b[1;32m--> 208\u001b[1;33m         \u001b[0mresult\u001b[0m \u001b[1;33m=\u001b[0m \u001b[0mImmediateResult\u001b[0m\u001b[1;33m(\u001b[0m\u001b[0mfunc\u001b[0m\u001b[1;33m)\u001b[0m\u001b[1;33m\u001b[0m\u001b[1;33m\u001b[0m\u001b[0m\n\u001b[0m\u001b[0;32m    209\u001b[0m         \u001b[1;32mif\u001b[0m \u001b[0mcallback\u001b[0m\u001b[1;33m:\u001b[0m\u001b[1;33m\u001b[0m\u001b[1;33m\u001b[0m\u001b[0m\n\u001b[0;32m    210\u001b[0m             \u001b[0mcallback\u001b[0m\u001b[1;33m(\u001b[0m\u001b[0mresult\u001b[0m\u001b[1;33m)\u001b[0m\u001b[1;33m\u001b[0m\u001b[1;33m\u001b[0m\u001b[0m\n",
      "\u001b[1;32m~\\anaconda3\\envs\\learn-env\\lib\\site-packages\\joblib\\_parallel_backends.py\u001b[0m in \u001b[0;36m__init__\u001b[1;34m(self, batch)\u001b[0m\n\u001b[0;32m    570\u001b[0m         \u001b[1;31m# Don't delay the application, to avoid keeping the input\u001b[0m\u001b[1;33m\u001b[0m\u001b[1;33m\u001b[0m\u001b[1;33m\u001b[0m\u001b[0m\n\u001b[0;32m    571\u001b[0m         \u001b[1;31m# arguments in memory\u001b[0m\u001b[1;33m\u001b[0m\u001b[1;33m\u001b[0m\u001b[1;33m\u001b[0m\u001b[0m\n\u001b[1;32m--> 572\u001b[1;33m         \u001b[0mself\u001b[0m\u001b[1;33m.\u001b[0m\u001b[0mresults\u001b[0m \u001b[1;33m=\u001b[0m \u001b[0mbatch\u001b[0m\u001b[1;33m(\u001b[0m\u001b[1;33m)\u001b[0m\u001b[1;33m\u001b[0m\u001b[1;33m\u001b[0m\u001b[0m\n\u001b[0m\u001b[0;32m    573\u001b[0m \u001b[1;33m\u001b[0m\u001b[0m\n\u001b[0;32m    574\u001b[0m     \u001b[1;32mdef\u001b[0m \u001b[0mget\u001b[0m\u001b[1;33m(\u001b[0m\u001b[0mself\u001b[0m\u001b[1;33m)\u001b[0m\u001b[1;33m:\u001b[0m\u001b[1;33m\u001b[0m\u001b[1;33m\u001b[0m\u001b[0m\n",
      "\u001b[1;32m~\\anaconda3\\envs\\learn-env\\lib\\site-packages\\joblib\\parallel.py\u001b[0m in \u001b[0;36m__call__\u001b[1;34m(self)\u001b[0m\n\u001b[0;32m    260\u001b[0m         \u001b[1;31m# change the default number of processes to -1\u001b[0m\u001b[1;33m\u001b[0m\u001b[1;33m\u001b[0m\u001b[1;33m\u001b[0m\u001b[0m\n\u001b[0;32m    261\u001b[0m         \u001b[1;32mwith\u001b[0m \u001b[0mparallel_backend\u001b[0m\u001b[1;33m(\u001b[0m\u001b[0mself\u001b[0m\u001b[1;33m.\u001b[0m\u001b[0m_backend\u001b[0m\u001b[1;33m,\u001b[0m \u001b[0mn_jobs\u001b[0m\u001b[1;33m=\u001b[0m\u001b[0mself\u001b[0m\u001b[1;33m.\u001b[0m\u001b[0m_n_jobs\u001b[0m\u001b[1;33m)\u001b[0m\u001b[1;33m:\u001b[0m\u001b[1;33m\u001b[0m\u001b[1;33m\u001b[0m\u001b[0m\n\u001b[1;32m--> 262\u001b[1;33m             return [func(*args, **kwargs)\n\u001b[0m\u001b[0;32m    263\u001b[0m                     for func, args, kwargs in self.items]\n\u001b[0;32m    264\u001b[0m \u001b[1;33m\u001b[0m\u001b[0m\n",
      "\u001b[1;32m~\\anaconda3\\envs\\learn-env\\lib\\site-packages\\joblib\\parallel.py\u001b[0m in \u001b[0;36m<listcomp>\u001b[1;34m(.0)\u001b[0m\n\u001b[0;32m    260\u001b[0m         \u001b[1;31m# change the default number of processes to -1\u001b[0m\u001b[1;33m\u001b[0m\u001b[1;33m\u001b[0m\u001b[1;33m\u001b[0m\u001b[0m\n\u001b[0;32m    261\u001b[0m         \u001b[1;32mwith\u001b[0m \u001b[0mparallel_backend\u001b[0m\u001b[1;33m(\u001b[0m\u001b[0mself\u001b[0m\u001b[1;33m.\u001b[0m\u001b[0m_backend\u001b[0m\u001b[1;33m,\u001b[0m \u001b[0mn_jobs\u001b[0m\u001b[1;33m=\u001b[0m\u001b[0mself\u001b[0m\u001b[1;33m.\u001b[0m\u001b[0m_n_jobs\u001b[0m\u001b[1;33m)\u001b[0m\u001b[1;33m:\u001b[0m\u001b[1;33m\u001b[0m\u001b[1;33m\u001b[0m\u001b[0m\n\u001b[1;32m--> 262\u001b[1;33m             return [func(*args, **kwargs)\n\u001b[0m\u001b[0;32m    263\u001b[0m                     for func, args, kwargs in self.items]\n\u001b[0;32m    264\u001b[0m \u001b[1;33m\u001b[0m\u001b[0m\n",
      "\u001b[1;32m~\\anaconda3\\envs\\learn-env\\lib\\site-packages\\sklearn\\ensemble\\_forest.py\u001b[0m in \u001b[0;36m_parallel_build_trees\u001b[1;34m(tree, forest, X, y, sample_weight, tree_idx, n_trees, verbose, class_weight, n_samples_bootstrap)\u001b[0m\n\u001b[0;32m    166\u001b[0m                                                         indices=indices)\n\u001b[0;32m    167\u001b[0m \u001b[1;33m\u001b[0m\u001b[0m\n\u001b[1;32m--> 168\u001b[1;33m         \u001b[0mtree\u001b[0m\u001b[1;33m.\u001b[0m\u001b[0mfit\u001b[0m\u001b[1;33m(\u001b[0m\u001b[0mX\u001b[0m\u001b[1;33m,\u001b[0m \u001b[0my\u001b[0m\u001b[1;33m,\u001b[0m \u001b[0msample_weight\u001b[0m\u001b[1;33m=\u001b[0m\u001b[0mcurr_sample_weight\u001b[0m\u001b[1;33m,\u001b[0m \u001b[0mcheck_input\u001b[0m\u001b[1;33m=\u001b[0m\u001b[1;32mFalse\u001b[0m\u001b[1;33m)\u001b[0m\u001b[1;33m\u001b[0m\u001b[1;33m\u001b[0m\u001b[0m\n\u001b[0m\u001b[0;32m    169\u001b[0m     \u001b[1;32melse\u001b[0m\u001b[1;33m:\u001b[0m\u001b[1;33m\u001b[0m\u001b[1;33m\u001b[0m\u001b[0m\n\u001b[0;32m    170\u001b[0m         \u001b[0mtree\u001b[0m\u001b[1;33m.\u001b[0m\u001b[0mfit\u001b[0m\u001b[1;33m(\u001b[0m\u001b[0mX\u001b[0m\u001b[1;33m,\u001b[0m \u001b[0my\u001b[0m\u001b[1;33m,\u001b[0m \u001b[0msample_weight\u001b[0m\u001b[1;33m=\u001b[0m\u001b[0msample_weight\u001b[0m\u001b[1;33m,\u001b[0m \u001b[0mcheck_input\u001b[0m\u001b[1;33m=\u001b[0m\u001b[1;32mFalse\u001b[0m\u001b[1;33m)\u001b[0m\u001b[1;33m\u001b[0m\u001b[1;33m\u001b[0m\u001b[0m\n",
      "\u001b[1;32m~\\anaconda3\\envs\\learn-env\\lib\\site-packages\\sklearn\\tree\\_classes.py\u001b[0m in \u001b[0;36mfit\u001b[1;34m(self, X, y, sample_weight, check_input, X_idx_sorted)\u001b[0m\n\u001b[0;32m    888\u001b[0m         \"\"\"\n\u001b[0;32m    889\u001b[0m \u001b[1;33m\u001b[0m\u001b[0m\n\u001b[1;32m--> 890\u001b[1;33m         super().fit(\n\u001b[0m\u001b[0;32m    891\u001b[0m             \u001b[0mX\u001b[0m\u001b[1;33m,\u001b[0m \u001b[0my\u001b[0m\u001b[1;33m,\u001b[0m\u001b[1;33m\u001b[0m\u001b[1;33m\u001b[0m\u001b[0m\n\u001b[0;32m    892\u001b[0m             \u001b[0msample_weight\u001b[0m\u001b[1;33m=\u001b[0m\u001b[0msample_weight\u001b[0m\u001b[1;33m,\u001b[0m\u001b[1;33m\u001b[0m\u001b[1;33m\u001b[0m\u001b[0m\n",
      "\u001b[1;32m~\\anaconda3\\envs\\learn-env\\lib\\site-packages\\sklearn\\tree\\_classes.py\u001b[0m in \u001b[0;36mfit\u001b[1;34m(self, X, y, sample_weight, check_input, X_idx_sorted)\u001b[0m\n\u001b[0;32m    373\u001b[0m                                            min_impurity_split)\n\u001b[0;32m    374\u001b[0m \u001b[1;33m\u001b[0m\u001b[0m\n\u001b[1;32m--> 375\u001b[1;33m         \u001b[0mbuilder\u001b[0m\u001b[1;33m.\u001b[0m\u001b[0mbuild\u001b[0m\u001b[1;33m(\u001b[0m\u001b[0mself\u001b[0m\u001b[1;33m.\u001b[0m\u001b[0mtree_\u001b[0m\u001b[1;33m,\u001b[0m \u001b[0mX\u001b[0m\u001b[1;33m,\u001b[0m \u001b[0my\u001b[0m\u001b[1;33m,\u001b[0m \u001b[0msample_weight\u001b[0m\u001b[1;33m,\u001b[0m \u001b[0mX_idx_sorted\u001b[0m\u001b[1;33m)\u001b[0m\u001b[1;33m\u001b[0m\u001b[1;33m\u001b[0m\u001b[0m\n\u001b[0m\u001b[0;32m    376\u001b[0m \u001b[1;33m\u001b[0m\u001b[0m\n\u001b[0;32m    377\u001b[0m         \u001b[1;32mif\u001b[0m \u001b[0mself\u001b[0m\u001b[1;33m.\u001b[0m\u001b[0mn_outputs_\u001b[0m \u001b[1;33m==\u001b[0m \u001b[1;36m1\u001b[0m \u001b[1;32mand\u001b[0m \u001b[0mis_classifier\u001b[0m\u001b[1;33m(\u001b[0m\u001b[0mself\u001b[0m\u001b[1;33m)\u001b[0m\u001b[1;33m:\u001b[0m\u001b[1;33m\u001b[0m\u001b[1;33m\u001b[0m\u001b[0m\n",
      "\u001b[1;31mKeyboardInterrupt\u001b[0m: "
     ]
    }
   ],
   "source": [
    "# Import relevant class and function\n",
    "from sklearn.ensemble import RandomForestClassifier\n",
    "from sklearn.model_selection import cross_val_score\n",
    "\n",
    "# Instantiate a MultinomialNB classifier\n",
    "baseline_model = RandomForestClassifier(max_depth=100)\n",
    "\n",
    "# Evaluate the classifier on X_train_vectorized and y_train\n",
    "baseline_cv = cross_val_score(baseline_model, X_train_vectorized, y_train)\n",
    "baseline_cv"
   ]
  },
  {
   "cell_type": "code",
   "execution_count": null,
   "id": "511a8d02",
   "metadata": {
    "ExecuteTime": {
     "end_time": "2023-02-02T10:10:02.084399Z",
     "start_time": "2023-02-02T10:09:35.893Z"
    }
   },
   "outputs": [],
   "source": [
    "# Fit the vectorizer on X_train[\"text\"] and transform it\n",
    "X_test_vectorized = tfidf.transform(X_test)\n",
    "\n",
    "# Evaluate the classifier on X_train_vectorized and y_train\n",
    "baseline_cv = cross_val_score(baseline_model, X_test_vectorized, y_test)\n",
    "baseline_cv.mean()"
   ]
  },
  {
   "cell_type": "markdown",
   "id": "75c08ea9",
   "metadata": {},
   "source": [
    "XGBoost Classifier"
   ]
  },
  {
   "cell_type": "code",
   "execution_count": null,
   "id": "9f8664bf",
   "metadata": {
    "ExecuteTime": {
     "start_time": "2023-02-02T09:49:17.554Z"
    }
   },
   "outputs": [],
   "source": [
    "import xgboost as xgb\n",
    "\n",
    "baseline_model = xgb.XGBClassifier(random_state=42)\n",
    "baseline_cv = cross_val_score(baseline_model, X_train_vectorized, y_train)\n",
    "baseline_cv"
   ]
  },
  {
   "cell_type": "code",
   "execution_count": null,
   "id": "b3a15836",
   "metadata": {
    "ExecuteTime": {
     "start_time": "2023-02-02T09:49:17.747Z"
    }
   },
   "outputs": [],
   "source": [
    "# Fit the vectorizer on X_train[\"text\"] and transform it\n",
    "X_test_vectorized = tfidf.transform(X_test)\n",
    "\n",
    "# Evaluate the classifier on X_train_vectorized and y_train\n",
    "baseline_cv = cross_val_score(baseline_model, X_test_vectorized, y_test)\n",
    "baseline_cv.mean()"
   ]
  },
  {
   "cell_type": "code",
   "execution_count": null,
   "id": "fb115cad",
   "metadata": {},
   "outputs": [],
   "source": []
  },
  {
   "cell_type": "code",
   "execution_count": null,
   "id": "d8b92ba8",
   "metadata": {},
   "outputs": [],
   "source": []
  },
  {
   "cell_type": "code",
   "execution_count": null,
   "id": "1929d15a",
   "metadata": {},
   "outputs": [],
   "source": []
  }
 ],
 "metadata": {
  "kernelspec": {
   "display_name": "Python (learn-env)",
   "language": "python",
   "name": "learn-env"
  },
  "language_info": {
   "codemirror_mode": {
    "name": "ipython",
    "version": 3
   },
   "file_extension": ".py",
   "mimetype": "text/x-python",
   "name": "python",
   "nbconvert_exporter": "python",
   "pygments_lexer": "ipython3",
   "version": "3.8.5"
  },
  "toc": {
   "base_numbering": 1,
   "nav_menu": {},
   "number_sections": true,
   "sideBar": true,
   "skip_h1_title": false,
   "title_cell": "Table of Contents",
   "title_sidebar": "Contents",
   "toc_cell": false,
   "toc_position": {},
   "toc_section_display": true,
   "toc_window_display": false
  },
  "varInspector": {
   "cols": {
    "lenName": 16,
    "lenType": 16,
    "lenVar": 40
   },
   "kernels_config": {
    "python": {
     "delete_cmd_postfix": "",
     "delete_cmd_prefix": "del ",
     "library": "var_list.py",
     "varRefreshCmd": "print(var_dic_list())"
    },
    "r": {
     "delete_cmd_postfix": ") ",
     "delete_cmd_prefix": "rm(",
     "library": "var_list.r",
     "varRefreshCmd": "cat(var_dic_list()) "
    }
   },
   "types_to_exclude": [
    "module",
    "function",
    "builtin_function_or_method",
    "instance",
    "_Feature"
   ],
   "window_display": false
  }
 },
 "nbformat": 4,
 "nbformat_minor": 5
}
