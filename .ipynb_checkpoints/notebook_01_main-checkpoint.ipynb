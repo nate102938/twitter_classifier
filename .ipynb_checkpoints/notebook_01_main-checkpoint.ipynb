{
 "cells": [
  {
   "cell_type": "markdown",
   "id": "a398f85c",
   "metadata": {},
   "source": [
    "# Overview\n",
    "\n",
    "The goal of this project is to perform \n",
    "\n",
    "The goal of this project is to perform a sentiment analysis of Apple customers, and uncover actionable insight that could be used to optimize a marketing strategy going forward. To achieve this, we built a predictive model using Natural Language Processing (NLP), that could rate the sentiment of a tweet based on its content. At the end of our analysis, we present the findings of our model and provide concrete recommendations as to how Apple could improve its marketing strategy going forward and ultimately increase customer satisfaction."
   ]
  },
  {
   "cell_type": "markdown",
   "id": "70bc08fc",
   "metadata": {},
   "source": [
    "# Business Understanding\n",
    "\n",
    "Developing an excellent marketing strategy is crucial \n",
    "\n",
    "\n",
    "Developing an excellent marketing strategy is crucial for an organization to consistently achieve positive results. To perform effective marketing, companies need to gain a deep understanding of their customers and uncover what matters to them most. The challenge is figuring out how to gain this insight in an efficient manner, and how to consistently implement meaningful change. Fortunately, machine learning provides us with unique and effective tools to perform customer sentiment analysis and guide long-term decision making."
   ]
  },
  {
   "cell_type": "markdown",
   "id": "ff0742d6",
   "metadata": {},
   "source": [
    "# Data Understanding\n",
    "\n",
    "\n",
    "For this analysis, I utilized tweet data from 115,511 tweets from 587 Twitter accounts that were pulled from the Twitter API.  These accounts were manually selected by me to represent each account class that I am trying to predict.    "
   ]
  },
  {
   "cell_type": "markdown",
   "id": "4f2b13dd",
   "metadata": {},
   "source": [
    "## Imports / settings"
   ]
  },
  {
   "cell_type": "code",
   "execution_count": 1,
   "id": "e93d8154",
   "metadata": {
    "ExecuteTime": {
     "end_time": "2023-02-15T14:54:12.453330Z",
     "start_time": "2023-02-15T14:54:10.527478Z"
    }
   },
   "outputs": [
    {
     "name": "stderr",
     "output_type": "stream",
     "text": [
      "[nltk_data] Downloading package wordnet to\n",
      "[nltk_data]     C:\\Users\\natek\\AppData\\Roaming\\nltk_data...\n",
      "[nltk_data]   Package wordnet is already up-to-date!\n",
      "[nltk_data] Downloading package tagsets to\n",
      "[nltk_data]     C:\\Users\\natek\\AppData\\Roaming\\nltk_data...\n",
      "[nltk_data]   Package tagsets is already up-to-date!\n",
      "[nltk_data] Downloading package averaged_perceptron_tagger to\n",
      "[nltk_data]     C:\\Users\\natek\\AppData\\Roaming\\nltk_data...\n",
      "[nltk_data]   Package averaged_perceptron_tagger is already up-to-\n",
      "[nltk_data]       date!\n"
     ]
    }
   ],
   "source": [
    "# General imports\n",
    "import string\n",
    "\n",
    "# Twitter import\n",
    "import tweepy\n",
    "\n",
    "# Analysis imports\n",
    "import pandas as pd\n",
    "import numpy as np\n",
    "\n",
    "# NLP imports\n",
    "from nltk.stem import WordNetLemmatizer \n",
    "from nltk import pos_tag\n",
    "from nltk.corpus import stopwords, wordnet\n",
    "from nltk.tokenize import regexp_tokenize, word_tokenize, RegexpTokenizer\n",
    "\n",
    "# SKlearn imports\n",
    "from sklearn.naive_bayes import MultinomialNB\n",
    "from sklearn.model_selection import train_test_split, GridSearchCV, cross_val_score\n",
    "from sklearn.pipeline import Pipeline\n",
    "from sklearn.model_selection import train_test_split\n",
    "from sklearn.feature_extraction.text import CountVectorizer, TfidfVectorizer\n",
    "from sklearn.ensemble import RandomForestClassifier\n",
    "from sklearn.naive_bayes import ComplementNB\n",
    "from sklearn.preprocessing import LabelEncoder\n",
    "from sklearn.dummy import DummyClassifier\n",
    "\n",
    "# Visualization imports\n",
    "import matplotlib.pyplot as plt\n",
    "import seaborn as sns\n",
    "\n",
    "# Pandas settings\n",
    "pd.options.display.max_rows = 100\n",
    "pd.options.display.max_colwidth = 90\n",
    "\n",
    "# Downloads (for NLP)\n",
    "import nltk\n",
    "nltk.download('wordnet')\n",
    "nltk.download('tagsets')\n",
    "nltk.download('averaged_perceptron_tagger');"
   ]
  },
  {
   "cell_type": "markdown",
   "id": "61b7f20f",
   "metadata": {},
   "source": [
    "## Constants"
   ]
  },
  {
   "cell_type": "code",
   "execution_count": 2,
   "id": "5a390b5c",
   "metadata": {
    "ExecuteTime": {
     "end_time": "2023-02-15T14:54:12.469310Z",
     "start_time": "2023-02-15T14:54:12.455325Z"
    }
   },
   "outputs": [],
   "source": [
    "tweet_list_file = 'tweet_list2.csv'"
   ]
  },
  {
   "cell_type": "markdown",
   "id": "b7a0e785",
   "metadata": {},
   "source": [
    "## Functions\n",
    "\n",
    "These are helper functions that assist in the manipulation of tweet strings for pre-processing purposes."
   ]
  },
  {
   "cell_type": "code",
   "execution_count": 3,
   "id": "56ae6a9b",
   "metadata": {
    "ExecuteTime": {
     "end_time": "2023-02-15T14:54:12.516163Z",
     "start_time": "2023-02-15T14:54:12.483251Z"
    }
   },
   "outputs": [],
   "source": [
    "def strip_rt_user(text):\n",
    "    if text[0:2] == \"RT\":\n",
    "        colon = text.find(\":\")\n",
    "        return text[colon+1:].lower()\n",
    "    else:\n",
    "        return text.lower()\n",
    "\n",
    "def get_rt_user(text):\n",
    "    if text[0:2] == \"RT\":\n",
    "        colon = text.find(\":\")\n",
    "        user = text[:colon]\n",
    "        at = user.find(\"@\")\n",
    "        return (user[at+1:]).lower()\n",
    "    else:\n",
    "        return \"\"\n",
    "\n",
    "def addHashTags(text):\n",
    "    return \"#\" + text + \"#\"\n",
    "\n",
    "# Translate nltk POS to wordnet tags\n",
    "def get_wordnet_pos(treebank_tag):\n",
    "    '''\n",
    "    Translate nltk POS to wordnet tags\n",
    "    '''\n",
    "    if treebank_tag.startswith('J'):\n",
    "        return wordnet.ADJ\n",
    "    elif treebank_tag.startswith('V'):\n",
    "        return wordnet.VERB\n",
    "    elif treebank_tag.startswith('N'):\n",
    "        return wordnet.NOUN\n",
    "    elif treebank_tag.startswith('R'):\n",
    "        return wordnet.ADV\n",
    "    else:\n",
    "        return wordnet.NOUN\n",
    "\n",
    "def remove_characters(text, char_to_remove):\n",
    "    str1 = ''.join(x for x in text if not x in char_to_remove)\n",
    "    return str1\n",
    "\n",
    "def remove_punctuation(text):\n",
    "    text = remove_characters(text, string.punctuation)\n",
    "    return text\n",
    "\n",
    "def tag_and_lemmatize(text):\n",
    "    newText = text\n",
    "    newText = pos_tag(newText)\n",
    "    newText = [(x[0], get_wordnet_pos(x[1])) for x in newText]\n",
    "    lemma = nltk.stem.WordNetLemmatizer()\n",
    "    newText = [(lemma.lemmatize(x[0], x[1])) for x in newText]\n",
    "    return newText\n",
    "\n",
    "def dummy_fun(doc):\n",
    "    return doc\n",
    "\n",
    "# perform all pre-processing on a df\n",
    "def preprocessing(df):\n",
    "    preprocessing_01_model_specific(df)\n",
    "    preprocessing_02_general(df)\n",
    "    preprocessing_03_tag_and_lemmatize(df)\n",
    "    \n",
    "    \n",
    "def preprocessing_01_model_specific(df):\n",
    "    # Copy the RT user name from the text column and put it into a different column.\n",
    "    df['RT_user'] = df['text'].apply(get_rt_user)\n",
    "    df['RT_user'] = df['RT_user'].apply(lambda x: addHashTags(x) if x != \"\" else \"\")\n",
    "\n",
    "    # Pull out the RT user name from the text column\n",
    "    df['text'] = df['text'].apply(strip_rt_user)\n",
    "    \n",
    "def preprocessing_02_general(df):\n",
    "    # Lower case the text tweets\n",
    "    df['text'] = df['text'].str.lower()\n",
    "\n",
    "    # Strip out the meaningless links\n",
    "    df['text'] = df['text'].apply(lambda x: \" \".join([n for n in x.split() if n[0:4] != \"http\"]))\n",
    "\n",
    "    # Strip any excess white space\n",
    "    df['text'] = df['text'].apply(lambda x: x.strip())\n",
    "    \n",
    "    # Take out stop words\n",
    "    sw = set(stopwords.words('english'))\n",
    "    sw.update(['amp'])\n",
    "    df['text'] = df['text'].apply(lambda x: \" \".join([n for n in x.split() if n not in sw]))\n",
    "\n",
    "    # Remove punctuation\n",
    "    df['text'] = df['text'].apply(lambda x: remove_punctuation(x))\n",
    "\n",
    "    # Make sure we don't have any random numbers\n",
    "    df['text'] = df['text'].apply(lambda x: \" \".join([n for n in x.split() if n.isnumeric() == False]))\n",
    "\n",
    "    # Put together the RT user and the tweet text\n",
    "    df['text'] = df['text'] + \" \" + df['RT_user']\n",
    "\n",
    "    # Make a new column, tokenize the words\n",
    "    df['text_tokenized'] = df['text'].str.split()\n",
    "    \n",
    "    df = df.drop(columns=['id', 'author_id', 'created_at'])\n",
    "    \n",
    "    df['text'] = df['text'].apply(lambda x: np.nan if len(x.strip()) == 0 else x)\n",
    "    df = df.dropna().reset_index(drop=True) \n",
    "\n",
    "    le = LabelEncoder()\n",
    "    df['class_label'] = le.fit_transform(df['class'])\n",
    "    df.head()\n",
    "    \n",
    "def preprocessing_03_tag_and_lemmatize(df):\n",
    "    df['text_tokenized'] = df['text_tokenized'].apply(tag_and_lemmatize)"
   ]
  },
  {
   "cell_type": "markdown",
   "id": "09c623f4",
   "metadata": {},
   "source": [
    "## Data Collection"
   ]
  },
  {
   "cell_type": "markdown",
   "id": "b6b2221a",
   "metadata": {},
   "source": [
    "Data collection methods and code is located in a separate notebook linked ([here](notebook_02_data_collection.ipynb))."
   ]
  },
  {
   "cell_type": "markdown",
   "id": "26c72a62",
   "metadata": {
    "ExecuteTime": {
     "end_time": "2023-02-15T05:33:35.951004Z",
     "start_time": "2023-02-15T05:33:35.933045Z"
    }
   },
   "source": [
    "## Load tweet data"
   ]
  },
  {
   "cell_type": "markdown",
   "id": "73a52585",
   "metadata": {},
   "source": [
    "Load the tweet data from file."
   ]
  },
  {
   "cell_type": "code",
   "execution_count": 4,
   "id": "2a0d82a7",
   "metadata": {
    "ExecuteTime": {
     "end_time": "2023-02-15T14:54:13.071782Z",
     "start_time": "2023-02-15T14:54:12.520205Z"
    },
    "scrolled": false
   },
   "outputs": [
    {
     "data": {
      "text/html": [
       "<div>\n",
       "<style scoped>\n",
       "    .dataframe tbody tr th:only-of-type {\n",
       "        vertical-align: middle;\n",
       "    }\n",
       "\n",
       "    .dataframe tbody tr th {\n",
       "        vertical-align: top;\n",
       "    }\n",
       "\n",
       "    .dataframe thead th {\n",
       "        text-align: right;\n",
       "    }\n",
       "</style>\n",
       "<table border=\"1\" class=\"dataframe\">\n",
       "  <thead>\n",
       "    <tr style=\"text-align: right;\">\n",
       "      <th></th>\n",
       "      <th>user_name</th>\n",
       "      <th>class</th>\n",
       "      <th>id</th>\n",
       "      <th>text</th>\n",
       "      <th>author_id</th>\n",
       "      <th>created_at</th>\n",
       "    </tr>\n",
       "  </thead>\n",
       "  <tbody>\n",
       "    <tr>\n",
       "      <th>0</th>\n",
       "      <td>TeamPelosi</td>\n",
       "      <td>Politics - Liberal</td>\n",
       "      <td>1620527449326108672</td>\n",
       "      <td>On this day 83 years ago, Democrats Delivered the first Social Security checks ever!  ...</td>\n",
       "      <td>2461810448</td>\n",
       "      <td>2023-01-31 21:00:26+00:00</td>\n",
       "    </tr>\n",
       "    <tr>\n",
       "      <th>1</th>\n",
       "      <td>TeamPelosi</td>\n",
       "      <td>Politics - Liberal</td>\n",
       "      <td>1620131183597359104</td>\n",
       "      <td>We must keep our children safe from gun violence. Safe storage of guns saves lives and...</td>\n",
       "      <td>2461810448</td>\n",
       "      <td>2023-01-30 18:45:49+00:00</td>\n",
       "    </tr>\n",
       "    <tr>\n",
       "      <th>2</th>\n",
       "      <td>TeamPelosi</td>\n",
       "      <td>Politics - Liberal</td>\n",
       "      <td>1619445261784477696</td>\n",
       "      <td>Democrats believe that health care is a human right  and #DemocratsDelivered help for ...</td>\n",
       "      <td>2461810448</td>\n",
       "      <td>2023-01-28 21:20:12+00:00</td>\n",
       "    </tr>\n",
       "    <tr>\n",
       "      <th>3</th>\n",
       "      <td>TeamPelosi</td>\n",
       "      <td>Politics - Liberal</td>\n",
       "      <td>1619183614050156544</td>\n",
       "      <td>Congratulations @PADems for your hard-won victories electing Pennsylvania Democrats wh...</td>\n",
       "      <td>2461810448</td>\n",
       "      <td>2023-01-28 04:00:31+00:00</td>\n",
       "    </tr>\n",
       "    <tr>\n",
       "      <th>4</th>\n",
       "      <td>TeamPelosi</td>\n",
       "      <td>Politics - Liberal</td>\n",
       "      <td>1619157193626116098</td>\n",
       "      <td>My heart goes out to Tyre Nichols mother and their entire family. Tyre should be alive...</td>\n",
       "      <td>2461810448</td>\n",
       "      <td>2023-01-28 02:15:32+00:00</td>\n",
       "    </tr>\n",
       "  </tbody>\n",
       "</table>\n",
       "</div>"
      ],
      "text/plain": [
       "    user_name               class                   id  \\\n",
       "0  TeamPelosi  Politics - Liberal  1620527449326108672   \n",
       "1  TeamPelosi  Politics - Liberal  1620131183597359104   \n",
       "2  TeamPelosi  Politics - Liberal  1619445261784477696   \n",
       "3  TeamPelosi  Politics - Liberal  1619183614050156544   \n",
       "4  TeamPelosi  Politics - Liberal  1619157193626116098   \n",
       "\n",
       "                                                                                        text  \\\n",
       "0  On this day 83 years ago, Democrats Delivered the first Social Security checks ever!  ...   \n",
       "1  We must keep our children safe from gun violence. Safe storage of guns saves lives and...   \n",
       "2  Democrats believe that health care is a human right  and #DemocratsDelivered help for ...   \n",
       "3  Congratulations @PADems for your hard-won victories electing Pennsylvania Democrats wh...   \n",
       "4  My heart goes out to Tyre Nichols mother and their entire family. Tyre should be alive...   \n",
       "\n",
       "    author_id                 created_at  \n",
       "0  2461810448  2023-01-31 21:00:26+00:00  \n",
       "1  2461810448  2023-01-30 18:45:49+00:00  \n",
       "2  2461810448  2023-01-28 21:20:12+00:00  \n",
       "3  2461810448  2023-01-28 04:00:31+00:00  \n",
       "4  2461810448  2023-01-28 02:15:32+00:00  "
      ]
     },
     "execution_count": 4,
     "metadata": {},
     "output_type": "execute_result"
    }
   ],
   "source": [
    "# Load tweets from file\n",
    "df = pd.read_csv(tweet_list_file)\n",
    "\n",
    "# Format all series as strings\n",
    "for n in df.columns:\n",
    "    df[n] = df[n].astype(str)\n",
    "\n",
    "# Check out the data\n",
    "df.head()"
   ]
  },
  {
   "cell_type": "markdown",
   "id": "c7b974f2",
   "metadata": {},
   "source": [
    "## Data cleaning"
   ]
  },
  {
   "cell_type": "markdown",
   "id": "0b1744dc",
   "metadata": {},
   "source": [
    "**Check for nulls**"
   ]
  },
  {
   "cell_type": "code",
   "execution_count": 5,
   "id": "f4b6a288",
   "metadata": {
    "ExecuteTime": {
     "end_time": "2023-02-15T14:54:13.148590Z",
     "start_time": "2023-02-15T14:54:13.073673Z"
    }
   },
   "outputs": [
    {
     "name": "stdout",
     "output_type": "stream",
     "text": [
      "<class 'pandas.core.frame.DataFrame'>\n",
      "RangeIndex: 84908 entries, 0 to 84907\n",
      "Data columns (total 6 columns):\n",
      " #   Column      Non-Null Count  Dtype \n",
      "---  ------      --------------  ----- \n",
      " 0   user_name   84908 non-null  object\n",
      " 1   class       84908 non-null  object\n",
      " 2   id          84908 non-null  object\n",
      " 3   text        84908 non-null  object\n",
      " 4   author_id   84908 non-null  object\n",
      " 5   created_at  84908 non-null  object\n",
      "dtypes: object(6)\n",
      "memory usage: 3.9+ MB\n"
     ]
    }
   ],
   "source": [
    "df.info()"
   ]
  },
  {
   "cell_type": "markdown",
   "id": "46703718",
   "metadata": {},
   "source": [
    "Notes:\n",
    "- There are no null values, which makes sense because I downloaded this data myself. "
   ]
  },
  {
   "cell_type": "markdown",
   "id": "8e9b3386",
   "metadata": {},
   "source": [
    "**Check for duplicates**"
   ]
  },
  {
   "cell_type": "code",
   "execution_count": 6,
   "id": "0e566648",
   "metadata": {
    "ExecuteTime": {
     "end_time": "2023-02-15T14:54:13.306174Z",
     "start_time": "2023-02-15T14:54:13.151612Z"
    }
   },
   "outputs": [
    {
     "data": {
      "text/plain": [
       "803"
      ]
     },
     "execution_count": 6,
     "metadata": {},
     "output_type": "execute_result"
    }
   ],
   "source": [
    "df.duplicated().sum()"
   ]
  },
  {
   "cell_type": "markdown",
   "id": "a45eb47f",
   "metadata": {},
   "source": [
    "Notes:\n",
    "- I have some duplicate tweets.  As I noted in the data collection notebook, I must have downloaded some tweets from the same account multiple times while performing the download function. "
   ]
  },
  {
   "cell_type": "markdown",
   "id": "f137a0a2",
   "metadata": {},
   "source": [
    "**Drop duplicates**"
   ]
  },
  {
   "cell_type": "code",
   "execution_count": 7,
   "id": "4725b7bc",
   "metadata": {
    "ExecuteTime": {
     "end_time": "2023-02-15T14:54:13.584430Z",
     "start_time": "2023-02-15T14:54:13.309048Z"
    }
   },
   "outputs": [
    {
     "data": {
      "text/plain": [
       "0"
      ]
     },
     "execution_count": 7,
     "metadata": {},
     "output_type": "execute_result"
    }
   ],
   "source": [
    "df = df.drop_duplicates()\n",
    "df.duplicated().sum()"
   ]
  },
  {
   "cell_type": "markdown",
   "id": "ce534ee5",
   "metadata": {},
   "source": [
    "Notes:\n",
    "- Duplicates have been deleted."
   ]
  },
  {
   "cell_type": "markdown",
   "id": "58d86483",
   "metadata": {},
   "source": [
    "## Data review"
   ]
  },
  {
   "cell_type": "markdown",
   "id": "5040948c",
   "metadata": {},
   "source": [
    "Check class balance at the tweet level"
   ]
  },
  {
   "cell_type": "code",
   "execution_count": 8,
   "id": "af36859f",
   "metadata": {
    "ExecuteTime": {
     "end_time": "2023-02-15T14:54:13.615347Z",
     "start_time": "2023-02-15T14:54:13.589417Z"
    },
    "scrolled": true
   },
   "outputs": [
    {
     "data": {
      "text/plain": [
       "Politics - Conservative    15500\n",
       "TV / movies                12007\n",
       "Politics - Liberal         12001\n",
       "Sports                     12000\n",
       "Music                      11600\n",
       "Business and finance        8452\n",
       "Science / Technology        7550\n",
       "Travel                      4995\n",
       "Name: class, dtype: int64"
      ]
     },
     "execution_count": 8,
     "metadata": {},
     "output_type": "execute_result"
    }
   ],
   "source": [
    "df['class'].value_counts()"
   ]
  },
  {
   "cell_type": "markdown",
   "id": "1dcc3f63",
   "metadata": {
    "ExecuteTime": {
     "end_time": "2023-02-15T06:29:25.411417Z",
     "start_time": "2023-02-15T06:29:25.399488Z"
    }
   },
   "source": [
    "Notes: \n",
    "- It's imbalanced but I'm going to leave it and see if we can still make predictions from the data we have"
   ]
  },
  {
   "cell_type": "markdown",
   "id": "544a7abf",
   "metadata": {},
   "source": [
    "# Modeling"
   ]
  },
  {
   "cell_type": "markdown",
   "id": "ba56d5a3",
   "metadata": {},
   "source": [
    "## Pre-processing "
   ]
  },
  {
   "cell_type": "markdown",
   "id": "e4cebad9",
   "metadata": {},
   "source": [
    "**Warning** This code performs all pre-processing, including lemmatization of the tweet text.  As such, it takes a few minutes to run.  "
   ]
  },
  {
   "cell_type": "code",
   "execution_count": 9,
   "id": "795ded53",
   "metadata": {
    "ExecuteTime": {
     "end_time": "2023-02-15T14:55:41.763552Z",
     "start_time": "2023-02-15T14:54:13.619338Z"
    }
   },
   "outputs": [
    {
     "data": {
      "text/html": [
       "<div>\n",
       "<style scoped>\n",
       "    .dataframe tbody tr th:only-of-type {\n",
       "        vertical-align: middle;\n",
       "    }\n",
       "\n",
       "    .dataframe tbody tr th {\n",
       "        vertical-align: top;\n",
       "    }\n",
       "\n",
       "    .dataframe thead th {\n",
       "        text-align: right;\n",
       "    }\n",
       "</style>\n",
       "<table border=\"1\" class=\"dataframe\">\n",
       "  <thead>\n",
       "    <tr style=\"text-align: right;\">\n",
       "      <th></th>\n",
       "      <th>user_name</th>\n",
       "      <th>class</th>\n",
       "      <th>id</th>\n",
       "      <th>text</th>\n",
       "      <th>author_id</th>\n",
       "      <th>created_at</th>\n",
       "      <th>RT_user</th>\n",
       "      <th>text_tokenized</th>\n",
       "    </tr>\n",
       "  </thead>\n",
       "  <tbody>\n",
       "    <tr>\n",
       "      <th>0</th>\n",
       "      <td>TeamPelosi</td>\n",
       "      <td>Politics - Liberal</td>\n",
       "      <td>1620527449326108672</td>\n",
       "      <td>day years ago democrats delivered first social security checks ever republicans social...</td>\n",
       "      <td>2461810448</td>\n",
       "      <td>2023-01-31 21:00:26+00:00</td>\n",
       "      <td></td>\n",
       "      <td>[day, year, ago, democrat, deliver, first, social, security, check, ever, republicans,...</td>\n",
       "    </tr>\n",
       "    <tr>\n",
       "      <th>1</th>\n",
       "      <td>TeamPelosi</td>\n",
       "      <td>Politics - Liberal</td>\n",
       "      <td>1620131183597359104</td>\n",
       "      <td>must keep children safe gun violence safe storage guns saves lives heartbreak thats ho...</td>\n",
       "      <td>2461810448</td>\n",
       "      <td>2023-01-30 18:45:49+00:00</td>\n",
       "      <td></td>\n",
       "      <td>[must, keep, child, safe, gun, violence, safe, storage, gun, save, life, heartbreak, t...</td>\n",
       "    </tr>\n",
       "    <tr>\n",
       "      <th>2</th>\n",
       "      <td>TeamPelosi</td>\n",
       "      <td>Politics - Liberal</td>\n",
       "      <td>1619445261784477696</td>\n",
       "      <td>democrats believe health care human right democratsdelivered help families get coverag...</td>\n",
       "      <td>2461810448</td>\n",
       "      <td>2023-01-28 21:20:12+00:00</td>\n",
       "      <td></td>\n",
       "      <td>[democrat, believe, health, care, human, right, democratsdelivered, help, family, get,...</td>\n",
       "    </tr>\n",
       "    <tr>\n",
       "      <th>3</th>\n",
       "      <td>TeamPelosi</td>\n",
       "      <td>Politics - Liberal</td>\n",
       "      <td>1619183614050156544</td>\n",
       "      <td>congratulations padems hardwon victories electing pennsylvania democrats committed gro...</td>\n",
       "      <td>2461810448</td>\n",
       "      <td>2023-01-28 04:00:31+00:00</td>\n",
       "      <td></td>\n",
       "      <td>[congratulation, padems, hardwon, victory, elect, pennsylvania, democrat, commit, grow...</td>\n",
       "    </tr>\n",
       "    <tr>\n",
       "      <th>4</th>\n",
       "      <td>TeamPelosi</td>\n",
       "      <td>Politics - Liberal</td>\n",
       "      <td>1619157193626116098</td>\n",
       "      <td>heart goes tyre nichols mother entire family tyre alive today justice must done must r...</td>\n",
       "      <td>2461810448</td>\n",
       "      <td>2023-01-28 02:15:32+00:00</td>\n",
       "      <td></td>\n",
       "      <td>[heart, go, tyre, nichols, mother, entire, family, tyre, alive, today, justice, must, ...</td>\n",
       "    </tr>\n",
       "    <tr>\n",
       "      <th>...</th>\n",
       "      <td>...</td>\n",
       "      <td>...</td>\n",
       "      <td>...</td>\n",
       "      <td>...</td>\n",
       "      <td>...</td>\n",
       "      <td>...</td>\n",
       "      <td>...</td>\n",
       "      <td>...</td>\n",
       "    </tr>\n",
       "    <tr>\n",
       "      <th>84903</th>\n",
       "      <td>BBC_Travel</td>\n",
       "      <td>Travel</td>\n",
       "      <td>1317805131052634115</td>\n",
       "      <td>pictureperfect medieval city may show us live better</td>\n",
       "      <td>173992307</td>\n",
       "      <td>2020-10-18 12:30:01+00:00</td>\n",
       "      <td></td>\n",
       "      <td>[pictureperfect, medieval, city, may, show, u, live, good]</td>\n",
       "    </tr>\n",
       "    <tr>\n",
       "      <th>84904</th>\n",
       "      <td>BBC_Travel</td>\n",
       "      <td>Travel</td>\n",
       "      <td>1317586183845605377</td>\n",
       "      <td>stunning alpine landscape lead nietzsche proclaim god dead</td>\n",
       "      <td>173992307</td>\n",
       "      <td>2020-10-17 22:00:00+00:00</td>\n",
       "      <td></td>\n",
       "      <td>[stun, alpine, landscape, lead, nietzsche, proclaim, god, dead]</td>\n",
       "    </tr>\n",
       "    <tr>\n",
       "      <th>84905</th>\n",
       "      <td>BBC_Travel</td>\n",
       "      <td>Travel</td>\n",
       "      <td>1317442744374079491</td>\n",
       "      <td>writing system world used exclusively women</td>\n",
       "      <td>173992307</td>\n",
       "      <td>2020-10-17 12:30:01+00:00</td>\n",
       "      <td></td>\n",
       "      <td>[write, system, world, use, exclusively, woman]</td>\n",
       "    </tr>\n",
       "    <tr>\n",
       "      <th>84906</th>\n",
       "      <td>BBC_Travel</td>\n",
       "      <td>Travel</td>\n",
       "      <td>1317223800035971072</td>\n",
       "      <td>steak spaghetti ketchup postwar japan yoshoku become countrys defacto comfort food act...</td>\n",
       "      <td>173992307</td>\n",
       "      <td>2020-10-16 22:00:01+00:00</td>\n",
       "      <td></td>\n",
       "      <td>[steak, spaghetti, ketchup, postwar, japan, yoshoku, become, countrys, defacto, comfor...</td>\n",
       "    </tr>\n",
       "    <tr>\n",
       "      <th>84907</th>\n",
       "      <td>BBC_Travel</td>\n",
       "      <td>Travel</td>\n",
       "      <td>1317163398224699392</td>\n",
       "      <td>one countrys leastvisited prefectures chefs dramatically sear bonito towering flames</td>\n",
       "      <td>173992307</td>\n",
       "      <td>2020-10-16 18:00:00+00:00</td>\n",
       "      <td></td>\n",
       "      <td>[one, country, leastvisited, prefecture, chef, dramatically, sear, bonito, towering, f...</td>\n",
       "    </tr>\n",
       "  </tbody>\n",
       "</table>\n",
       "<p>84105 rows × 8 columns</p>\n",
       "</div>"
      ],
      "text/plain": [
       "        user_name               class                   id  \\\n",
       "0      TeamPelosi  Politics - Liberal  1620527449326108672   \n",
       "1      TeamPelosi  Politics - Liberal  1620131183597359104   \n",
       "2      TeamPelosi  Politics - Liberal  1619445261784477696   \n",
       "3      TeamPelosi  Politics - Liberal  1619183614050156544   \n",
       "4      TeamPelosi  Politics - Liberal  1619157193626116098   \n",
       "...           ...                 ...                  ...   \n",
       "84903  BBC_Travel              Travel  1317805131052634115   \n",
       "84904  BBC_Travel              Travel  1317586183845605377   \n",
       "84905  BBC_Travel              Travel  1317442744374079491   \n",
       "84906  BBC_Travel              Travel  1317223800035971072   \n",
       "84907  BBC_Travel              Travel  1317163398224699392   \n",
       "\n",
       "                                                                                            text  \\\n",
       "0      day years ago democrats delivered first social security checks ever republicans social...   \n",
       "1      must keep children safe gun violence safe storage guns saves lives heartbreak thats ho...   \n",
       "2      democrats believe health care human right democratsdelivered help families get coverag...   \n",
       "3      congratulations padems hardwon victories electing pennsylvania democrats committed gro...   \n",
       "4      heart goes tyre nichols mother entire family tyre alive today justice must done must r...   \n",
       "...                                                                                          ...   \n",
       "84903                                      pictureperfect medieval city may show us live better    \n",
       "84904                                stunning alpine landscape lead nietzsche proclaim god dead    \n",
       "84905                                               writing system world used exclusively women    \n",
       "84906  steak spaghetti ketchup postwar japan yoshoku become countrys defacto comfort food act...   \n",
       "84907      one countrys leastvisited prefectures chefs dramatically sear bonito towering flames    \n",
       "\n",
       "        author_id                 created_at RT_user  \\\n",
       "0      2461810448  2023-01-31 21:00:26+00:00           \n",
       "1      2461810448  2023-01-30 18:45:49+00:00           \n",
       "2      2461810448  2023-01-28 21:20:12+00:00           \n",
       "3      2461810448  2023-01-28 04:00:31+00:00           \n",
       "4      2461810448  2023-01-28 02:15:32+00:00           \n",
       "...           ...                        ...     ...   \n",
       "84903   173992307  2020-10-18 12:30:01+00:00           \n",
       "84904   173992307  2020-10-17 22:00:00+00:00           \n",
       "84905   173992307  2020-10-17 12:30:01+00:00           \n",
       "84906   173992307  2020-10-16 22:00:01+00:00           \n",
       "84907   173992307  2020-10-16 18:00:00+00:00           \n",
       "\n",
       "                                                                                  text_tokenized  \n",
       "0      [day, year, ago, democrat, deliver, first, social, security, check, ever, republicans,...  \n",
       "1      [must, keep, child, safe, gun, violence, safe, storage, gun, save, life, heartbreak, t...  \n",
       "2      [democrat, believe, health, care, human, right, democratsdelivered, help, family, get,...  \n",
       "3      [congratulation, padems, hardwon, victory, elect, pennsylvania, democrat, commit, grow...  \n",
       "4      [heart, go, tyre, nichols, mother, entire, family, tyre, alive, today, justice, must, ...  \n",
       "...                                                                                          ...  \n",
       "84903                                 [pictureperfect, medieval, city, may, show, u, live, good]  \n",
       "84904                            [stun, alpine, landscape, lead, nietzsche, proclaim, god, dead]  \n",
       "84905                                            [write, system, world, use, exclusively, woman]  \n",
       "84906  [steak, spaghetti, ketchup, postwar, japan, yoshoku, become, countrys, defacto, comfor...  \n",
       "84907  [one, country, leastvisited, prefecture, chef, dramatically, sear, bonito, towering, f...  \n",
       "\n",
       "[84105 rows x 8 columns]"
      ]
     },
     "execution_count": 9,
     "metadata": {},
     "output_type": "execute_result"
    }
   ],
   "source": [
    "# Make a copy of the df, leave the original untouched\n",
    "df_pp = df.copy()\n",
    "preprocessing(df_pp)\n",
    "df_pp"
   ]
  },
  {
   "cell_type": "code",
   "execution_count": 10,
   "id": "b56d6d51",
   "metadata": {
    "ExecuteTime": {
     "end_time": "2023-02-15T14:55:41.779450Z",
     "start_time": "2023-02-15T14:55:41.766513Z"
    }
   },
   "outputs": [
    {
     "data": {
      "text/plain": [
       "array(['TeamPelosi', 'AOC', 'staceyabrams', 'ewarren', 'SenWarren',\n",
       "       'JoeBiden', 'KamalaHarris', 'BarackObama', 'HillaryClinton',\n",
       "       'BillClinton', 'WhiteHouse', 'POTUS', 'MSNBC', 'HuffPost',\n",
       "       'CNNPolitics', 'TheAtlantic', 'MotherJones', 'thedailybeast',\n",
       "       'JoyAnnReid', 'DNC', 'Acyn', 'MeidasTouch', 'briantylercohen',\n",
       "       'mmpadellan', 'MarkRuffalo', 'laurenboebert', 'mattgaetz',\n",
       "       'tedcruz', 'RandPaul', 'GOP', 'RNCResearch', 'foxnewspolitics',\n",
       "       'BreitbartNews', 'NEWSMAX', 'TheDCPolitics', 'OANN',\n",
       "       'realDailyWire', 'JesseBWatters', 'TuckerCarlson', 'JudgeJeanine',\n",
       "       'libsoftiktok', 'JackPosobiec', 'bennyjohnson', 'alx', 'stkirsch',\n",
       "       'DineshDSouza', 'GenFlynn', 'atensnut', 'jordanbpeterson',\n",
       "       'MattWalshBlog', 'MrAndyNgo', 'GovRonDeSantis', 'KariLake',\n",
       "       'RSBNetwork', 'kayleighmcenany', 'LifeNewsHQ', 'barstoolsports',\n",
       "       'espn', 'SportsCenter', 'Sportsnet', 'NFL', 'KingJames', 'MLB',\n",
       "       'Cut4', 'MLBONFOX', 'MLBNetwork', 'NHL', 'FIFAcom', 'Cristiano',\n",
       "       'ChampionsLeague', 'neymarjr', 'imVkohli', 'NBA', 'realmadrid',\n",
       "       'FCBarcelona', 'CBSSports', 'NBCSports', 'BleacherReport',\n",
       "       'StephenCurry30', 'KDTrey5', 'ReutersBiz', 'CNBC', 'jimcramer',\n",
       "       'markets', 'WSJmarkets', 'WSJbusiness', 'FinancialTimes', 'wealth',\n",
       "       'BloombergTV', 'YahooFinance', 'PearlJam', 'RollingStones',\n",
       "       'billyjoel', 'justinbieber', 'katyperry', 'rihanna',\n",
       "       'taylorswift13', 'jtimberlake', 'britneyspears', 'shakira',\n",
       "       'ddlovato', 'Jlo', 'BrunoMars', 'Drake', 'MileyCyrus', 'ladygaga',\n",
       "       'NICKIMINAJ', 'Pink', 'selenagomez', 'Eminem', 'onedirection',\n",
       "       'coldplay', 'SnoopDogg', 'iamwill', 'edsheeran', 'chrisbrown',\n",
       "       'Harry_Styles', 'Spotify', 'AppleMusic', 'TomCruise', 'TheRock',\n",
       "       'MarvelStudios', 'DisneyStudios', 'netflix', 'Oprah',\n",
       "       'jimmyfallon', 'JimmyKimmelLive', 'SimonCowell', 'ZacEfron',\n",
       "       'ABCNetwork', 'NBCNetwork', 'CBS', 'wbpictures', 'UniversalPics',\n",
       "       '20thcentury', 'SonyPictures', 'DisneyAnimation', 'Pixar',\n",
       "       'ParamountPics', 'RottenTomatoes', 'NASA', 'NatGeo', 'SpaceX',\n",
       "       'ScienceMagazine', 'appleinsider', '9to5mac', 'Microsoft',\n",
       "       'Google', 'GoogleAI', 'travelchannel', 'travelocity',\n",
       "       'NatGeoTravel', 'nytimestravel', 'lonelyplanet', 'BBC_Travel'],\n",
       "      dtype=object)"
      ]
     },
     "execution_count": 10,
     "metadata": {},
     "output_type": "execute_result"
    }
   ],
   "source": [
    "df_pp.user_name.unique()"
   ]
  },
  {
   "cell_type": "markdown",
   "id": "89a9037d",
   "metadata": {},
   "source": [
    "Make sure there's no nulls after processing"
   ]
  },
  {
   "cell_type": "code",
   "execution_count": 11,
   "id": "b0c0d790",
   "metadata": {
    "ExecuteTime": {
     "end_time": "2023-02-15T14:55:41.841330Z",
     "start_time": "2023-02-15T14:55:41.781440Z"
    }
   },
   "outputs": [
    {
     "data": {
      "text/plain": [
       "user_name         0\n",
       "class             0\n",
       "id                0\n",
       "text              0\n",
       "author_id         0\n",
       "created_at        0\n",
       "RT_user           0\n",
       "text_tokenized    0\n",
       "dtype: int64"
      ]
     },
     "execution_count": 11,
     "metadata": {},
     "output_type": "execute_result"
    }
   ],
   "source": [
    "df_pp.isna().sum()"
   ]
  },
  {
   "cell_type": "markdown",
   "id": "8cd60b87",
   "metadata": {},
   "source": [
    "First, let's try to predict the primary interest of the user between our main classifications:\n",
    "- Politics\n",
    "- Sports\n",
    "- Entertainment\n",
    "- Business and finance\n",
    "- Travel\n",
    "- Science / Technology"
   ]
  },
  {
   "cell_type": "code",
   "execution_count": 12,
   "id": "ddf6e274",
   "metadata": {
    "ExecuteTime": {
     "end_time": "2023-02-15T14:55:41.902231Z",
     "start_time": "2023-02-15T14:55:41.845272Z"
    }
   },
   "outputs": [
    {
     "data": {
      "text/plain": [
       "Politics                27501\n",
       "Entertainment           23607\n",
       "Sports                  12000\n",
       "Business                 8452\n",
       "Science / Technology     7550\n",
       "Name: class, dtype: int64"
      ]
     },
     "execution_count": 12,
     "metadata": {},
     "output_type": "execute_result"
    }
   ],
   "source": [
    "df_pp.loc[(df_pp['class'] == 'Politics - Conservative') | (df_pp['class'] == 'Politics - Liberal'), 'class'] = 'Politics'\n",
    "df_pp.loc[(df_pp['class'] == 'Music') | (df_pp['class'] == 'TV / movies'), 'class'] = 'Entertainment'\n",
    "df_pp.loc[(df_pp['class'] == 'Business and finance'), 'class'] = 'Business'\n",
    "# df_pp.loc[(df_pp['class'] == 'Business and finance') | (df_pp['class'] == 'Science / Technology'), 'class'] = 'Business and technology'\n",
    "df_pp = df_pp[df_pp['class'] != 'Travel']\n",
    "df_pp['class'].value_counts()"
   ]
  },
  {
   "cell_type": "markdown",
   "id": "bf345c3c",
   "metadata": {
    "ExecuteTime": {
     "end_time": "2023-02-15T08:01:47.405009Z",
     "start_time": "2023-02-15T08:01:47.395429Z"
    }
   },
   "source": [
    "Aggregate all text words by account"
   ]
  },
  {
   "cell_type": "code",
   "execution_count": 13,
   "id": "a1825f00",
   "metadata": {
    "ExecuteTime": {
     "end_time": "2023-02-15T14:55:42.792050Z",
     "start_time": "2023-02-15T14:55:41.905112Z"
    }
   },
   "outputs": [
    {
     "data": {
      "text/html": [
       "<div>\n",
       "<style scoped>\n",
       "    .dataframe tbody tr th:only-of-type {\n",
       "        vertical-align: middle;\n",
       "    }\n",
       "\n",
       "    .dataframe tbody tr th {\n",
       "        vertical-align: top;\n",
       "    }\n",
       "\n",
       "    .dataframe thead th {\n",
       "        text-align: right;\n",
       "    }\n",
       "</style>\n",
       "<table border=\"1\" class=\"dataframe\">\n",
       "  <thead>\n",
       "    <tr style=\"text-align: right;\">\n",
       "      <th></th>\n",
       "      <th>user_name</th>\n",
       "      <th>class</th>\n",
       "      <th>text_tokenized</th>\n",
       "    </tr>\n",
       "  </thead>\n",
       "  <tbody>\n",
       "    <tr>\n",
       "      <th>0</th>\n",
       "      <td>20thcentury</td>\n",
       "      <td>Entertainment</td>\n",
       "      <td>[titanic, sail, back, theater, valentine, day, weekend, 25th, anniversary, #theacademy...</td>\n",
       "    </tr>\n",
       "    <tr>\n",
       "      <th>1</th>\n",
       "      <td>9to5mac</td>\n",
       "      <td>Science / Technology</td>\n",
       "      <td>[9to5toys, last, call, eve, room, homekit, air, quality, monitor, mophie, snap, magsaf...</td>\n",
       "    </tr>\n",
       "    <tr>\n",
       "      <th>2</th>\n",
       "      <td>ABCNetwork</td>\n",
       "      <td>Entertainment</td>\n",
       "      <td>[even, betty, think, will, slip, miss, allnew, episode, willtrent, tonight, 109c, abc,...</td>\n",
       "    </tr>\n",
       "    <tr>\n",
       "      <th>3</th>\n",
       "      <td>AOC</td>\n",
       "      <td>Politics</td>\n",
       "      <td>[excite, humble, share, even, select, serve, repraskins, house, oversight, committee, ...</td>\n",
       "    </tr>\n",
       "    <tr>\n",
       "      <th>4</th>\n",
       "      <td>Acyn</td>\n",
       "      <td>Politics</td>\n",
       "      <td>[chad, comer, appear, coown, property, james, comer, receive, small, amount, covid, mo...</td>\n",
       "    </tr>\n",
       "    <tr>\n",
       "      <th>...</th>\n",
       "      <td>...</td>\n",
       "      <td>...</td>\n",
       "      <td>...</td>\n",
       "    </tr>\n",
       "    <tr>\n",
       "      <th>144</th>\n",
       "      <td>taylorswift13</td>\n",
       "      <td>Entertainment</td>\n",
       "      <td>[first, video, write, release, one, really, help, conceptualize, world, mood, midnight...</td>\n",
       "    </tr>\n",
       "    <tr>\n",
       "      <th>145</th>\n",
       "      <td>tedcruz</td>\n",
       "      <td>Politics</td>\n",
       "      <td>[mayorkas, impeach, month, ago, thank, sentedcruz, put, extra, emphasis, issue, #fairi...</td>\n",
       "    </tr>\n",
       "    <tr>\n",
       "      <th>146</th>\n",
       "      <td>thedailybeast</td>\n",
       "      <td>Politics</td>\n",
       "      <td>[favorite, part, jimmykimmel, ask, first, guest, pamela, anderson, ever, meet, mypillo...</td>\n",
       "    </tr>\n",
       "    <tr>\n",
       "      <th>147</th>\n",
       "      <td>wbpictures</td>\n",
       "      <td>Entertainment</td>\n",
       "      <td>[plan, up, up, away, dcstudios, dcu, dccomics, #jamesgunn#, time, grow, up, shazam, fu...</td>\n",
       "    </tr>\n",
       "    <tr>\n",
       "      <th>148</th>\n",
       "      <td>wealth</td>\n",
       "      <td>Business</td>\n",
       "      <td>[new, sean, penn, nonprofit, make, name, covidera, hero, current, former, employee, al...</td>\n",
       "    </tr>\n",
       "  </tbody>\n",
       "</table>\n",
       "<p>149 rows × 3 columns</p>\n",
       "</div>"
      ],
      "text/plain": [
       "         user_name                 class  \\\n",
       "0      20thcentury         Entertainment   \n",
       "1          9to5mac  Science / Technology   \n",
       "2       ABCNetwork         Entertainment   \n",
       "3              AOC              Politics   \n",
       "4             Acyn              Politics   \n",
       "..             ...                   ...   \n",
       "144  taylorswift13         Entertainment   \n",
       "145        tedcruz              Politics   \n",
       "146  thedailybeast              Politics   \n",
       "147     wbpictures         Entertainment   \n",
       "148         wealth              Business   \n",
       "\n",
       "                                                                                text_tokenized  \n",
       "0    [titanic, sail, back, theater, valentine, day, weekend, 25th, anniversary, #theacademy...  \n",
       "1    [9to5toys, last, call, eve, room, homekit, air, quality, monitor, mophie, snap, magsaf...  \n",
       "2    [even, betty, think, will, slip, miss, allnew, episode, willtrent, tonight, 109c, abc,...  \n",
       "3    [excite, humble, share, even, select, serve, repraskins, house, oversight, committee, ...  \n",
       "4    [chad, comer, appear, coown, property, james, comer, receive, small, amount, covid, mo...  \n",
       "..                                                                                         ...  \n",
       "144  [first, video, write, release, one, really, help, conceptualize, world, mood, midnight...  \n",
       "145  [mayorkas, impeach, month, ago, thank, sentedcruz, put, extra, emphasis, issue, #fairi...  \n",
       "146  [favorite, part, jimmykimmel, ask, first, guest, pamela, anderson, ever, meet, mypillo...  \n",
       "147  [plan, up, up, away, dcstudios, dcu, dccomics, #jamesgunn#, time, grow, up, shazam, fu...  \n",
       "148  [new, sean, penn, nonprofit, make, name, covidera, hero, current, former, employee, al...  \n",
       "\n",
       "[149 rows x 3 columns]"
      ]
     },
     "execution_count": 13,
     "metadata": {},
     "output_type": "execute_result"
    }
   ],
   "source": [
    "df_model = df_pp.groupby(['user_name', 'class']).agg({'text_tokenized': 'sum'}).reset_index()\n",
    "df_model"
   ]
  },
  {
   "cell_type": "code",
   "execution_count": 14,
   "id": "c911ea77",
   "metadata": {
    "ExecuteTime": {
     "end_time": "2023-02-15T14:55:42.807699Z",
     "start_time": "2023-02-15T14:55:42.794761Z"
    }
   },
   "outputs": [
    {
     "data": {
      "text/plain": [
       "Politics                56\n",
       "Entertainment           50\n",
       "Sports                  24\n",
       "Business                10\n",
       "Science / Technology     9\n",
       "Name: class, dtype: int64"
      ]
     },
     "execution_count": 14,
     "metadata": {},
     "output_type": "execute_result"
    }
   ],
   "source": [
    "df_model['class'].value_counts()"
   ]
  },
  {
   "cell_type": "code",
   "execution_count": 15,
   "id": "0dde55a4",
   "metadata": {
    "ExecuteTime": {
     "end_time": "2023-02-15T14:55:42.872533Z",
     "start_time": "2023-02-15T14:55:42.811693Z"
    },
    "scrolled": true
   },
   "outputs": [
    {
     "data": {
      "text/html": [
       "<div>\n",
       "<style scoped>\n",
       "    .dataframe tbody tr th:only-of-type {\n",
       "        vertical-align: middle;\n",
       "    }\n",
       "\n",
       "    .dataframe tbody tr th {\n",
       "        vertical-align: top;\n",
       "    }\n",
       "\n",
       "    .dataframe thead th {\n",
       "        text-align: right;\n",
       "    }\n",
       "</style>\n",
       "<table border=\"1\" class=\"dataframe\">\n",
       "  <thead>\n",
       "    <tr style=\"text-align: right;\">\n",
       "      <th></th>\n",
       "      <th>user_name</th>\n",
       "      <th>class</th>\n",
       "      <th>text_tokenized</th>\n",
       "      <th>count_words</th>\n",
       "    </tr>\n",
       "  </thead>\n",
       "  <tbody>\n",
       "    <tr>\n",
       "      <th>0</th>\n",
       "      <td>20thcentury</td>\n",
       "      <td>Entertainment</td>\n",
       "      <td>[titanic, sail, back, theater, valentine, day, weekend, 25th, anniversary, #theacademy...</td>\n",
       "      <td>6348</td>\n",
       "    </tr>\n",
       "    <tr>\n",
       "      <th>1</th>\n",
       "      <td>9to5mac</td>\n",
       "      <td>Science / Technology</td>\n",
       "      <td>[9to5toys, last, call, eve, room, homekit, air, quality, monitor, mophie, snap, magsaf...</td>\n",
       "      <td>8886</td>\n",
       "    </tr>\n",
       "    <tr>\n",
       "      <th>2</th>\n",
       "      <td>ABCNetwork</td>\n",
       "      <td>Entertainment</td>\n",
       "      <td>[even, betty, think, will, slip, miss, allnew, episode, willtrent, tonight, 109c, abc,...</td>\n",
       "      <td>5739</td>\n",
       "    </tr>\n",
       "    <tr>\n",
       "      <th>3</th>\n",
       "      <td>AOC</td>\n",
       "      <td>Politics</td>\n",
       "      <td>[excite, humble, share, even, select, serve, repraskins, house, oversight, committee, ...</td>\n",
       "      <td>7371</td>\n",
       "    </tr>\n",
       "    <tr>\n",
       "      <th>4</th>\n",
       "      <td>Acyn</td>\n",
       "      <td>Politics</td>\n",
       "      <td>[chad, comer, appear, coown, property, james, comer, receive, small, amount, covid, mo...</td>\n",
       "      <td>5426</td>\n",
       "    </tr>\n",
       "    <tr>\n",
       "      <th>...</th>\n",
       "      <td>...</td>\n",
       "      <td>...</td>\n",
       "      <td>...</td>\n",
       "      <td>...</td>\n",
       "    </tr>\n",
       "    <tr>\n",
       "      <th>144</th>\n",
       "      <td>taylorswift13</td>\n",
       "      <td>Entertainment</td>\n",
       "      <td>[first, video, write, release, one, really, help, conceptualize, world, mood, midnight...</td>\n",
       "      <td>5157</td>\n",
       "    </tr>\n",
       "    <tr>\n",
       "      <th>145</th>\n",
       "      <td>tedcruz</td>\n",
       "      <td>Politics</td>\n",
       "      <td>[mayorkas, impeach, month, ago, thank, sentedcruz, put, extra, emphasis, issue, #fairi...</td>\n",
       "      <td>5211</td>\n",
       "    </tr>\n",
       "    <tr>\n",
       "      <th>146</th>\n",
       "      <td>thedailybeast</td>\n",
       "      <td>Politics</td>\n",
       "      <td>[favorite, part, jimmykimmel, ask, first, guest, pamela, anderson, ever, meet, mypillo...</td>\n",
       "      <td>7388</td>\n",
       "    </tr>\n",
       "    <tr>\n",
       "      <th>147</th>\n",
       "      <td>wbpictures</td>\n",
       "      <td>Entertainment</td>\n",
       "      <td>[plan, up, up, away, dcstudios, dcu, dccomics, #jamesgunn#, time, grow, up, shazam, fu...</td>\n",
       "      <td>6226</td>\n",
       "    </tr>\n",
       "    <tr>\n",
       "      <th>148</th>\n",
       "      <td>wealth</td>\n",
       "      <td>Business</td>\n",
       "      <td>[new, sean, penn, nonprofit, make, name, covidera, hero, current, former, employee, al...</td>\n",
       "      <td>9750</td>\n",
       "    </tr>\n",
       "  </tbody>\n",
       "</table>\n",
       "<p>149 rows × 4 columns</p>\n",
       "</div>"
      ],
      "text/plain": [
       "         user_name                 class  \\\n",
       "0      20thcentury         Entertainment   \n",
       "1          9to5mac  Science / Technology   \n",
       "2       ABCNetwork         Entertainment   \n",
       "3              AOC              Politics   \n",
       "4             Acyn              Politics   \n",
       "..             ...                   ...   \n",
       "144  taylorswift13         Entertainment   \n",
       "145        tedcruz              Politics   \n",
       "146  thedailybeast              Politics   \n",
       "147     wbpictures         Entertainment   \n",
       "148         wealth              Business   \n",
       "\n",
       "                                                                                text_tokenized  \\\n",
       "0    [titanic, sail, back, theater, valentine, day, weekend, 25th, anniversary, #theacademy...   \n",
       "1    [9to5toys, last, call, eve, room, homekit, air, quality, monitor, mophie, snap, magsaf...   \n",
       "2    [even, betty, think, will, slip, miss, allnew, episode, willtrent, tonight, 109c, abc,...   \n",
       "3    [excite, humble, share, even, select, serve, repraskins, house, oversight, committee, ...   \n",
       "4    [chad, comer, appear, coown, property, james, comer, receive, small, amount, covid, mo...   \n",
       "..                                                                                         ...   \n",
       "144  [first, video, write, release, one, really, help, conceptualize, world, mood, midnight...   \n",
       "145  [mayorkas, impeach, month, ago, thank, sentedcruz, put, extra, emphasis, issue, #fairi...   \n",
       "146  [favorite, part, jimmykimmel, ask, first, guest, pamela, anderson, ever, meet, mypillo...   \n",
       "147  [plan, up, up, away, dcstudios, dcu, dccomics, #jamesgunn#, time, grow, up, shazam, fu...   \n",
       "148  [new, sean, penn, nonprofit, make, name, covidera, hero, current, former, employee, al...   \n",
       "\n",
       "     count_words  \n",
       "0           6348  \n",
       "1           8886  \n",
       "2           5739  \n",
       "3           7371  \n",
       "4           5426  \n",
       "..           ...  \n",
       "144         5157  \n",
       "145         5211  \n",
       "146         7388  \n",
       "147         6226  \n",
       "148         9750  \n",
       "\n",
       "[149 rows x 4 columns]"
      ]
     },
     "execution_count": 15,
     "metadata": {},
     "output_type": "execute_result"
    }
   ],
   "source": [
    "df_model['count_words'] = df_model['text_tokenized'].apply(len)\n",
    "df_model"
   ]
  },
  {
   "cell_type": "code",
   "execution_count": 16,
   "id": "5af35944",
   "metadata": {
    "ExecuteTime": {
     "end_time": "2023-02-15T14:55:42.903451Z",
     "start_time": "2023-02-15T14:55:42.880505Z"
    }
   },
   "outputs": [
    {
     "data": {
      "text/plain": [
       "Politics                0.375839\n",
       "Entertainment           0.335570\n",
       "Sports                  0.161074\n",
       "Business                0.067114\n",
       "Science / Technology    0.060403\n",
       "Name: class, dtype: float64"
      ]
     },
     "execution_count": 16,
     "metadata": {},
     "output_type": "execute_result"
    }
   ],
   "source": [
    "df_model['class'].value_counts(normalize=True)"
   ]
  },
  {
   "cell_type": "markdown",
   "id": "cd1aa901",
   "metadata": {},
   "source": [
    "Aggregate word count by class"
   ]
  },
  {
   "cell_type": "code",
   "execution_count": 17,
   "id": "d6fd79ca",
   "metadata": {
    "ExecuteTime": {
     "end_time": "2023-02-15T14:55:42.933399Z",
     "start_time": "2023-02-15T14:55:42.909489Z"
    },
    "scrolled": true
   },
   "outputs": [
    {
     "data": {
      "text/html": [
       "<div>\n",
       "<style scoped>\n",
       "    .dataframe tbody tr th:only-of-type {\n",
       "        vertical-align: middle;\n",
       "    }\n",
       "\n",
       "    .dataframe tbody tr th {\n",
       "        vertical-align: top;\n",
       "    }\n",
       "\n",
       "    .dataframe thead th {\n",
       "        text-align: right;\n",
       "    }\n",
       "</style>\n",
       "<table border=\"1\" class=\"dataframe\">\n",
       "  <thead>\n",
       "    <tr style=\"text-align: right;\">\n",
       "      <th></th>\n",
       "      <th>class</th>\n",
       "      <th>count_words</th>\n",
       "    </tr>\n",
       "  </thead>\n",
       "  <tbody>\n",
       "    <tr>\n",
       "      <th>0</th>\n",
       "      <td>Business</td>\n",
       "      <td>110475</td>\n",
       "    </tr>\n",
       "    <tr>\n",
       "      <th>1</th>\n",
       "      <td>Entertainment</td>\n",
       "      <td>232995</td>\n",
       "    </tr>\n",
       "    <tr>\n",
       "      <th>2</th>\n",
       "      <td>Politics</td>\n",
       "      <td>370771</td>\n",
       "    </tr>\n",
       "    <tr>\n",
       "      <th>3</th>\n",
       "      <td>Science / Technology</td>\n",
       "      <td>109941</td>\n",
       "    </tr>\n",
       "    <tr>\n",
       "      <th>4</th>\n",
       "      <td>Sports</td>\n",
       "      <td>107750</td>\n",
       "    </tr>\n",
       "  </tbody>\n",
       "</table>\n",
       "</div>"
      ],
      "text/plain": [
       "                  class  count_words\n",
       "0              Business       110475\n",
       "1         Entertainment       232995\n",
       "2              Politics       370771\n",
       "3  Science / Technology       109941\n",
       "4                Sports       107750"
      ]
     },
     "execution_count": 17,
     "metadata": {},
     "output_type": "execute_result"
    }
   ],
   "source": [
    "df_model_by_class = df_model.groupby(['class']).agg({'count_words': 'sum'}).reset_index()\n",
    "df_model_by_class"
   ]
  },
  {
   "cell_type": "markdown",
   "id": "30444da0",
   "metadata": {},
   "source": [
    "## Train-test-split"
   ]
  },
  {
   "cell_type": "code",
   "execution_count": 18,
   "id": "642a596a",
   "metadata": {
    "ExecuteTime": {
     "end_time": "2023-02-15T14:55:42.949415Z",
     "start_time": "2023-02-15T14:55:42.935392Z"
    }
   },
   "outputs": [],
   "source": [
    "X = df_model['text_tokenized']\n",
    "y = df_model['class']\n",
    "X_train, X_test, y_train, y_test = train_test_split(X, y, test_size=.45, stratify=y)"
   ]
  },
  {
   "cell_type": "markdown",
   "id": "115cf808",
   "metadata": {},
   "source": [
    "## Dummy Classifier"
   ]
  },
  {
   "cell_type": "markdown",
   "id": "43ac2533",
   "metadata": {},
   "source": [
    "Use Dummy Classifier to predict most frequent label"
   ]
  },
  {
   "cell_type": "code",
   "execution_count": 19,
   "id": "34b9088d",
   "metadata": {
    "ExecuteTime": {
     "end_time": "2023-02-15T14:55:42.981440Z",
     "start_time": "2023-02-15T14:55:42.954617Z"
    }
   },
   "outputs": [
    {
     "data": {
      "text/plain": [
       "'Politics'"
      ]
     },
     "execution_count": 19,
     "metadata": {},
     "output_type": "execute_result"
    }
   ],
   "source": [
    "dummy_clf = DummyClassifier(strategy=\"most_frequent\")\n",
    "dummy_clf.fit(X, y)\n",
    "dummy_clf.predict(X)[0]"
   ]
  },
  {
   "cell_type": "markdown",
   "id": "aaaa65bc",
   "metadata": {},
   "source": [
    "Get accuracy of the dummy classifier"
   ]
  },
  {
   "cell_type": "code",
   "execution_count": 20,
   "id": "22675f12",
   "metadata": {
    "ExecuteTime": {
     "end_time": "2023-02-15T14:55:42.997566Z",
     "start_time": "2023-02-15T14:55:42.983229Z"
    }
   },
   "outputs": [
    {
     "data": {
      "text/plain": [
       "0.37583892617449666"
      ]
     },
     "execution_count": 20,
     "metadata": {},
     "output_type": "execute_result"
    }
   ],
   "source": [
    "dummy_clf.score(X, y)"
   ]
  },
  {
   "cell_type": "markdown",
   "id": "7a4c0de1",
   "metadata": {},
   "source": [
    "## Multinomial Naive Bayes Classifier"
   ]
  },
  {
   "cell_type": "markdown",
   "id": "b4a1a754",
   "metadata": {},
   "source": [
    "Use Tfidfvectorizer to vectorize the tweet text"
   ]
  },
  {
   "cell_type": "code",
   "execution_count": 21,
   "id": "5d937396",
   "metadata": {
    "ExecuteTime": {
     "end_time": "2023-02-15T14:55:47.318314Z",
     "start_time": "2023-02-15T14:55:43.000231Z"
    }
   },
   "outputs": [],
   "source": [
    "# Instantiate a vectorizer with max_features=10\n",
    "# (we are using the default token pattern)\n",
    "tfidf = TfidfVectorizer(analyzer='word', tokenizer=dummy_fun, \n",
    "                        preprocessor=dummy_fun, token_pattern=None, \n",
    "                        ngram_range=(1,3), min_df=1, max_features=2750)\n",
    "\n",
    "# Fit the vectorizer on X_train[\"text\"] and transform it\n",
    "X_train_vectorized = tfidf.fit_transform(X_train)"
   ]
  },
  {
   "cell_type": "markdown",
   "id": "b0e85519",
   "metadata": {},
   "source": [
    "Use a Complement Naive Bayes Classifier"
   ]
  },
  {
   "cell_type": "code",
   "execution_count": 22,
   "id": "219fb12a",
   "metadata": {
    "ExecuteTime": {
     "end_time": "2023-02-15T14:55:47.364086Z",
     "start_time": "2023-02-15T14:55:47.321428Z"
    },
    "scrolled": true
   },
   "outputs": [
    {
     "data": {
      "text/plain": [
       "0.9139705882352942"
      ]
     },
     "execution_count": 22,
     "metadata": {},
     "output_type": "execute_result"
    }
   ],
   "source": [
    "# Import relevant class and function\n",
    "from sklearn.naive_bayes import MultinomialNB\n",
    "from sklearn.model_selection import cross_val_score\n",
    "\n",
    "# Instantiate a MultinomialNB classifier\n",
    "baseline_model = ComplementNB()\n",
    "\n",
    "# Evaluate the classifier on X_train_vectorized and y_train\n",
    "baseline_cv = cross_val_score(baseline_model, X_train_vectorized, y_train)\n",
    "baseline_cv.mean()"
   ]
  },
  {
   "cell_type": "code",
   "execution_count": 23,
   "id": "2661ffb6",
   "metadata": {
    "ExecuteTime": {
     "end_time": "2023-02-15T14:55:48.322520Z",
     "start_time": "2023-02-15T14:55:47.375052Z"
    },
    "scrolled": true
   },
   "outputs": [],
   "source": [
    "# Fit the vectorizer on X_train[\"text\"] and transform it\n",
    "X_test_vectorized = tfidf.transform(X_test)"
   ]
  },
  {
   "cell_type": "code",
   "execution_count": 24,
   "id": "3bab5ccf",
   "metadata": {
    "ExecuteTime": {
     "end_time": "2023-02-15T14:55:48.353561Z",
     "start_time": "2023-02-15T14:55:48.327507Z"
    }
   },
   "outputs": [
    {
     "name": "stderr",
     "output_type": "stream",
     "text": [
      "C:\\Users\\natek\\anaconda3\\envs\\learn-env\\lib\\site-packages\\sklearn\\model_selection\\_split.py:670: UserWarning: The least populated class in y has only 4 members, which is less than n_splits=5.\n",
      "  warnings.warn((\"The least populated class in y has only %d\"\n"
     ]
    },
    {
     "data": {
      "text/plain": [
       "0.9241758241758242"
      ]
     },
     "execution_count": 24,
     "metadata": {},
     "output_type": "execute_result"
    }
   ],
   "source": [
    "# Evaluate the classifier on X_train_vectorized and y_train\n",
    "baseline_cv = cross_val_score(baseline_model, X_test_vectorized, y_test)\n",
    "baseline_cv.mean()"
   ]
  },
  {
   "cell_type": "code",
   "execution_count": 25,
   "id": "c2f6c626",
   "metadata": {
    "ExecuteTime": {
     "end_time": "2023-02-15T14:55:48.369428Z",
     "start_time": "2023-02-15T14:55:48.356430Z"
    }
   },
   "outputs": [],
   "source": [
    "bearer_key = 'AAAAAAAAAAAAAAAAAAAAAAP3lAEAAAAAWiRYIS1QJmco7YZB4oL%2BhLg1R3c%3DmvYmGNwcKhY145AcnvJzFaJlMZ2G7aeovV9VFB5qG9NiNkizEm'\n",
    "\n",
    "def get_tweets(username, class_, number_of_tweets):\n",
    "    # This is the key to use to download the tweets\n",
    "   \n",
    "    client = tweepy.Client(bearer_token=bearer_key)\n",
    "    user_id = client.get_user(username=username).data.id\n",
    "\n",
    "    # Uses the paginator to request as many tweets as we want (paginator makes it possible to download more than 100 at a time\n",
    "    tweets = []\n",
    "    for tweet in tweepy.Paginator(client.get_users_tweets, user_id, tweet_fields=['created_at', 'author_id'],expansions=[''], max_results=100, exclude=['replies']).flatten(limit=number_of_tweets):\n",
    "        # Scrub the text of any non-readable characters\n",
    "        text = \"\".join(i for i in tweet.text if i in string.printable)\n",
    "        # Scrub the text of any newlines\n",
    "        text = text.replace(\"\\n\", \" \")\n",
    "        # Put the tweet info into a new dictionary\n",
    "        tweets.append({\n",
    "            \"user_name\"  : str(username),\n",
    "            'class'      : str(class_),\n",
    "            \"id\"         : str(tweet.id),\n",
    "            \"text\"       : str(text),\n",
    "            \"author_id\"  : str(tweet.author_id),\n",
    "            \"created_at\" : str(tweet.created_at)\n",
    "        })\n",
    "    return tweets\n"
   ]
  },
  {
   "cell_type": "code",
   "execution_count": 36,
   "id": "c0149d0b",
   "metadata": {
    "ExecuteTime": {
     "end_time": "2023-02-15T15:13:41.843871Z",
     "start_time": "2023-02-15T15:13:41.128189Z"
    },
    "scrolled": true
   },
   "outputs": [
    {
     "name": "stdout",
     "output_type": "stream",
     "text": [
      "GOPMajorityWhip:  Politics\n"
     ]
    }
   ],
   "source": [
    "username = 'GOPMajorityWhip'\n",
    "if username in df['user_name'].unique():\n",
    "    print(\"Error:  User name is in the original dataset. Test a different user.\")\n",
    "else:\n",
    "    tweets = get_tweets(username, 'unknown', 50)\n",
    "    if len(tweets) > 0:\n",
    "        df_new = pd.DataFrame.from_dict(tweets)\n",
    "        preprocessing(df_new)\n",
    "        df_new = df_new.groupby(['user_name', 'class']).agg({'text_tokenized': 'sum'}).reset_index()\n",
    "\n",
    "        baseline_model = ComplementNB()\n",
    "        baseline_model.fit(X_train_vectorized, y_train)\n",
    "\n",
    "        tf1_new = TfidfVectorizer(analyzer='word', tokenizer=dummy_fun, \n",
    "                                preprocessor=dummy_fun, token_pattern=None, \n",
    "                                ngram_range=(1,3), min_df=2, max_features=2750, vocabulary=tfidf.vocabulary_)\n",
    "        df_new_vectorized = tf1_new.fit_transform(df_new['text_tokenized'])\n",
    "\n",
    "        print(username, \":  \", baseline_model.predict(df_new_vectorized)[0], sep=\"\")\n",
    "    else:\n",
    "        print('Tweets were not returned.')"
   ]
  }
 ],
 "metadata": {
  "kernelspec": {
   "display_name": "Python (learn-env)",
   "language": "python",
   "name": "learn-env"
  },
  "language_info": {
   "codemirror_mode": {
    "name": "ipython",
    "version": 3
   },
   "file_extension": ".py",
   "mimetype": "text/x-python",
   "name": "python",
   "nbconvert_exporter": "python",
   "pygments_lexer": "ipython3",
   "version": "3.8.5"
  },
  "toc": {
   "base_numbering": 1,
   "nav_menu": {},
   "number_sections": true,
   "sideBar": true,
   "skip_h1_title": false,
   "title_cell": "Table of Contents",
   "title_sidebar": "Contents",
   "toc_cell": false,
   "toc_position": {},
   "toc_section_display": true,
   "toc_window_display": true
  },
  "varInspector": {
   "cols": {
    "lenName": 16,
    "lenType": 16,
    "lenVar": 40
   },
   "kernels_config": {
    "python": {
     "delete_cmd_postfix": "",
     "delete_cmd_prefix": "del ",
     "library": "var_list.py",
     "varRefreshCmd": "print(var_dic_list())"
    },
    "r": {
     "delete_cmd_postfix": ") ",
     "delete_cmd_prefix": "rm(",
     "library": "var_list.r",
     "varRefreshCmd": "cat(var_dic_list()) "
    }
   },
   "types_to_exclude": [
    "module",
    "function",
    "builtin_function_or_method",
    "instance",
    "_Feature"
   ],
   "window_display": false
  }
 },
 "nbformat": 4,
 "nbformat_minor": 5
}
