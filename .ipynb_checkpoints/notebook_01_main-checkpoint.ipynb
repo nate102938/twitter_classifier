{
 "cells": [
  {
   "cell_type": "markdown",
   "id": "5d47e558",
   "metadata": {},
   "source": [
    "# Overview\n",
    "\n",
    "The goal of this project is to perform \n",
    "\n",
    "The goal of this project is to perform a sentiment analysis of Apple customers, and uncover actionable insight that could be used to optimize a marketing strategy going forward. To achieve this, we built a predictive model using Natural Language Processing (NLP), that could rate the sentiment of a tweet based on its content. At the end of our analysis, we present the findings of our model and provide concrete recommendations as to how Apple could improve its marketing strategy going forward and ultimately increase customer satisfaction."
   ]
  },
  {
   "cell_type": "markdown",
   "id": "e6c4dda0",
   "metadata": {},
   "source": [
    "# Business Understanding\n",
    "\n",
    "Developing an excellent marketing strategy is crucial \n",
    "\n",
    "\n",
    "Developing an excellent marketing strategy is crucial for an organization to consistently achieve positive results. To perform effective marketing, companies need to gain a deep understanding of their customers and uncover what matters to them most. The challenge is figuring out how to gain this insight in an efficient manner, and how to consistently implement meaningful change. Fortunately, machine learning provides us with unique and effective tools to perform customer sentiment analysis and guide long-term decision making."
   ]
  },
  {
   "cell_type": "markdown",
   "id": "54e631bd",
   "metadata": {},
   "source": [
    "# Data Understanding\n",
    "\n",
    "\n",
    "For this analysis, I utilized tweet data from 115,511 tweets from 587 Twitter accounts that were pulled from the Twitter API.  These accounts were manually selected by me to represent each account class that I am trying to predict.    "
   ]
  },
  {
   "cell_type": "markdown",
   "id": "19f03736",
   "metadata": {},
   "source": [
    "## Imports / settings"
   ]
  },
  {
   "cell_type": "code",
   "execution_count": 130,
   "id": "e93d8154",
   "metadata": {
    "ExecuteTime": {
     "end_time": "2023-02-15T07:45:54.485216Z",
     "start_time": "2023-02-15T07:45:54.274476Z"
    }
   },
   "outputs": [
    {
     "name": "stderr",
     "output_type": "stream",
     "text": [
      "[nltk_data] Downloading package wordnet to\n",
      "[nltk_data]     C:\\Users\\natek\\AppData\\Roaming\\nltk_data...\n",
      "[nltk_data]   Package wordnet is already up-to-date!\n",
      "[nltk_data] Downloading package tagsets to\n",
      "[nltk_data]     C:\\Users\\natek\\AppData\\Roaming\\nltk_data...\n",
      "[nltk_data]   Package tagsets is already up-to-date!\n",
      "[nltk_data] Downloading package averaged_perceptron_tagger to\n",
      "[nltk_data]     C:\\Users\\natek\\AppData\\Roaming\\nltk_data...\n",
      "[nltk_data]   Package averaged_perceptron_tagger is already up-to-\n",
      "[nltk_data]       date!\n"
     ]
    }
   ],
   "source": [
    "# General imports\n",
    "import string\n",
    "\n",
    "# Analysis imports\n",
    "import pandas as pd\n",
    "import numpy as np\n",
    "\n",
    "# NLP imports\n",
    "from nltk.stem import WordNetLemmatizer \n",
    "from nltk import pos_tag\n",
    "from nltk.corpus import stopwords, wordnet\n",
    "from nltk.tokenize import regexp_tokenize, word_tokenize, RegexpTokenizer\n",
    "\n",
    "# SKlearn imports\n",
    "from sklearn.naive_bayes import MultinomialNB\n",
    "from sklearn.model_selection import train_test_split, GridSearchCV, cross_val_score\n",
    "from sklearn.pipeline import Pipeline\n",
    "from sklearn.model_selection import train_test_split\n",
    "from sklearn.feature_extraction.text import CountVectorizer, TfidfVectorizer\n",
    "from sklearn.ensemble import RandomForestClassifier\n",
    "from sklearn.naive_bayes import ComplementNB\n",
    "from sklearn.preprocessing import LabelEncoder\n",
    "\n",
    "# Visualization imports\n",
    "import matplotlib.pyplot as plt\n",
    "import seaborn as sns\n",
    "\n",
    "# Pandas settings\n",
    "pd.options.display.max_rows = 100\n",
    "pd.options.display.max_colwidth = 90\n",
    "\n",
    "# Downloads (for NLP)\n",
    "nltk.download('wordnet')\n",
    "nltk.download('tagsets')\n",
    "nltk.download('averaged_perceptron_tagger');"
   ]
  },
  {
   "cell_type": "markdown",
   "id": "e8d3737f",
   "metadata": {},
   "source": [
    "## Functions\n",
    "\n",
    "These are helper functions that assist in the manipulation of tweet strings for pre-processing purposes."
   ]
  },
  {
   "cell_type": "code",
   "execution_count": 55,
   "id": "d6bc9139",
   "metadata": {
    "ExecuteTime": {
     "end_time": "2023-02-15T06:45:31.178710Z",
     "start_time": "2023-02-15T06:45:31.170830Z"
    }
   },
   "outputs": [],
   "source": [
    "def strip_rt_user(text):\n",
    "    if text[0:2] == \"RT\":\n",
    "        colon = text.find(\":\")\n",
    "        return text[colon+1:].lower()\n",
    "    else:\n",
    "        return text.lower()\n",
    "\n",
    "def get_rt_user(text):\n",
    "    if text[0:2] == \"RT\":\n",
    "        colon = text.find(\":\")\n",
    "        user = text[:colon]\n",
    "        at = user.find(\"@\")\n",
    "        return (user[at+1:]).lower()\n",
    "    else:\n",
    "        return \"\"\n",
    "\n",
    "def addHashTags(text):\n",
    "    return \"#\" + text + \"#\"\n",
    "\n",
    "# Translate nltk POS to wordnet tags\n",
    "def get_wordnet_pos(treebank_tag):\n",
    "    '''\n",
    "    Translate nltk POS to wordnet tags\n",
    "    '''\n",
    "    if treebank_tag.startswith('J'):\n",
    "        return wordnet.ADJ\n",
    "    elif treebank_tag.startswith('V'):\n",
    "        return wordnet.VERB\n",
    "    elif treebank_tag.startswith('N'):\n",
    "        return wordnet.NOUN\n",
    "    elif treebank_tag.startswith('R'):\n",
    "        return wordnet.ADV\n",
    "    else:\n",
    "        return wordnet.NOUN\n",
    "\n",
    "def remove_characters(text, char_to_remove):\n",
    "    str1 = ''.join(x for x in text if not x in char_to_remove)\n",
    "    return str1\n",
    "\n",
    "def remove_punctuation(text):\n",
    "    text = remove_characters(text, string.punctuation)\n",
    "    return text"
   ]
  },
  {
   "cell_type": "markdown",
   "id": "c602f600",
   "metadata": {},
   "source": [
    "## Data Collection"
   ]
  },
  {
   "cell_type": "markdown",
   "id": "894cf98a",
   "metadata": {},
   "source": [
    "Data collection methods and code is located in a separate notebook linked ([here](notebook_02_data_collection.ipynb))."
   ]
  },
  {
   "cell_type": "markdown",
   "id": "3462f445",
   "metadata": {
    "ExecuteTime": {
     "end_time": "2023-02-15T05:33:35.951004Z",
     "start_time": "2023-02-15T05:33:35.933045Z"
    }
   },
   "source": [
    "## Load tweet data"
   ]
  },
  {
   "cell_type": "markdown",
   "id": "2b8e93a3",
   "metadata": {},
   "source": [
    "Load the tweet data from file."
   ]
  },
  {
   "cell_type": "code",
   "execution_count": 93,
   "id": "2a0d82a7",
   "metadata": {
    "ExecuteTime": {
     "end_time": "2023-02-15T07:30:09.550687Z",
     "start_time": "2023-02-15T07:30:08.828886Z"
    },
    "scrolled": false
   },
   "outputs": [
    {
     "data": {
      "text/html": [
       "<div>\n",
       "<style scoped>\n",
       "    .dataframe tbody tr th:only-of-type {\n",
       "        vertical-align: middle;\n",
       "    }\n",
       "\n",
       "    .dataframe tbody tr th {\n",
       "        vertical-align: top;\n",
       "    }\n",
       "\n",
       "    .dataframe thead th {\n",
       "        text-align: right;\n",
       "    }\n",
       "</style>\n",
       "<table border=\"1\" class=\"dataframe\">\n",
       "  <thead>\n",
       "    <tr style=\"text-align: right;\">\n",
       "      <th></th>\n",
       "      <th>user_name</th>\n",
       "      <th>class</th>\n",
       "      <th>id</th>\n",
       "      <th>text</th>\n",
       "      <th>author_id</th>\n",
       "      <th>created_at</th>\n",
       "    </tr>\n",
       "  </thead>\n",
       "  <tbody>\n",
       "    <tr>\n",
       "      <th>0</th>\n",
       "      <td>BennieGThompson</td>\n",
       "      <td>Politics - Liberal</td>\n",
       "      <td>1620584010991939584</td>\n",
       "      <td>Today marks the 83rd anniversary of the first ever #SocialSecurity check, and Republic...</td>\n",
       "      <td>82453460</td>\n",
       "      <td>2023-02-01 00:45:11+00:00</td>\n",
       "    </tr>\n",
       "    <tr>\n",
       "      <th>1</th>\n",
       "      <td>BennieGThompson</td>\n",
       "      <td>Politics - Liberal</td>\n",
       "      <td>1620116251749269511</td>\n",
       "      <td>RT @VP: President Biden and I are just getting started. https://t.co/gLmNbpKGAN</td>\n",
       "      <td>82453460</td>\n",
       "      <td>2023-01-30 17:46:29+00:00</td>\n",
       "    </tr>\n",
       "    <tr>\n",
       "      <th>2</th>\n",
       "      <td>BennieGThompson</td>\n",
       "      <td>Politics - Liberal</td>\n",
       "      <td>1620116182618759168</td>\n",
       "      <td>RT @RepJeffries: We will never negotiate away the health, safety or economic well-bein...</td>\n",
       "      <td>82453460</td>\n",
       "      <td>2023-01-30 17:46:12+00:00</td>\n",
       "    </tr>\n",
       "    <tr>\n",
       "      <th>3</th>\n",
       "      <td>BennieGThompson</td>\n",
       "      <td>Politics - Liberal</td>\n",
       "      <td>1620116109864357888</td>\n",
       "      <td>https://t.co/Ze7ePCUJJ2</td>\n",
       "      <td>82453460</td>\n",
       "      <td>2023-01-30 17:45:55+00:00</td>\n",
       "    </tr>\n",
       "    <tr>\n",
       "      <th>4</th>\n",
       "      <td>BennieGThompson</td>\n",
       "      <td>Politics - Liberal</td>\n",
       "      <td>1620061909113516036</td>\n",
       "      <td>https://t.co/ley5hNsz0y https://t.co/RFdTeGXGO1</td>\n",
       "      <td>82453460</td>\n",
       "      <td>2023-01-30 14:10:33+00:00</td>\n",
       "    </tr>\n",
       "  </tbody>\n",
       "</table>\n",
       "</div>"
      ],
      "text/plain": [
       "         user_name               class                   id  \\\n",
       "0  BennieGThompson  Politics - Liberal  1620584010991939584   \n",
       "1  BennieGThompson  Politics - Liberal  1620116251749269511   \n",
       "2  BennieGThompson  Politics - Liberal  1620116182618759168   \n",
       "3  BennieGThompson  Politics - Liberal  1620116109864357888   \n",
       "4  BennieGThompson  Politics - Liberal  1620061909113516036   \n",
       "\n",
       "                                                                                        text  \\\n",
       "0  Today marks the 83rd anniversary of the first ever #SocialSecurity check, and Republic...   \n",
       "1            RT @VP: President Biden and I are just getting started. https://t.co/gLmNbpKGAN   \n",
       "2  RT @RepJeffries: We will never negotiate away the health, safety or economic well-bein...   \n",
       "3                                                                    https://t.co/Ze7ePCUJJ2   \n",
       "4                                            https://t.co/ley5hNsz0y https://t.co/RFdTeGXGO1   \n",
       "\n",
       "  author_id                 created_at  \n",
       "0  82453460  2023-02-01 00:45:11+00:00  \n",
       "1  82453460  2023-01-30 17:46:29+00:00  \n",
       "2  82453460  2023-01-30 17:46:12+00:00  \n",
       "3  82453460  2023-01-30 17:45:55+00:00  \n",
       "4  82453460  2023-01-30 14:10:33+00:00  "
      ]
     },
     "execution_count": 93,
     "metadata": {},
     "output_type": "execute_result"
    }
   ],
   "source": [
    "# Load tweets from file\n",
    "df = pd.read_csv('tweet_list.csv')\n",
    "\n",
    "# Format all series as strings\n",
    "for n in df.columns:\n",
    "    df[n] = df[n].astype(str)\n",
    "\n",
    "# Check out the data\n",
    "df.head()"
   ]
  },
  {
   "cell_type": "markdown",
   "id": "c91f76c3",
   "metadata": {},
   "source": [
    "## Data cleaning"
   ]
  },
  {
   "cell_type": "markdown",
   "id": "35253a85",
   "metadata": {},
   "source": [
    "**Check for nulls**"
   ]
  },
  {
   "cell_type": "code",
   "execution_count": 94,
   "id": "6d2dc894",
   "metadata": {
    "ExecuteTime": {
     "end_time": "2023-02-15T07:30:10.506453Z",
     "start_time": "2023-02-15T07:30:10.448282Z"
    }
   },
   "outputs": [
    {
     "name": "stdout",
     "output_type": "stream",
     "text": [
      "<class 'pandas.core.frame.DataFrame'>\n",
      "RangeIndex: 115511 entries, 0 to 115510\n",
      "Data columns (total 6 columns):\n",
      " #   Column      Non-Null Count   Dtype \n",
      "---  ------      --------------   ----- \n",
      " 0   user_name   115511 non-null  object\n",
      " 1   class       115511 non-null  object\n",
      " 2   id          115511 non-null  object\n",
      " 3   text        115511 non-null  object\n",
      " 4   author_id   115511 non-null  object\n",
      " 5   created_at  115511 non-null  object\n",
      "dtypes: object(6)\n",
      "memory usage: 5.3+ MB\n"
     ]
    }
   ],
   "source": [
    "df.info()"
   ]
  },
  {
   "cell_type": "markdown",
   "id": "fe5bfea2",
   "metadata": {},
   "source": [
    "Notes:\n",
    "- There are no null values, which makes sense because I downloaded this data myself. "
   ]
  },
  {
   "cell_type": "markdown",
   "id": "8e9b3386",
   "metadata": {},
   "source": [
    "**Check for duplicates**"
   ]
  },
  {
   "cell_type": "code",
   "execution_count": 95,
   "id": "0e566648",
   "metadata": {
    "ExecuteTime": {
     "end_time": "2023-02-15T07:30:11.649152Z",
     "start_time": "2023-02-15T07:30:11.387885Z"
    }
   },
   "outputs": [
    {
     "data": {
      "text/plain": [
       "877"
      ]
     },
     "execution_count": 95,
     "metadata": {},
     "output_type": "execute_result"
    }
   ],
   "source": [
    "df.duplicated().sum()"
   ]
  },
  {
   "cell_type": "markdown",
   "id": "e05f8048",
   "metadata": {},
   "source": [
    "Notes:\n",
    "- I have some duplicate tweets.  As I noted in the data collection notebook, I must have downloaded some tweets from the same account multiple times while performing the download function. "
   ]
  },
  {
   "cell_type": "markdown",
   "id": "77128aa5",
   "metadata": {},
   "source": [
    "**Drop duplicates**"
   ]
  },
  {
   "cell_type": "code",
   "execution_count": 96,
   "id": "4725b7bc",
   "metadata": {
    "ExecuteTime": {
     "end_time": "2023-02-15T07:30:13.017643Z",
     "start_time": "2023-02-15T07:30:12.572147Z"
    }
   },
   "outputs": [
    {
     "data": {
      "text/plain": [
       "0"
      ]
     },
     "execution_count": 96,
     "metadata": {},
     "output_type": "execute_result"
    }
   ],
   "source": [
    "df = df.drop_duplicates()\n",
    "df.duplicated().sum()"
   ]
  },
  {
   "cell_type": "markdown",
   "id": "9439bbaf",
   "metadata": {},
   "source": [
    "Notes:\n",
    "- Duplicates have been deleted."
   ]
  },
  {
   "cell_type": "markdown",
   "id": "04a375be",
   "metadata": {},
   "source": [
    "## Data review"
   ]
  },
  {
   "cell_type": "markdown",
   "id": "5040948c",
   "metadata": {},
   "source": [
    "Check class balance at the tweet level"
   ]
  },
  {
   "cell_type": "code",
   "execution_count": 97,
   "id": "af36859f",
   "metadata": {
    "ExecuteTime": {
     "end_time": "2023-02-15T07:30:13.788605Z",
     "start_time": "2023-02-15T07:30:13.774944Z"
    },
    "scrolled": true
   },
   "outputs": [
    {
     "data": {
      "text/plain": [
       "Politics - Conservative    31032\n",
       "Politics - Liberal         26998\n",
       "TV / movies                12007\n",
       "Sports                     12000\n",
       "Music                      11600\n",
       "Business and finance        8452\n",
       "Science / Technology        7550\n",
       "Travel                      4995\n",
       "Name: class, dtype: int64"
      ]
     },
     "execution_count": 97,
     "metadata": {},
     "output_type": "execute_result"
    }
   ],
   "source": [
    "df['class'].value_counts()"
   ]
  },
  {
   "cell_type": "markdown",
   "id": "f70b59ac",
   "metadata": {
    "ExecuteTime": {
     "end_time": "2023-02-15T06:29:25.411417Z",
     "start_time": "2023-02-15T06:29:25.399488Z"
    }
   },
   "source": [
    "Notes: \n",
    "- It's imbalanced but I'm going to leave it and see if we can still make predictions from the data we have"
   ]
  },
  {
   "cell_type": "markdown",
   "id": "a837c73a",
   "metadata": {},
   "source": [
    "# Modeling"
   ]
  },
  {
   "cell_type": "markdown",
   "id": "cc66faf4",
   "metadata": {},
   "source": [
    "## Pre-processing "
   ]
  },
  {
   "cell_type": "code",
   "execution_count": 98,
   "id": "eb3cc380",
   "metadata": {
    "ExecuteTime": {
     "end_time": "2023-02-15T07:30:14.499874Z",
     "start_time": "2023-02-15T07:30:14.488902Z"
    }
   },
   "outputs": [],
   "source": [
    "# Make a copy of the df, leave the original untouched\n",
    "df_pp = df.copy()"
   ]
  },
  {
   "cell_type": "code",
   "execution_count": 99,
   "id": "0d7b67ab",
   "metadata": {
    "ExecuteTime": {
     "end_time": "2023-02-15T07:30:15.323220Z",
     "start_time": "2023-02-15T07:30:15.317829Z"
    }
   },
   "outputs": [],
   "source": [
    "# Constants \n",
    "min_word_size = 0\n",
    "min_word_count = 0"
   ]
  },
  {
   "cell_type": "markdown",
   "id": "15f618cf",
   "metadata": {},
   "source": [
    "**Retweets**\n",
    "\n",
    "If someone retweets another user, it is highly possible that the account they are retweeting is the same classification.  For example, politicians often retweet other politicians they agree with.  I am highlighting the similarity by making the account name special (surrounding it with hashtags) and i will add it together with the text to include it as a token that the model uses.  "
   ]
  },
  {
   "cell_type": "code",
   "execution_count": 100,
   "id": "8f59b6f9",
   "metadata": {
    "ExecuteTime": {
     "end_time": "2023-02-15T07:30:16.670182Z",
     "start_time": "2023-02-15T07:30:16.500669Z"
    },
    "scrolled": true
   },
   "outputs": [
    {
     "data": {
      "text/html": [
       "<div>\n",
       "<style scoped>\n",
       "    .dataframe tbody tr th:only-of-type {\n",
       "        vertical-align: middle;\n",
       "    }\n",
       "\n",
       "    .dataframe tbody tr th {\n",
       "        vertical-align: top;\n",
       "    }\n",
       "\n",
       "    .dataframe thead th {\n",
       "        text-align: right;\n",
       "    }\n",
       "</style>\n",
       "<table border=\"1\" class=\"dataframe\">\n",
       "  <thead>\n",
       "    <tr style=\"text-align: right;\">\n",
       "      <th></th>\n",
       "      <th>user_name</th>\n",
       "      <th>class</th>\n",
       "      <th>id</th>\n",
       "      <th>text</th>\n",
       "      <th>author_id</th>\n",
       "      <th>created_at</th>\n",
       "      <th>RT_user</th>\n",
       "    </tr>\n",
       "  </thead>\n",
       "  <tbody>\n",
       "    <tr>\n",
       "      <th>0</th>\n",
       "      <td>BennieGThompson</td>\n",
       "      <td>Politics - Liberal</td>\n",
       "      <td>1620584010991939584</td>\n",
       "      <td>today marks the 83rd anniversary of the first ever #socialsecurity check, and republic...</td>\n",
       "      <td>82453460</td>\n",
       "      <td>2023-02-01 00:45:11+00:00</td>\n",
       "      <td></td>\n",
       "    </tr>\n",
       "    <tr>\n",
       "      <th>1</th>\n",
       "      <td>BennieGThompson</td>\n",
       "      <td>Politics - Liberal</td>\n",
       "      <td>1620116251749269511</td>\n",
       "      <td>president biden and i are just getting started. https://t.co/glmnbpkgan</td>\n",
       "      <td>82453460</td>\n",
       "      <td>2023-01-30 17:46:29+00:00</td>\n",
       "      <td>#vp#</td>\n",
       "    </tr>\n",
       "    <tr>\n",
       "      <th>2</th>\n",
       "      <td>BennieGThompson</td>\n",
       "      <td>Politics - Liberal</td>\n",
       "      <td>1620116182618759168</td>\n",
       "      <td>we will never negotiate away the health, safety or economic well-being of the america...</td>\n",
       "      <td>82453460</td>\n",
       "      <td>2023-01-30 17:46:12+00:00</td>\n",
       "      <td>#repjeffries#</td>\n",
       "    </tr>\n",
       "    <tr>\n",
       "      <th>3</th>\n",
       "      <td>BennieGThompson</td>\n",
       "      <td>Politics - Liberal</td>\n",
       "      <td>1620116109864357888</td>\n",
       "      <td>https://t.co/ze7epcujj2</td>\n",
       "      <td>82453460</td>\n",
       "      <td>2023-01-30 17:45:55+00:00</td>\n",
       "      <td></td>\n",
       "    </tr>\n",
       "    <tr>\n",
       "      <th>4</th>\n",
       "      <td>BennieGThompson</td>\n",
       "      <td>Politics - Liberal</td>\n",
       "      <td>1620061909113516036</td>\n",
       "      <td>https://t.co/ley5hnsz0y https://t.co/rfdtegxgo1</td>\n",
       "      <td>82453460</td>\n",
       "      <td>2023-01-30 14:10:33+00:00</td>\n",
       "      <td></td>\n",
       "    </tr>\n",
       "  </tbody>\n",
       "</table>\n",
       "</div>"
      ],
      "text/plain": [
       "         user_name               class                   id  \\\n",
       "0  BennieGThompson  Politics - Liberal  1620584010991939584   \n",
       "1  BennieGThompson  Politics - Liberal  1620116251749269511   \n",
       "2  BennieGThompson  Politics - Liberal  1620116182618759168   \n",
       "3  BennieGThompson  Politics - Liberal  1620116109864357888   \n",
       "4  BennieGThompson  Politics - Liberal  1620061909113516036   \n",
       "\n",
       "                                                                                        text  \\\n",
       "0  today marks the 83rd anniversary of the first ever #socialsecurity check, and republic...   \n",
       "1                    president biden and i are just getting started. https://t.co/glmnbpkgan   \n",
       "2   we will never negotiate away the health, safety or economic well-being of the america...   \n",
       "3                                                                    https://t.co/ze7epcujj2   \n",
       "4                                            https://t.co/ley5hnsz0y https://t.co/rfdtegxgo1   \n",
       "\n",
       "  author_id                 created_at        RT_user  \n",
       "0  82453460  2023-02-01 00:45:11+00:00                 \n",
       "1  82453460  2023-01-30 17:46:29+00:00           #vp#  \n",
       "2  82453460  2023-01-30 17:46:12+00:00  #repjeffries#  \n",
       "3  82453460  2023-01-30 17:45:55+00:00                 \n",
       "4  82453460  2023-01-30 14:10:33+00:00                 "
      ]
     },
     "execution_count": 100,
     "metadata": {},
     "output_type": "execute_result"
    }
   ],
   "source": [
    "# Copy the RT user name from the text column and put it into a different column.\n",
    "df_pp['RT_user'] = df_pp['text'].apply(get_rt_user)\n",
    "df_pp['RT_user'] = df_pp['RT_user'].apply(lambda x: addHashTags(x) if x != \"\" else \"\")\n",
    "\n",
    "# Pull out the RT user name from the text column\n",
    "df_pp['text'] = df_pp['text'].apply(strip_rt_user)\n",
    "df_pp.head()"
   ]
  },
  {
   "cell_type": "markdown",
   "id": "256babd0",
   "metadata": {},
   "source": [
    "Check new RT user column"
   ]
  },
  {
   "cell_type": "code",
   "execution_count": 101,
   "id": "2f7e3dca",
   "metadata": {
    "ExecuteTime": {
     "end_time": "2023-02-15T07:30:17.767260Z",
     "start_time": "2023-02-15T07:30:17.723175Z"
    },
    "scrolled": true
   },
   "outputs": [
    {
     "data": {
      "text/plain": [
       "                     91126\n",
       "#jesseprimetime#       248\n",
       "#dineshdsouza#         228\n",
       "#housegop#             219\n",
       "#foxnews#              193\n",
       "                     ...  \n",
       "#calpine#                1\n",
       "#cryptosavingexp#        1\n",
       "#matthewbevan#           1\n",
       "#newschannelnine#        1\n",
       "#repjohnjoyce#           1\n",
       "Name: RT_user, Length: 7885, dtype: int64"
      ]
     },
     "execution_count": 101,
     "metadata": {},
     "output_type": "execute_result"
    }
   ],
   "source": [
    "df_pp.RT_user.value_counts()"
   ]
  },
  {
   "cell_type": "markdown",
   "id": "ee0c3758",
   "metadata": {},
   "source": [
    "Notes:\n",
    "- Successfull extracted the RT user names from the text column"
   ]
  },
  {
   "cell_type": "markdown",
   "id": "bb4fc766",
   "metadata": {},
   "source": [
    "Lower the case, strip out links, and strip any excess whitespace"
   ]
  },
  {
   "cell_type": "code",
   "execution_count": 102,
   "id": "f1ffa5c7",
   "metadata": {
    "ExecuteTime": {
     "end_time": "2023-02-15T07:30:19.163604Z",
     "start_time": "2023-02-15T07:30:18.536015Z"
    }
   },
   "outputs": [
    {
     "data": {
      "text/html": [
       "<div>\n",
       "<style scoped>\n",
       "    .dataframe tbody tr th:only-of-type {\n",
       "        vertical-align: middle;\n",
       "    }\n",
       "\n",
       "    .dataframe tbody tr th {\n",
       "        vertical-align: top;\n",
       "    }\n",
       "\n",
       "    .dataframe thead th {\n",
       "        text-align: right;\n",
       "    }\n",
       "</style>\n",
       "<table border=\"1\" class=\"dataframe\">\n",
       "  <thead>\n",
       "    <tr style=\"text-align: right;\">\n",
       "      <th></th>\n",
       "      <th>user_name</th>\n",
       "      <th>class</th>\n",
       "      <th>id</th>\n",
       "      <th>text</th>\n",
       "      <th>author_id</th>\n",
       "      <th>created_at</th>\n",
       "      <th>RT_user</th>\n",
       "    </tr>\n",
       "  </thead>\n",
       "  <tbody>\n",
       "    <tr>\n",
       "      <th>0</th>\n",
       "      <td>BennieGThompson</td>\n",
       "      <td>Politics - Liberal</td>\n",
       "      <td>1620584010991939584</td>\n",
       "      <td>today marks the 83rd anniversary of the first ever #socialsecurity check, and republic...</td>\n",
       "      <td>82453460</td>\n",
       "      <td>2023-02-01 00:45:11+00:00</td>\n",
       "      <td></td>\n",
       "    </tr>\n",
       "    <tr>\n",
       "      <th>1</th>\n",
       "      <td>BennieGThompson</td>\n",
       "      <td>Politics - Liberal</td>\n",
       "      <td>1620116251749269511</td>\n",
       "      <td>president biden and i are just getting started.</td>\n",
       "      <td>82453460</td>\n",
       "      <td>2023-01-30 17:46:29+00:00</td>\n",
       "      <td>#vp#</td>\n",
       "    </tr>\n",
       "    <tr>\n",
       "      <th>2</th>\n",
       "      <td>BennieGThompson</td>\n",
       "      <td>Politics - Liberal</td>\n",
       "      <td>1620116182618759168</td>\n",
       "      <td>we will never negotiate away the health, safety or economic well-being of the american...</td>\n",
       "      <td>82453460</td>\n",
       "      <td>2023-01-30 17:46:12+00:00</td>\n",
       "      <td>#repjeffries#</td>\n",
       "    </tr>\n",
       "    <tr>\n",
       "      <th>3</th>\n",
       "      <td>BennieGThompson</td>\n",
       "      <td>Politics - Liberal</td>\n",
       "      <td>1620116109864357888</td>\n",
       "      <td></td>\n",
       "      <td>82453460</td>\n",
       "      <td>2023-01-30 17:45:55+00:00</td>\n",
       "      <td></td>\n",
       "    </tr>\n",
       "    <tr>\n",
       "      <th>4</th>\n",
       "      <td>BennieGThompson</td>\n",
       "      <td>Politics - Liberal</td>\n",
       "      <td>1620061909113516036</td>\n",
       "      <td></td>\n",
       "      <td>82453460</td>\n",
       "      <td>2023-01-30 14:10:33+00:00</td>\n",
       "      <td></td>\n",
       "    </tr>\n",
       "  </tbody>\n",
       "</table>\n",
       "</div>"
      ],
      "text/plain": [
       "         user_name               class                   id  \\\n",
       "0  BennieGThompson  Politics - Liberal  1620584010991939584   \n",
       "1  BennieGThompson  Politics - Liberal  1620116251749269511   \n",
       "2  BennieGThompson  Politics - Liberal  1620116182618759168   \n",
       "3  BennieGThompson  Politics - Liberal  1620116109864357888   \n",
       "4  BennieGThompson  Politics - Liberal  1620061909113516036   \n",
       "\n",
       "                                                                                        text  \\\n",
       "0  today marks the 83rd anniversary of the first ever #socialsecurity check, and republic...   \n",
       "1                                            president biden and i are just getting started.   \n",
       "2  we will never negotiate away the health, safety or economic well-being of the american...   \n",
       "3                                                                                              \n",
       "4                                                                                              \n",
       "\n",
       "  author_id                 created_at        RT_user  \n",
       "0  82453460  2023-02-01 00:45:11+00:00                 \n",
       "1  82453460  2023-01-30 17:46:29+00:00           #vp#  \n",
       "2  82453460  2023-01-30 17:46:12+00:00  #repjeffries#  \n",
       "3  82453460  2023-01-30 17:45:55+00:00                 \n",
       "4  82453460  2023-01-30 14:10:33+00:00                 "
      ]
     },
     "execution_count": 102,
     "metadata": {},
     "output_type": "execute_result"
    }
   ],
   "source": [
    "# Lower case the text tweets\n",
    "df_pp['text'] = df_pp['text'].str.lower()\n",
    "\n",
    "# Strip out the meaningless links\n",
    "df_pp['text'] = df_pp['text'].apply(lambda x: \" \".join([n for n in x.split() if n[0:4] != \"http\"]))\n",
    "\n",
    "# Strip any excess white space\n",
    "df_pp['text'] = df_pp['text'].apply(lambda x: x.strip())\n",
    "\n",
    "df_pp.head()"
   ]
  },
  {
   "cell_type": "markdown",
   "id": "f2ccd5f5",
   "metadata": {},
   "source": [
    "Take out stop words, punctuation and numbers.  Then put RT user into text column."
   ]
  },
  {
   "cell_type": "code",
   "execution_count": 113,
   "id": "522a68d6",
   "metadata": {
    "ExecuteTime": {
     "end_time": "2023-02-15T07:33:35.761901Z",
     "start_time": "2023-02-15T07:33:34.008378Z"
    }
   },
   "outputs": [
    {
     "data": {
      "text/html": [
       "<div>\n",
       "<style scoped>\n",
       "    .dataframe tbody tr th:only-of-type {\n",
       "        vertical-align: middle;\n",
       "    }\n",
       "\n",
       "    .dataframe tbody tr th {\n",
       "        vertical-align: top;\n",
       "    }\n",
       "\n",
       "    .dataframe thead th {\n",
       "        text-align: right;\n",
       "    }\n",
       "</style>\n",
       "<table border=\"1\" class=\"dataframe\">\n",
       "  <thead>\n",
       "    <tr style=\"text-align: right;\">\n",
       "      <th></th>\n",
       "      <th>user_name</th>\n",
       "      <th>class</th>\n",
       "      <th>id</th>\n",
       "      <th>text</th>\n",
       "      <th>author_id</th>\n",
       "      <th>created_at</th>\n",
       "      <th>RT_user</th>\n",
       "      <th>text_tokenized</th>\n",
       "    </tr>\n",
       "  </thead>\n",
       "  <tbody>\n",
       "    <tr>\n",
       "      <th>0</th>\n",
       "      <td>BennieGThompson</td>\n",
       "      <td>Politics - Liberal</td>\n",
       "      <td>1620584010991939584</td>\n",
       "      <td>today marks 83rd anniversary first ever socialsecurity check republicans celebrating t...</td>\n",
       "      <td>82453460</td>\n",
       "      <td>2023-02-01 00:45:11+00:00</td>\n",
       "      <td></td>\n",
       "      <td>[today, marks, 83rd, anniversary, first, ever, socialsecurity, check, republicans, cel...</td>\n",
       "    </tr>\n",
       "    <tr>\n",
       "      <th>1</th>\n",
       "      <td>BennieGThompson</td>\n",
       "      <td>Politics - Liberal</td>\n",
       "      <td>1620116251749269511</td>\n",
       "      <td>president biden getting started vp vpBennieGThompson #vp# #BennieGThompson#</td>\n",
       "      <td>82453460</td>\n",
       "      <td>2023-01-30 17:46:29+00:00</td>\n",
       "      <td>#vp#</td>\n",
       "      <td>[president, biden, getting, started, vp, #vp#BennieGThompson]</td>\n",
       "    </tr>\n",
       "    <tr>\n",
       "      <th>2</th>\n",
       "      <td>BennieGThompson</td>\n",
       "      <td>Politics - Liberal</td>\n",
       "      <td>1620116182618759168</td>\n",
       "      <td>never negotiate away health safety economic wellbeing american people repjeffries repj...</td>\n",
       "      <td>82453460</td>\n",
       "      <td>2023-01-30 17:46:12+00:00</td>\n",
       "      <td>#repjeffries#</td>\n",
       "      <td>[never, negotiate, away, health, safety, economic, wellbeing, american, people, repjef...</td>\n",
       "    </tr>\n",
       "    <tr>\n",
       "      <th>3</th>\n",
       "      <td>BennieGThompson</td>\n",
       "      <td>Politics - Liberal</td>\n",
       "      <td>1619330126361300993</td>\n",
       "      <td>footage tyre nichols killing painful send condolences family friends justice must serv...</td>\n",
       "      <td>82453460</td>\n",
       "      <td>2023-01-28 13:42:42+00:00</td>\n",
       "      <td></td>\n",
       "      <td>[footage, tyre, nichols, killing, painful, send, condolences, family, friends, justice...</td>\n",
       "    </tr>\n",
       "    <tr>\n",
       "      <th>4</th>\n",
       "      <td>BennieGThompson</td>\n",
       "      <td>Politics - Liberal</td>\n",
       "      <td>1619327606159179777</td>\n",
       "      <td>happy birthday chairman congressman benniegthompson 30th yr congress celebrate incredi...</td>\n",
       "      <td>82453460</td>\n",
       "      <td>2023-01-28 13:32:41+00:00</td>\n",
       "      <td>#cbcinstitute#</td>\n",
       "      <td>[happy, birthday, chairman, congressman, benniegthompson, 30th, yr, congress, celebrat...</td>\n",
       "    </tr>\n",
       "  </tbody>\n",
       "</table>\n",
       "</div>"
      ],
      "text/plain": [
       "         user_name               class                   id  \\\n",
       "0  BennieGThompson  Politics - Liberal  1620584010991939584   \n",
       "1  BennieGThompson  Politics - Liberal  1620116251749269511   \n",
       "2  BennieGThompson  Politics - Liberal  1620116182618759168   \n",
       "3  BennieGThompson  Politics - Liberal  1619330126361300993   \n",
       "4  BennieGThompson  Politics - Liberal  1619327606159179777   \n",
       "\n",
       "                                                                                        text  \\\n",
       "0  today marks 83rd anniversary first ever socialsecurity check republicans celebrating t...   \n",
       "1                president biden getting started vp vpBennieGThompson #vp# #BennieGThompson#   \n",
       "2  never negotiate away health safety economic wellbeing american people repjeffries repj...   \n",
       "3  footage tyre nichols killing painful send condolences family friends justice must serv...   \n",
       "4  happy birthday chairman congressman benniegthompson 30th yr congress celebrate incredi...   \n",
       "\n",
       "  author_id                 created_at         RT_user  \\\n",
       "0  82453460  2023-02-01 00:45:11+00:00                   \n",
       "1  82453460  2023-01-30 17:46:29+00:00            #vp#   \n",
       "2  82453460  2023-01-30 17:46:12+00:00   #repjeffries#   \n",
       "3  82453460  2023-01-28 13:42:42+00:00                   \n",
       "4  82453460  2023-01-28 13:32:41+00:00  #cbcinstitute#   \n",
       "\n",
       "                                                                              text_tokenized  \n",
       "0  [today, marks, 83rd, anniversary, first, ever, socialsecurity, check, republicans, cel...  \n",
       "1                              [president, biden, getting, started, vp, #vp#BennieGThompson]  \n",
       "2  [never, negotiate, away, health, safety, economic, wellbeing, american, people, repjef...  \n",
       "3  [footage, tyre, nichols, killing, painful, send, condolences, family, friends, justice...  \n",
       "4  [happy, birthday, chairman, congressman, benniegthompson, 30th, yr, congress, celebrat...  "
      ]
     },
     "execution_count": 113,
     "metadata": {},
     "output_type": "execute_result"
    }
   ],
   "source": [
    "# Take out stop words\n",
    "sw = set(stopwords.words('english'))\n",
    "sw.update(['amp'])\n",
    "df_pp['text'] = df_pp['text'].apply(lambda x: \" \".join([n for n in x.split() if n not in sw]))\n",
    "\n",
    "# Remove punctuation\n",
    "df_pp['text'] = df_pp['text'].apply(lambda x: remove_punctuation(x))\n",
    "\n",
    "# Make sure we don't have any random numbers\n",
    "df_pp['text'] = df_pp['text'].apply(lambda x: \" \".join([n for n in x.split() if n.isnumeric() == False]))\n",
    "\n",
    "# Put together the RT user and the tweet text\n",
    "df_pp['text'] = df_pp['text'] + \" \" + df_pp['RT_user'] + \" #\" + df_pp['user_name'] + \"#\"\n",
    "\n",
    "df_pp.head()"
   ]
  },
  {
   "cell_type": "markdown",
   "id": "e2fd397d",
   "metadata": {},
   "source": [
    "Tokenize the tweet text"
   ]
  },
  {
   "cell_type": "code",
   "execution_count": 114,
   "id": "3e18055a",
   "metadata": {
    "ExecuteTime": {
     "end_time": "2023-02-15T07:33:39.753152Z",
     "start_time": "2023-02-15T07:33:39.529183Z"
    }
   },
   "outputs": [
    {
     "data": {
      "text/html": [
       "<div>\n",
       "<style scoped>\n",
       "    .dataframe tbody tr th:only-of-type {\n",
       "        vertical-align: middle;\n",
       "    }\n",
       "\n",
       "    .dataframe tbody tr th {\n",
       "        vertical-align: top;\n",
       "    }\n",
       "\n",
       "    .dataframe thead th {\n",
       "        text-align: right;\n",
       "    }\n",
       "</style>\n",
       "<table border=\"1\" class=\"dataframe\">\n",
       "  <thead>\n",
       "    <tr style=\"text-align: right;\">\n",
       "      <th></th>\n",
       "      <th>user_name</th>\n",
       "      <th>class</th>\n",
       "      <th>id</th>\n",
       "      <th>text</th>\n",
       "      <th>author_id</th>\n",
       "      <th>created_at</th>\n",
       "      <th>RT_user</th>\n",
       "      <th>text_tokenized</th>\n",
       "    </tr>\n",
       "  </thead>\n",
       "  <tbody>\n",
       "    <tr>\n",
       "      <th>0</th>\n",
       "      <td>BennieGThompson</td>\n",
       "      <td>Politics - Liberal</td>\n",
       "      <td>1620584010991939584</td>\n",
       "      <td>today marks 83rd anniversary first ever socialsecurity check republicans celebrating t...</td>\n",
       "      <td>82453460</td>\n",
       "      <td>2023-02-01 00:45:11+00:00</td>\n",
       "      <td></td>\n",
       "      <td>[today, marks, 83rd, anniversary, first, ever, socialsecurity, check, republicans, cel...</td>\n",
       "    </tr>\n",
       "    <tr>\n",
       "      <th>1</th>\n",
       "      <td>BennieGThompson</td>\n",
       "      <td>Politics - Liberal</td>\n",
       "      <td>1620116251749269511</td>\n",
       "      <td>president biden getting started vp vpBennieGThompson #vp# #BennieGThompson#</td>\n",
       "      <td>82453460</td>\n",
       "      <td>2023-01-30 17:46:29+00:00</td>\n",
       "      <td>#vp#</td>\n",
       "      <td>[president, biden, getting, started, vp, vpBennieGThompson, #vp#, #BennieGThompson#]</td>\n",
       "    </tr>\n",
       "    <tr>\n",
       "      <th>2</th>\n",
       "      <td>BennieGThompson</td>\n",
       "      <td>Politics - Liberal</td>\n",
       "      <td>1620116182618759168</td>\n",
       "      <td>never negotiate away health safety economic wellbeing american people repjeffries repj...</td>\n",
       "      <td>82453460</td>\n",
       "      <td>2023-01-30 17:46:12+00:00</td>\n",
       "      <td>#repjeffries#</td>\n",
       "      <td>[never, negotiate, away, health, safety, economic, wellbeing, american, people, repjef...</td>\n",
       "    </tr>\n",
       "    <tr>\n",
       "      <th>3</th>\n",
       "      <td>BennieGThompson</td>\n",
       "      <td>Politics - Liberal</td>\n",
       "      <td>1619330126361300993</td>\n",
       "      <td>footage tyre nichols killing painful send condolences family friends justice must serv...</td>\n",
       "      <td>82453460</td>\n",
       "      <td>2023-01-28 13:42:42+00:00</td>\n",
       "      <td></td>\n",
       "      <td>[footage, tyre, nichols, killing, painful, send, condolences, family, friends, justice...</td>\n",
       "    </tr>\n",
       "    <tr>\n",
       "      <th>4</th>\n",
       "      <td>BennieGThompson</td>\n",
       "      <td>Politics - Liberal</td>\n",
       "      <td>1619327606159179777</td>\n",
       "      <td>happy birthday chairman congressman benniegthompson 30th yr congress celebrate incredi...</td>\n",
       "      <td>82453460</td>\n",
       "      <td>2023-01-28 13:32:41+00:00</td>\n",
       "      <td>#cbcinstitute#</td>\n",
       "      <td>[happy, birthday, chairman, congressman, benniegthompson, 30th, yr, congress, celebrat...</td>\n",
       "    </tr>\n",
       "  </tbody>\n",
       "</table>\n",
       "</div>"
      ],
      "text/plain": [
       "         user_name               class                   id  \\\n",
       "0  BennieGThompson  Politics - Liberal  1620584010991939584   \n",
       "1  BennieGThompson  Politics - Liberal  1620116251749269511   \n",
       "2  BennieGThompson  Politics - Liberal  1620116182618759168   \n",
       "3  BennieGThompson  Politics - Liberal  1619330126361300993   \n",
       "4  BennieGThompson  Politics - Liberal  1619327606159179777   \n",
       "\n",
       "                                                                                        text  \\\n",
       "0  today marks 83rd anniversary first ever socialsecurity check republicans celebrating t...   \n",
       "1                president biden getting started vp vpBennieGThompson #vp# #BennieGThompson#   \n",
       "2  never negotiate away health safety economic wellbeing american people repjeffries repj...   \n",
       "3  footage tyre nichols killing painful send condolences family friends justice must serv...   \n",
       "4  happy birthday chairman congressman benniegthompson 30th yr congress celebrate incredi...   \n",
       "\n",
       "  author_id                 created_at         RT_user  \\\n",
       "0  82453460  2023-02-01 00:45:11+00:00                   \n",
       "1  82453460  2023-01-30 17:46:29+00:00            #vp#   \n",
       "2  82453460  2023-01-30 17:46:12+00:00   #repjeffries#   \n",
       "3  82453460  2023-01-28 13:42:42+00:00                   \n",
       "4  82453460  2023-01-28 13:32:41+00:00  #cbcinstitute#   \n",
       "\n",
       "                                                                              text_tokenized  \n",
       "0  [today, marks, 83rd, anniversary, first, ever, socialsecurity, check, republicans, cel...  \n",
       "1       [president, biden, getting, started, vp, vpBennieGThompson, #vp#, #BennieGThompson#]  \n",
       "2  [never, negotiate, away, health, safety, economic, wellbeing, american, people, repjef...  \n",
       "3  [footage, tyre, nichols, killing, painful, send, condolences, family, friends, justice...  \n",
       "4  [happy, birthday, chairman, congressman, benniegthompson, 30th, yr, congress, celebrat...  "
      ]
     },
     "execution_count": 114,
     "metadata": {},
     "output_type": "execute_result"
    }
   ],
   "source": [
    "# Make a new column, tokenize the words\n",
    "df_pp['text_tokenized'] = df_pp['text'].str.split()\n",
    "\n",
    "df_pp.head()"
   ]
  },
  {
   "cell_type": "markdown",
   "id": "7ad98278",
   "metadata": {},
   "source": [
    "Notes:\n",
    "- After taking away some of the words and links, there are some tweets with no text data.  Since there are no words to use in the model, I'll delete those tweets."
   ]
  },
  {
   "cell_type": "markdown",
   "id": "51a8b253",
   "metadata": {},
   "source": [
    "Delete tweets with no words after pre-processing"
   ]
  },
  {
   "cell_type": "code",
   "execution_count": 125,
   "id": "89e5811e",
   "metadata": {
    "ExecuteTime": {
     "end_time": "2023-02-15T07:42:14.214064Z",
     "start_time": "2023-02-15T07:42:14.064765Z"
    },
    "scrolled": true
   },
   "outputs": [
    {
     "data": {
      "text/html": [
       "<div>\n",
       "<style scoped>\n",
       "    .dataframe tbody tr th:only-of-type {\n",
       "        vertical-align: middle;\n",
       "    }\n",
       "\n",
       "    .dataframe tbody tr th {\n",
       "        vertical-align: top;\n",
       "    }\n",
       "\n",
       "    .dataframe thead th {\n",
       "        text-align: right;\n",
       "    }\n",
       "</style>\n",
       "<table border=\"1\" class=\"dataframe\">\n",
       "  <thead>\n",
       "    <tr style=\"text-align: right;\">\n",
       "      <th></th>\n",
       "      <th>user_name</th>\n",
       "      <th>class</th>\n",
       "      <th>id</th>\n",
       "      <th>text</th>\n",
       "      <th>author_id</th>\n",
       "      <th>created_at</th>\n",
       "      <th>RT_user</th>\n",
       "      <th>text_tokenized</th>\n",
       "    </tr>\n",
       "  </thead>\n",
       "  <tbody>\n",
       "    <tr>\n",
       "      <th>0</th>\n",
       "      <td>BennieGThompson</td>\n",
       "      <td>Politics - Liberal</td>\n",
       "      <td>1620584010991939584</td>\n",
       "      <td>today marks 83rd anniversary first ever socialsecurity check republicans celebrating t...</td>\n",
       "      <td>82453460</td>\n",
       "      <td>2023-02-01 00:45:11+00:00</td>\n",
       "      <td></td>\n",
       "      <td>[today, marks, 83rd, anniversary, first, ever, socialsecurity, check, republicans, cel...</td>\n",
       "    </tr>\n",
       "    <tr>\n",
       "      <th>1</th>\n",
       "      <td>BennieGThompson</td>\n",
       "      <td>Politics - Liberal</td>\n",
       "      <td>1620116251749269511</td>\n",
       "      <td>president biden getting started vp vpBennieGThompson #vp# #BennieGThompson#</td>\n",
       "      <td>82453460</td>\n",
       "      <td>2023-01-30 17:46:29+00:00</td>\n",
       "      <td>#vp#</td>\n",
       "      <td>[president, biden, getting, started, vp, vpBennieGThompson, #vp#, #BennieGThompson#]</td>\n",
       "    </tr>\n",
       "    <tr>\n",
       "      <th>2</th>\n",
       "      <td>BennieGThompson</td>\n",
       "      <td>Politics - Liberal</td>\n",
       "      <td>1620116182618759168</td>\n",
       "      <td>never negotiate away health safety economic wellbeing american people repjeffries repj...</td>\n",
       "      <td>82453460</td>\n",
       "      <td>2023-01-30 17:46:12+00:00</td>\n",
       "      <td>#repjeffries#</td>\n",
       "      <td>[never, negotiate, away, health, safety, economic, wellbeing, american, people, repjef...</td>\n",
       "    </tr>\n",
       "    <tr>\n",
       "      <th>3</th>\n",
       "      <td>BennieGThompson</td>\n",
       "      <td>Politics - Liberal</td>\n",
       "      <td>1619330126361300993</td>\n",
       "      <td>footage tyre nichols killing painful send condolences family friends justice must serv...</td>\n",
       "      <td>82453460</td>\n",
       "      <td>2023-01-28 13:42:42+00:00</td>\n",
       "      <td></td>\n",
       "      <td>[footage, tyre, nichols, killing, painful, send, condolences, family, friends, justice...</td>\n",
       "    </tr>\n",
       "    <tr>\n",
       "      <th>4</th>\n",
       "      <td>BennieGThompson</td>\n",
       "      <td>Politics - Liberal</td>\n",
       "      <td>1619327606159179777</td>\n",
       "      <td>happy birthday chairman congressman benniegthompson 30th yr congress celebrate incredi...</td>\n",
       "      <td>82453460</td>\n",
       "      <td>2023-01-28 13:32:41+00:00</td>\n",
       "      <td>#cbcinstitute#</td>\n",
       "      <td>[happy, birthday, chairman, congressman, benniegthompson, 30th, yr, congress, celebrat...</td>\n",
       "    </tr>\n",
       "  </tbody>\n",
       "</table>\n",
       "</div>"
      ],
      "text/plain": [
       "         user_name               class                   id  \\\n",
       "0  BennieGThompson  Politics - Liberal  1620584010991939584   \n",
       "1  BennieGThompson  Politics - Liberal  1620116251749269511   \n",
       "2  BennieGThompson  Politics - Liberal  1620116182618759168   \n",
       "3  BennieGThompson  Politics - Liberal  1619330126361300993   \n",
       "4  BennieGThompson  Politics - Liberal  1619327606159179777   \n",
       "\n",
       "                                                                                        text  \\\n",
       "0  today marks 83rd anniversary first ever socialsecurity check republicans celebrating t...   \n",
       "1                president biden getting started vp vpBennieGThompson #vp# #BennieGThompson#   \n",
       "2  never negotiate away health safety economic wellbeing american people repjeffries repj...   \n",
       "3  footage tyre nichols killing painful send condolences family friends justice must serv...   \n",
       "4  happy birthday chairman congressman benniegthompson 30th yr congress celebrate incredi...   \n",
       "\n",
       "  author_id                 created_at         RT_user  \\\n",
       "0  82453460  2023-02-01 00:45:11+00:00                   \n",
       "1  82453460  2023-01-30 17:46:29+00:00            #vp#   \n",
       "2  82453460  2023-01-30 17:46:12+00:00   #repjeffries#   \n",
       "3  82453460  2023-01-28 13:42:42+00:00                   \n",
       "4  82453460  2023-01-28 13:32:41+00:00  #cbcinstitute#   \n",
       "\n",
       "                                                                              text_tokenized  \n",
       "0  [today, marks, 83rd, anniversary, first, ever, socialsecurity, check, republicans, cel...  \n",
       "1       [president, biden, getting, started, vp, vpBennieGThompson, #vp#, #BennieGThompson#]  \n",
       "2  [never, negotiate, away, health, safety, economic, wellbeing, american, people, repjef...  \n",
       "3  [footage, tyre, nichols, killing, painful, send, condolences, family, friends, justice...  \n",
       "4  [happy, birthday, chairman, congressman, benniegthompson, 30th, yr, congress, celebrat...  "
      ]
     },
     "execution_count": 125,
     "metadata": {},
     "output_type": "execute_result"
    }
   ],
   "source": [
    "df_pp['text'] = df_pp['text'].apply(lambda x: np.nan if len(x.strip()) == 0 else x)\n",
    "df_pp = df_pp.dropna().reset_index(drop=True) \n",
    "\n",
    "df_pp.head()"
   ]
  },
  {
   "cell_type": "markdown",
   "id": "76336374",
   "metadata": {},
   "source": [
    "Make sure there's no nulls after deleting null values"
   ]
  },
  {
   "cell_type": "code",
   "execution_count": 126,
   "id": "1cb9bd2b",
   "metadata": {
    "ExecuteTime": {
     "end_time": "2023-02-15T07:42:19.153213Z",
     "start_time": "2023-02-15T07:42:19.113775Z"
    }
   },
   "outputs": [
    {
     "data": {
      "text/plain": [
       "user_name         0\n",
       "class             0\n",
       "id                0\n",
       "text              0\n",
       "author_id         0\n",
       "created_at        0\n",
       "RT_user           0\n",
       "text_tokenized    0\n",
       "dtype: int64"
      ]
     },
     "execution_count": 126,
     "metadata": {},
     "output_type": "execute_result"
    }
   ],
   "source": [
    "df_pp.isna().sum()"
   ]
  },
  {
   "cell_type": "code",
   "execution_count": 127,
   "id": "f99cd3c9",
   "metadata": {
    "ExecuteTime": {
     "end_time": "2023-02-15T07:42:27.374447Z",
     "start_time": "2023-02-15T07:42:27.357448Z"
    },
    "scrolled": false
   },
   "outputs": [
    {
     "data": {
      "text/html": [
       "<div>\n",
       "<style scoped>\n",
       "    .dataframe tbody tr th:only-of-type {\n",
       "        vertical-align: middle;\n",
       "    }\n",
       "\n",
       "    .dataframe tbody tr th {\n",
       "        vertical-align: top;\n",
       "    }\n",
       "\n",
       "    .dataframe thead th {\n",
       "        text-align: right;\n",
       "    }\n",
       "</style>\n",
       "<table border=\"1\" class=\"dataframe\">\n",
       "  <thead>\n",
       "    <tr style=\"text-align: right;\">\n",
       "      <th></th>\n",
       "      <th>class</th>\n",
       "      <th>text</th>\n",
       "      <th>text_tokenized</th>\n",
       "    </tr>\n",
       "  </thead>\n",
       "  <tbody>\n",
       "    <tr>\n",
       "      <th>0</th>\n",
       "      <td>Politics - Liberal</td>\n",
       "      <td>today marks 83rd anniversary first ever socialsecurity check republicans celebrating t...</td>\n",
       "      <td>[today, marks, 83rd, anniversary, first, ever, socialsecurity, check, republicans, cel...</td>\n",
       "    </tr>\n",
       "    <tr>\n",
       "      <th>1</th>\n",
       "      <td>Politics - Liberal</td>\n",
       "      <td>president biden getting started vp vpBennieGThompson #vp# #BennieGThompson#</td>\n",
       "      <td>[president, biden, getting, started, vp, vpBennieGThompson, #vp#, #BennieGThompson#]</td>\n",
       "    </tr>\n",
       "    <tr>\n",
       "      <th>2</th>\n",
       "      <td>Politics - Liberal</td>\n",
       "      <td>never negotiate away health safety economic wellbeing american people repjeffries repj...</td>\n",
       "      <td>[never, negotiate, away, health, safety, economic, wellbeing, american, people, repjef...</td>\n",
       "    </tr>\n",
       "    <tr>\n",
       "      <th>3</th>\n",
       "      <td>Politics - Liberal</td>\n",
       "      <td>footage tyre nichols killing painful send condolences family friends justice must serv...</td>\n",
       "      <td>[footage, tyre, nichols, killing, painful, send, condolences, family, friends, justice...</td>\n",
       "    </tr>\n",
       "    <tr>\n",
       "      <th>4</th>\n",
       "      <td>Politics - Liberal</td>\n",
       "      <td>happy birthday chairman congressman benniegthompson 30th yr congress celebrate incredi...</td>\n",
       "      <td>[happy, birthday, chairman, congressman, benniegthompson, 30th, yr, congress, celebrat...</td>\n",
       "    </tr>\n",
       "  </tbody>\n",
       "</table>\n",
       "</div>"
      ],
      "text/plain": [
       "                class  \\\n",
       "0  Politics - Liberal   \n",
       "1  Politics - Liberal   \n",
       "2  Politics - Liberal   \n",
       "3  Politics - Liberal   \n",
       "4  Politics - Liberal   \n",
       "\n",
       "                                                                                        text  \\\n",
       "0  today marks 83rd anniversary first ever socialsecurity check republicans celebrating t...   \n",
       "1                president biden getting started vp vpBennieGThompson #vp# #BennieGThompson#   \n",
       "2  never negotiate away health safety economic wellbeing american people repjeffries repj...   \n",
       "3  footage tyre nichols killing painful send condolences family friends justice must serv...   \n",
       "4  happy birthday chairman congressman benniegthompson 30th yr congress celebrate incredi...   \n",
       "\n",
       "                                                                              text_tokenized  \n",
       "0  [today, marks, 83rd, anniversary, first, ever, socialsecurity, check, republicans, cel...  \n",
       "1       [president, biden, getting, started, vp, vpBennieGThompson, #vp#, #BennieGThompson#]  \n",
       "2  [never, negotiate, away, health, safety, economic, wellbeing, american, people, repjef...  \n",
       "3  [footage, tyre, nichols, killing, painful, send, condolences, family, friends, justice...  \n",
       "4  [happy, birthday, chairman, congressman, benniegthompson, 30th, yr, congress, celebrat...  "
      ]
     },
     "execution_count": 127,
     "metadata": {},
     "output_type": "execute_result"
    }
   ],
   "source": [
    "# Make a new df\n",
    "df_pp = df_pp.drop(columns=['id', 'user_name', 'author_id', 'created_at', 'RT_user'])\n",
    "df_pp.head()"
   ]
  },
  {
   "cell_type": "markdown",
   "id": "8cd60b87",
   "metadata": {},
   "source": [
    "First, let's try to predict the primary interest of the user between our main classifications:\n",
    "- Politics\n",
    "- Sports\n",
    "- TV / movies\n",
    "- Business and finance\n",
    "- Music\n",
    "- Travel\n",
    "- Science / Technology"
   ]
  },
  {
   "cell_type": "code",
   "execution_count": 128,
   "id": "ddf6e274",
   "metadata": {
    "ExecuteTime": {
     "end_time": "2023-02-15T07:42:47.853147Z",
     "start_time": "2023-02-15T07:42:47.830071Z"
    }
   },
   "outputs": [
    {
     "data": {
      "text/plain": [
       "Politics - Conservative    30532\n",
       "Politics - Liberal         26846\n",
       "TV / movies                11843\n",
       "Sports                     11633\n",
       "Music                      10916\n",
       "Business and finance        8444\n",
       "Science / Technology        7522\n",
       "Travel                      4991\n",
       "Name: class, dtype: int64"
      ]
     },
     "execution_count": 128,
     "metadata": {},
     "output_type": "execute_result"
    }
   ],
   "source": [
    "# df3.loc[(df3['class'] == 'Politics - Conservative') | (df3['class'] == 'Politics - Liberal'), 'class'] = 'Politics'\n",
    "df_pp['class'].value_counts()"
   ]
  },
  {
   "cell_type": "markdown",
   "id": "b3af1d23",
   "metadata": {},
   "source": [
    "Encode the labels into a number"
   ]
  },
  {
   "cell_type": "code",
   "execution_count": 131,
   "id": "f0c48246",
   "metadata": {
    "ExecuteTime": {
     "end_time": "2023-02-15T07:46:02.413498Z",
     "start_time": "2023-02-15T07:46:02.376479Z"
    }
   },
   "outputs": [
    {
     "data": {
      "text/html": [
       "<div>\n",
       "<style scoped>\n",
       "    .dataframe tbody tr th:only-of-type {\n",
       "        vertical-align: middle;\n",
       "    }\n",
       "\n",
       "    .dataframe tbody tr th {\n",
       "        vertical-align: top;\n",
       "    }\n",
       "\n",
       "    .dataframe thead th {\n",
       "        text-align: right;\n",
       "    }\n",
       "</style>\n",
       "<table border=\"1\" class=\"dataframe\">\n",
       "  <thead>\n",
       "    <tr style=\"text-align: right;\">\n",
       "      <th></th>\n",
       "      <th>class</th>\n",
       "      <th>text</th>\n",
       "      <th>text_tokenized</th>\n",
       "      <th>class_label</th>\n",
       "    </tr>\n",
       "  </thead>\n",
       "  <tbody>\n",
       "    <tr>\n",
       "      <th>0</th>\n",
       "      <td>Politics - Liberal</td>\n",
       "      <td>today marks 83rd anniversary first ever socialsecurity check republicans celebrating t...</td>\n",
       "      <td>[today, marks, 83rd, anniversary, first, ever, socialsecurity, check, republicans, cel...</td>\n",
       "      <td>3</td>\n",
       "    </tr>\n",
       "    <tr>\n",
       "      <th>1</th>\n",
       "      <td>Politics - Liberal</td>\n",
       "      <td>president biden getting started vp vpBennieGThompson #vp# #BennieGThompson#</td>\n",
       "      <td>[president, biden, getting, started, vp, vpBennieGThompson, #vp#, #BennieGThompson#]</td>\n",
       "      <td>3</td>\n",
       "    </tr>\n",
       "    <tr>\n",
       "      <th>2</th>\n",
       "      <td>Politics - Liberal</td>\n",
       "      <td>never negotiate away health safety economic wellbeing american people repjeffries repj...</td>\n",
       "      <td>[never, negotiate, away, health, safety, economic, wellbeing, american, people, repjef...</td>\n",
       "      <td>3</td>\n",
       "    </tr>\n",
       "    <tr>\n",
       "      <th>3</th>\n",
       "      <td>Politics - Liberal</td>\n",
       "      <td>footage tyre nichols killing painful send condolences family friends justice must serv...</td>\n",
       "      <td>[footage, tyre, nichols, killing, painful, send, condolences, family, friends, justice...</td>\n",
       "      <td>3</td>\n",
       "    </tr>\n",
       "    <tr>\n",
       "      <th>4</th>\n",
       "      <td>Politics - Liberal</td>\n",
       "      <td>happy birthday chairman congressman benniegthompson 30th yr congress celebrate incredi...</td>\n",
       "      <td>[happy, birthday, chairman, congressman, benniegthompson, 30th, yr, congress, celebrat...</td>\n",
       "      <td>3</td>\n",
       "    </tr>\n",
       "  </tbody>\n",
       "</table>\n",
       "</div>"
      ],
      "text/plain": [
       "                class  \\\n",
       "0  Politics - Liberal   \n",
       "1  Politics - Liberal   \n",
       "2  Politics - Liberal   \n",
       "3  Politics - Liberal   \n",
       "4  Politics - Liberal   \n",
       "\n",
       "                                                                                        text  \\\n",
       "0  today marks 83rd anniversary first ever socialsecurity check republicans celebrating t...   \n",
       "1                president biden getting started vp vpBennieGThompson #vp# #BennieGThompson#   \n",
       "2  never negotiate away health safety economic wellbeing american people repjeffries repj...   \n",
       "3  footage tyre nichols killing painful send condolences family friends justice must serv...   \n",
       "4  happy birthday chairman congressman benniegthompson 30th yr congress celebrate incredi...   \n",
       "\n",
       "                                                                              text_tokenized  \\\n",
       "0  [today, marks, 83rd, anniversary, first, ever, socialsecurity, check, republicans, cel...   \n",
       "1       [president, biden, getting, started, vp, vpBennieGThompson, #vp#, #BennieGThompson#]   \n",
       "2  [never, negotiate, away, health, safety, economic, wellbeing, american, people, repjef...   \n",
       "3  [footage, tyre, nichols, killing, painful, send, condolences, family, friends, justice...   \n",
       "4  [happy, birthday, chairman, congressman, benniegthompson, 30th, yr, congress, celebrat...   \n",
       "\n",
       "   class_label  \n",
       "0            3  \n",
       "1            3  \n",
       "2            3  \n",
       "3            3  \n",
       "4            3  "
      ]
     },
     "execution_count": 131,
     "metadata": {},
     "output_type": "execute_result"
    }
   ],
   "source": [
    "le = LabelEncoder()\n",
    "df_pp['class_label'] = le.fit_transform(df_pp['class'])\n",
    "df_pp.head()"
   ]
  },
  {
   "cell_type": "code",
   "execution_count": 139,
   "id": "3f9973ab",
   "metadata": {
    "ExecuteTime": {
     "end_time": "2023-02-15T07:48:00.547115Z",
     "start_time": "2023-02-15T07:48:00.519980Z"
    },
    "scrolled": true
   },
   "outputs": [
    {
     "data": {
      "text/html": [
       "<div>\n",
       "<style scoped>\n",
       "    .dataframe tbody tr th:only-of-type {\n",
       "        vertical-align: middle;\n",
       "    }\n",
       "\n",
       "    .dataframe tbody tr th {\n",
       "        vertical-align: top;\n",
       "    }\n",
       "\n",
       "    .dataframe thead th {\n",
       "        text-align: right;\n",
       "    }\n",
       "</style>\n",
       "<table border=\"1\" class=\"dataframe\">\n",
       "  <thead>\n",
       "    <tr style=\"text-align: right;\">\n",
       "      <th></th>\n",
       "      <th></th>\n",
       "      <th>class</th>\n",
       "    </tr>\n",
       "    <tr>\n",
       "      <th>class</th>\n",
       "      <th>class_label</th>\n",
       "      <th></th>\n",
       "    </tr>\n",
       "  </thead>\n",
       "  <tbody>\n",
       "    <tr>\n",
       "      <th>Business and finance</th>\n",
       "      <th>0</th>\n",
       "      <td>8444</td>\n",
       "    </tr>\n",
       "    <tr>\n",
       "      <th>Music</th>\n",
       "      <th>1</th>\n",
       "      <td>10916</td>\n",
       "    </tr>\n",
       "    <tr>\n",
       "      <th>Politics - Conservative</th>\n",
       "      <th>2</th>\n",
       "      <td>30532</td>\n",
       "    </tr>\n",
       "    <tr>\n",
       "      <th>Politics - Liberal</th>\n",
       "      <th>3</th>\n",
       "      <td>26846</td>\n",
       "    </tr>\n",
       "    <tr>\n",
       "      <th>Science / Technology</th>\n",
       "      <th>4</th>\n",
       "      <td>7522</td>\n",
       "    </tr>\n",
       "    <tr>\n",
       "      <th>Sports</th>\n",
       "      <th>5</th>\n",
       "      <td>11633</td>\n",
       "    </tr>\n",
       "    <tr>\n",
       "      <th>TV / movies</th>\n",
       "      <th>6</th>\n",
       "      <td>11843</td>\n",
       "    </tr>\n",
       "    <tr>\n",
       "      <th>Travel</th>\n",
       "      <th>7</th>\n",
       "      <td>4991</td>\n",
       "    </tr>\n",
       "  </tbody>\n",
       "</table>\n",
       "</div>"
      ],
      "text/plain": [
       "                                     class\n",
       "class                   class_label       \n",
       "Business and finance    0             8444\n",
       "Music                   1            10916\n",
       "Politics - Conservative 2            30532\n",
       "Politics - Liberal      3            26846\n",
       "Science / Technology    4             7522\n",
       "Sports                  5            11633\n",
       "TV / movies             6            11843\n",
       "Travel                  7             4991"
      ]
     },
     "execution_count": 139,
     "metadata": {},
     "output_type": "execute_result"
    }
   ],
   "source": [
    "labels_df = df_pp.groupby(['class', 'class_label'])['class',].count()\n",
    "labels_df"
   ]
  },
  {
   "cell_type": "code",
   "execution_count": 211,
   "id": "5aaa605d",
   "metadata": {
    "ExecuteTime": {
     "end_time": "2023-02-06T23:21:00.838459Z",
     "start_time": "2023-02-06T23:21:00.827277Z"
    }
   },
   "outputs": [],
   "source": [
    "def tag_and_lemmatize(text):\n",
    "    newText = text\n",
    "    newText = pos_tag(newText)\n",
    "    newText = [(x[0], get_wordnet_pos(x[1])) for x in newText]\n",
    "    lemma = nltk.stem.WordNetLemmatizer()\n",
    "    newText = [(lemma.lemmatize(x[0], x[1])) for x in newText]\n",
    "    return newText\n"
   ]
  },
  {
   "cell_type": "code",
   "execution_count": 212,
   "id": "a257d51f",
   "metadata": {
    "ExecuteTime": {
     "end_time": "2023-02-06T23:23:06.344276Z",
     "start_time": "2023-02-06T23:21:01.104955Z"
    }
   },
   "outputs": [],
   "source": [
    "df3['text4'] = df3['text3'].apply(tag_and_lemmatize)"
   ]
  },
  {
   "cell_type": "code",
   "execution_count": 213,
   "id": "38a1feb7",
   "metadata": {
    "ExecuteTime": {
     "end_time": "2023-02-06T23:23:06.624637Z",
     "start_time": "2023-02-06T23:23:06.611593Z"
    },
    "scrolled": true
   },
   "outputs": [
    {
     "data": {
      "text/plain": [
       "['today',\n",
       " 'mark',\n",
       " '83rd',\n",
       " 'anniversary',\n",
       " 'first',\n",
       " 'ever',\n",
       " 'socialsecurity',\n",
       " 'check',\n",
       " 'republicans',\n",
       " 'celebrate',\n",
       " 'try',\n",
       " 'cut',\n",
       " 'vital',\n",
       " 'program',\n",
       " 'determine',\n",
       " 'protect',\n",
       " 'expand',\n",
       " 'program',\n",
       " 'american',\n",
       " 'worker',\n",
       " 'pay',\n",
       " 'every',\n",
       " 'paycheck']"
      ]
     },
     "execution_count": 213,
     "metadata": {},
     "output_type": "execute_result"
    }
   ],
   "source": [
    "df3['text4'][0]"
   ]
  },
  {
   "cell_type": "code",
   "execution_count": 214,
   "id": "ea25f4c2",
   "metadata": {
    "ExecuteTime": {
     "end_time": "2023-02-06T23:23:06.932102Z",
     "start_time": "2023-02-06T23:23:06.890099Z"
    }
   },
   "outputs": [
    {
     "data": {
      "text/html": [
       "<div>\n",
       "<style scoped>\n",
       "    .dataframe tbody tr th:only-of-type {\n",
       "        vertical-align: middle;\n",
       "    }\n",
       "\n",
       "    .dataframe tbody tr th {\n",
       "        vertical-align: top;\n",
       "    }\n",
       "\n",
       "    .dataframe thead th {\n",
       "        text-align: right;\n",
       "    }\n",
       "</style>\n",
       "<table border=\"1\" class=\"dataframe\">\n",
       "  <thead>\n",
       "    <tr style=\"text-align: right;\">\n",
       "      <th></th>\n",
       "      <th>user_name</th>\n",
       "      <th>class</th>\n",
       "      <th>id</th>\n",
       "      <th>text</th>\n",
       "      <th>author_id</th>\n",
       "      <th>created_at</th>\n",
       "      <th>text2</th>\n",
       "      <th>RT_user</th>\n",
       "      <th>RT_user#</th>\n",
       "      <th>word_count</th>\n",
       "      <th>text3</th>\n",
       "      <th>class_label</th>\n",
       "      <th>text4</th>\n",
       "    </tr>\n",
       "  </thead>\n",
       "  <tbody>\n",
       "    <tr>\n",
       "      <th>0</th>\n",
       "      <td>BennieGThompson</td>\n",
       "      <td>Politics</td>\n",
       "      <td>1620584010991939584</td>\n",
       "      <td>Today marks the 83rd anniversary of the first ever #SocialSecurity check, and Republic...</td>\n",
       "      <td>82453460</td>\n",
       "      <td>2023-02-01 00:45:11+00:00</td>\n",
       "      <td>today marks 83rd anniversary first ever socialsecurity check republicans celebrating t...</td>\n",
       "      <td></td>\n",
       "      <td></td>\n",
       "      <td>180</td>\n",
       "      <td>[today, marks, 83rd, anniversary, first, ever, socialsecurity, check, republicans, cel...</td>\n",
       "      <td>2</td>\n",
       "      <td>[today, mark, 83rd, anniversary, first, ever, socialsecurity, check, republicans, cele...</td>\n",
       "    </tr>\n",
       "    <tr>\n",
       "      <th>1</th>\n",
       "      <td>BennieGThompson</td>\n",
       "      <td>Politics</td>\n",
       "      <td>1620116251749269511</td>\n",
       "      <td>RT @VP: President Biden and I are just getting started. https://t.co/gLmNbpKGAN</td>\n",
       "      <td>82453460</td>\n",
       "      <td>2023-01-30 17:46:29+00:00</td>\n",
       "      <td>president biden getting started #vp#</td>\n",
       "      <td>vp</td>\n",
       "      <td>#vp#</td>\n",
       "      <td>36</td>\n",
       "      <td>[president, biden, getting, started, #vp#]</td>\n",
       "      <td>2</td>\n",
       "      <td>[president, biden, get, start, #vp#]</td>\n",
       "    </tr>\n",
       "    <tr>\n",
       "      <th>2</th>\n",
       "      <td>BennieGThompson</td>\n",
       "      <td>Politics</td>\n",
       "      <td>1620116182618759168</td>\n",
       "      <td>RT @RepJeffries: We will never negotiate away the health, safety or economic well-bein...</td>\n",
       "      <td>82453460</td>\n",
       "      <td>2023-01-30 17:46:12+00:00</td>\n",
       "      <td>never negotiate away health safety economic wellbeing american people #repjeffries#</td>\n",
       "      <td>repjeffries</td>\n",
       "      <td>#repjeffries#</td>\n",
       "      <td>83</td>\n",
       "      <td>[never, negotiate, away, health, safety, economic, wellbeing, american, people, #repje...</td>\n",
       "      <td>2</td>\n",
       "      <td>[never, negotiate, away, health, safety, economic, wellbeing, american, people, #repje...</td>\n",
       "    </tr>\n",
       "    <tr>\n",
       "      <th>3</th>\n",
       "      <td>BennieGThompson</td>\n",
       "      <td>Politics</td>\n",
       "      <td>1619330126361300993</td>\n",
       "      <td>The footage of Tyre Nichols killing is painful. I send my condolences to his family an...</td>\n",
       "      <td>82453460</td>\n",
       "      <td>2023-01-28 13:42:42+00:00</td>\n",
       "      <td>footage tyre nichols killing painful send condolences family friends justice must serv...</td>\n",
       "      <td></td>\n",
       "      <td></td>\n",
       "      <td>101</td>\n",
       "      <td>[footage, tyre, nichols, killing, painful, send, condolences, family, friends, justice...</td>\n",
       "      <td>2</td>\n",
       "      <td>[footage, tyre, nichols, kill, painful, send, condolence, family, friends, justice, mu...</td>\n",
       "    </tr>\n",
       "    <tr>\n",
       "      <th>4</th>\n",
       "      <td>BennieGThompson</td>\n",
       "      <td>Politics</td>\n",
       "      <td>1619327606159179777</td>\n",
       "      <td>RT @CBCInstitute: Happy Birthday to our Chairman Congressman @BennieGThompson! In your...</td>\n",
       "      <td>82453460</td>\n",
       "      <td>2023-01-28 13:32:41+00:00</td>\n",
       "      <td>happy birthday chairman congressman benniegthompson 30th yr congress celebrate incredi...</td>\n",
       "      <td>cbcinstitute</td>\n",
       "      <td>#cbcinstitute#</td>\n",
       "      <td>108</td>\n",
       "      <td>[happy, birthday, chairman, congressman, benniegthompson, 30th, yr, congress, celebrat...</td>\n",
       "      <td>2</td>\n",
       "      <td>[happy, birthday, chairman, congressman, benniegthompson, 30th, yr, congress, celebrat...</td>\n",
       "    </tr>\n",
       "    <tr>\n",
       "      <th>...</th>\n",
       "      <td>...</td>\n",
       "      <td>...</td>\n",
       "      <td>...</td>\n",
       "      <td>...</td>\n",
       "      <td>...</td>\n",
       "      <td>...</td>\n",
       "      <td>...</td>\n",
       "      <td>...</td>\n",
       "      <td>...</td>\n",
       "      <td>...</td>\n",
       "      <td>...</td>\n",
       "      <td>...</td>\n",
       "      <td>...</td>\n",
       "    </tr>\n",
       "    <tr>\n",
       "      <th>112722</th>\n",
       "      <td>RepLCD</td>\n",
       "      <td>Politics</td>\n",
       "      <td>1611786100825006080</td>\n",
       "      <td>It was great to catch up with my friend @RepFeenstra last night -- we're ready to get ...</td>\n",
       "      <td>1583530102297600000</td>\n",
       "      <td>2023-01-07 18:05:26+00:00</td>\n",
       "      <td>great catch friend repfeenstra last night were ready get work amp deliver promises mad...</td>\n",
       "      <td></td>\n",
       "      <td></td>\n",
       "      <td>114</td>\n",
       "      <td>[great, catch, friend, repfeenstra, last, night, were, ready, get, work, amp, deliver,...</td>\n",
       "      <td>2</td>\n",
       "      <td>[great, catch, friend, repfeenstra, last, night, be, ready, get, work, amp, deliver, p...</td>\n",
       "    </tr>\n",
       "    <tr>\n",
       "      <th>112723</th>\n",
       "      <td>RepLCD</td>\n",
       "      <td>Politics</td>\n",
       "      <td>1611615029660639233</td>\n",
       "      <td>Thank you #OR05 for placing your trust in me to represent you in the halls of Congress...</td>\n",
       "      <td>1583530102297600000</td>\n",
       "      <td>2023-01-07 06:45:40+00:00</td>\n",
       "      <td>thank or05 placing trust represent halls congress solemn promise oregonians carry cons...</td>\n",
       "      <td></td>\n",
       "      <td></td>\n",
       "      <td>155</td>\n",
       "      <td>[thank, or05, placing, trust, represent, halls, congress, solemn, promise, oregonians,...</td>\n",
       "      <td>2</td>\n",
       "      <td>[thank, or05, place, trust, represent, hall, congress, solemn, promise, oregonian, car...</td>\n",
       "    </tr>\n",
       "    <tr>\n",
       "      <th>112724</th>\n",
       "      <td>RepLCD</td>\n",
       "      <td>Politics</td>\n",
       "      <td>1610791524807081986</td>\n",
       "      <td>A small minority is preventing the House from doing the work we were sent here to do. ...</td>\n",
       "      <td>1583530102297600000</td>\n",
       "      <td>2023-01-05 00:13:21+00:00</td>\n",
       "      <td>small minority preventing house work sent do must get economy back track work get cost...</td>\n",
       "      <td></td>\n",
       "      <td></td>\n",
       "      <td>157</td>\n",
       "      <td>[small, minority, preventing, house, work, sent, do, must, get, economy, back, track, ...</td>\n",
       "      <td>2</td>\n",
       "      <td>[small, minority, prevent, house, work, send, do, must, get, economy, back, track, wor...</td>\n",
       "    </tr>\n",
       "    <tr>\n",
       "      <th>112725</th>\n",
       "      <td>RepLCD</td>\n",
       "      <td>Politics</td>\n",
       "      <td>1610408428052295681</td>\n",
       "      <td>As I take on the responsibility of serving #OR05, I'm very grateful to have my family ...</td>\n",
       "      <td>1583530102297600000</td>\n",
       "      <td>2023-01-03 22:51:03+00:00</td>\n",
       "      <td>take responsibility serving or05 im grateful family side</td>\n",
       "      <td></td>\n",
       "      <td></td>\n",
       "      <td>57</td>\n",
       "      <td>[take, responsibility, serving, or05, im, grateful, family, side]</td>\n",
       "      <td>2</td>\n",
       "      <td>[take, responsibility, serve, or05, im, grateful, family, side]</td>\n",
       "    </tr>\n",
       "    <tr>\n",
       "      <th>112726</th>\n",
       "      <td>RepLCD</td>\n",
       "      <td>Politics</td>\n",
       "      <td>1610321103058046978</td>\n",
       "      <td>Soon, I'll be sworn in to serve my first term in the U.S. House of Representatives. It...</td>\n",
       "      <td>1583530102297600000</td>\n",
       "      <td>2023-01-03 17:04:03+00:00</td>\n",
       "      <td>soon ill sworn serve first term us house representatives truly honor im ready hit grou...</td>\n",
       "      <td></td>\n",
       "      <td></td>\n",
       "      <td>156</td>\n",
       "      <td>[soon, ill, sworn, serve, first, term, us, house, representatives, truly, honor, im, r...</td>\n",
       "      <td>2</td>\n",
       "      <td>[soon, ill, swear, serve, first, term, u, house, representative, truly, honor, im, rea...</td>\n",
       "    </tr>\n",
       "  </tbody>\n",
       "</table>\n",
       "<p>112727 rows × 13 columns</p>\n",
       "</div>"
      ],
      "text/plain": [
       "              user_name     class                   id  \\\n",
       "0       BennieGThompson  Politics  1620584010991939584   \n",
       "1       BennieGThompson  Politics  1620116251749269511   \n",
       "2       BennieGThompson  Politics  1620116182618759168   \n",
       "3       BennieGThompson  Politics  1619330126361300993   \n",
       "4       BennieGThompson  Politics  1619327606159179777   \n",
       "...                 ...       ...                  ...   \n",
       "112722           RepLCD  Politics  1611786100825006080   \n",
       "112723           RepLCD  Politics  1611615029660639233   \n",
       "112724           RepLCD  Politics  1610791524807081986   \n",
       "112725           RepLCD  Politics  1610408428052295681   \n",
       "112726           RepLCD  Politics  1610321103058046978   \n",
       "\n",
       "                                                                                             text  \\\n",
       "0       Today marks the 83rd anniversary of the first ever #SocialSecurity check, and Republic...   \n",
       "1                 RT @VP: President Biden and I are just getting started. https://t.co/gLmNbpKGAN   \n",
       "2       RT @RepJeffries: We will never negotiate away the health, safety or economic well-bein...   \n",
       "3       The footage of Tyre Nichols killing is painful. I send my condolences to his family an...   \n",
       "4       RT @CBCInstitute: Happy Birthday to our Chairman Congressman @BennieGThompson! In your...   \n",
       "...                                                                                           ...   \n",
       "112722  It was great to catch up with my friend @RepFeenstra last night -- we're ready to get ...   \n",
       "112723  Thank you #OR05 for placing your trust in me to represent you in the halls of Congress...   \n",
       "112724  A small minority is preventing the House from doing the work we were sent here to do. ...   \n",
       "112725  As I take on the responsibility of serving #OR05, I'm very grateful to have my family ...   \n",
       "112726  Soon, I'll be sworn in to serve my first term in the U.S. House of Representatives. It...   \n",
       "\n",
       "                  author_id                 created_at  \\\n",
       "0                  82453460  2023-02-01 00:45:11+00:00   \n",
       "1                  82453460  2023-01-30 17:46:29+00:00   \n",
       "2                  82453460  2023-01-30 17:46:12+00:00   \n",
       "3                  82453460  2023-01-28 13:42:42+00:00   \n",
       "4                  82453460  2023-01-28 13:32:41+00:00   \n",
       "...                     ...                        ...   \n",
       "112722  1583530102297600000  2023-01-07 18:05:26+00:00   \n",
       "112723  1583530102297600000  2023-01-07 06:45:40+00:00   \n",
       "112724  1583530102297600000  2023-01-05 00:13:21+00:00   \n",
       "112725  1583530102297600000  2023-01-03 22:51:03+00:00   \n",
       "112726  1583530102297600000  2023-01-03 17:04:03+00:00   \n",
       "\n",
       "                                                                                            text2  \\\n",
       "0       today marks 83rd anniversary first ever socialsecurity check republicans celebrating t...   \n",
       "1                                                            president biden getting started #vp#   \n",
       "2             never negotiate away health safety economic wellbeing american people #repjeffries#   \n",
       "3       footage tyre nichols killing painful send condolences family friends justice must serv...   \n",
       "4       happy birthday chairman congressman benniegthompson 30th yr congress celebrate incredi...   \n",
       "...                                                                                           ...   \n",
       "112722  great catch friend repfeenstra last night were ready get work amp deliver promises mad...   \n",
       "112723  thank or05 placing trust represent halls congress solemn promise oregonians carry cons...   \n",
       "112724  small minority preventing house work sent do must get economy back track work get cost...   \n",
       "112725                                  take responsibility serving or05 im grateful family side    \n",
       "112726  soon ill sworn serve first term us house representatives truly honor im ready hit grou...   \n",
       "\n",
       "             RT_user        RT_user#  word_count  \\\n",
       "0                                            180   \n",
       "1                 vp            #vp#          36   \n",
       "2        repjeffries   #repjeffries#          83   \n",
       "3                                            101   \n",
       "4       cbcinstitute  #cbcinstitute#         108   \n",
       "...              ...             ...         ...   \n",
       "112722                                       114   \n",
       "112723                                       155   \n",
       "112724                                       157   \n",
       "112725                                        57   \n",
       "112726                                       156   \n",
       "\n",
       "                                                                                            text3  \\\n",
       "0       [today, marks, 83rd, anniversary, first, ever, socialsecurity, check, republicans, cel...   \n",
       "1                                                      [president, biden, getting, started, #vp#]   \n",
       "2       [never, negotiate, away, health, safety, economic, wellbeing, american, people, #repje...   \n",
       "3       [footage, tyre, nichols, killing, painful, send, condolences, family, friends, justice...   \n",
       "4       [happy, birthday, chairman, congressman, benniegthompson, 30th, yr, congress, celebrat...   \n",
       "...                                                                                           ...   \n",
       "112722  [great, catch, friend, repfeenstra, last, night, were, ready, get, work, amp, deliver,...   \n",
       "112723  [thank, or05, placing, trust, represent, halls, congress, solemn, promise, oregonians,...   \n",
       "112724  [small, minority, preventing, house, work, sent, do, must, get, economy, back, track, ...   \n",
       "112725                          [take, responsibility, serving, or05, im, grateful, family, side]   \n",
       "112726  [soon, ill, sworn, serve, first, term, us, house, representatives, truly, honor, im, r...   \n",
       "\n",
       "        class_label  \\\n",
       "0                 2   \n",
       "1                 2   \n",
       "2                 2   \n",
       "3                 2   \n",
       "4                 2   \n",
       "...             ...   \n",
       "112722            2   \n",
       "112723            2   \n",
       "112724            2   \n",
       "112725            2   \n",
       "112726            2   \n",
       "\n",
       "                                                                                            text4  \n",
       "0       [today, mark, 83rd, anniversary, first, ever, socialsecurity, check, republicans, cele...  \n",
       "1                                                            [president, biden, get, start, #vp#]  \n",
       "2       [never, negotiate, away, health, safety, economic, wellbeing, american, people, #repje...  \n",
       "3       [footage, tyre, nichols, kill, painful, send, condolence, family, friends, justice, mu...  \n",
       "4       [happy, birthday, chairman, congressman, benniegthompson, 30th, yr, congress, celebrat...  \n",
       "...                                                                                           ...  \n",
       "112722  [great, catch, friend, repfeenstra, last, night, be, ready, get, work, amp, deliver, p...  \n",
       "112723  [thank, or05, place, trust, represent, hall, congress, solemn, promise, oregonian, car...  \n",
       "112724  [small, minority, prevent, house, work, send, do, must, get, economy, back, track, wor...  \n",
       "112725                            [take, responsibility, serve, or05, im, grateful, family, side]  \n",
       "112726  [soon, ill, swear, serve, first, term, u, house, representative, truly, honor, im, rea...  \n",
       "\n",
       "[112727 rows x 13 columns]"
      ]
     },
     "execution_count": 214,
     "metadata": {},
     "output_type": "execute_result"
    }
   ],
   "source": [
    "df3"
   ]
  },
  {
   "cell_type": "code",
   "execution_count": 215,
   "id": "edc1e012",
   "metadata": {
    "ExecuteTime": {
     "end_time": "2023-02-06T23:23:07.223527Z",
     "start_time": "2023-02-06T23:23:07.210479Z"
    }
   },
   "outputs": [],
   "source": [
    "#df3.to_csv('all_lemmatized.csv')"
   ]
  },
  {
   "cell_type": "code",
   "execution_count": 216,
   "id": "41baf4bb",
   "metadata": {
    "ExecuteTime": {
     "end_time": "2023-02-06T23:23:07.472049Z",
     "start_time": "2023-02-06T23:23:07.459200Z"
    }
   },
   "outputs": [],
   "source": [
    "#df3 = pd.read_csv(\"all_lemmatized.csv\")"
   ]
  },
  {
   "cell_type": "code",
   "execution_count": 217,
   "id": "a1825f00",
   "metadata": {
    "ExecuteTime": {
     "end_time": "2023-02-06T23:23:08.670026Z",
     "start_time": "2023-02-06T23:23:07.690677Z"
    }
   },
   "outputs": [
    {
     "data": {
      "text/html": [
       "<div>\n",
       "<style scoped>\n",
       "    .dataframe tbody tr th:only-of-type {\n",
       "        vertical-align: middle;\n",
       "    }\n",
       "\n",
       "    .dataframe tbody tr th {\n",
       "        vertical-align: top;\n",
       "    }\n",
       "\n",
       "    .dataframe thead th {\n",
       "        text-align: right;\n",
       "    }\n",
       "</style>\n",
       "<table border=\"1\" class=\"dataframe\">\n",
       "  <thead>\n",
       "    <tr style=\"text-align: right;\">\n",
       "      <th></th>\n",
       "      <th>user_name</th>\n",
       "      <th>class_label</th>\n",
       "      <th>class</th>\n",
       "      <th>text4</th>\n",
       "    </tr>\n",
       "  </thead>\n",
       "  <tbody>\n",
       "    <tr>\n",
       "      <th>0</th>\n",
       "      <td>20thcentury</td>\n",
       "      <td>5</td>\n",
       "      <td>TV / movies</td>\n",
       "      <td>[titanic, sail, back, theater, valentine, day, weekend, 25th, anniversary, #theacademy...</td>\n",
       "    </tr>\n",
       "    <tr>\n",
       "      <th>1</th>\n",
       "      <td>9to5mac</td>\n",
       "      <td>3</td>\n",
       "      <td>Science / Technology</td>\n",
       "      <td>[9to5toys, last, call, eve, room, homekit, air, quality, monitor, mophie, snap, magsaf...</td>\n",
       "    </tr>\n",
       "    <tr>\n",
       "      <th>2</th>\n",
       "      <td>ABCNetwork</td>\n",
       "      <td>5</td>\n",
       "      <td>TV / movies</td>\n",
       "      <td>[even, betty, think, will, slip, miss, allnew, episode, willtrent, tonight, 109c, abc,...</td>\n",
       "    </tr>\n",
       "    <tr>\n",
       "      <th>3</th>\n",
       "      <td>AOC</td>\n",
       "      <td>2</td>\n",
       "      <td>Politics</td>\n",
       "      <td>[excite, humble, share, even, select, serve, repraskins, house, oversight, committee, ...</td>\n",
       "    </tr>\n",
       "    <tr>\n",
       "      <th>4</th>\n",
       "      <td>Acyn</td>\n",
       "      <td>2</td>\n",
       "      <td>Politics</td>\n",
       "      <td>[chad, comer, appear, coown, property, james, comer, receive, small, amount, covid, mo...</td>\n",
       "    </tr>\n",
       "    <tr>\n",
       "      <th>...</th>\n",
       "      <td>...</td>\n",
       "      <td>...</td>\n",
       "      <td>...</td>\n",
       "      <td>...</td>\n",
       "    </tr>\n",
       "    <tr>\n",
       "      <th>581</th>\n",
       "      <td>travelchannel</td>\n",
       "      <td>6</td>\n",
       "      <td>Travel</td>\n",
       "      <td>[late, episode, kindredspirits, u, like, miss, it, stream, discoveryplus, amybruni, ad...</td>\n",
       "    </tr>\n",
       "    <tr>\n",
       "      <th>582</th>\n",
       "      <td>travelocity</td>\n",
       "      <td>6</td>\n",
       "      <td>Travel</td>\n",
       "      <td>[sometimes, hard, part, travel, start, pack, process, weve, do, hard, part, ya, tag, f...</td>\n",
       "    </tr>\n",
       "    <tr>\n",
       "      <th>583</th>\n",
       "      <td>virginiafoxx</td>\n",
       "      <td>2</td>\n",
       "      <td>Politics</td>\n",
       "      <td>[regular, order, restore, people, house, student, reward, hard, work, education, burea...</td>\n",
       "    </tr>\n",
       "    <tr>\n",
       "      <th>584</th>\n",
       "      <td>wbpictures</td>\n",
       "      <td>5</td>\n",
       "      <td>TV / movies</td>\n",
       "      <td>[plan, up, up, away, dcstudios, dcu, dccomics, #jamesgunn#, time, grow, up, shazam, fu...</td>\n",
       "    </tr>\n",
       "    <tr>\n",
       "      <th>585</th>\n",
       "      <td>wealth</td>\n",
       "      <td>0</td>\n",
       "      <td>Business and finance</td>\n",
       "      <td>[new, sean, penn, nonprofit, make, name, covidera, hero, current, former, employee, al...</td>\n",
       "    </tr>\n",
       "  </tbody>\n",
       "</table>\n",
       "<p>586 rows × 4 columns</p>\n",
       "</div>"
      ],
      "text/plain": [
       "         user_name  class_label                 class  \\\n",
       "0      20thcentury            5           TV / movies   \n",
       "1          9to5mac            3  Science / Technology   \n",
       "2       ABCNetwork            5           TV / movies   \n",
       "3              AOC            2              Politics   \n",
       "4             Acyn            2              Politics   \n",
       "..             ...          ...                   ...   \n",
       "581  travelchannel            6                Travel   \n",
       "582    travelocity            6                Travel   \n",
       "583   virginiafoxx            2              Politics   \n",
       "584     wbpictures            5           TV / movies   \n",
       "585         wealth            0  Business and finance   \n",
       "\n",
       "                                                                                         text4  \n",
       "0    [titanic, sail, back, theater, valentine, day, weekend, 25th, anniversary, #theacademy...  \n",
       "1    [9to5toys, last, call, eve, room, homekit, air, quality, monitor, mophie, snap, magsaf...  \n",
       "2    [even, betty, think, will, slip, miss, allnew, episode, willtrent, tonight, 109c, abc,...  \n",
       "3    [excite, humble, share, even, select, serve, repraskins, house, oversight, committee, ...  \n",
       "4    [chad, comer, appear, coown, property, james, comer, receive, small, amount, covid, mo...  \n",
       "..                                                                                         ...  \n",
       "581  [late, episode, kindredspirits, u, like, miss, it, stream, discoveryplus, amybruni, ad...  \n",
       "582  [sometimes, hard, part, travel, start, pack, process, weve, do, hard, part, ya, tag, f...  \n",
       "583  [regular, order, restore, people, house, student, reward, hard, work, education, burea...  \n",
       "584  [plan, up, up, away, dcstudios, dcu, dccomics, #jamesgunn#, time, grow, up, shazam, fu...  \n",
       "585  [new, sean, penn, nonprofit, make, name, covidera, hero, current, former, employee, al...  \n",
       "\n",
       "[586 rows x 4 columns]"
      ]
     },
     "execution_count": 217,
     "metadata": {},
     "output_type": "execute_result"
    }
   ],
   "source": [
    "df4 = df3.groupby(['user_name', 'class_label', 'class']).agg({'text4': 'sum'}).reset_index()\n",
    "df4"
   ]
  },
  {
   "cell_type": "code",
   "execution_count": 218,
   "id": "c911ea77",
   "metadata": {
    "ExecuteTime": {
     "end_time": "2023-02-06T23:23:08.963504Z",
     "start_time": "2023-02-06T23:23:08.950133Z"
    }
   },
   "outputs": [
    {
     "data": {
      "text/plain": [
       "Politics                487\n",
       "Music                    29\n",
       "Sports                   24\n",
       "TV / movies              21\n",
       "Business and finance     10\n",
       "Science / Technology      9\n",
       "Travel                    6\n",
       "Name: class, dtype: int64"
      ]
     },
     "execution_count": 218,
     "metadata": {},
     "output_type": "execute_result"
    }
   ],
   "source": [
    "df4['class'].value_counts()"
   ]
  },
  {
   "cell_type": "code",
   "execution_count": 219,
   "id": "0dde55a4",
   "metadata": {
    "ExecuteTime": {
     "end_time": "2023-02-06T23:23:09.258810Z",
     "start_time": "2023-02-06T23:23:09.227883Z"
    },
    "scrolled": true
   },
   "outputs": [
    {
     "data": {
      "text/html": [
       "<div>\n",
       "<style scoped>\n",
       "    .dataframe tbody tr th:only-of-type {\n",
       "        vertical-align: middle;\n",
       "    }\n",
       "\n",
       "    .dataframe tbody tr th {\n",
       "        vertical-align: top;\n",
       "    }\n",
       "\n",
       "    .dataframe thead th {\n",
       "        text-align: right;\n",
       "    }\n",
       "</style>\n",
       "<table border=\"1\" class=\"dataframe\">\n",
       "  <thead>\n",
       "    <tr style=\"text-align: right;\">\n",
       "      <th></th>\n",
       "      <th>user_name</th>\n",
       "      <th>class_label</th>\n",
       "      <th>class</th>\n",
       "      <th>text4</th>\n",
       "      <th>count_text_4</th>\n",
       "    </tr>\n",
       "  </thead>\n",
       "  <tbody>\n",
       "    <tr>\n",
       "      <th>0</th>\n",
       "      <td>20thcentury</td>\n",
       "      <td>5</td>\n",
       "      <td>TV / movies</td>\n",
       "      <td>[titanic, sail, back, theater, valentine, day, weekend, 25th, anniversary, #theacademy...</td>\n",
       "      <td>6348</td>\n",
       "    </tr>\n",
       "    <tr>\n",
       "      <th>1</th>\n",
       "      <td>9to5mac</td>\n",
       "      <td>3</td>\n",
       "      <td>Science / Technology</td>\n",
       "      <td>[9to5toys, last, call, eve, room, homekit, air, quality, monitor, mophie, snap, magsaf...</td>\n",
       "      <td>8886</td>\n",
       "    </tr>\n",
       "    <tr>\n",
       "      <th>2</th>\n",
       "      <td>ABCNetwork</td>\n",
       "      <td>5</td>\n",
       "      <td>TV / movies</td>\n",
       "      <td>[even, betty, think, will, slip, miss, allnew, episode, willtrent, tonight, 109c, abc,...</td>\n",
       "      <td>5739</td>\n",
       "    </tr>\n",
       "    <tr>\n",
       "      <th>3</th>\n",
       "      <td>AOC</td>\n",
       "      <td>2</td>\n",
       "      <td>Politics</td>\n",
       "      <td>[excite, humble, share, even, select, serve, repraskins, house, oversight, committee, ...</td>\n",
       "      <td>7371</td>\n",
       "    </tr>\n",
       "    <tr>\n",
       "      <th>4</th>\n",
       "      <td>Acyn</td>\n",
       "      <td>2</td>\n",
       "      <td>Politics</td>\n",
       "      <td>[chad, comer, appear, coown, property, james, comer, receive, small, amount, covid, mo...</td>\n",
       "      <td>5426</td>\n",
       "    </tr>\n",
       "    <tr>\n",
       "      <th>...</th>\n",
       "      <td>...</td>\n",
       "      <td>...</td>\n",
       "      <td>...</td>\n",
       "      <td>...</td>\n",
       "      <td>...</td>\n",
       "    </tr>\n",
       "    <tr>\n",
       "      <th>581</th>\n",
       "      <td>travelchannel</td>\n",
       "      <td>6</td>\n",
       "      <td>Travel</td>\n",
       "      <td>[late, episode, kindredspirits, u, like, miss, it, stream, discoveryplus, amybruni, ad...</td>\n",
       "      <td>7620</td>\n",
       "    </tr>\n",
       "    <tr>\n",
       "      <th>582</th>\n",
       "      <td>travelocity</td>\n",
       "      <td>6</td>\n",
       "      <td>Travel</td>\n",
       "      <td>[sometimes, hard, part, travel, start, pack, process, weve, do, hard, part, ya, tag, f...</td>\n",
       "      <td>10614</td>\n",
       "    </tr>\n",
       "    <tr>\n",
       "      <th>583</th>\n",
       "      <td>virginiafoxx</td>\n",
       "      <td>2</td>\n",
       "      <td>Politics</td>\n",
       "      <td>[regular, order, restore, people, house, student, reward, hard, work, education, burea...</td>\n",
       "      <td>746</td>\n",
       "    </tr>\n",
       "    <tr>\n",
       "      <th>584</th>\n",
       "      <td>wbpictures</td>\n",
       "      <td>5</td>\n",
       "      <td>TV / movies</td>\n",
       "      <td>[plan, up, up, away, dcstudios, dcu, dccomics, #jamesgunn#, time, grow, up, shazam, fu...</td>\n",
       "      <td>6226</td>\n",
       "    </tr>\n",
       "    <tr>\n",
       "      <th>585</th>\n",
       "      <td>wealth</td>\n",
       "      <td>0</td>\n",
       "      <td>Business and finance</td>\n",
       "      <td>[new, sean, penn, nonprofit, make, name, covidera, hero, current, former, employee, al...</td>\n",
       "      <td>9750</td>\n",
       "    </tr>\n",
       "  </tbody>\n",
       "</table>\n",
       "<p>586 rows × 5 columns</p>\n",
       "</div>"
      ],
      "text/plain": [
       "         user_name  class_label                 class  \\\n",
       "0      20thcentury            5           TV / movies   \n",
       "1          9to5mac            3  Science / Technology   \n",
       "2       ABCNetwork            5           TV / movies   \n",
       "3              AOC            2              Politics   \n",
       "4             Acyn            2              Politics   \n",
       "..             ...          ...                   ...   \n",
       "581  travelchannel            6                Travel   \n",
       "582    travelocity            6                Travel   \n",
       "583   virginiafoxx            2              Politics   \n",
       "584     wbpictures            5           TV / movies   \n",
       "585         wealth            0  Business and finance   \n",
       "\n",
       "                                                                                         text4  \\\n",
       "0    [titanic, sail, back, theater, valentine, day, weekend, 25th, anniversary, #theacademy...   \n",
       "1    [9to5toys, last, call, eve, room, homekit, air, quality, monitor, mophie, snap, magsaf...   \n",
       "2    [even, betty, think, will, slip, miss, allnew, episode, willtrent, tonight, 109c, abc,...   \n",
       "3    [excite, humble, share, even, select, serve, repraskins, house, oversight, committee, ...   \n",
       "4    [chad, comer, appear, coown, property, james, comer, receive, small, amount, covid, mo...   \n",
       "..                                                                                         ...   \n",
       "581  [late, episode, kindredspirits, u, like, miss, it, stream, discoveryplus, amybruni, ad...   \n",
       "582  [sometimes, hard, part, travel, start, pack, process, weve, do, hard, part, ya, tag, f...   \n",
       "583  [regular, order, restore, people, house, student, reward, hard, work, education, burea...   \n",
       "584  [plan, up, up, away, dcstudios, dcu, dccomics, #jamesgunn#, time, grow, up, shazam, fu...   \n",
       "585  [new, sean, penn, nonprofit, make, name, covidera, hero, current, former, employee, al...   \n",
       "\n",
       "     count_text_4  \n",
       "0            6348  \n",
       "1            8886  \n",
       "2            5739  \n",
       "3            7371  \n",
       "4            5426  \n",
       "..            ...  \n",
       "581          7620  \n",
       "582         10614  \n",
       "583           746  \n",
       "584          6226  \n",
       "585          9750  \n",
       "\n",
       "[586 rows x 5 columns]"
      ]
     },
     "execution_count": 219,
     "metadata": {},
     "output_type": "execute_result"
    }
   ],
   "source": [
    "df4['count_text_4'] = df4['text4'].apply(len)\n",
    "df4"
   ]
  },
  {
   "cell_type": "code",
   "execution_count": 220,
   "id": "d6fd79ca",
   "metadata": {
    "ExecuteTime": {
     "end_time": "2023-02-06T23:23:09.536404Z",
     "start_time": "2023-02-06T23:23:09.510922Z"
    }
   },
   "outputs": [
    {
     "data": {
      "text/html": [
       "<div>\n",
       "<style scoped>\n",
       "    .dataframe tbody tr th:only-of-type {\n",
       "        vertical-align: middle;\n",
       "    }\n",
       "\n",
       "    .dataframe tbody tr th {\n",
       "        vertical-align: top;\n",
       "    }\n",
       "\n",
       "    .dataframe thead th {\n",
       "        text-align: right;\n",
       "    }\n",
       "</style>\n",
       "<table border=\"1\" class=\"dataframe\">\n",
       "  <thead>\n",
       "    <tr style=\"text-align: right;\">\n",
       "      <th></th>\n",
       "      <th>class_label</th>\n",
       "      <th>class</th>\n",
       "      <th>count_text_4</th>\n",
       "    </tr>\n",
       "  </thead>\n",
       "  <tbody>\n",
       "    <tr>\n",
       "      <th>0</th>\n",
       "      <td>0</td>\n",
       "      <td>Business and finance</td>\n",
       "      <td>110475</td>\n",
       "    </tr>\n",
       "    <tr>\n",
       "      <th>1</th>\n",
       "      <td>1</td>\n",
       "      <td>Music</td>\n",
       "      <td>108593</td>\n",
       "    </tr>\n",
       "    <tr>\n",
       "      <th>2</th>\n",
       "      <td>2</td>\n",
       "      <td>Politics</td>\n",
       "      <td>908577</td>\n",
       "    </tr>\n",
       "    <tr>\n",
       "      <th>3</th>\n",
       "      <td>3</td>\n",
       "      <td>Science / Technology</td>\n",
       "      <td>109941</td>\n",
       "    </tr>\n",
       "    <tr>\n",
       "      <th>4</th>\n",
       "      <td>4</td>\n",
       "      <td>Sports</td>\n",
       "      <td>107750</td>\n",
       "    </tr>\n",
       "    <tr>\n",
       "      <th>5</th>\n",
       "      <td>5</td>\n",
       "      <td>TV / movies</td>\n",
       "      <td>124402</td>\n",
       "    </tr>\n",
       "    <tr>\n",
       "      <th>6</th>\n",
       "      <td>6</td>\n",
       "      <td>Travel</td>\n",
       "      <td>64818</td>\n",
       "    </tr>\n",
       "  </tbody>\n",
       "</table>\n",
       "</div>"
      ],
      "text/plain": [
       "   class_label                 class  count_text_4\n",
       "0            0  Business and finance        110475\n",
       "1            1                 Music        108593\n",
       "2            2              Politics        908577\n",
       "3            3  Science / Technology        109941\n",
       "4            4                Sports        107750\n",
       "5            5           TV / movies        124402\n",
       "6            6                Travel         64818"
      ]
     },
     "execution_count": 220,
     "metadata": {},
     "output_type": "execute_result"
    }
   ],
   "source": [
    "df5 = df4.groupby(['class_label', 'class']).agg({'count_text_4': 'sum'}).reset_index()\n",
    "df5"
   ]
  },
  {
   "cell_type": "code",
   "execution_count": 343,
   "id": "642a596a",
   "metadata": {
    "ExecuteTime": {
     "end_time": "2023-02-07T00:05:40.318291Z",
     "start_time": "2023-02-07T00:05:40.297382Z"
    }
   },
   "outputs": [],
   "source": [
    "X = df4['text4']\n",
    "y = df4['class_label']\n",
    "X_train, X_test, y_train, y_test = train_test_split(X, y, test_size=.35, stratify=y)"
   ]
  },
  {
   "cell_type": "code",
   "execution_count": 344,
   "id": "893e4f1f",
   "metadata": {
    "ExecuteTime": {
     "end_time": "2023-02-07T00:05:40.614507Z",
     "start_time": "2023-02-07T00:05:40.570618Z"
    }
   },
   "outputs": [
    {
     "data": {
      "text/plain": [
       "92     [youtube, kid, groom, child, lgbtq, propaganda, make, account, find, disgust, #aldobut...\n",
       "318    [thank, national, district, attorney, association, ndaajustice, allow, visit, today, k...\n",
       "20     [philip, alston, tie, second, left, ramblersmbb, #cbssportscbb#, moment, andy, reid, f...\n",
       "371    [introduce, first, bill, think, differently, database, act, ny19, ithaca, get, 600k, i...\n",
       "376    [time, go, work, #reppatfallon#, wed, 8am, live, dc, join, eugenescott, alexi, first, ...\n",
       "                                                 ...                                            \n",
       "385    [great, meet, secvetaffairs, discuss, work, together, ensure, veteran, inland, empire,...\n",
       "227    [vast, majority, american, return, life, normal, yet, admin, lag, behind, repeal, covi...\n",
       "321    [janschakowsky, replahood, scclemons, replahood, im, glad, speaker, mccarthy, put, sel...\n",
       "488    [king, quest, inch, closer, cane, come, back, win, ot, another, milestone, king, lebro...\n",
       "290    [mahalo, georgetakei, shoutout, package, bill, celebrate, civil, right, hero, fred, ko...\n",
       "Name: text4, Length: 380, dtype: object"
      ]
     },
     "execution_count": 344,
     "metadata": {},
     "output_type": "execute_result"
    }
   ],
   "source": [
    "X_train"
   ]
  },
  {
   "cell_type": "code",
   "execution_count": 345,
   "id": "5d937396",
   "metadata": {
    "ExecuteTime": {
     "end_time": "2023-02-07T00:05:47.004780Z",
     "start_time": "2023-02-07T00:05:40.890283Z"
    }
   },
   "outputs": [
    {
     "data": {
      "text/html": [
       "<div>\n",
       "<style scoped>\n",
       "    .dataframe tbody tr th:only-of-type {\n",
       "        vertical-align: middle;\n",
       "    }\n",
       "\n",
       "    .dataframe tbody tr th {\n",
       "        vertical-align: top;\n",
       "    }\n",
       "\n",
       "    .dataframe thead th {\n",
       "        text-align: right;\n",
       "    }\n",
       "</style>\n",
       "<table border=\"1\" class=\"dataframe\">\n",
       "  <thead>\n",
       "    <tr style=\"text-align: right;\">\n",
       "      <th></th>\n",
       "      <th>118th</th>\n",
       "      <th>118th congress</th>\n",
       "      <th>able</th>\n",
       "      <th>abortion</th>\n",
       "      <th>access</th>\n",
       "      <th>account</th>\n",
       "      <th>accountable</th>\n",
       "      <th>across</th>\n",
       "      <th>across country</th>\n",
       "      <th>act</th>\n",
       "      <th>...</th>\n",
       "      <th>write</th>\n",
       "      <th>year</th>\n",
       "      <th>year ago</th>\n",
       "      <th>yes</th>\n",
       "      <th>yesterday</th>\n",
       "      <th>yet</th>\n",
       "      <th>york</th>\n",
       "      <th>you</th>\n",
       "      <th>young</th>\n",
       "      <th>youre</th>\n",
       "    </tr>\n",
       "  </thead>\n",
       "  <tbody>\n",
       "    <tr>\n",
       "      <th>0</th>\n",
       "      <td>0.000000</td>\n",
       "      <td>0.000000</td>\n",
       "      <td>0.036783</td>\n",
       "      <td>0.038219</td>\n",
       "      <td>0.000000</td>\n",
       "      <td>0.023027</td>\n",
       "      <td>0.000000</td>\n",
       "      <td>0.011274</td>\n",
       "      <td>0.005856</td>\n",
       "      <td>0.017299</td>\n",
       "      <td>...</td>\n",
       "      <td>0.013109</td>\n",
       "      <td>0.098063</td>\n",
       "      <td>0.014217</td>\n",
       "      <td>0.069034</td>\n",
       "      <td>0.000000</td>\n",
       "      <td>0.060014</td>\n",
       "      <td>0.007498</td>\n",
       "      <td>0.060516</td>\n",
       "      <td>0.026950</td>\n",
       "      <td>0.046241</td>\n",
       "    </tr>\n",
       "    <tr>\n",
       "      <th>1</th>\n",
       "      <td>0.049947</td>\n",
       "      <td>0.051239</td>\n",
       "      <td>0.000000</td>\n",
       "      <td>0.000000</td>\n",
       "      <td>0.000000</td>\n",
       "      <td>0.000000</td>\n",
       "      <td>0.000000</td>\n",
       "      <td>0.035495</td>\n",
       "      <td>0.027656</td>\n",
       "      <td>0.081699</td>\n",
       "      <td>...</td>\n",
       "      <td>0.000000</td>\n",
       "      <td>0.134456</td>\n",
       "      <td>0.000000</td>\n",
       "      <td>0.000000</td>\n",
       "      <td>0.023195</td>\n",
       "      <td>0.047238</td>\n",
       "      <td>0.000000</td>\n",
       "      <td>0.040828</td>\n",
       "      <td>0.025455</td>\n",
       "      <td>0.000000</td>\n",
       "    </tr>\n",
       "    <tr>\n",
       "      <th>2</th>\n",
       "      <td>0.000000</td>\n",
       "      <td>0.000000</td>\n",
       "      <td>0.010608</td>\n",
       "      <td>0.000000</td>\n",
       "      <td>0.000000</td>\n",
       "      <td>0.000000</td>\n",
       "      <td>0.000000</td>\n",
       "      <td>0.000000</td>\n",
       "      <td>0.000000</td>\n",
       "      <td>0.000000</td>\n",
       "      <td>...</td>\n",
       "      <td>0.006616</td>\n",
       "      <td>0.022350</td>\n",
       "      <td>0.000000</td>\n",
       "      <td>0.006968</td>\n",
       "      <td>0.000000</td>\n",
       "      <td>0.005048</td>\n",
       "      <td>0.000000</td>\n",
       "      <td>0.008726</td>\n",
       "      <td>0.043523</td>\n",
       "      <td>0.006668</td>\n",
       "    </tr>\n",
       "    <tr>\n",
       "      <th>3</th>\n",
       "      <td>0.021176</td>\n",
       "      <td>0.021724</td>\n",
       "      <td>0.000000</td>\n",
       "      <td>0.000000</td>\n",
       "      <td>0.036651</td>\n",
       "      <td>0.030739</td>\n",
       "      <td>0.021724</td>\n",
       "      <td>0.060197</td>\n",
       "      <td>0.000000</td>\n",
       "      <td>0.013855</td>\n",
       "      <td>...</td>\n",
       "      <td>0.000000</td>\n",
       "      <td>0.000000</td>\n",
       "      <td>0.000000</td>\n",
       "      <td>0.000000</td>\n",
       "      <td>0.000000</td>\n",
       "      <td>0.000000</td>\n",
       "      <td>0.420369</td>\n",
       "      <td>0.017310</td>\n",
       "      <td>0.000000</td>\n",
       "      <td>0.000000</td>\n",
       "    </tr>\n",
       "    <tr>\n",
       "      <th>4</th>\n",
       "      <td>0.186386</td>\n",
       "      <td>0.191205</td>\n",
       "      <td>0.000000</td>\n",
       "      <td>0.000000</td>\n",
       "      <td>0.000000</td>\n",
       "      <td>0.000000</td>\n",
       "      <td>0.031867</td>\n",
       "      <td>0.000000</td>\n",
       "      <td>0.000000</td>\n",
       "      <td>0.040650</td>\n",
       "      <td>...</td>\n",
       "      <td>0.000000</td>\n",
       "      <td>0.074332</td>\n",
       "      <td>0.000000</td>\n",
       "      <td>0.000000</td>\n",
       "      <td>0.057703</td>\n",
       "      <td>0.000000</td>\n",
       "      <td>0.000000</td>\n",
       "      <td>0.050786</td>\n",
       "      <td>0.000000</td>\n",
       "      <td>0.038806</td>\n",
       "    </tr>\n",
       "    <tr>\n",
       "      <th>...</th>\n",
       "      <td>...</td>\n",
       "      <td>...</td>\n",
       "      <td>...</td>\n",
       "      <td>...</td>\n",
       "      <td>...</td>\n",
       "      <td>...</td>\n",
       "      <td>...</td>\n",
       "      <td>...</td>\n",
       "      <td>...</td>\n",
       "      <td>...</td>\n",
       "      <td>...</td>\n",
       "      <td>...</td>\n",
       "      <td>...</td>\n",
       "      <td>...</td>\n",
       "      <td>...</td>\n",
       "      <td>...</td>\n",
       "      <td>...</td>\n",
       "      <td>...</td>\n",
       "      <td>...</td>\n",
       "      <td>...</td>\n",
       "      <td>...</td>\n",
       "    </tr>\n",
       "    <tr>\n",
       "      <th>375</th>\n",
       "      <td>0.000000</td>\n",
       "      <td>0.000000</td>\n",
       "      <td>0.021818</td>\n",
       "      <td>0.090676</td>\n",
       "      <td>0.000000</td>\n",
       "      <td>0.000000</td>\n",
       "      <td>0.022523</td>\n",
       "      <td>0.062412</td>\n",
       "      <td>0.072940</td>\n",
       "      <td>0.086191</td>\n",
       "      <td>...</td>\n",
       "      <td>0.000000</td>\n",
       "      <td>0.105072</td>\n",
       "      <td>0.019677</td>\n",
       "      <td>0.000000</td>\n",
       "      <td>0.000000</td>\n",
       "      <td>0.041529</td>\n",
       "      <td>0.000000</td>\n",
       "      <td>0.017947</td>\n",
       "      <td>0.000000</td>\n",
       "      <td>0.000000</td>\n",
       "    </tr>\n",
       "    <tr>\n",
       "      <th>376</th>\n",
       "      <td>0.013972</td>\n",
       "      <td>0.014334</td>\n",
       "      <td>0.000000</td>\n",
       "      <td>0.000000</td>\n",
       "      <td>0.012091</td>\n",
       "      <td>0.020282</td>\n",
       "      <td>0.071668</td>\n",
       "      <td>0.079437</td>\n",
       "      <td>0.077364</td>\n",
       "      <td>0.054851</td>\n",
       "      <td>...</td>\n",
       "      <td>0.000000</td>\n",
       "      <td>0.050151</td>\n",
       "      <td>0.000000</td>\n",
       "      <td>0.000000</td>\n",
       "      <td>0.012977</td>\n",
       "      <td>0.026429</td>\n",
       "      <td>0.000000</td>\n",
       "      <td>0.011421</td>\n",
       "      <td>0.028483</td>\n",
       "      <td>0.000000</td>\n",
       "    </tr>\n",
       "    <tr>\n",
       "      <th>377</th>\n",
       "      <td>0.034442</td>\n",
       "      <td>0.035333</td>\n",
       "      <td>0.000000</td>\n",
       "      <td>0.017781</td>\n",
       "      <td>0.014903</td>\n",
       "      <td>0.000000</td>\n",
       "      <td>0.017666</td>\n",
       "      <td>0.012238</td>\n",
       "      <td>0.019071</td>\n",
       "      <td>0.067606</td>\n",
       "      <td>...</td>\n",
       "      <td>0.021346</td>\n",
       "      <td>0.103019</td>\n",
       "      <td>0.000000</td>\n",
       "      <td>0.000000</td>\n",
       "      <td>0.000000</td>\n",
       "      <td>0.000000</td>\n",
       "      <td>0.000000</td>\n",
       "      <td>0.014077</td>\n",
       "      <td>0.017553</td>\n",
       "      <td>0.000000</td>\n",
       "    </tr>\n",
       "    <tr>\n",
       "      <th>378</th>\n",
       "      <td>0.000000</td>\n",
       "      <td>0.000000</td>\n",
       "      <td>0.018218</td>\n",
       "      <td>0.000000</td>\n",
       "      <td>0.000000</td>\n",
       "      <td>0.000000</td>\n",
       "      <td>0.000000</td>\n",
       "      <td>0.000000</td>\n",
       "      <td>0.000000</td>\n",
       "      <td>0.000000</td>\n",
       "      <td>...</td>\n",
       "      <td>0.000000</td>\n",
       "      <td>0.054836</td>\n",
       "      <td>0.010954</td>\n",
       "      <td>0.007978</td>\n",
       "      <td>0.005676</td>\n",
       "      <td>0.011559</td>\n",
       "      <td>0.008665</td>\n",
       "      <td>0.000000</td>\n",
       "      <td>0.012458</td>\n",
       "      <td>0.000000</td>\n",
       "    </tr>\n",
       "    <tr>\n",
       "      <th>379</th>\n",
       "      <td>0.029672</td>\n",
       "      <td>0.030440</td>\n",
       "      <td>0.000000</td>\n",
       "      <td>0.030637</td>\n",
       "      <td>0.051356</td>\n",
       "      <td>0.000000</td>\n",
       "      <td>0.000000</td>\n",
       "      <td>0.042174</td>\n",
       "      <td>0.032859</td>\n",
       "      <td>0.019414</td>\n",
       "      <td>...</td>\n",
       "      <td>0.000000</td>\n",
       "      <td>0.106502</td>\n",
       "      <td>0.000000</td>\n",
       "      <td>0.000000</td>\n",
       "      <td>0.000000</td>\n",
       "      <td>0.000000</td>\n",
       "      <td>0.000000</td>\n",
       "      <td>0.048510</td>\n",
       "      <td>0.030245</td>\n",
       "      <td>0.000000</td>\n",
       "    </tr>\n",
       "  </tbody>\n",
       "</table>\n",
       "<p>380 rows × 750 columns</p>\n",
       "</div>"
      ],
      "text/plain": [
       "        118th  118th congress      able  abortion    access   account  \\\n",
       "0    0.000000        0.000000  0.036783  0.038219  0.000000  0.023027   \n",
       "1    0.049947        0.051239  0.000000  0.000000  0.000000  0.000000   \n",
       "2    0.000000        0.000000  0.010608  0.000000  0.000000  0.000000   \n",
       "3    0.021176        0.021724  0.000000  0.000000  0.036651  0.030739   \n",
       "4    0.186386        0.191205  0.000000  0.000000  0.000000  0.000000   \n",
       "..        ...             ...       ...       ...       ...       ...   \n",
       "375  0.000000        0.000000  0.021818  0.090676  0.000000  0.000000   \n",
       "376  0.013972        0.014334  0.000000  0.000000  0.012091  0.020282   \n",
       "377  0.034442        0.035333  0.000000  0.017781  0.014903  0.000000   \n",
       "378  0.000000        0.000000  0.018218  0.000000  0.000000  0.000000   \n",
       "379  0.029672        0.030440  0.000000  0.030637  0.051356  0.000000   \n",
       "\n",
       "     accountable    across  across country       act  ...     write      year  \\\n",
       "0       0.000000  0.011274        0.005856  0.017299  ...  0.013109  0.098063   \n",
       "1       0.000000  0.035495        0.027656  0.081699  ...  0.000000  0.134456   \n",
       "2       0.000000  0.000000        0.000000  0.000000  ...  0.006616  0.022350   \n",
       "3       0.021724  0.060197        0.000000  0.013855  ...  0.000000  0.000000   \n",
       "4       0.031867  0.000000        0.000000  0.040650  ...  0.000000  0.074332   \n",
       "..           ...       ...             ...       ...  ...       ...       ...   \n",
       "375     0.022523  0.062412        0.072940  0.086191  ...  0.000000  0.105072   \n",
       "376     0.071668  0.079437        0.077364  0.054851  ...  0.000000  0.050151   \n",
       "377     0.017666  0.012238        0.019071  0.067606  ...  0.021346  0.103019   \n",
       "378     0.000000  0.000000        0.000000  0.000000  ...  0.000000  0.054836   \n",
       "379     0.000000  0.042174        0.032859  0.019414  ...  0.000000  0.106502   \n",
       "\n",
       "     year ago       yes  yesterday       yet      york       you     young  \\\n",
       "0    0.014217  0.069034   0.000000  0.060014  0.007498  0.060516  0.026950   \n",
       "1    0.000000  0.000000   0.023195  0.047238  0.000000  0.040828  0.025455   \n",
       "2    0.000000  0.006968   0.000000  0.005048  0.000000  0.008726  0.043523   \n",
       "3    0.000000  0.000000   0.000000  0.000000  0.420369  0.017310  0.000000   \n",
       "4    0.000000  0.000000   0.057703  0.000000  0.000000  0.050786  0.000000   \n",
       "..        ...       ...        ...       ...       ...       ...       ...   \n",
       "375  0.019677  0.000000   0.000000  0.041529  0.000000  0.017947  0.000000   \n",
       "376  0.000000  0.000000   0.012977  0.026429  0.000000  0.011421  0.028483   \n",
       "377  0.000000  0.000000   0.000000  0.000000  0.000000  0.014077  0.017553   \n",
       "378  0.010954  0.007978   0.005676  0.011559  0.008665  0.000000  0.012458   \n",
       "379  0.000000  0.000000   0.000000  0.000000  0.000000  0.048510  0.030245   \n",
       "\n",
       "        youre  \n",
       "0    0.046241  \n",
       "1    0.000000  \n",
       "2    0.006668  \n",
       "3    0.000000  \n",
       "4    0.038806  \n",
       "..        ...  \n",
       "375  0.000000  \n",
       "376  0.000000  \n",
       "377  0.000000  \n",
       "378  0.000000  \n",
       "379  0.000000  \n",
       "\n",
       "[380 rows x 750 columns]"
      ]
     },
     "execution_count": 345,
     "metadata": {},
     "output_type": "execute_result"
    }
   ],
   "source": [
    "# Import the relevant vectorizer class\n",
    "from sklearn.feature_extraction.text import TfidfVectorizer\n",
    "\n",
    "def dummy_fun(doc):\n",
    "    return doc\n",
    "\n",
    "# Instantiate a vectorizer with max_features=10\n",
    "# (we are using the default token pattern)\n",
    "tfidf = TfidfVectorizer(analyzer='word', tokenizer=dummy_fun, \n",
    "                        preprocessor=dummy_fun, token_pattern=None, \n",
    "                        ngram_range=(1,3), min_df=2, max_features=750)\n",
    "\n",
    "# Fit the vectorizer on X_train[\"text\"] and transform it\n",
    "X_train_vectorized = tfidf.fit_transform(X_train)\n",
    "\n",
    "# Visually inspect the vectorized data\n",
    "pd.DataFrame.sparse.from_spmatrix(X_train_vectorized, columns=tfidf.get_feature_names())"
   ]
  },
  {
   "cell_type": "markdown",
   "id": "b0e85519",
   "metadata": {},
   "source": [
    "First try a Naive Bayes Classifier"
   ]
  },
  {
   "cell_type": "code",
   "execution_count": 346,
   "id": "219fb12a",
   "metadata": {
    "ExecuteTime": {
     "end_time": "2023-02-07T00:05:47.294461Z",
     "start_time": "2023-02-07T00:05:47.266655Z"
    },
    "scrolled": true
   },
   "outputs": [
    {
     "name": "stderr",
     "output_type": "stream",
     "text": [
      "C:\\Users\\natek\\anaconda3\\envs\\learn-env\\lib\\site-packages\\sklearn\\model_selection\\_split.py:670: UserWarning: The least populated class in y has only 4 members, which is less than n_splits=5.\n",
      "  warnings.warn((\"The least populated class in y has only %d\"\n"
     ]
    },
    {
     "data": {
      "text/plain": [
       "0.9342105263157894"
      ]
     },
     "execution_count": 346,
     "metadata": {},
     "output_type": "execute_result"
    }
   ],
   "source": [
    "# Import relevant class and function\n",
    "from sklearn.naive_bayes import MultinomialNB\n",
    "from sklearn.model_selection import cross_val_score\n",
    "\n",
    "# Instantiate a MultinomialNB classifier\n",
    "baseline_model = ComplementNB()\n",
    "\n",
    "# Evaluate the classifier on X_train_vectorized and y_train\n",
    "baseline_cv = cross_val_score(baseline_model, X_train_vectorized, y_train)\n",
    "baseline_cv.mean()"
   ]
  },
  {
   "cell_type": "code",
   "execution_count": 347,
   "id": "2661ffb6",
   "metadata": {
    "ExecuteTime": {
     "end_time": "2023-02-07T00:05:48.423169Z",
     "start_time": "2023-02-07T00:05:47.575373Z"
    },
    "scrolled": true
   },
   "outputs": [],
   "source": [
    "# Fit the vectorizer on X_train[\"text\"] and transform it\n",
    "X_test_vectorized = tfidf.transform(X_test)\n",
    "\n",
    "# Visually inspect the vectorized data\n",
    "# pd.DataFrame.sparse.from_spmatrix(X_test_vectorized, columns=tfidf.get_feature_names())"
   ]
  },
  {
   "cell_type": "code",
   "execution_count": 348,
   "id": "3bab5ccf",
   "metadata": {
    "ExecuteTime": {
     "end_time": "2023-02-07T00:05:48.691657Z",
     "start_time": "2023-02-07T00:05:48.662647Z"
    }
   },
   "outputs": [
    {
     "name": "stderr",
     "output_type": "stream",
     "text": [
      "C:\\Users\\natek\\anaconda3\\envs\\learn-env\\lib\\site-packages\\sklearn\\model_selection\\_split.py:670: UserWarning: The least populated class in y has only 2 members, which is less than n_splits=5.\n",
      "  warnings.warn((\"The least populated class in y has only %d\"\n"
     ]
    },
    {
     "data": {
      "text/plain": [
       "0.951335656213705"
      ]
     },
     "execution_count": 348,
     "metadata": {},
     "output_type": "execute_result"
    }
   ],
   "source": [
    "# Evaluate the classifier on X_train_vectorized and y_train\n",
    "baseline_cv = cross_val_score(baseline_model, X_test_vectorized, y_test)\n",
    "baseline_cv.mean()"
   ]
  },
  {
   "cell_type": "code",
   "execution_count": null,
   "id": "d8b92ba8",
   "metadata": {},
   "outputs": [],
   "source": []
  },
  {
   "cell_type": "code",
   "execution_count": null,
   "id": "1929d15a",
   "metadata": {},
   "outputs": [],
   "source": []
  },
  {
   "cell_type": "code",
   "execution_count": null,
   "id": "c2f6c626",
   "metadata": {},
   "outputs": [],
   "source": []
  },
  {
   "cell_type": "code",
   "execution_count": null,
   "id": "2c95ae92",
   "metadata": {},
   "outputs": [],
   "source": []
  }
 ],
 "metadata": {
  "kernelspec": {
   "display_name": "Python (learn-env)",
   "language": "python",
   "name": "learn-env"
  },
  "language_info": {
   "codemirror_mode": {
    "name": "ipython",
    "version": 3
   },
   "file_extension": ".py",
   "mimetype": "text/x-python",
   "name": "python",
   "nbconvert_exporter": "python",
   "pygments_lexer": "ipython3",
   "version": "3.8.5"
  },
  "toc": {
   "base_numbering": 1,
   "nav_menu": {},
   "number_sections": true,
   "sideBar": true,
   "skip_h1_title": false,
   "title_cell": "Table of Contents",
   "title_sidebar": "Contents",
   "toc_cell": false,
   "toc_position": {},
   "toc_section_display": true,
   "toc_window_display": true
  },
  "varInspector": {
   "cols": {
    "lenName": 16,
    "lenType": 16,
    "lenVar": 40
   },
   "kernels_config": {
    "python": {
     "delete_cmd_postfix": "",
     "delete_cmd_prefix": "del ",
     "library": "var_list.py",
     "varRefreshCmd": "print(var_dic_list())"
    },
    "r": {
     "delete_cmd_postfix": ") ",
     "delete_cmd_prefix": "rm(",
     "library": "var_list.r",
     "varRefreshCmd": "cat(var_dic_list()) "
    }
   },
   "types_to_exclude": [
    "module",
    "function",
    "builtin_function_or_method",
    "instance",
    "_Feature"
   ],
   "window_display": false
  }
 },
 "nbformat": 4,
 "nbformat_minor": 5
}
