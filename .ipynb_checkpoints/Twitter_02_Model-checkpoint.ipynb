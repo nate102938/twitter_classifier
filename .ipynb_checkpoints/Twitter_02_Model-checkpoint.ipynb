{
 "cells": [
  {
   "cell_type": "code",
   "execution_count": 1,
   "id": "e93d8154",
   "metadata": {
    "ExecuteTime": {
     "end_time": "2023-02-02T09:41:53.158459Z",
     "start_time": "2023-02-02T09:41:50.497101Z"
    }
   },
   "outputs": [
    {
     "name": "stderr",
     "output_type": "stream",
     "text": [
      "[nltk_data] Downloading package wordnet to\n",
      "[nltk_data]     C:\\Users\\natek\\AppData\\Roaming\\nltk_data...\n",
      "[nltk_data]   Package wordnet is already up-to-date!\n",
      "[nltk_data] Downloading package tagsets to\n",
      "[nltk_data]     C:\\Users\\natek\\AppData\\Roaming\\nltk_data...\n",
      "[nltk_data]   Package tagsets is already up-to-date!\n",
      "[nltk_data] Downloading package averaged_perceptron_tagger to\n",
      "[nltk_data]     C:\\Users\\natek\\AppData\\Roaming\\nltk_data...\n",
      "[nltk_data]   Package averaged_perceptron_tagger is already up-to-\n",
      "[nltk_data]       date!\n"
     ]
    }
   ],
   "source": [
    "import string\n",
    "import pandas as pd\n",
    "from nltk.corpus import stopwords\n",
    "from nltk.corpus import wordnet\n",
    "from nltk.tokenize import regexp_tokenize, word_tokenize, RegexpTokenizer\n",
    "import nltk\n",
    "from nltk import pos_tag\n",
    "from sklearn.naive_bayes import MultinomialNB\n",
    "from sklearn.model_selection import train_test_split, GridSearchCV, cross_val_score\n",
    "from sklearn.pipeline import Pipeline\n",
    "import numpy as np\n",
    "import matplotlib.pyplot as plt\n",
    "import seaborn as sns\n",
    "from sklearn.model_selection import train_test_split\n",
    "from sklearn.feature_extraction.text import CountVectorizer, TfidfVectorizer\n",
    "from sklearn.ensemble import RandomForestClassifier\n",
    "\n",
    "nltk.download('wordnet')\n",
    "nltk.download('tagsets')\n",
    "nltk.download('averaged_perceptron_tagger')\n",
    "\n",
    "pd.options.display.max_rows = 100\n",
    "pd.options.display.max_colwidth = 90"
   ]
  },
  {
   "cell_type": "code",
   "execution_count": 2,
   "id": "2a0d82a7",
   "metadata": {
    "ExecuteTime": {
     "end_time": "2023-02-02T09:41:55.062094Z",
     "start_time": "2023-02-02T09:41:54.556388Z"
    },
    "scrolled": false
   },
   "outputs": [
    {
     "name": "stdout",
     "output_type": "stream",
     "text": [
      "<class 'pandas.core.frame.DataFrame'>\n",
      "RangeIndex: 84908 entries, 0 to 84907\n",
      "Data columns (total 6 columns):\n",
      " #   Column      Non-Null Count  Dtype \n",
      "---  ------      --------------  ----- \n",
      " 0   user_name   84908 non-null  object\n",
      " 1   class       84908 non-null  object\n",
      " 2   id          84908 non-null  object\n",
      " 3   text        84908 non-null  object\n",
      " 4   author_id   84908 non-null  object\n",
      " 5   created_at  84908 non-null  object\n",
      "dtypes: object(6)\n",
      "memory usage: 3.9+ MB\n"
     ]
    },
    {
     "data": {
      "text/plain": [
       "WSJbusiness        1606\n",
       "CNBC                850\n",
       "NatGeo              850\n",
       "travelchannel       850\n",
       "ScienceMagazine     850\n",
       "                   ... \n",
       "justinbieber        400\n",
       "onedirection        400\n",
       "taylorswift13       400\n",
       "NBCNetwork            7\n",
       "DNC                   1\n",
       "Name: user_name, Length: 155, dtype: int64"
      ]
     },
     "execution_count": 2,
     "metadata": {},
     "output_type": "execute_result"
    }
   ],
   "source": [
    "df = pd.read_csv('tweet_list.csv')\n",
    "for n in df.columns:\n",
    "    df[n] = df[n].astype(str)\n",
    "df.dtypes\n",
    "df.info()\n",
    "df['user_name'].value_counts()"
   ]
  },
  {
   "cell_type": "markdown",
   "id": "8e9b3386",
   "metadata": {},
   "source": [
    "Check for duplicates"
   ]
  },
  {
   "cell_type": "code",
   "execution_count": 3,
   "id": "0e566648",
   "metadata": {
    "ExecuteTime": {
     "end_time": "2023-02-02T09:41:55.335100Z",
     "start_time": "2023-02-02T09:41:55.191173Z"
    }
   },
   "outputs": [
    {
     "data": {
      "text/plain": [
       "0        False\n",
       "1        False\n",
       "2        False\n",
       "3        False\n",
       "4        False\n",
       "         ...  \n",
       "84903    False\n",
       "84904    False\n",
       "84905    False\n",
       "84906    False\n",
       "84907    False\n",
       "Length: 84908, dtype: bool"
      ]
     },
     "execution_count": 3,
     "metadata": {},
     "output_type": "execute_result"
    }
   ],
   "source": [
    "df.duplicated()"
   ]
  },
  {
   "cell_type": "markdown",
   "id": "cc53478c",
   "metadata": {},
   "source": [
    "Drop duplicates"
   ]
  },
  {
   "cell_type": "code",
   "execution_count": 4,
   "id": "4725b7bc",
   "metadata": {
    "ExecuteTime": {
     "end_time": "2023-02-02T09:41:55.587792Z",
     "start_time": "2023-02-02T09:41:55.463316Z"
    }
   },
   "outputs": [
    {
     "name": "stdout",
     "output_type": "stream",
     "text": [
      "<class 'pandas.core.frame.DataFrame'>\n",
      "Int64Index: 84105 entries, 0 to 84907\n",
      "Data columns (total 6 columns):\n",
      " #   Column      Non-Null Count  Dtype \n",
      "---  ------      --------------  ----- \n",
      " 0   user_name   84105 non-null  object\n",
      " 1   class       84105 non-null  object\n",
      " 2   id          84105 non-null  object\n",
      " 3   text        84105 non-null  object\n",
      " 4   author_id   84105 non-null  object\n",
      " 5   created_at  84105 non-null  object\n",
      "dtypes: object(6)\n",
      "memory usage: 4.5+ MB\n"
     ]
    }
   ],
   "source": [
    "df = df.drop_duplicates()\n",
    "df.info()"
   ]
  },
  {
   "cell_type": "markdown",
   "id": "5040948c",
   "metadata": {},
   "source": [
    "Check class balance"
   ]
  },
  {
   "cell_type": "code",
   "execution_count": 5,
   "id": "af36859f",
   "metadata": {
    "ExecuteTime": {
     "end_time": "2023-02-02T09:41:55.710848Z",
     "start_time": "2023-02-02T09:41:55.698642Z"
    },
    "scrolled": true
   },
   "outputs": [
    {
     "data": {
      "text/plain": [
       "Politics - Conservative    15500\n",
       "TV / movies                12007\n",
       "Politics - Liberal         12001\n",
       "Sports                     12000\n",
       "Music                      11600\n",
       "Business and finance        8452\n",
       "Science / Technology        7550\n",
       "Travel                      4995\n",
       "Name: class, dtype: int64"
      ]
     },
     "execution_count": 5,
     "metadata": {},
     "output_type": "execute_result"
    }
   ],
   "source": [
    "df['class'].value_counts()"
   ]
  },
  {
   "cell_type": "markdown",
   "id": "bca5a80b",
   "metadata": {},
   "source": [
    "Pre-processing"
   ]
  },
  {
   "cell_type": "markdown",
   "id": "eea80ffd",
   "metadata": {},
   "source": [
    "Data transformation functions"
   ]
  },
  {
   "cell_type": "code",
   "execution_count": 6,
   "id": "86ae019e",
   "metadata": {
    "ExecuteTime": {
     "end_time": "2023-02-02T09:41:55.818605Z",
     "start_time": "2023-02-02T09:41:55.805324Z"
    }
   },
   "outputs": [],
   "source": [
    "def strip_rt_user(text):\n",
    "    if text[0:2] == \"RT\":\n",
    "        colon = text.find(\":\")\n",
    "        return text[colon+1:].lower()\n",
    "    else:\n",
    "        return text.lower()\n",
    "\n",
    "def get_rt_user(text):\n",
    "    if text[0:2] == \"RT\":\n",
    "        colon = text.find(\":\")\n",
    "        user = text[:colon]\n",
    "        at = user.find(\"@\")\n",
    "        return (user[at+1:]).lower()\n",
    "    else:\n",
    "        return \"\"\n",
    "\n",
    "def addHashTags(text):\n",
    "    return \"#\" + text + \"#\"\n",
    "    \n",
    "def strip_links(text):\n",
    "    tokens = text.split()\n",
    "    \n",
    "def get_wordnet_pos(treebank_tag):\n",
    "    '''\n",
    "    Translate nltk POS to wordnet tags\n",
    "    '''\n",
    "    if treebank_tag.startswith('J'):\n",
    "        return wordnet.ADJ\n",
    "    elif treebank_tag.startswith('V'):\n",
    "        return wordnet.VERB\n",
    "    elif treebank_tag.startswith('N'):\n",
    "        return wordnet.NOUN\n",
    "    elif treebank_tag.startswith('R'):\n",
    "        return wordnet.ADV\n",
    "    else:\n",
    "        return wordnet.NOUN\n",
    "\n",
    "def remove_characters(text, char_to_remove):\n",
    "    str1 = ''.join(x for x in text if not x in char_to_remove)\n",
    "    return str1\n",
    "\n",
    "def remove_punctuation(text):\n",
    "    text = remove_characters(text, string.punctuation)\n",
    "    return text\n"
   ]
  },
  {
   "cell_type": "code",
   "execution_count": 7,
   "id": "83fbd7cd",
   "metadata": {
    "ExecuteTime": {
     "end_time": "2023-02-02T09:41:55.928990Z",
     "start_time": "2023-02-02T09:41:55.900128Z"
    }
   },
   "outputs": [
    {
     "data": {
      "text/html": [
       "<div>\n",
       "<style scoped>\n",
       "    .dataframe tbody tr th:only-of-type {\n",
       "        vertical-align: middle;\n",
       "    }\n",
       "\n",
       "    .dataframe tbody tr th {\n",
       "        vertical-align: top;\n",
       "    }\n",
       "\n",
       "    .dataframe thead th {\n",
       "        text-align: right;\n",
       "    }\n",
       "</style>\n",
       "<table border=\"1\" class=\"dataframe\">\n",
       "  <thead>\n",
       "    <tr style=\"text-align: right;\">\n",
       "      <th></th>\n",
       "      <th>user_name</th>\n",
       "      <th>class</th>\n",
       "      <th>id</th>\n",
       "      <th>text</th>\n",
       "      <th>author_id</th>\n",
       "      <th>created_at</th>\n",
       "    </tr>\n",
       "  </thead>\n",
       "  <tbody>\n",
       "    <tr>\n",
       "      <th>0</th>\n",
       "      <td>TeamPelosi</td>\n",
       "      <td>Politics - Liberal</td>\n",
       "      <td>1620527449326108672</td>\n",
       "      <td>On this day 83 years ago, Democrats Delivered the first Social Security checks ever!  ...</td>\n",
       "      <td>2461810448</td>\n",
       "      <td>2023-01-31 21:00:26+00:00</td>\n",
       "    </tr>\n",
       "    <tr>\n",
       "      <th>1</th>\n",
       "      <td>TeamPelosi</td>\n",
       "      <td>Politics - Liberal</td>\n",
       "      <td>1620131183597359104</td>\n",
       "      <td>We must keep our children safe from gun violence. Safe storage of guns saves lives and...</td>\n",
       "      <td>2461810448</td>\n",
       "      <td>2023-01-30 18:45:49+00:00</td>\n",
       "    </tr>\n",
       "    <tr>\n",
       "      <th>2</th>\n",
       "      <td>TeamPelosi</td>\n",
       "      <td>Politics - Liberal</td>\n",
       "      <td>1619445261784477696</td>\n",
       "      <td>Democrats believe that health care is a human right  and #DemocratsDelivered help for ...</td>\n",
       "      <td>2461810448</td>\n",
       "      <td>2023-01-28 21:20:12+00:00</td>\n",
       "    </tr>\n",
       "    <tr>\n",
       "      <th>3</th>\n",
       "      <td>TeamPelosi</td>\n",
       "      <td>Politics - Liberal</td>\n",
       "      <td>1619183614050156544</td>\n",
       "      <td>Congratulations @PADems for your hard-won victories electing Pennsylvania Democrats wh...</td>\n",
       "      <td>2461810448</td>\n",
       "      <td>2023-01-28 04:00:31+00:00</td>\n",
       "    </tr>\n",
       "    <tr>\n",
       "      <th>4</th>\n",
       "      <td>TeamPelosi</td>\n",
       "      <td>Politics - Liberal</td>\n",
       "      <td>1619157193626116098</td>\n",
       "      <td>My heart goes out to Tyre Nichols mother and their entire family. Tyre should be alive...</td>\n",
       "      <td>2461810448</td>\n",
       "      <td>2023-01-28 02:15:32+00:00</td>\n",
       "    </tr>\n",
       "    <tr>\n",
       "      <th>...</th>\n",
       "      <td>...</td>\n",
       "      <td>...</td>\n",
       "      <td>...</td>\n",
       "      <td>...</td>\n",
       "      <td>...</td>\n",
       "      <td>...</td>\n",
       "    </tr>\n",
       "    <tr>\n",
       "      <th>84903</th>\n",
       "      <td>BBC_Travel</td>\n",
       "      <td>Travel</td>\n",
       "      <td>1317805131052634115</td>\n",
       "      <td>This picture-perfect medieval city may show us how to live better.    https://t.co/bSY...</td>\n",
       "      <td>173992307</td>\n",
       "      <td>2020-10-18 12:30:01+00:00</td>\n",
       "    </tr>\n",
       "    <tr>\n",
       "      <th>84904</th>\n",
       "      <td>BBC_Travel</td>\n",
       "      <td>Travel</td>\n",
       "      <td>1317586183845605377</td>\n",
       "      <td>Why did a stunning Alpine landscape lead Nietzsche to proclaim God is dead?  https://t...</td>\n",
       "      <td>173992307</td>\n",
       "      <td>2020-10-17 22:00:00+00:00</td>\n",
       "    </tr>\n",
       "    <tr>\n",
       "      <th>84905</th>\n",
       "      <td>BBC_Travel</td>\n",
       "      <td>Travel</td>\n",
       "      <td>1317442744374079491</td>\n",
       "      <td>Its the only writing system in the world used exclusively by women.   https://t.co/v4v...</td>\n",
       "      <td>173992307</td>\n",
       "      <td>2020-10-17 12:30:01+00:00</td>\n",
       "    </tr>\n",
       "    <tr>\n",
       "      <th>84906</th>\n",
       "      <td>BBC_Travel</td>\n",
       "      <td>Travel</td>\n",
       "      <td>1317223800035971072</td>\n",
       "      <td>Steak and spaghetti with ketchup?  In post-war Japan, yoshoku had become the countrys ...</td>\n",
       "      <td>173992307</td>\n",
       "      <td>2020-10-16 22:00:01+00:00</td>\n",
       "    </tr>\n",
       "    <tr>\n",
       "      <th>84907</th>\n",
       "      <td>BBC_Travel</td>\n",
       "      <td>Travel</td>\n",
       "      <td>1317163398224699392</td>\n",
       "      <td>In one of the countrys least-visited prefectures, chefs dramatically sear bonito over ...</td>\n",
       "      <td>173992307</td>\n",
       "      <td>2020-10-16 18:00:00+00:00</td>\n",
       "    </tr>\n",
       "  </tbody>\n",
       "</table>\n",
       "<p>84105 rows × 6 columns</p>\n",
       "</div>"
      ],
      "text/plain": [
       "        user_name               class                   id  \\\n",
       "0      TeamPelosi  Politics - Liberal  1620527449326108672   \n",
       "1      TeamPelosi  Politics - Liberal  1620131183597359104   \n",
       "2      TeamPelosi  Politics - Liberal  1619445261784477696   \n",
       "3      TeamPelosi  Politics - Liberal  1619183614050156544   \n",
       "4      TeamPelosi  Politics - Liberal  1619157193626116098   \n",
       "...           ...                 ...                  ...   \n",
       "84903  BBC_Travel              Travel  1317805131052634115   \n",
       "84904  BBC_Travel              Travel  1317586183845605377   \n",
       "84905  BBC_Travel              Travel  1317442744374079491   \n",
       "84906  BBC_Travel              Travel  1317223800035971072   \n",
       "84907  BBC_Travel              Travel  1317163398224699392   \n",
       "\n",
       "                                                                                            text  \\\n",
       "0      On this day 83 years ago, Democrats Delivered the first Social Security checks ever!  ...   \n",
       "1      We must keep our children safe from gun violence. Safe storage of guns saves lives and...   \n",
       "2      Democrats believe that health care is a human right  and #DemocratsDelivered help for ...   \n",
       "3      Congratulations @PADems for your hard-won victories electing Pennsylvania Democrats wh...   \n",
       "4      My heart goes out to Tyre Nichols mother and their entire family. Tyre should be alive...   \n",
       "...                                                                                          ...   \n",
       "84903  This picture-perfect medieval city may show us how to live better.    https://t.co/bSY...   \n",
       "84904  Why did a stunning Alpine landscape lead Nietzsche to proclaim God is dead?  https://t...   \n",
       "84905  Its the only writing system in the world used exclusively by women.   https://t.co/v4v...   \n",
       "84906  Steak and spaghetti with ketchup?  In post-war Japan, yoshoku had become the countrys ...   \n",
       "84907  In one of the countrys least-visited prefectures, chefs dramatically sear bonito over ...   \n",
       "\n",
       "        author_id                 created_at  \n",
       "0      2461810448  2023-01-31 21:00:26+00:00  \n",
       "1      2461810448  2023-01-30 18:45:49+00:00  \n",
       "2      2461810448  2023-01-28 21:20:12+00:00  \n",
       "3      2461810448  2023-01-28 04:00:31+00:00  \n",
       "4      2461810448  2023-01-28 02:15:32+00:00  \n",
       "...           ...                        ...  \n",
       "84903   173992307  2020-10-18 12:30:01+00:00  \n",
       "84904   173992307  2020-10-17 22:00:00+00:00  \n",
       "84905   173992307  2020-10-17 12:30:01+00:00  \n",
       "84906   173992307  2020-10-16 22:00:01+00:00  \n",
       "84907   173992307  2020-10-16 18:00:00+00:00  \n",
       "\n",
       "[84105 rows x 6 columns]"
      ]
     },
     "execution_count": 7,
     "metadata": {},
     "output_type": "execute_result"
    }
   ],
   "source": [
    "df"
   ]
  },
  {
   "cell_type": "code",
   "execution_count": null,
   "id": "f22a60f0",
   "metadata": {
    "ExecuteTime": {
     "end_time": "2023-02-02T07:21:23.648686Z",
     "start_time": "2023-02-02T07:21:23.600387Z"
    }
   },
   "outputs": [],
   "source": []
  },
  {
   "cell_type": "code",
   "execution_count": 85,
   "id": "f99cd3c9",
   "metadata": {
    "ExecuteTime": {
     "end_time": "2023-02-02T09:49:02.575095Z",
     "start_time": "2023-02-02T09:48:48.096544Z"
    },
    "scrolled": false
   },
   "outputs": [
    {
     "data": {
      "text/html": [
       "<div>\n",
       "<style scoped>\n",
       "    .dataframe tbody tr th:only-of-type {\n",
       "        vertical-align: middle;\n",
       "    }\n",
       "\n",
       "    .dataframe tbody tr th {\n",
       "        vertical-align: top;\n",
       "    }\n",
       "\n",
       "    .dataframe thead th {\n",
       "        text-align: right;\n",
       "    }\n",
       "</style>\n",
       "<table border=\"1\" class=\"dataframe\">\n",
       "  <thead>\n",
       "    <tr style=\"text-align: right;\">\n",
       "      <th></th>\n",
       "      <th>user_name</th>\n",
       "      <th>class</th>\n",
       "      <th>id</th>\n",
       "      <th>text</th>\n",
       "      <th>author_id</th>\n",
       "      <th>created_at</th>\n",
       "      <th>text2</th>\n",
       "      <th>RT_user</th>\n",
       "      <th>RT_user#</th>\n",
       "      <th>word_count</th>\n",
       "      <th>text3</th>\n",
       "    </tr>\n",
       "  </thead>\n",
       "  <tbody>\n",
       "    <tr>\n",
       "      <th>0</th>\n",
       "      <td>TeamPelosi</td>\n",
       "      <td>Politics - Liberal</td>\n",
       "      <td>1620527449326108672</td>\n",
       "      <td>On this day 83 years ago, Democrats Delivered the first Social Security checks ever!  ...</td>\n",
       "      <td>2461810448</td>\n",
       "      <td>2023-01-31 21:00:26+00:00</td>\n",
       "      <td>day year ago democrat deliv first social secur check ever republican social secur cont...</td>\n",
       "      <td></td>\n",
       "      <td></td>\n",
       "      <td>176</td>\n",
       "      <td>[day, year, ago, democrat, deliv, first, social, secur, check, ever, republican, socia...</td>\n",
       "    </tr>\n",
       "    <tr>\n",
       "      <th>1</th>\n",
       "      <td>TeamPelosi</td>\n",
       "      <td>Politics - Liberal</td>\n",
       "      <td>1620131183597359104</td>\n",
       "      <td>We must keep our children safe from gun violence. Safe storage of guns saves lives and...</td>\n",
       "      <td>2461810448</td>\n",
       "      <td>2023-01-30 18:45:49+00:00</td>\n",
       "      <td>must keep children safe gun violenc safe storag gun save live heartbreak that hous dem...</td>\n",
       "      <td></td>\n",
       "      <td></td>\n",
       "      <td>168</td>\n",
       "      <td>[must, keep, children, safe, gun, violenc, safe, storag, gun, save, live, heartbreak, ...</td>\n",
       "    </tr>\n",
       "    <tr>\n",
       "      <th>2</th>\n",
       "      <td>TeamPelosi</td>\n",
       "      <td>Politics - Liberal</td>\n",
       "      <td>1619445261784477696</td>\n",
       "      <td>Democrats believe that health care is a human right  and #DemocratsDelivered help for ...</td>\n",
       "      <td>2461810448</td>\n",
       "      <td>2023-01-28 21:20:12+00:00</td>\n",
       "      <td>democrat believ health care human right democratsdeliv help famili get coverag today a...</td>\n",
       "      <td></td>\n",
       "      <td></td>\n",
       "      <td>154</td>\n",
       "      <td>[democrat, believ, health, care, human, right, democratsdeliv, help, famili, get, cove...</td>\n",
       "    </tr>\n",
       "    <tr>\n",
       "      <th>3</th>\n",
       "      <td>TeamPelosi</td>\n",
       "      <td>Politics - Liberal</td>\n",
       "      <td>1619183614050156544</td>\n",
       "      <td>Congratulations @PADems for your hard-won victories electing Pennsylvania Democrats wh...</td>\n",
       "      <td>2461810448</td>\n",
       "      <td>2023-01-28 04:00:31+00:00</td>\n",
       "      <td>congratul padem hardwon victori elect pennsylvania democrat commit grow economi work f...</td>\n",
       "      <td></td>\n",
       "      <td></td>\n",
       "      <td>138</td>\n",
       "      <td>[congratul, padem, hardwon, victori, elect, pennsylvania, democrat, commit, grow, econ...</td>\n",
       "    </tr>\n",
       "    <tr>\n",
       "      <th>4</th>\n",
       "      <td>TeamPelosi</td>\n",
       "      <td>Politics - Liberal</td>\n",
       "      <td>1619157193626116098</td>\n",
       "      <td>My heart goes out to Tyre Nichols mother and their entire family. Tyre should be alive...</td>\n",
       "      <td>2461810448</td>\n",
       "      <td>2023-01-28 02:15:32+00:00</td>\n",
       "      <td>heart goe tyre nichol mother entir famili tyre aliv today justic must done must reform...</td>\n",
       "      <td></td>\n",
       "      <td></td>\n",
       "      <td>173</td>\n",
       "      <td>[heart, goe, tyre, nichol, mother, entir, famili, tyre, aliv, today, justic, must, don...</td>\n",
       "    </tr>\n",
       "    <tr>\n",
       "      <th>...</th>\n",
       "      <td>...</td>\n",
       "      <td>...</td>\n",
       "      <td>...</td>\n",
       "      <td>...</td>\n",
       "      <td>...</td>\n",
       "      <td>...</td>\n",
       "      <td>...</td>\n",
       "      <td>...</td>\n",
       "      <td>...</td>\n",
       "      <td>...</td>\n",
       "      <td>...</td>\n",
       "    </tr>\n",
       "    <tr>\n",
       "      <th>82424</th>\n",
       "      <td>BBC_Travel</td>\n",
       "      <td>Travel</td>\n",
       "      <td>1317805131052634115</td>\n",
       "      <td>This picture-perfect medieval city may show us how to live better.    https://t.co/bSY...</td>\n",
       "      <td>173992307</td>\n",
       "      <td>2020-10-18 12:30:01+00:00</td>\n",
       "      <td>pictureperfect mediev citi may show live better</td>\n",
       "      <td></td>\n",
       "      <td></td>\n",
       "      <td>48</td>\n",
       "      <td>[pictureperfect, mediev, citi, may, show, live, better]</td>\n",
       "    </tr>\n",
       "    <tr>\n",
       "      <th>82425</th>\n",
       "      <td>BBC_Travel</td>\n",
       "      <td>Travel</td>\n",
       "      <td>1317586183845605377</td>\n",
       "      <td>Why did a stunning Alpine landscape lead Nietzsche to proclaim God is dead?  https://t...</td>\n",
       "      <td>173992307</td>\n",
       "      <td>2020-10-17 22:00:00+00:00</td>\n",
       "      <td>stun alpin landscap lead nietzsch proclaim god dead</td>\n",
       "      <td></td>\n",
       "      <td></td>\n",
       "      <td>52</td>\n",
       "      <td>[stun, alpin, landscap, lead, nietzsch, proclaim, god, dead]</td>\n",
       "    </tr>\n",
       "    <tr>\n",
       "      <th>82426</th>\n",
       "      <td>BBC_Travel</td>\n",
       "      <td>Travel</td>\n",
       "      <td>1317442744374079491</td>\n",
       "      <td>Its the only writing system in the world used exclusively by women.   https://t.co/v4v...</td>\n",
       "      <td>173992307</td>\n",
       "      <td>2020-10-17 12:30:01+00:00</td>\n",
       "      <td>write system world use exclus women</td>\n",
       "      <td></td>\n",
       "      <td></td>\n",
       "      <td>36</td>\n",
       "      <td>[write, system, world, use, exclus, women]</td>\n",
       "    </tr>\n",
       "    <tr>\n",
       "      <th>82427</th>\n",
       "      <td>BBC_Travel</td>\n",
       "      <td>Travel</td>\n",
       "      <td>1317223800035971072</td>\n",
       "      <td>Steak and spaghetti with ketchup?  In post-war Japan, yoshoku had become the countrys ...</td>\n",
       "      <td>173992307</td>\n",
       "      <td>2020-10-16 22:00:01+00:00</td>\n",
       "      <td>steak spaghetti ketchup postwar japan yoshoku becom countri defacto comfort food actua...</td>\n",
       "      <td></td>\n",
       "      <td></td>\n",
       "      <td>110</td>\n",
       "      <td>[steak, spaghetti, ketchup, postwar, japan, yoshoku, becom, countri, defacto, comfort,...</td>\n",
       "    </tr>\n",
       "    <tr>\n",
       "      <th>82428</th>\n",
       "      <td>BBC_Travel</td>\n",
       "      <td>Travel</td>\n",
       "      <td>1317163398224699392</td>\n",
       "      <td>In one of the countrys least-visited prefectures, chefs dramatically sear bonito over ...</td>\n",
       "      <td>173992307</td>\n",
       "      <td>2020-10-16 18:00:00+00:00</td>\n",
       "      <td>one countri leastvisit prefectur chef dramat sear bonito tower flame</td>\n",
       "      <td></td>\n",
       "      <td></td>\n",
       "      <td>69</td>\n",
       "      <td>[one, countri, leastvisit, prefectur, chef, dramat, sear, bonito, tower, flame]</td>\n",
       "    </tr>\n",
       "  </tbody>\n",
       "</table>\n",
       "<p>82429 rows × 11 columns</p>\n",
       "</div>"
      ],
      "text/plain": [
       "        user_name               class                   id  \\\n",
       "0      TeamPelosi  Politics - Liberal  1620527449326108672   \n",
       "1      TeamPelosi  Politics - Liberal  1620131183597359104   \n",
       "2      TeamPelosi  Politics - Liberal  1619445261784477696   \n",
       "3      TeamPelosi  Politics - Liberal  1619183614050156544   \n",
       "4      TeamPelosi  Politics - Liberal  1619157193626116098   \n",
       "...           ...                 ...                  ...   \n",
       "82424  BBC_Travel              Travel  1317805131052634115   \n",
       "82425  BBC_Travel              Travel  1317586183845605377   \n",
       "82426  BBC_Travel              Travel  1317442744374079491   \n",
       "82427  BBC_Travel              Travel  1317223800035971072   \n",
       "82428  BBC_Travel              Travel  1317163398224699392   \n",
       "\n",
       "                                                                                            text  \\\n",
       "0      On this day 83 years ago, Democrats Delivered the first Social Security checks ever!  ...   \n",
       "1      We must keep our children safe from gun violence. Safe storage of guns saves lives and...   \n",
       "2      Democrats believe that health care is a human right  and #DemocratsDelivered help for ...   \n",
       "3      Congratulations @PADems for your hard-won victories electing Pennsylvania Democrats wh...   \n",
       "4      My heart goes out to Tyre Nichols mother and their entire family. Tyre should be alive...   \n",
       "...                                                                                          ...   \n",
       "82424  This picture-perfect medieval city may show us how to live better.    https://t.co/bSY...   \n",
       "82425  Why did a stunning Alpine landscape lead Nietzsche to proclaim God is dead?  https://t...   \n",
       "82426  Its the only writing system in the world used exclusively by women.   https://t.co/v4v...   \n",
       "82427  Steak and spaghetti with ketchup?  In post-war Japan, yoshoku had become the countrys ...   \n",
       "82428  In one of the countrys least-visited prefectures, chefs dramatically sear bonito over ...   \n",
       "\n",
       "        author_id                 created_at  \\\n",
       "0      2461810448  2023-01-31 21:00:26+00:00   \n",
       "1      2461810448  2023-01-30 18:45:49+00:00   \n",
       "2      2461810448  2023-01-28 21:20:12+00:00   \n",
       "3      2461810448  2023-01-28 04:00:31+00:00   \n",
       "4      2461810448  2023-01-28 02:15:32+00:00   \n",
       "...           ...                        ...   \n",
       "82424   173992307  2020-10-18 12:30:01+00:00   \n",
       "82425   173992307  2020-10-17 22:00:00+00:00   \n",
       "82426   173992307  2020-10-17 12:30:01+00:00   \n",
       "82427   173992307  2020-10-16 22:00:01+00:00   \n",
       "82428   173992307  2020-10-16 18:00:00+00:00   \n",
       "\n",
       "                                                                                           text2  \\\n",
       "0      day year ago democrat deliv first social secur check ever republican social secur cont...   \n",
       "1      must keep children safe gun violenc safe storag gun save live heartbreak that hous dem...   \n",
       "2      democrat believ health care human right democratsdeliv help famili get coverag today a...   \n",
       "3      congratul padem hardwon victori elect pennsylvania democrat commit grow economi work f...   \n",
       "4      heart goe tyre nichol mother entir famili tyre aliv today justic must done must reform...   \n",
       "...                                                                                          ...   \n",
       "82424                                           pictureperfect mediev citi may show live better    \n",
       "82425                                       stun alpin landscap lead nietzsch proclaim god dead    \n",
       "82426                                                       write system world use exclus women    \n",
       "82427  steak spaghetti ketchup postwar japan yoshoku becom countri defacto comfort food actua...   \n",
       "82428                      one countri leastvisit prefectur chef dramat sear bonito tower flame    \n",
       "\n",
       "      RT_user RT_user#  word_count  \\\n",
       "0                              176   \n",
       "1                              168   \n",
       "2                              154   \n",
       "3                              138   \n",
       "4                              173   \n",
       "...       ...      ...         ...   \n",
       "82424                           48   \n",
       "82425                           52   \n",
       "82426                           36   \n",
       "82427                          110   \n",
       "82428                           69   \n",
       "\n",
       "                                                                                           text3  \n",
       "0      [day, year, ago, democrat, deliv, first, social, secur, check, ever, republican, socia...  \n",
       "1      [must, keep, children, safe, gun, violenc, safe, storag, gun, save, live, heartbreak, ...  \n",
       "2      [democrat, believ, health, care, human, right, democratsdeliv, help, famili, get, cove...  \n",
       "3      [congratul, padem, hardwon, victori, elect, pennsylvania, democrat, commit, grow, econ...  \n",
       "4      [heart, goe, tyre, nichol, mother, entir, famili, tyre, aliv, today, justic, must, don...  \n",
       "...                                                                                          ...  \n",
       "82424                                    [pictureperfect, mediev, citi, may, show, live, better]  \n",
       "82425                               [stun, alpin, landscap, lead, nietzsch, proclaim, god, dead]  \n",
       "82426                                                 [write, system, world, use, exclus, women]  \n",
       "82427  [steak, spaghetti, ketchup, postwar, japan, yoshoku, becom, countri, defacto, comfort,...  \n",
       "82428            [one, countri, leastvisit, prefectur, chef, dramat, sear, bonito, tower, flame]  \n",
       "\n",
       "[82429 rows x 11 columns]"
      ]
     },
     "execution_count": 85,
     "metadata": {},
     "output_type": "execute_result"
    }
   ],
   "source": [
    "df2 = df.copy()\n",
    "from nltk.stem import PorterStemmer\n",
    "from nltk.tokenize import word_tokenize\n",
    "from nltk.stem.snowball import SnowballStemmer\n",
    "\n",
    "# Make special user names and retweet names, and pull it out from the text tweet\n",
    "df2['text2'] = df2['text'].apply(strip_rt_user)\n",
    "df2['RT_user'] = df2['text'].apply(get_rt_user)\n",
    "df2['RT_user#'] = df2['RT_user'].apply(lambda x: addHashTags(x) if x != \"\" else \"\")\n",
    "\n",
    "# Lower case the text tweets\n",
    "df2['text2'] = df2['text2'].str.lower()\n",
    "\n",
    "# Strip out the meaningless links\n",
    "df2['text2'] = df2['text2'].apply(lambda x: \" \".join([n for n in x.split() if n[0:4] != \"http\"]))\n",
    "\n",
    "# Strip any excess white space\n",
    "df2['text2'] = df2['text2'].apply(lambda x: x.strip())\n",
    "\n",
    "# Take out stop words\n",
    "sw = set(stopwords.words('english'))\n",
    "sw.update(['amp'])\n",
    "df2['text2'] = df2['text2'].apply(lambda x: \" \".join([n for n in x.split() if n not in sw]))\n",
    "\n",
    "# Remove punctuation\n",
    "df2['text2'] = df2['text2'].apply(lambda x: remove_punctuation(x))\n",
    "\n",
    "# min length of characters for word\n",
    "df2['text2'] = df2['text2'].apply(lambda x: \" \".join([n for n in x.split() if len(n) >= 3]))\n",
    "\n",
    "# Make sure we don't have any random numbers\n",
    "df2['text2'] = df2['text2'].apply(lambda x: \" \".join([n for n in x.split() if n.isnumeric() == False]))\n",
    "\n",
    "# Stem the words\n",
    "sb = SnowballStemmer(language='english')\n",
    "df2['text2'] = df2['text2'].apply(lambda x: \" \".join([sb.stem(n) for n in x.split()]))\n",
    "\n",
    "# Put it all together in a new column\n",
    "df2['text2'] = df2['text2'] + \" \" + df2['RT_user#']\n",
    "\n",
    "# Limit data to tweets that have greater than 4 words\n",
    "df2['word_count'] = df2['text2'].apply(lambda x: len(x))\n",
    "df2 = df2[ df2['word_count'] >= 3 ]\n",
    "\n",
    "# Make a new column, tokenize the words\n",
    "df2['text3'] = df2['text2'].str.split()\n",
    "\n",
    "# Make a new df\n",
    "df3 = df2.copy()\n",
    "df3['text3'] = df3['text3'].apply(lambda x: np.nan if len(x) == 0 else x)\n",
    "df3 = df3.dropna().reset_index(drop=True) \n",
    "df3\n",
    "\n",
    "\n",
    "\n"
   ]
  },
  {
   "cell_type": "code",
   "execution_count": 86,
   "id": "0d088c4f",
   "metadata": {
    "ExecuteTime": {
     "end_time": "2023-02-02T09:49:03.067371Z",
     "start_time": "2023-02-02T09:49:02.918225Z"
    }
   },
   "outputs": [
    {
     "data": {
      "image/png": "[encoded data removed]",
      "text/plain": [
       "<Figure size 576x576 with 1 Axes>"
      ]
     },
     "metadata": {
      "needs_background": "light"
     },
     "output_type": "display_data"
    }
   ],
   "source": [
    "ax = df3['word_count'].plot.hist(figsize=(8,8), bins=20)"
   ]
  },
  {
   "cell_type": "markdown",
   "id": "8cd60b87",
   "metadata": {},
   "source": [
    "First try to predict Political affiliation.  Then move on to the others."
   ]
  },
  {
   "cell_type": "code",
   "execution_count": 87,
   "id": "ddf6e274",
   "metadata": {
    "ExecuteTime": {
     "end_time": "2023-02-02T09:49:03.350240Z",
     "start_time": "2023-02-02T09:49:03.337712Z"
    }
   },
   "outputs": [],
   "source": [
    "# df3 = df3[(df3['class'] == 'Politics - Conservative') | (df3['class'] == 'Politics - Liberal')]\n",
    "# df3"
   ]
  },
  {
   "cell_type": "code",
   "execution_count": 88,
   "id": "f0c48246",
   "metadata": {
    "ExecuteTime": {
     "end_time": "2023-02-02T09:49:03.688385Z",
     "start_time": "2023-02-02T09:49:03.659460Z"
    }
   },
   "outputs": [],
   "source": [
    "from sklearn import preprocessing\n",
    "le = preprocessing.LabelEncoder()\n",
    "df3['class_label'] = le.fit_transform(df3['class'])"
   ]
  },
  {
   "cell_type": "code",
   "execution_count": 89,
   "id": "3f9973ab",
   "metadata": {
    "ExecuteTime": {
     "end_time": "2023-02-02T09:49:03.998716Z",
     "start_time": "2023-02-02T09:49:03.970886Z"
    },
    "scrolled": true
   },
   "outputs": [
    {
     "data": {
      "text/html": [
       "<div>\n",
       "<style scoped>\n",
       "    .dataframe tbody tr th:only-of-type {\n",
       "        vertical-align: middle;\n",
       "    }\n",
       "\n",
       "    .dataframe tbody tr th {\n",
       "        vertical-align: top;\n",
       "    }\n",
       "\n",
       "    .dataframe thead th {\n",
       "        text-align: right;\n",
       "    }\n",
       "</style>\n",
       "<table border=\"1\" class=\"dataframe\">\n",
       "  <thead>\n",
       "    <tr style=\"text-align: right;\">\n",
       "      <th></th>\n",
       "      <th></th>\n",
       "      <th>class</th>\n",
       "    </tr>\n",
       "    <tr>\n",
       "      <th>class</th>\n",
       "      <th>class_label</th>\n",
       "      <th></th>\n",
       "    </tr>\n",
       "  </thead>\n",
       "  <tbody>\n",
       "    <tr>\n",
       "      <th>Business and finance</th>\n",
       "      <th>0</th>\n",
       "      <td>8440</td>\n",
       "    </tr>\n",
       "    <tr>\n",
       "      <th>Music</th>\n",
       "      <th>1</th>\n",
       "      <td>10908</td>\n",
       "    </tr>\n",
       "    <tr>\n",
       "      <th>Politics - Conservative</th>\n",
       "      <th>2</th>\n",
       "      <td>15187</td>\n",
       "    </tr>\n",
       "    <tr>\n",
       "      <th>Politics - Liberal</th>\n",
       "      <th>3</th>\n",
       "      <td>11933</td>\n",
       "    </tr>\n",
       "    <tr>\n",
       "      <th>Science / Technology</th>\n",
       "      <th>4</th>\n",
       "      <td>7522</td>\n",
       "    </tr>\n",
       "    <tr>\n",
       "      <th>Sports</th>\n",
       "      <th>5</th>\n",
       "      <td>11608</td>\n",
       "    </tr>\n",
       "    <tr>\n",
       "      <th>TV / movies</th>\n",
       "      <th>6</th>\n",
       "      <td>11840</td>\n",
       "    </tr>\n",
       "    <tr>\n",
       "      <th>Travel</th>\n",
       "      <th>7</th>\n",
       "      <td>4991</td>\n",
       "    </tr>\n",
       "  </tbody>\n",
       "</table>\n",
       "</div>"
      ],
      "text/plain": [
       "                                     class\n",
       "class                   class_label       \n",
       "Business and finance    0             8440\n",
       "Music                   1            10908\n",
       "Politics - Conservative 2            15187\n",
       "Politics - Liberal      3            11933\n",
       "Science / Technology    4             7522\n",
       "Sports                  5            11608\n",
       "TV / movies             6            11840\n",
       "Travel                  7             4991"
      ]
     },
     "execution_count": 89,
     "metadata": {},
     "output_type": "execute_result"
    }
   ],
   "source": [
    "labels = df3.groupby(['class', 'class_label'])['class',].count()\n",
    "labels"
   ]
  },
  {
   "cell_type": "code",
   "execution_count": 90,
   "id": "642a596a",
   "metadata": {
    "ExecuteTime": {
     "end_time": "2023-02-02T09:49:04.376868Z",
     "start_time": "2023-02-02T09:49:04.316044Z"
    }
   },
   "outputs": [],
   "source": [
    "X = df3['text3']\n",
    "y = df3['class_label']\n",
    "X_train, X_test, y_train, y_test = train_test_split(X, y, test_size=.35, stratify=y)"
   ]
  },
  {
   "cell_type": "code",
   "execution_count": 91,
   "id": "893e4f1f",
   "metadata": {
    "ExecuteTime": {
     "end_time": "2023-02-02T09:49:04.670952Z",
     "start_time": "2023-02-02T09:49:04.660973Z"
    }
   },
   "outputs": [
    {
     "data": {
      "text/plain": [
       "67146    [serious, enjoy, missingmovi, tonight, entir, cast, crew, kill, sevohanian, congrat, y...\n",
       "12083                                                        [year, conserv, comeback, get, readi]\n",
       "21832                                                                               [huge, troubl]\n",
       "14083        [parent, choos, heat, home, buy, gift, kid, joe, biden, forc, choic, terribl, polici]\n",
       "71538    [declin, taper, offit, steep, signific, environment, lifestyl, factor, could, increas,...\n",
       "                                                   ...                                            \n",
       "27775              [melkiperespn, mock, draft, hes, got, three, qbs, go, top, five, via, espnplus]\n",
       "59954    [shift, differ, night, nightatthemuseum, kahmunrah, rise, start, stream, decemb, disne...\n",
       "42697                           [nike, stock, soar, sneaker, giant, beat, forecast, lift, outlook]\n",
       "62645                               [herschel, walker, prolif, hell, put, babi, anybodi, jadomian]\n",
       "32063                [bear, alway, bear, matt, berlin, derek, ryan, edmontonoil, #bearsandpandas#]\n",
       "Name: text3, Length: 53578, dtype: object"
      ]
     },
     "execution_count": 91,
     "metadata": {},
     "output_type": "execute_result"
    }
   ],
   "source": [
    "X_train"
   ]
  },
  {
   "cell_type": "code",
   "execution_count": 92,
   "id": "5d937396",
   "metadata": {
    "ExecuteTime": {
     "end_time": "2023-02-02T09:49:05.519960Z",
     "start_time": "2023-02-02T09:49:05.027967Z"
    }
   },
   "outputs": [],
   "source": [
    "# Import the relevant vectorizer class\n",
    "from sklearn.feature_extraction.text import TfidfVectorizer\n",
    "\n",
    "def dummy_fun(doc):\n",
    "    return doc\n",
    "\n",
    "# Instantiate a vectorizer with max_features=10\n",
    "# (we are using the default token pattern)\n",
    "tfidf = TfidfVectorizer(analyzer='word', tokenizer=dummy_fun, preprocessor=dummy_fun, token_pattern=None, max_features=8000)\n",
    "\n",
    "# Fit the vectorizer on X_train[\"text\"] and transform it\n",
    "X_train_vectorized = tfidf.fit_transform(X_train)\n",
    "\n",
    "# Visually inspect the vectorized data\n",
    "# pd.DataFrame.sparse.from_spmatrix(X_train_vectorized, columns=tfidf.get_feature_names())"
   ]
  },
  {
   "cell_type": "markdown",
   "id": "b0e85519",
   "metadata": {},
   "source": [
    "First try a Naive Bayes Classifier"
   ]
  },
  {
   "cell_type": "code",
   "execution_count": 93,
   "id": "219fb12a",
   "metadata": {
    "ExecuteTime": {
     "end_time": "2023-02-02T09:49:06.150366Z",
     "start_time": "2023-02-02T09:49:06.023489Z"
    },
    "scrolled": true
   },
   "outputs": [
    {
     "data": {
      "text/plain": [
       "0.7470788788275132"
      ]
     },
     "execution_count": 93,
     "metadata": {},
     "output_type": "execute_result"
    }
   ],
   "source": [
    "# Import relevant class and function\n",
    "from sklearn.naive_bayes import MultinomialNB\n",
    "from sklearn.model_selection import cross_val_score\n",
    "\n",
    "# Instantiate a MultinomialNB classifier\n",
    "baseline_model = MultinomialNB()\n",
    "\n",
    "# Evaluate the classifier on X_train_vectorized and y_train\n",
    "baseline_cv = cross_val_score(baseline_model, X_train_vectorized, y_train)\n",
    "baseline_cv.mean()"
   ]
  },
  {
   "cell_type": "code",
   "execution_count": 94,
   "id": "2661ffb6",
   "metadata": {
    "ExecuteTime": {
     "end_time": "2023-02-02T09:49:07.105730Z",
     "start_time": "2023-02-02T09:49:06.895442Z"
    },
    "scrolled": true
   },
   "outputs": [],
   "source": [
    "# Fit the vectorizer on X_train[\"text\"] and transform it\n",
    "X_test_vectorized = tfidf.transform(X_test)\n",
    "\n",
    "# Visually inspect the vectorized data\n",
    "# pd.DataFrame.sparse.from_spmatrix(X_test_vectorized, columns=tfidf.get_feature_names())"
   ]
  },
  {
   "cell_type": "code",
   "execution_count": 95,
   "id": "3bab5ccf",
   "metadata": {
    "ExecuteTime": {
     "end_time": "2023-02-02T09:49:07.932588Z",
     "start_time": "2023-02-02T09:49:07.847350Z"
    }
   },
   "outputs": [
    {
     "data": {
      "text/plain": [
       "0.7280510422788657"
      ]
     },
     "execution_count": 95,
     "metadata": {},
     "output_type": "execute_result"
    }
   ],
   "source": [
    "# Evaluate the classifier on X_train_vectorized and y_train\n",
    "baseline_cv = cross_val_score(baseline_model, X_test_vectorized, y_test)\n",
    "baseline_cv.mean()"
   ]
  },
  {
   "cell_type": "markdown",
   "id": "5560f29a",
   "metadata": {},
   "source": [
    "Random Forest Classifier"
   ]
  },
  {
   "cell_type": "code",
   "execution_count": 96,
   "id": "902aeed4",
   "metadata": {
    "ExecuteTime": {
     "end_time": "2023-02-02T09:50:29.847900Z",
     "start_time": "2023-02-02T09:49:17.022623Z"
    }
   },
   "outputs": [
    {
     "data": {
      "text/plain": [
       "array([0.62700635, 0.62765957, 0.63363195, 0.63154456, 0.62781148])"
      ]
     },
     "execution_count": 96,
     "metadata": {},
     "output_type": "execute_result"
    }
   ],
   "source": [
    "# Import relevant class and function\n",
    "from sklearn.ensemble import RandomForestClassifier\n",
    "from sklearn.model_selection import cross_val_score\n",
    "\n",
    "# Instantiate a MultinomialNB classifier\n",
    "baseline_model = RandomForestClassifier(max_depth=100)\n",
    "\n",
    "# Evaluate the classifier on X_train_vectorized and y_train\n",
    "baseline_cv = cross_val_score(baseline_model, X_train_vectorized, y_train)\n",
    "baseline_cv"
   ]
  },
  {
   "cell_type": "code",
   "execution_count": 97,
   "id": "511a8d02",
   "metadata": {
    "ExecuteTime": {
     "end_time": "2023-02-02T09:51:38.100612Z",
     "start_time": "2023-02-02T09:50:30.166896Z"
    }
   },
   "outputs": [
    {
     "data": {
      "text/plain": [
       "0.6189733103454282"
      ]
     },
     "execution_count": 97,
     "metadata": {},
     "output_type": "execute_result"
    }
   ],
   "source": [
    "# Fit the vectorizer on X_train[\"text\"] and transform it\n",
    "X_test_vectorized = tfidf.transform(X_test)\n",
    "\n",
    "# Evaluate the classifier on X_train_vectorized and y_train\n",
    "baseline_cv = cross_val_score(baseline_model, X_test_vectorized, y_test)\n",
    "baseline_cv.mean()"
   ]
  },
  {
   "cell_type": "markdown",
   "id": "75c08ea9",
   "metadata": {},
   "source": [
    "XGBoost Classifier"
   ]
  },
  {
   "cell_type": "code",
   "execution_count": null,
   "id": "9f8664bf",
   "metadata": {
    "ExecuteTime": {
     "start_time": "2023-02-02T09:49:17.554Z"
    }
   },
   "outputs": [],
   "source": [
    "import xgboost as xgb\n",
    "\n",
    "baseline_model = xgb.XGBClassifier(random_state=42)\n",
    "baseline_cv = cross_val_score(baseline_model, X_train_vectorized, y_train)\n",
    "baseline_cv"
   ]
  },
  {
   "cell_type": "code",
   "execution_count": null,
   "id": "b3a15836",
   "metadata": {
    "ExecuteTime": {
     "start_time": "2023-02-02T09:49:17.747Z"
    }
   },
   "outputs": [],
   "source": [
    "# Fit the vectorizer on X_train[\"text\"] and transform it\n",
    "X_test_vectorized = tfidf.transform(X_test)\n",
    "\n",
    "# Evaluate the classifier on X_train_vectorized and y_train\n",
    "baseline_cv = cross_val_score(baseline_model, X_test_vectorized, y_test)\n",
    "baseline_cv.mean()"
   ]
  },
  {
   "cell_type": "code",
   "execution_count": null,
   "id": "fb115cad",
   "metadata": {},
   "outputs": [],
   "source": []
  },
  {
   "cell_type": "code",
   "execution_count": null,
   "id": "d8b92ba8",
   "metadata": {},
   "outputs": [],
   "source": []
  },
  {
   "cell_type": "code",
   "execution_count": null,
   "id": "1929d15a",
   "metadata": {},
   "outputs": [],
   "source": []
  }
 ],
 "metadata": {
  "kernelspec": {
   "display_name": "Python (learn-env)",
   "language": "python",
   "name": "learn-env"
  },
  "language_info": {
   "codemirror_mode": {
    "name": "ipython",
    "version": 3
   },
   "file_extension": ".py",
   "mimetype": "text/x-python",
   "name": "python",
   "nbconvert_exporter": "python",
   "pygments_lexer": "ipython3",
   "version": "3.8.5"
  },
  "toc": {
   "base_numbering": 1,
   "nav_menu": {},
   "number_sections": true,
   "sideBar": true,
   "skip_h1_title": false,
   "title_cell": "Table of Contents",
   "title_sidebar": "Contents",
   "toc_cell": false,
   "toc_position": {},
   "toc_section_display": true,
   "toc_window_display": false
  },
  "varInspector": {
   "cols": {
    "lenName": 16,
    "lenType": 16,
    "lenVar": 40
   },
   "kernels_config": {
    "python": {
     "delete_cmd_postfix": "",
     "delete_cmd_prefix": "del ",
     "library": "var_list.py",
     "varRefreshCmd": "print(var_dic_list())"
    },
    "r": {
     "delete_cmd_postfix": ") ",
     "delete_cmd_prefix": "rm(",
     "library": "var_list.r",
     "varRefreshCmd": "cat(var_dic_list()) "
    }
   },
   "types_to_exclude": [
    "module",
    "function",
    "builtin_function_or_method",
    "instance",
    "_Feature"
   ],
   "window_display": false
  }
 },
 "nbformat": 4,
 "nbformat_minor": 5
}
